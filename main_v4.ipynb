{
 "cells": [
  {
   "cell_type": "code",
   "execution_count": 49,
   "outputs": [],
   "source": [
    "import numpy as np\n",
    "import pandas as pd\n",
    "import matplotlib.pyplot as plt\n",
    "from sklearn.metrics import classification_report\n",
    "\n",
    "import xgboost as xgb\n",
    "from sklearn.model_selection import train_test_split, GridSearchCV\n",
    "from sklearn.preprocessing import MinMaxScaler, LabelEncoder\n",
    "from sklearn.utils import compute_sample_weight"
   ],
   "metadata": {
    "collapsed": false
   }
  },
  {
   "cell_type": "markdown",
   "source": [
    "# Get data and pre-process"
   ],
   "metadata": {
    "collapsed": false
   }
  },
  {
   "cell_type": "code",
   "execution_count": 50,
   "outputs": [],
   "source": [
    "def delay_to_status(delay):\n",
    "    if delay < -10:\n",
    "        return \"Early\"\n",
    "    elif -10 <= delay <= 10:\n",
    "        return \"On-time\"\n",
    "    elif 10 < delay <= 30:\n",
    "        return \"Late\"\n",
    "    else:\n",
    "        return \"Severely Late\""
   ],
   "metadata": {
    "collapsed": false
   }
  },
  {
   "cell_type": "code",
   "execution_count": 51,
   "metadata": {
    "collapsed": true
   },
   "outputs": [
    {
     "data": {
      "text/plain": "  Date (MM/DD/YYYY) Origin Airport Actual Arrival Time  \\\n0        1988-01-01            ORD               19:13   \n1        1988-01-01            ORD               22:41   \n2        1989-01-01            ORD               18:27   \n3        1989-01-01            ORD               20:55   \n4        1989-01-01            ORD                9:00   \n\n   Arrival Delay (Minutes)         Status  \n0                      -20          Early  \n1                        7        On-time  \n2                      124  Severely Late  \n3                       81  Severely Late  \n4                       -7        On-time  ",
      "text/html": "<div>\n<style scoped>\n    .dataframe tbody tr th:only-of-type {\n        vertical-align: middle;\n    }\n\n    .dataframe tbody tr th {\n        vertical-align: top;\n    }\n\n    .dataframe thead th {\n        text-align: right;\n    }\n</style>\n<table border=\"1\" class=\"dataframe\">\n  <thead>\n    <tr style=\"text-align: right;\">\n      <th></th>\n      <th>Date (MM/DD/YYYY)</th>\n      <th>Origin Airport</th>\n      <th>Actual Arrival Time</th>\n      <th>Arrival Delay (Minutes)</th>\n      <th>Status</th>\n    </tr>\n  </thead>\n  <tbody>\n    <tr>\n      <th>0</th>\n      <td>1988-01-01</td>\n      <td>ORD</td>\n      <td>19:13</td>\n      <td>-20</td>\n      <td>Early</td>\n    </tr>\n    <tr>\n      <th>1</th>\n      <td>1988-01-01</td>\n      <td>ORD</td>\n      <td>22:41</td>\n      <td>7</td>\n      <td>On-time</td>\n    </tr>\n    <tr>\n      <th>2</th>\n      <td>1989-01-01</td>\n      <td>ORD</td>\n      <td>18:27</td>\n      <td>124</td>\n      <td>Severely Late</td>\n    </tr>\n    <tr>\n      <th>3</th>\n      <td>1989-01-01</td>\n      <td>ORD</td>\n      <td>20:55</td>\n      <td>81</td>\n      <td>Severely Late</td>\n    </tr>\n    <tr>\n      <th>4</th>\n      <td>1989-01-01</td>\n      <td>ORD</td>\n      <td>9:00</td>\n      <td>-7</td>\n      <td>On-time</td>\n    </tr>\n  </tbody>\n</table>\n</div>"
     },
     "execution_count": 51,
     "metadata": {},
     "output_type": "execute_result"
    }
   ],
   "source": [
    "DESTINATION_AIRPORT = 'SYR'\n",
    "\n",
    "# Load the historical data into a pandas dataframe\n",
    "flight_data = pd.read_csv(\"data/flight_data.csv\", parse_dates=['Date (MM/DD/YYYY)'])\n",
    "destination_weather_data = pd.read_csv(\"data/all_destination_weather.csv\", parse_dates=['destination_time'])\n",
    "\n",
    "# Categorize delays\n",
    "flight_data['Status'] = flight_data['Arrival Delay (Minutes)'].apply(delay_to_status)\n",
    "\n",
    "# Drop unnecessary columns\n",
    "flight_data.drop(columns=[\n",
    "    'Flight Number',\n",
    "    'Tail Number',\n",
    "    'Scheduled Arrival Time',\n",
    "    'Scheduled Elapsed Time (Minutes)',\n",
    "    'Actual Elapsed Time (Minutes)',\n",
    "    'Wheels-on Time',\n",
    "    'Taxi-In time (Minutes)',\n",
    "    'Delay Carrier (Minutes)',\n",
    "    'Delay Weather (Minutes)',\n",
    "    'Delay National Aviation System (Minutes)',\n",
    "    'Delay Security (Minutes)',\n",
    "    'Delay Late Aircraft Arrival (Minutes)'\n",
    "], inplace=True)\n",
    "\n",
    "# Handle missing values\n",
    "flight_data.dropna(inplace=True)\n",
    "\n",
    "# Show 10 rows of the dataframe\n",
    "flight_data.head()"
   ]
  },
  {
   "cell_type": "markdown",
   "source": [
    "# Get Date Ranges for Weather Data"
   ],
   "metadata": {
    "collapsed": false
   }
  },
  {
   "cell_type": "code",
   "execution_count": 52,
   "outputs": [
    {
     "name": "stdout",
     "output_type": "stream",
     "text": [
      "Origin Airport: DEN\n",
      "Adjusted Date Range: 2022-02-10 - 2023-02-01\n",
      "\n",
      "Origin Airport: EWR\n",
      "Adjusted Date Range: 2019-11-29 - 2023-02-01\n",
      "\n",
      "Origin Airport: IAD\n",
      "Adjusted Date Range: 1988-06-08 - 2023-01-03\n",
      "\n",
      "Origin Airport: ORD\n",
      "Adjusted Date Range: 1987-09-30 - 2023-02-01\n",
      "\n",
      "Overall Adjusted Date Range: 1987-09-30 - 2023-02-01\n"
     ]
    }
   ],
   "source": [
    "# Group flight_data by 'Origin Airport' and aggregate the min and max 'Departure Datetime' for each group\n",
    "date_ranges = flight_data.groupby('Origin Airport')['Date (MM/DD/YYYY)'].agg(['min', 'max'])\n",
    "\n",
    "# Print the 'Origin Airport' and the date range for each group\n",
    "for index, row in date_ranges.iterrows():\n",
    "    adjusted_min = row['min'] - pd.Timedelta(days=1)\n",
    "    adjusted_max = row['max'] + pd.Timedelta(days=1)\n",
    "    print(f\"Origin Airport: {index}\")\n",
    "    print(f\"Adjusted Date Range: {adjusted_min.strftime('%Y-%m-%d')} - {adjusted_max.strftime('%Y-%m-%d')}\\n\")\n",
    "\n",
    "min_departure = flight_data['Date (MM/DD/YYYY)'].min() - pd.Timedelta(days=1)\n",
    "max_departure = flight_data['Date (MM/DD/YYYY)'].max() + pd.Timedelta(days=1)\n",
    "\n",
    "print(\n",
    "    f\"Overall Adjusted Date Range: {min_departure.strftime('%Y-%m-%d')} - {max_departure.strftime('%Y-%m-%d')}\")"
   ],
   "metadata": {
    "collapsed": false
   }
  },
  {
   "cell_type": "markdown",
   "source": [
    "# Feature Engineering"
   ],
   "metadata": {
    "collapsed": false
   }
  },
  {
   "cell_type": "markdown",
   "source": [
    "## Add Arrival Datetime"
   ],
   "metadata": {
    "collapsed": false
   }
  },
  {
   "cell_type": "code",
   "execution_count": 53,
   "outputs": [
    {
     "data": {
      "text/plain": "  Origin Airport  Arrival Delay (Minutes)         Status    Arrival Datetime\n0            ORD                      -20          Early 1988-01-01 19:00:00\n1            ORD                        7        On-time 1988-01-01 23:00:00\n2            ORD                      124  Severely Late 1989-01-01 18:00:00\n3            ORD                       81  Severely Late 1989-01-01 21:00:00\n4            ORD                       -7        On-time 1989-01-01 09:00:00\n5            ORD                       68  Severely Late 1989-01-02 00:00:00\n6            IAD                       88  Severely Late 1989-01-01 15:00:00\n7            IAD                       66  Severely Late 1989-01-02 00:00:00\n8            ORD                       17           Late 1990-01-01 17:00:00\n9            ORD                        8        On-time 1990-01-01 23:00:00",
      "text/html": "<div>\n<style scoped>\n    .dataframe tbody tr th:only-of-type {\n        vertical-align: middle;\n    }\n\n    .dataframe tbody tr th {\n        vertical-align: top;\n    }\n\n    .dataframe thead th {\n        text-align: right;\n    }\n</style>\n<table border=\"1\" class=\"dataframe\">\n  <thead>\n    <tr style=\"text-align: right;\">\n      <th></th>\n      <th>Origin Airport</th>\n      <th>Arrival Delay (Minutes)</th>\n      <th>Status</th>\n      <th>Arrival Datetime</th>\n    </tr>\n  </thead>\n  <tbody>\n    <tr>\n      <th>0</th>\n      <td>ORD</td>\n      <td>-20</td>\n      <td>Early</td>\n      <td>1988-01-01 19:00:00</td>\n    </tr>\n    <tr>\n      <th>1</th>\n      <td>ORD</td>\n      <td>7</td>\n      <td>On-time</td>\n      <td>1988-01-01 23:00:00</td>\n    </tr>\n    <tr>\n      <th>2</th>\n      <td>ORD</td>\n      <td>124</td>\n      <td>Severely Late</td>\n      <td>1989-01-01 18:00:00</td>\n    </tr>\n    <tr>\n      <th>3</th>\n      <td>ORD</td>\n      <td>81</td>\n      <td>Severely Late</td>\n      <td>1989-01-01 21:00:00</td>\n    </tr>\n    <tr>\n      <th>4</th>\n      <td>ORD</td>\n      <td>-7</td>\n      <td>On-time</td>\n      <td>1989-01-01 09:00:00</td>\n    </tr>\n    <tr>\n      <th>5</th>\n      <td>ORD</td>\n      <td>68</td>\n      <td>Severely Late</td>\n      <td>1989-01-02 00:00:00</td>\n    </tr>\n    <tr>\n      <th>6</th>\n      <td>IAD</td>\n      <td>88</td>\n      <td>Severely Late</td>\n      <td>1989-01-01 15:00:00</td>\n    </tr>\n    <tr>\n      <th>7</th>\n      <td>IAD</td>\n      <td>66</td>\n      <td>Severely Late</td>\n      <td>1989-01-02 00:00:00</td>\n    </tr>\n    <tr>\n      <th>8</th>\n      <td>ORD</td>\n      <td>17</td>\n      <td>Late</td>\n      <td>1990-01-01 17:00:00</td>\n    </tr>\n    <tr>\n      <th>9</th>\n      <td>ORD</td>\n      <td>8</td>\n      <td>On-time</td>\n      <td>1990-01-01 23:00:00</td>\n    </tr>\n  </tbody>\n</table>\n</div>"
     },
     "execution_count": 53,
     "metadata": {},
     "output_type": "execute_result"
    }
   ],
   "source": [
    "# Create a boolean mask to identify rows with '24:00:00'\n",
    "mask_24 = flight_data['Actual Arrival Time'] == '24:00:00'\n",
    "\n",
    "# Replace '24:00:00' with '00:00:00'\n",
    "flight_data['Actual Arrival Time'] = flight_data['Actual Arrival Time'].replace('24:00:00', '00:00:00')\n",
    "\n",
    "# Combine date and time columns\n",
    "flight_data['Arrival Datetime'] = pd.to_datetime(\n",
    "    flight_data['Date (MM/DD/YYYY)'].astype(str) + ' ' + flight_data['Actual Arrival Time'])\n",
    "\n",
    "# Add a day to the date part when the original time value was '24:00:00'\n",
    "flight_data.loc[mask_24, 'Arrival Datetime'] = flight_data.loc[mask_24, 'Arrival Datetime'] + pd.Timedelta(days=1)\n",
    "\n",
    "# Drop more unnecessary date columns\n",
    "flight_data.drop(columns=[\n",
    "    'Date (MM/DD/YYYY)',\n",
    "    'Actual Arrival Time',\n",
    "], inplace=True)\n",
    "\n",
    "# Round to the nearest hour for the weather data\n",
    "flight_data['Arrival Datetime'] = flight_data['Arrival Datetime'].dt.round(\"H\")\n",
    "\n",
    "# Show 10 rows of the dataframe\n",
    "flight_data.head(10)"
   ],
   "metadata": {
    "collapsed": false
   }
  },
  {
   "cell_type": "markdown",
   "source": [
    "## Time of day\n",
    "Flights during certain times of the day may experience more delays, such as early morning or late evening flights."
   ],
   "metadata": {
    "collapsed": false
   }
  },
  {
   "cell_type": "code",
   "execution_count": 54,
   "outputs": [
    {
     "data": {
      "text/plain": "  Origin Airport  Arrival Delay (Minutes)         Status    Arrival Datetime  \\\n0            ORD                      -20          Early 1988-01-01 19:00:00   \n1            ORD                        7        On-time 1988-01-01 23:00:00   \n2            ORD                      124  Severely Late 1989-01-01 18:00:00   \n3            ORD                       81  Severely Late 1989-01-01 21:00:00   \n4            ORD                       -7        On-time 1989-01-01 09:00:00   \n5            ORD                       68  Severely Late 1989-01-02 00:00:00   \n6            IAD                       88  Severely Late 1989-01-01 15:00:00   \n7            IAD                       66  Severely Late 1989-01-02 00:00:00   \n8            ORD                       17           Late 1990-01-01 17:00:00   \n9            ORD                        8        On-time 1990-01-01 23:00:00   \n\n  Time of Day  \n0     Evening  \n1       Night  \n2     Evening  \n3       Night  \n4     Morning  \n5       Night  \n6   Afternoon  \n7       Night  \n8     Evening  \n9       Night  ",
      "text/html": "<div>\n<style scoped>\n    .dataframe tbody tr th:only-of-type {\n        vertical-align: middle;\n    }\n\n    .dataframe tbody tr th {\n        vertical-align: top;\n    }\n\n    .dataframe thead th {\n        text-align: right;\n    }\n</style>\n<table border=\"1\" class=\"dataframe\">\n  <thead>\n    <tr style=\"text-align: right;\">\n      <th></th>\n      <th>Origin Airport</th>\n      <th>Arrival Delay (Minutes)</th>\n      <th>Status</th>\n      <th>Arrival Datetime</th>\n      <th>Time of Day</th>\n    </tr>\n  </thead>\n  <tbody>\n    <tr>\n      <th>0</th>\n      <td>ORD</td>\n      <td>-20</td>\n      <td>Early</td>\n      <td>1988-01-01 19:00:00</td>\n      <td>Evening</td>\n    </tr>\n    <tr>\n      <th>1</th>\n      <td>ORD</td>\n      <td>7</td>\n      <td>On-time</td>\n      <td>1988-01-01 23:00:00</td>\n      <td>Night</td>\n    </tr>\n    <tr>\n      <th>2</th>\n      <td>ORD</td>\n      <td>124</td>\n      <td>Severely Late</td>\n      <td>1989-01-01 18:00:00</td>\n      <td>Evening</td>\n    </tr>\n    <tr>\n      <th>3</th>\n      <td>ORD</td>\n      <td>81</td>\n      <td>Severely Late</td>\n      <td>1989-01-01 21:00:00</td>\n      <td>Night</td>\n    </tr>\n    <tr>\n      <th>4</th>\n      <td>ORD</td>\n      <td>-7</td>\n      <td>On-time</td>\n      <td>1989-01-01 09:00:00</td>\n      <td>Morning</td>\n    </tr>\n    <tr>\n      <th>5</th>\n      <td>ORD</td>\n      <td>68</td>\n      <td>Severely Late</td>\n      <td>1989-01-02 00:00:00</td>\n      <td>Night</td>\n    </tr>\n    <tr>\n      <th>6</th>\n      <td>IAD</td>\n      <td>88</td>\n      <td>Severely Late</td>\n      <td>1989-01-01 15:00:00</td>\n      <td>Afternoon</td>\n    </tr>\n    <tr>\n      <th>7</th>\n      <td>IAD</td>\n      <td>66</td>\n      <td>Severely Late</td>\n      <td>1989-01-02 00:00:00</td>\n      <td>Night</td>\n    </tr>\n    <tr>\n      <th>8</th>\n      <td>ORD</td>\n      <td>17</td>\n      <td>Late</td>\n      <td>1990-01-01 17:00:00</td>\n      <td>Evening</td>\n    </tr>\n    <tr>\n      <th>9</th>\n      <td>ORD</td>\n      <td>8</td>\n      <td>On-time</td>\n      <td>1990-01-01 23:00:00</td>\n      <td>Night</td>\n    </tr>\n  </tbody>\n</table>\n</div>"
     },
     "execution_count": 54,
     "metadata": {},
     "output_type": "execute_result"
    }
   ],
   "source": [
    "def categorize_time_of_day(hour):\n",
    "    if 6 <= hour < 12:\n",
    "        return 'Morning'\n",
    "    elif 12 <= hour < 17:\n",
    "        return 'Afternoon'\n",
    "    elif 17 <= hour < 21:\n",
    "        return 'Evening'\n",
    "    else:\n",
    "        return 'Night'\n",
    "\n",
    "\n",
    "flight_data['Time of Day'] = flight_data['Arrival Datetime'].dt.hour.apply(categorize_time_of_day)\n",
    "\n",
    "# Show 10 rows of the dataframe\n",
    "flight_data.head(10)"
   ],
   "metadata": {
    "collapsed": false
   }
  },
  {
   "cell_type": "markdown",
   "source": [
    "## Day of the week\n",
    "Some days of the week may have more delays than others, such as weekends or Fridays, when air traffic is typically higher."
   ],
   "metadata": {
    "collapsed": false
   }
  },
  {
   "cell_type": "code",
   "execution_count": 55,
   "outputs": [
    {
     "data": {
      "text/plain": "  Origin Airport  Arrival Delay (Minutes)         Status    Arrival Datetime  \\\n0            ORD                      -20          Early 1988-01-01 19:00:00   \n1            ORD                        7        On-time 1988-01-01 23:00:00   \n2            ORD                      124  Severely Late 1989-01-01 18:00:00   \n3            ORD                       81  Severely Late 1989-01-01 21:00:00   \n4            ORD                       -7        On-time 1989-01-01 09:00:00   \n5            ORD                       68  Severely Late 1989-01-02 00:00:00   \n6            IAD                       88  Severely Late 1989-01-01 15:00:00   \n7            IAD                       66  Severely Late 1989-01-02 00:00:00   \n8            ORD                       17           Late 1990-01-01 17:00:00   \n9            ORD                        8        On-time 1990-01-01 23:00:00   \n\n  Time of Day Day of the Week  \n0     Evening               4  \n1       Night               4  \n2     Evening               6  \n3       Night               6  \n4     Morning               6  \n5       Night               0  \n6   Afternoon               6  \n7       Night               0  \n8     Evening               0  \n9       Night               0  ",
      "text/html": "<div>\n<style scoped>\n    .dataframe tbody tr th:only-of-type {\n        vertical-align: middle;\n    }\n\n    .dataframe tbody tr th {\n        vertical-align: top;\n    }\n\n    .dataframe thead th {\n        text-align: right;\n    }\n</style>\n<table border=\"1\" class=\"dataframe\">\n  <thead>\n    <tr style=\"text-align: right;\">\n      <th></th>\n      <th>Origin Airport</th>\n      <th>Arrival Delay (Minutes)</th>\n      <th>Status</th>\n      <th>Arrival Datetime</th>\n      <th>Time of Day</th>\n      <th>Day of the Week</th>\n    </tr>\n  </thead>\n  <tbody>\n    <tr>\n      <th>0</th>\n      <td>ORD</td>\n      <td>-20</td>\n      <td>Early</td>\n      <td>1988-01-01 19:00:00</td>\n      <td>Evening</td>\n      <td>4</td>\n    </tr>\n    <tr>\n      <th>1</th>\n      <td>ORD</td>\n      <td>7</td>\n      <td>On-time</td>\n      <td>1988-01-01 23:00:00</td>\n      <td>Night</td>\n      <td>4</td>\n    </tr>\n    <tr>\n      <th>2</th>\n      <td>ORD</td>\n      <td>124</td>\n      <td>Severely Late</td>\n      <td>1989-01-01 18:00:00</td>\n      <td>Evening</td>\n      <td>6</td>\n    </tr>\n    <tr>\n      <th>3</th>\n      <td>ORD</td>\n      <td>81</td>\n      <td>Severely Late</td>\n      <td>1989-01-01 21:00:00</td>\n      <td>Night</td>\n      <td>6</td>\n    </tr>\n    <tr>\n      <th>4</th>\n      <td>ORD</td>\n      <td>-7</td>\n      <td>On-time</td>\n      <td>1989-01-01 09:00:00</td>\n      <td>Morning</td>\n      <td>6</td>\n    </tr>\n    <tr>\n      <th>5</th>\n      <td>ORD</td>\n      <td>68</td>\n      <td>Severely Late</td>\n      <td>1989-01-02 00:00:00</td>\n      <td>Night</td>\n      <td>0</td>\n    </tr>\n    <tr>\n      <th>6</th>\n      <td>IAD</td>\n      <td>88</td>\n      <td>Severely Late</td>\n      <td>1989-01-01 15:00:00</td>\n      <td>Afternoon</td>\n      <td>6</td>\n    </tr>\n    <tr>\n      <th>7</th>\n      <td>IAD</td>\n      <td>66</td>\n      <td>Severely Late</td>\n      <td>1989-01-02 00:00:00</td>\n      <td>Night</td>\n      <td>0</td>\n    </tr>\n    <tr>\n      <th>8</th>\n      <td>ORD</td>\n      <td>17</td>\n      <td>Late</td>\n      <td>1990-01-01 17:00:00</td>\n      <td>Evening</td>\n      <td>0</td>\n    </tr>\n    <tr>\n      <th>9</th>\n      <td>ORD</td>\n      <td>8</td>\n      <td>On-time</td>\n      <td>1990-01-01 23:00:00</td>\n      <td>Night</td>\n      <td>0</td>\n    </tr>\n  </tbody>\n</table>\n</div>"
     },
     "execution_count": 55,
     "metadata": {},
     "output_type": "execute_result"
    }
   ],
   "source": [
    "flight_data['Day of the Week'] = flight_data['Arrival Datetime'].dt.dayofweek\n",
    "flight_data['Day of the Week'] = flight_data['Day of the Week'].astype('category')\n",
    "\n",
    "# Show 10 rows of the dataframe\n",
    "flight_data.head(10)"
   ],
   "metadata": {
    "collapsed": false
   }
  },
  {
   "cell_type": "markdown",
   "source": [
    "## Month and season\n",
    "Delays may be more common during certain months or seasons, such as winter months with more severe weather."
   ],
   "metadata": {
    "collapsed": false
   }
  },
  {
   "cell_type": "code",
   "execution_count": 56,
   "outputs": [
    {
     "data": {
      "text/plain": "  Origin Airport  Arrival Delay (Minutes)         Status    Arrival Datetime  \\\n0            ORD                      -20          Early 1988-01-01 19:00:00   \n1            ORD                        7        On-time 1988-01-01 23:00:00   \n2            ORD                      124  Severely Late 1989-01-01 18:00:00   \n3            ORD                       81  Severely Late 1989-01-01 21:00:00   \n4            ORD                       -7        On-time 1989-01-01 09:00:00   \n5            ORD                       68  Severely Late 1989-01-02 00:00:00   \n6            IAD                       88  Severely Late 1989-01-01 15:00:00   \n7            IAD                       66  Severely Late 1989-01-02 00:00:00   \n8            ORD                       17           Late 1990-01-01 17:00:00   \n9            ORD                        8        On-time 1990-01-01 23:00:00   \n\n  Time of Day Day of the Week Month  Season  \n0     Evening               4     1  Winter  \n1       Night               4     1  Winter  \n2     Evening               6     1  Winter  \n3       Night               6     1  Winter  \n4     Morning               6     1  Winter  \n5       Night               0     1  Winter  \n6   Afternoon               6     1  Winter  \n7       Night               0     1  Winter  \n8     Evening               0     1  Winter  \n9       Night               0     1  Winter  ",
      "text/html": "<div>\n<style scoped>\n    .dataframe tbody tr th:only-of-type {\n        vertical-align: middle;\n    }\n\n    .dataframe tbody tr th {\n        vertical-align: top;\n    }\n\n    .dataframe thead th {\n        text-align: right;\n    }\n</style>\n<table border=\"1\" class=\"dataframe\">\n  <thead>\n    <tr style=\"text-align: right;\">\n      <th></th>\n      <th>Origin Airport</th>\n      <th>Arrival Delay (Minutes)</th>\n      <th>Status</th>\n      <th>Arrival Datetime</th>\n      <th>Time of Day</th>\n      <th>Day of the Week</th>\n      <th>Month</th>\n      <th>Season</th>\n    </tr>\n  </thead>\n  <tbody>\n    <tr>\n      <th>0</th>\n      <td>ORD</td>\n      <td>-20</td>\n      <td>Early</td>\n      <td>1988-01-01 19:00:00</td>\n      <td>Evening</td>\n      <td>4</td>\n      <td>1</td>\n      <td>Winter</td>\n    </tr>\n    <tr>\n      <th>1</th>\n      <td>ORD</td>\n      <td>7</td>\n      <td>On-time</td>\n      <td>1988-01-01 23:00:00</td>\n      <td>Night</td>\n      <td>4</td>\n      <td>1</td>\n      <td>Winter</td>\n    </tr>\n    <tr>\n      <th>2</th>\n      <td>ORD</td>\n      <td>124</td>\n      <td>Severely Late</td>\n      <td>1989-01-01 18:00:00</td>\n      <td>Evening</td>\n      <td>6</td>\n      <td>1</td>\n      <td>Winter</td>\n    </tr>\n    <tr>\n      <th>3</th>\n      <td>ORD</td>\n      <td>81</td>\n      <td>Severely Late</td>\n      <td>1989-01-01 21:00:00</td>\n      <td>Night</td>\n      <td>6</td>\n      <td>1</td>\n      <td>Winter</td>\n    </tr>\n    <tr>\n      <th>4</th>\n      <td>ORD</td>\n      <td>-7</td>\n      <td>On-time</td>\n      <td>1989-01-01 09:00:00</td>\n      <td>Morning</td>\n      <td>6</td>\n      <td>1</td>\n      <td>Winter</td>\n    </tr>\n    <tr>\n      <th>5</th>\n      <td>ORD</td>\n      <td>68</td>\n      <td>Severely Late</td>\n      <td>1989-01-02 00:00:00</td>\n      <td>Night</td>\n      <td>0</td>\n      <td>1</td>\n      <td>Winter</td>\n    </tr>\n    <tr>\n      <th>6</th>\n      <td>IAD</td>\n      <td>88</td>\n      <td>Severely Late</td>\n      <td>1989-01-01 15:00:00</td>\n      <td>Afternoon</td>\n      <td>6</td>\n      <td>1</td>\n      <td>Winter</td>\n    </tr>\n    <tr>\n      <th>7</th>\n      <td>IAD</td>\n      <td>66</td>\n      <td>Severely Late</td>\n      <td>1989-01-02 00:00:00</td>\n      <td>Night</td>\n      <td>0</td>\n      <td>1</td>\n      <td>Winter</td>\n    </tr>\n    <tr>\n      <th>8</th>\n      <td>ORD</td>\n      <td>17</td>\n      <td>Late</td>\n      <td>1990-01-01 17:00:00</td>\n      <td>Evening</td>\n      <td>0</td>\n      <td>1</td>\n      <td>Winter</td>\n    </tr>\n    <tr>\n      <th>9</th>\n      <td>ORD</td>\n      <td>8</td>\n      <td>On-time</td>\n      <td>1990-01-01 23:00:00</td>\n      <td>Night</td>\n      <td>0</td>\n      <td>1</td>\n      <td>Winter</td>\n    </tr>\n  </tbody>\n</table>\n</div>"
     },
     "execution_count": 56,
     "metadata": {},
     "output_type": "execute_result"
    }
   ],
   "source": [
    "# Add the 'Month' feature\n",
    "flight_data['Month'] = flight_data['Arrival Datetime'].dt.month\n",
    "flight_data['Month'] = flight_data['Month'].astype('category')\n",
    "\n",
    "\n",
    "def month_to_season(month):\n",
    "    if month in [12, 1, 2]:\n",
    "        return 'Winter'\n",
    "    elif month in [3, 4, 5]:\n",
    "        return 'Spring'\n",
    "    elif month in [6, 7, 8]:\n",
    "        return 'Summer'\n",
    "    else:\n",
    "        return 'Fall'\n",
    "\n",
    "\n",
    "# Add the 'Season' feature\n",
    "flight_data['Season'] = flight_data['Month'].apply(month_to_season)\n",
    "flight_data['Season'] = flight_data['Season'].astype('category')\n",
    "\n",
    "# Show 10 rows of the dataframe\n",
    "flight_data.head(10)"
   ],
   "metadata": {
    "collapsed": false
   }
  },
  {
   "cell_type": "markdown",
   "source": [
    "## Flight route\n",
    "Some flight routes may be more prone to delays than others due to factors such as air traffic congestion, distance, or regional weather patterns."
   ],
   "metadata": {
    "collapsed": false
   }
  },
  {
   "cell_type": "code",
   "execution_count": 57,
   "outputs": [
    {
     "data": {
      "text/plain": "  Origin Airport  Arrival Delay (Minutes)         Status    Arrival Datetime  \\\n0            ORD                      -20          Early 1988-01-01 19:00:00   \n1            ORD                        7        On-time 1988-01-01 23:00:00   \n2            ORD                      124  Severely Late 1989-01-01 18:00:00   \n3            ORD                       81  Severely Late 1989-01-01 21:00:00   \n4            ORD                       -7        On-time 1989-01-01 09:00:00   \n5            ORD                       68  Severely Late 1989-01-02 00:00:00   \n6            IAD                       88  Severely Late 1989-01-01 15:00:00   \n7            IAD                       66  Severely Late 1989-01-02 00:00:00   \n8            ORD                       17           Late 1990-01-01 17:00:00   \n9            ORD                        8        On-time 1990-01-01 23:00:00   \n\n  Time of Day Day of the Week Month  Season Flight Route  \n0     Evening               4     1  Winter      ORD-SYR  \n1       Night               4     1  Winter      ORD-SYR  \n2     Evening               6     1  Winter      ORD-SYR  \n3       Night               6     1  Winter      ORD-SYR  \n4     Morning               6     1  Winter      ORD-SYR  \n5       Night               0     1  Winter      ORD-SYR  \n6   Afternoon               6     1  Winter      IAD-SYR  \n7       Night               0     1  Winter      IAD-SYR  \n8     Evening               0     1  Winter      ORD-SYR  \n9       Night               0     1  Winter      ORD-SYR  ",
      "text/html": "<div>\n<style scoped>\n    .dataframe tbody tr th:only-of-type {\n        vertical-align: middle;\n    }\n\n    .dataframe tbody tr th {\n        vertical-align: top;\n    }\n\n    .dataframe thead th {\n        text-align: right;\n    }\n</style>\n<table border=\"1\" class=\"dataframe\">\n  <thead>\n    <tr style=\"text-align: right;\">\n      <th></th>\n      <th>Origin Airport</th>\n      <th>Arrival Delay (Minutes)</th>\n      <th>Status</th>\n      <th>Arrival Datetime</th>\n      <th>Time of Day</th>\n      <th>Day of the Week</th>\n      <th>Month</th>\n      <th>Season</th>\n      <th>Flight Route</th>\n    </tr>\n  </thead>\n  <tbody>\n    <tr>\n      <th>0</th>\n      <td>ORD</td>\n      <td>-20</td>\n      <td>Early</td>\n      <td>1988-01-01 19:00:00</td>\n      <td>Evening</td>\n      <td>4</td>\n      <td>1</td>\n      <td>Winter</td>\n      <td>ORD-SYR</td>\n    </tr>\n    <tr>\n      <th>1</th>\n      <td>ORD</td>\n      <td>7</td>\n      <td>On-time</td>\n      <td>1988-01-01 23:00:00</td>\n      <td>Night</td>\n      <td>4</td>\n      <td>1</td>\n      <td>Winter</td>\n      <td>ORD-SYR</td>\n    </tr>\n    <tr>\n      <th>2</th>\n      <td>ORD</td>\n      <td>124</td>\n      <td>Severely Late</td>\n      <td>1989-01-01 18:00:00</td>\n      <td>Evening</td>\n      <td>6</td>\n      <td>1</td>\n      <td>Winter</td>\n      <td>ORD-SYR</td>\n    </tr>\n    <tr>\n      <th>3</th>\n      <td>ORD</td>\n      <td>81</td>\n      <td>Severely Late</td>\n      <td>1989-01-01 21:00:00</td>\n      <td>Night</td>\n      <td>6</td>\n      <td>1</td>\n      <td>Winter</td>\n      <td>ORD-SYR</td>\n    </tr>\n    <tr>\n      <th>4</th>\n      <td>ORD</td>\n      <td>-7</td>\n      <td>On-time</td>\n      <td>1989-01-01 09:00:00</td>\n      <td>Morning</td>\n      <td>6</td>\n      <td>1</td>\n      <td>Winter</td>\n      <td>ORD-SYR</td>\n    </tr>\n    <tr>\n      <th>5</th>\n      <td>ORD</td>\n      <td>68</td>\n      <td>Severely Late</td>\n      <td>1989-01-02 00:00:00</td>\n      <td>Night</td>\n      <td>0</td>\n      <td>1</td>\n      <td>Winter</td>\n      <td>ORD-SYR</td>\n    </tr>\n    <tr>\n      <th>6</th>\n      <td>IAD</td>\n      <td>88</td>\n      <td>Severely Late</td>\n      <td>1989-01-01 15:00:00</td>\n      <td>Afternoon</td>\n      <td>6</td>\n      <td>1</td>\n      <td>Winter</td>\n      <td>IAD-SYR</td>\n    </tr>\n    <tr>\n      <th>7</th>\n      <td>IAD</td>\n      <td>66</td>\n      <td>Severely Late</td>\n      <td>1989-01-02 00:00:00</td>\n      <td>Night</td>\n      <td>0</td>\n      <td>1</td>\n      <td>Winter</td>\n      <td>IAD-SYR</td>\n    </tr>\n    <tr>\n      <th>8</th>\n      <td>ORD</td>\n      <td>17</td>\n      <td>Late</td>\n      <td>1990-01-01 17:00:00</td>\n      <td>Evening</td>\n      <td>0</td>\n      <td>1</td>\n      <td>Winter</td>\n      <td>ORD-SYR</td>\n    </tr>\n    <tr>\n      <th>9</th>\n      <td>ORD</td>\n      <td>8</td>\n      <td>On-time</td>\n      <td>1990-01-01 23:00:00</td>\n      <td>Night</td>\n      <td>0</td>\n      <td>1</td>\n      <td>Winter</td>\n      <td>ORD-SYR</td>\n    </tr>\n  </tbody>\n</table>\n</div>"
     },
     "execution_count": 57,
     "metadata": {},
     "output_type": "execute_result"
    }
   ],
   "source": [
    "flight_data['Flight Route'] = flight_data['Origin Airport'] + '-' + DESTINATION_AIRPORT\n",
    "flight_data['Flight Route'] = flight_data['Flight Route'].astype('category')\n",
    "\n",
    "# Show 10 rows of the dataframe\n",
    "flight_data.head(10)"
   ],
   "metadata": {
    "collapsed": false
   }
  },
  {
   "cell_type": "markdown",
   "source": [
    "## Route Mean Delay\n",
    "Calculate the mean delay for each flight route (Origin-Destination pair) in the historical data, and use this as a new feature. This can help capture the general trend of delays for a specific route."
   ],
   "metadata": {
    "collapsed": false
   }
  },
  {
   "cell_type": "code",
   "execution_count": 58,
   "outputs": [
    {
     "data": {
      "text/plain": "  Origin Airport  Arrival Delay (Minutes)         Status    Arrival Datetime  \\\n0            ORD                      -20          Early 1988-01-01 19:00:00   \n1            ORD                        7        On-time 1988-01-01 23:00:00   \n2            ORD                      124  Severely Late 1989-01-01 18:00:00   \n3            ORD                       81  Severely Late 1989-01-01 21:00:00   \n4            ORD                       -7        On-time 1989-01-01 09:00:00   \n5            ORD                       68  Severely Late 1989-01-02 00:00:00   \n6            IAD                       88  Severely Late 1989-01-01 15:00:00   \n7            IAD                       66  Severely Late 1989-01-02 00:00:00   \n8            ORD                       17           Late 1990-01-01 17:00:00   \n9            ORD                        8        On-time 1990-01-01 23:00:00   \n\n  Time of Day Day of the Week Month  Season Flight Route  Route Mean Delay  \n0     Evening               4     1  Winter      ORD-SYR          8.238029  \n1       Night               4     1  Winter      ORD-SYR          8.238029  \n2     Evening               6     1  Winter      ORD-SYR          8.238029  \n3       Night               6     1  Winter      ORD-SYR          8.238029  \n4     Morning               6     1  Winter      ORD-SYR          8.238029  \n5       Night               0     1  Winter      ORD-SYR          8.238029  \n6   Afternoon               6     1  Winter      IAD-SYR          6.451291  \n7       Night               0     1  Winter      IAD-SYR          6.451291  \n8     Evening               0     1  Winter      ORD-SYR          8.238029  \n9       Night               0     1  Winter      ORD-SYR          8.238029  ",
      "text/html": "<div>\n<style scoped>\n    .dataframe tbody tr th:only-of-type {\n        vertical-align: middle;\n    }\n\n    .dataframe tbody tr th {\n        vertical-align: top;\n    }\n\n    .dataframe thead th {\n        text-align: right;\n    }\n</style>\n<table border=\"1\" class=\"dataframe\">\n  <thead>\n    <tr style=\"text-align: right;\">\n      <th></th>\n      <th>Origin Airport</th>\n      <th>Arrival Delay (Minutes)</th>\n      <th>Status</th>\n      <th>Arrival Datetime</th>\n      <th>Time of Day</th>\n      <th>Day of the Week</th>\n      <th>Month</th>\n      <th>Season</th>\n      <th>Flight Route</th>\n      <th>Route Mean Delay</th>\n    </tr>\n  </thead>\n  <tbody>\n    <tr>\n      <th>0</th>\n      <td>ORD</td>\n      <td>-20</td>\n      <td>Early</td>\n      <td>1988-01-01 19:00:00</td>\n      <td>Evening</td>\n      <td>4</td>\n      <td>1</td>\n      <td>Winter</td>\n      <td>ORD-SYR</td>\n      <td>8.238029</td>\n    </tr>\n    <tr>\n      <th>1</th>\n      <td>ORD</td>\n      <td>7</td>\n      <td>On-time</td>\n      <td>1988-01-01 23:00:00</td>\n      <td>Night</td>\n      <td>4</td>\n      <td>1</td>\n      <td>Winter</td>\n      <td>ORD-SYR</td>\n      <td>8.238029</td>\n    </tr>\n    <tr>\n      <th>2</th>\n      <td>ORD</td>\n      <td>124</td>\n      <td>Severely Late</td>\n      <td>1989-01-01 18:00:00</td>\n      <td>Evening</td>\n      <td>6</td>\n      <td>1</td>\n      <td>Winter</td>\n      <td>ORD-SYR</td>\n      <td>8.238029</td>\n    </tr>\n    <tr>\n      <th>3</th>\n      <td>ORD</td>\n      <td>81</td>\n      <td>Severely Late</td>\n      <td>1989-01-01 21:00:00</td>\n      <td>Night</td>\n      <td>6</td>\n      <td>1</td>\n      <td>Winter</td>\n      <td>ORD-SYR</td>\n      <td>8.238029</td>\n    </tr>\n    <tr>\n      <th>4</th>\n      <td>ORD</td>\n      <td>-7</td>\n      <td>On-time</td>\n      <td>1989-01-01 09:00:00</td>\n      <td>Morning</td>\n      <td>6</td>\n      <td>1</td>\n      <td>Winter</td>\n      <td>ORD-SYR</td>\n      <td>8.238029</td>\n    </tr>\n    <tr>\n      <th>5</th>\n      <td>ORD</td>\n      <td>68</td>\n      <td>Severely Late</td>\n      <td>1989-01-02 00:00:00</td>\n      <td>Night</td>\n      <td>0</td>\n      <td>1</td>\n      <td>Winter</td>\n      <td>ORD-SYR</td>\n      <td>8.238029</td>\n    </tr>\n    <tr>\n      <th>6</th>\n      <td>IAD</td>\n      <td>88</td>\n      <td>Severely Late</td>\n      <td>1989-01-01 15:00:00</td>\n      <td>Afternoon</td>\n      <td>6</td>\n      <td>1</td>\n      <td>Winter</td>\n      <td>IAD-SYR</td>\n      <td>6.451291</td>\n    </tr>\n    <tr>\n      <th>7</th>\n      <td>IAD</td>\n      <td>66</td>\n      <td>Severely Late</td>\n      <td>1989-01-02 00:00:00</td>\n      <td>Night</td>\n      <td>0</td>\n      <td>1</td>\n      <td>Winter</td>\n      <td>IAD-SYR</td>\n      <td>6.451291</td>\n    </tr>\n    <tr>\n      <th>8</th>\n      <td>ORD</td>\n      <td>17</td>\n      <td>Late</td>\n      <td>1990-01-01 17:00:00</td>\n      <td>Evening</td>\n      <td>0</td>\n      <td>1</td>\n      <td>Winter</td>\n      <td>ORD-SYR</td>\n      <td>8.238029</td>\n    </tr>\n    <tr>\n      <th>9</th>\n      <td>ORD</td>\n      <td>8</td>\n      <td>On-time</td>\n      <td>1990-01-01 23:00:00</td>\n      <td>Night</td>\n      <td>0</td>\n      <td>1</td>\n      <td>Winter</td>\n      <td>ORD-SYR</td>\n      <td>8.238029</td>\n    </tr>\n  </tbody>\n</table>\n</div>"
     },
     "execution_count": 58,
     "metadata": {},
     "output_type": "execute_result"
    }
   ],
   "source": [
    "# Group the flight_data by 'Flight Route' and calculate the mean 'Arrival Delay (Minutes)' for each group\n",
    "mean_delay_by_route = flight_data.groupby('Flight Route')['Arrival Delay (Minutes)'].mean().reset_index()\n",
    "\n",
    "# Rename the columns of the mean_delay_by_route DataFrame for clarity\n",
    "mean_delay_by_route.columns = ['Flight Route', 'Route Mean Delay']\n",
    "\n",
    "# Merge the mean_delay_by_route DataFrame with the original flight_data DataFrame\n",
    "# This adds the 'Route Mean Delay' column to the flight_data DataFrame, with the appropriate values for each flight\n",
    "flight_data = flight_data.merge(mean_delay_by_route, on='Flight Route', how='left')\n",
    "\n",
    "# Display the first 10 rows of the updated flight_data DataFrame\n",
    "flight_data.head(10)"
   ],
   "metadata": {
    "collapsed": false
   }
  },
  {
   "cell_type": "markdown",
   "source": [
    "## Route Delay Frequency\n",
    "Calculate the frequency of delayed flights for each route. This can help capture how often a specific route experiences delays."
   ],
   "metadata": {
    "collapsed": false
   }
  },
  {
   "cell_type": "code",
   "execution_count": 59,
   "outputs": [
    {
     "data": {
      "text/plain": "  Origin Airport  Arrival Delay (Minutes)         Status    Arrival Datetime  \\\n0            ORD                      -20          Early 1988-01-01 19:00:00   \n1            ORD                        7        On-time 1988-01-01 23:00:00   \n2            ORD                      124  Severely Late 1989-01-01 18:00:00   \n3            ORD                       81  Severely Late 1989-01-01 21:00:00   \n4            ORD                       -7        On-time 1989-01-01 09:00:00   \n5            ORD                       68  Severely Late 1989-01-02 00:00:00   \n6            IAD                       88  Severely Late 1989-01-01 15:00:00   \n7            IAD                       66  Severely Late 1989-01-02 00:00:00   \n8            ORD                       17           Late 1990-01-01 17:00:00   \n9            ORD                        8        On-time 1990-01-01 23:00:00   \n\n  Time of Day Day of the Week Month  Season Flight Route  Route Mean Delay  \\\n0     Evening               4     1  Winter      ORD-SYR          8.238029   \n1       Night               4     1  Winter      ORD-SYR          8.238029   \n2     Evening               6     1  Winter      ORD-SYR          8.238029   \n3       Night               6     1  Winter      ORD-SYR          8.238029   \n4     Morning               6     1  Winter      ORD-SYR          8.238029   \n5       Night               0     1  Winter      ORD-SYR          8.238029   \n6   Afternoon               6     1  Winter      IAD-SYR          6.451291   \n7       Night               0     1  Winter      IAD-SYR          6.451291   \n8     Evening               0     1  Winter      ORD-SYR          8.238029   \n9       Night               0     1  Winter      ORD-SYR          8.238029   \n\n   Route Delay Frequency  \n0                   4783  \n1                   4783  \n2                   4783  \n3                   4783  \n4                   4783  \n5                   4783  \n6                    235  \n7                    235  \n8                   4783  \n9                   4783  ",
      "text/html": "<div>\n<style scoped>\n    .dataframe tbody tr th:only-of-type {\n        vertical-align: middle;\n    }\n\n    .dataframe tbody tr th {\n        vertical-align: top;\n    }\n\n    .dataframe thead th {\n        text-align: right;\n    }\n</style>\n<table border=\"1\" class=\"dataframe\">\n  <thead>\n    <tr style=\"text-align: right;\">\n      <th></th>\n      <th>Origin Airport</th>\n      <th>Arrival Delay (Minutes)</th>\n      <th>Status</th>\n      <th>Arrival Datetime</th>\n      <th>Time of Day</th>\n      <th>Day of the Week</th>\n      <th>Month</th>\n      <th>Season</th>\n      <th>Flight Route</th>\n      <th>Route Mean Delay</th>\n      <th>Route Delay Frequency</th>\n    </tr>\n  </thead>\n  <tbody>\n    <tr>\n      <th>0</th>\n      <td>ORD</td>\n      <td>-20</td>\n      <td>Early</td>\n      <td>1988-01-01 19:00:00</td>\n      <td>Evening</td>\n      <td>4</td>\n      <td>1</td>\n      <td>Winter</td>\n      <td>ORD-SYR</td>\n      <td>8.238029</td>\n      <td>4783</td>\n    </tr>\n    <tr>\n      <th>1</th>\n      <td>ORD</td>\n      <td>7</td>\n      <td>On-time</td>\n      <td>1988-01-01 23:00:00</td>\n      <td>Night</td>\n      <td>4</td>\n      <td>1</td>\n      <td>Winter</td>\n      <td>ORD-SYR</td>\n      <td>8.238029</td>\n      <td>4783</td>\n    </tr>\n    <tr>\n      <th>2</th>\n      <td>ORD</td>\n      <td>124</td>\n      <td>Severely Late</td>\n      <td>1989-01-01 18:00:00</td>\n      <td>Evening</td>\n      <td>6</td>\n      <td>1</td>\n      <td>Winter</td>\n      <td>ORD-SYR</td>\n      <td>8.238029</td>\n      <td>4783</td>\n    </tr>\n    <tr>\n      <th>3</th>\n      <td>ORD</td>\n      <td>81</td>\n      <td>Severely Late</td>\n      <td>1989-01-01 21:00:00</td>\n      <td>Night</td>\n      <td>6</td>\n      <td>1</td>\n      <td>Winter</td>\n      <td>ORD-SYR</td>\n      <td>8.238029</td>\n      <td>4783</td>\n    </tr>\n    <tr>\n      <th>4</th>\n      <td>ORD</td>\n      <td>-7</td>\n      <td>On-time</td>\n      <td>1989-01-01 09:00:00</td>\n      <td>Morning</td>\n      <td>6</td>\n      <td>1</td>\n      <td>Winter</td>\n      <td>ORD-SYR</td>\n      <td>8.238029</td>\n      <td>4783</td>\n    </tr>\n    <tr>\n      <th>5</th>\n      <td>ORD</td>\n      <td>68</td>\n      <td>Severely Late</td>\n      <td>1989-01-02 00:00:00</td>\n      <td>Night</td>\n      <td>0</td>\n      <td>1</td>\n      <td>Winter</td>\n      <td>ORD-SYR</td>\n      <td>8.238029</td>\n      <td>4783</td>\n    </tr>\n    <tr>\n      <th>6</th>\n      <td>IAD</td>\n      <td>88</td>\n      <td>Severely Late</td>\n      <td>1989-01-01 15:00:00</td>\n      <td>Afternoon</td>\n      <td>6</td>\n      <td>1</td>\n      <td>Winter</td>\n      <td>IAD-SYR</td>\n      <td>6.451291</td>\n      <td>235</td>\n    </tr>\n    <tr>\n      <th>7</th>\n      <td>IAD</td>\n      <td>66</td>\n      <td>Severely Late</td>\n      <td>1989-01-02 00:00:00</td>\n      <td>Night</td>\n      <td>0</td>\n      <td>1</td>\n      <td>Winter</td>\n      <td>IAD-SYR</td>\n      <td>6.451291</td>\n      <td>235</td>\n    </tr>\n    <tr>\n      <th>8</th>\n      <td>ORD</td>\n      <td>17</td>\n      <td>Late</td>\n      <td>1990-01-01 17:00:00</td>\n      <td>Evening</td>\n      <td>0</td>\n      <td>1</td>\n      <td>Winter</td>\n      <td>ORD-SYR</td>\n      <td>8.238029</td>\n      <td>4783</td>\n    </tr>\n    <tr>\n      <th>9</th>\n      <td>ORD</td>\n      <td>8</td>\n      <td>On-time</td>\n      <td>1990-01-01 23:00:00</td>\n      <td>Night</td>\n      <td>0</td>\n      <td>1</td>\n      <td>Winter</td>\n      <td>ORD-SYR</td>\n      <td>8.238029</td>\n      <td>4783</td>\n    </tr>\n  </tbody>\n</table>\n</div>"
     },
     "execution_count": 59,
     "metadata": {},
     "output_type": "execute_result"
    }
   ],
   "source": [
    "# Define a threshold for delays (in minutes)\n",
    "delay_threshold = 10\n",
    "\n",
    "# Filter the flight_data DataFrame to include only flights with 'Arrival Delay (Minutes)' greater than the threshold\n",
    "delayed_flights = flight_data[flight_data['Arrival Delay (Minutes)'] > delay_threshold]\n",
    "\n",
    "# Group the delayed_flights by 'Flight Route' and count the number of delayed flights for each group\n",
    "delay_frequency_by_route = delayed_flights.groupby('Flight Route').size().reset_index()\n",
    "\n",
    "# Rename the columns of the delay_frequency_by_route DataFrame for clarity\n",
    "delay_frequency_by_route.columns = ['Flight Route', 'Route Delay Frequency']\n",
    "\n",
    "# Merge the delay_frequency_by_route DataFrame with the original flight_data DataFrame\n",
    "# This adds the 'Route Delay Frequency' column to the flight_data DataFrame, with the appropriate values for each flight\n",
    "flight_data = flight_data.merge(delay_frequency_by_route, on='Flight Route', how='left')\n",
    "\n",
    "# Fill any missing values in the 'Route Delay Frequency' column with 0\n",
    "flight_data['Route Delay Frequency'] = flight_data['Route Delay Frequency'].fillna(0)\n",
    "\n",
    "# Display the first 10 rows of the updated flight_data DataFrame\n",
    "flight_data.head(10)"
   ],
   "metadata": {
    "collapsed": false
   }
  },
  {
   "cell_type": "markdown",
   "source": [
    "## Route Delay Ratio\n",
    "Calculate the ratio of delayed flights to the total number of flights for each route. This can help capture the proportion of flights that experience delays on a specific route."
   ],
   "metadata": {
    "collapsed": false
   }
  },
  {
   "cell_type": "code",
   "execution_count": 60,
   "outputs": [
    {
     "data": {
      "text/plain": "  Origin Airport  Arrival Delay (Minutes)         Status    Arrival Datetime  \\\n0            ORD                      -20          Early 1988-01-01 19:00:00   \n1            ORD                        7        On-time 1988-01-01 23:00:00   \n2            ORD                      124  Severely Late 1989-01-01 18:00:00   \n3            ORD                       81  Severely Late 1989-01-01 21:00:00   \n4            ORD                       -7        On-time 1989-01-01 09:00:00   \n5            ORD                       68  Severely Late 1989-01-02 00:00:00   \n6            IAD                       88  Severely Late 1989-01-01 15:00:00   \n7            IAD                       66  Severely Late 1989-01-02 00:00:00   \n8            ORD                       17           Late 1990-01-01 17:00:00   \n9            ORD                        8        On-time 1990-01-01 23:00:00   \n\n  Time of Day Day of the Week Month  Season Flight Route  Route Mean Delay  \\\n0     Evening               4     1  Winter      ORD-SYR          8.238029   \n1       Night               4     1  Winter      ORD-SYR          8.238029   \n2     Evening               6     1  Winter      ORD-SYR          8.238029   \n3       Night               6     1  Winter      ORD-SYR          8.238029   \n4     Morning               6     1  Winter      ORD-SYR          8.238029   \n5       Night               0     1  Winter      ORD-SYR          8.238029   \n6   Afternoon               6     1  Winter      IAD-SYR          6.451291   \n7       Night               0     1  Winter      IAD-SYR          6.451291   \n8     Evening               0     1  Winter      ORD-SYR          8.238029   \n9       Night               0     1  Winter      ORD-SYR          8.238029   \n\n   Route Delay Frequency  Route Delay Ratio  \n0                   4783           0.255325  \n1                   4783           0.255325  \n2                   4783           0.255325  \n3                   4783           0.255325  \n4                   4783           0.255325  \n5                   4783           0.255325  \n6                    235           0.195670  \n7                    235           0.195670  \n8                   4783           0.255325  \n9                   4783           0.255325  ",
      "text/html": "<div>\n<style scoped>\n    .dataframe tbody tr th:only-of-type {\n        vertical-align: middle;\n    }\n\n    .dataframe tbody tr th {\n        vertical-align: top;\n    }\n\n    .dataframe thead th {\n        text-align: right;\n    }\n</style>\n<table border=\"1\" class=\"dataframe\">\n  <thead>\n    <tr style=\"text-align: right;\">\n      <th></th>\n      <th>Origin Airport</th>\n      <th>Arrival Delay (Minutes)</th>\n      <th>Status</th>\n      <th>Arrival Datetime</th>\n      <th>Time of Day</th>\n      <th>Day of the Week</th>\n      <th>Month</th>\n      <th>Season</th>\n      <th>Flight Route</th>\n      <th>Route Mean Delay</th>\n      <th>Route Delay Frequency</th>\n      <th>Route Delay Ratio</th>\n    </tr>\n  </thead>\n  <tbody>\n    <tr>\n      <th>0</th>\n      <td>ORD</td>\n      <td>-20</td>\n      <td>Early</td>\n      <td>1988-01-01 19:00:00</td>\n      <td>Evening</td>\n      <td>4</td>\n      <td>1</td>\n      <td>Winter</td>\n      <td>ORD-SYR</td>\n      <td>8.238029</td>\n      <td>4783</td>\n      <td>0.255325</td>\n    </tr>\n    <tr>\n      <th>1</th>\n      <td>ORD</td>\n      <td>7</td>\n      <td>On-time</td>\n      <td>1988-01-01 23:00:00</td>\n      <td>Night</td>\n      <td>4</td>\n      <td>1</td>\n      <td>Winter</td>\n      <td>ORD-SYR</td>\n      <td>8.238029</td>\n      <td>4783</td>\n      <td>0.255325</td>\n    </tr>\n    <tr>\n      <th>2</th>\n      <td>ORD</td>\n      <td>124</td>\n      <td>Severely Late</td>\n      <td>1989-01-01 18:00:00</td>\n      <td>Evening</td>\n      <td>6</td>\n      <td>1</td>\n      <td>Winter</td>\n      <td>ORD-SYR</td>\n      <td>8.238029</td>\n      <td>4783</td>\n      <td>0.255325</td>\n    </tr>\n    <tr>\n      <th>3</th>\n      <td>ORD</td>\n      <td>81</td>\n      <td>Severely Late</td>\n      <td>1989-01-01 21:00:00</td>\n      <td>Night</td>\n      <td>6</td>\n      <td>1</td>\n      <td>Winter</td>\n      <td>ORD-SYR</td>\n      <td>8.238029</td>\n      <td>4783</td>\n      <td>0.255325</td>\n    </tr>\n    <tr>\n      <th>4</th>\n      <td>ORD</td>\n      <td>-7</td>\n      <td>On-time</td>\n      <td>1989-01-01 09:00:00</td>\n      <td>Morning</td>\n      <td>6</td>\n      <td>1</td>\n      <td>Winter</td>\n      <td>ORD-SYR</td>\n      <td>8.238029</td>\n      <td>4783</td>\n      <td>0.255325</td>\n    </tr>\n    <tr>\n      <th>5</th>\n      <td>ORD</td>\n      <td>68</td>\n      <td>Severely Late</td>\n      <td>1989-01-02 00:00:00</td>\n      <td>Night</td>\n      <td>0</td>\n      <td>1</td>\n      <td>Winter</td>\n      <td>ORD-SYR</td>\n      <td>8.238029</td>\n      <td>4783</td>\n      <td>0.255325</td>\n    </tr>\n    <tr>\n      <th>6</th>\n      <td>IAD</td>\n      <td>88</td>\n      <td>Severely Late</td>\n      <td>1989-01-01 15:00:00</td>\n      <td>Afternoon</td>\n      <td>6</td>\n      <td>1</td>\n      <td>Winter</td>\n      <td>IAD-SYR</td>\n      <td>6.451291</td>\n      <td>235</td>\n      <td>0.195670</td>\n    </tr>\n    <tr>\n      <th>7</th>\n      <td>IAD</td>\n      <td>66</td>\n      <td>Severely Late</td>\n      <td>1989-01-02 00:00:00</td>\n      <td>Night</td>\n      <td>0</td>\n      <td>1</td>\n      <td>Winter</td>\n      <td>IAD-SYR</td>\n      <td>6.451291</td>\n      <td>235</td>\n      <td>0.195670</td>\n    </tr>\n    <tr>\n      <th>8</th>\n      <td>ORD</td>\n      <td>17</td>\n      <td>Late</td>\n      <td>1990-01-01 17:00:00</td>\n      <td>Evening</td>\n      <td>0</td>\n      <td>1</td>\n      <td>Winter</td>\n      <td>ORD-SYR</td>\n      <td>8.238029</td>\n      <td>4783</td>\n      <td>0.255325</td>\n    </tr>\n    <tr>\n      <th>9</th>\n      <td>ORD</td>\n      <td>8</td>\n      <td>On-time</td>\n      <td>1990-01-01 23:00:00</td>\n      <td>Night</td>\n      <td>0</td>\n      <td>1</td>\n      <td>Winter</td>\n      <td>ORD-SYR</td>\n      <td>8.238029</td>\n      <td>4783</td>\n      <td>0.255325</td>\n    </tr>\n  </tbody>\n</table>\n</div>"
     },
     "execution_count": 60,
     "metadata": {},
     "output_type": "execute_result"
    }
   ],
   "source": [
    "# Group the flight_data DataFrame by 'Flight Route' and count the number of flights for each group\n",
    "total_flights_by_route = flight_data.groupby('Flight Route').size().reset_index()\n",
    "\n",
    "# Rename the columns of the total_flights_by_route DataFrame for clarity\n",
    "total_flights_by_route.columns = ['Flight Route', 'Total Flights']\n",
    "\n",
    "# Merge the total_flights_by_route DataFrame with the delay_frequency_by_route DataFrame\n",
    "# This creates a new DataFrame that contains the total flights and delay frequency for each route\n",
    "route_delay_ratio = total_flights_by_route.merge(delay_frequency_by_route, on='Flight Route', how='left')\n",
    "\n",
    "# Calculate the route delay ratio by dividing the 'Route Delay Frequency' by 'Total Flights' for each route\n",
    "route_delay_ratio['Route Delay Ratio'] = route_delay_ratio['Route Delay Frequency'] / route_delay_ratio['Total Flights']\n",
    "\n",
    "# Keep only the 'Flight Route' and 'Route Delay Ratio' columns in the route_delay_ratio DataFrame\n",
    "route_delay_ratio = route_delay_ratio[['Flight Route', 'Route Delay Ratio']]\n",
    "\n",
    "# Merge the route_delay_ratio DataFrame with the original flight_data DataFrame\n",
    "# This adds the 'Route Delay Ratio' column to the flight_data DataFrame, with the appropriate values for each flight\n",
    "flight_data = flight_data.merge(route_delay_ratio, on='Flight Route', how='left')\n",
    "\n",
    "# Display the first 10 rows of the updated flight_data DataFrame\n",
    "flight_data.head(10)"
   ],
   "metadata": {
    "collapsed": false
   }
  },
  {
   "cell_type": "markdown",
   "source": [
    "## Distance between origin and destination airports\n",
    "The distance between airports could affect the likelihood of delays due to various factors, such as air traffic or weather conditions along the route."
   ],
   "metadata": {
    "collapsed": false
   }
  },
  {
   "cell_type": "code",
   "execution_count": 61,
   "outputs": [
    {
     "data": {
      "text/plain": "  Origin Airport  Arrival Delay (Minutes)         Status    Arrival Datetime  \\\n0            ORD                      -20          Early 1988-01-01 19:00:00   \n1            ORD                        7        On-time 1988-01-01 23:00:00   \n2            ORD                      124  Severely Late 1989-01-01 18:00:00   \n3            ORD                       81  Severely Late 1989-01-01 21:00:00   \n4            ORD                       -7        On-time 1989-01-01 09:00:00   \n5            ORD                       68  Severely Late 1989-01-02 00:00:00   \n6            IAD                       88  Severely Late 1989-01-01 15:00:00   \n7            IAD                       66  Severely Late 1989-01-02 00:00:00   \n8            ORD                       17           Late 1990-01-01 17:00:00   \n9            ORD                        8        On-time 1990-01-01 23:00:00   \n\n  Time of Day Day of the Week Month  Season Flight Route  Route Mean Delay  \\\n0     Evening               4     1  Winter      ORD-SYR          8.238029   \n1       Night               4     1  Winter      ORD-SYR          8.238029   \n2     Evening               6     1  Winter      ORD-SYR          8.238029   \n3       Night               6     1  Winter      ORD-SYR          8.238029   \n4     Morning               6     1  Winter      ORD-SYR          8.238029   \n5       Night               0     1  Winter      ORD-SYR          8.238029   \n6   Afternoon               6     1  Winter      IAD-SYR          6.451291   \n7       Night               0     1  Winter      IAD-SYR          6.451291   \n8     Evening               0     1  Winter      ORD-SYR          8.238029   \n9       Night               0     1  Winter      ORD-SYR          8.238029   \n\n   Route Delay Frequency  Route Delay Ratio  Distance (km)  \n0                   4783           0.255325            974  \n1                   4783           0.255325            974  \n2                   4783           0.255325            974  \n3                   4783           0.255325            974  \n4                   4783           0.255325            974  \n5                   4783           0.255325            974  \n6                    235           0.195670            477  \n7                    235           0.195670            477  \n8                   4783           0.255325            974  \n9                   4783           0.255325            974  ",
      "text/html": "<div>\n<style scoped>\n    .dataframe tbody tr th:only-of-type {\n        vertical-align: middle;\n    }\n\n    .dataframe tbody tr th {\n        vertical-align: top;\n    }\n\n    .dataframe thead th {\n        text-align: right;\n    }\n</style>\n<table border=\"1\" class=\"dataframe\">\n  <thead>\n    <tr style=\"text-align: right;\">\n      <th></th>\n      <th>Origin Airport</th>\n      <th>Arrival Delay (Minutes)</th>\n      <th>Status</th>\n      <th>Arrival Datetime</th>\n      <th>Time of Day</th>\n      <th>Day of the Week</th>\n      <th>Month</th>\n      <th>Season</th>\n      <th>Flight Route</th>\n      <th>Route Mean Delay</th>\n      <th>Route Delay Frequency</th>\n      <th>Route Delay Ratio</th>\n      <th>Distance (km)</th>\n    </tr>\n  </thead>\n  <tbody>\n    <tr>\n      <th>0</th>\n      <td>ORD</td>\n      <td>-20</td>\n      <td>Early</td>\n      <td>1988-01-01 19:00:00</td>\n      <td>Evening</td>\n      <td>4</td>\n      <td>1</td>\n      <td>Winter</td>\n      <td>ORD-SYR</td>\n      <td>8.238029</td>\n      <td>4783</td>\n      <td>0.255325</td>\n      <td>974</td>\n    </tr>\n    <tr>\n      <th>1</th>\n      <td>ORD</td>\n      <td>7</td>\n      <td>On-time</td>\n      <td>1988-01-01 23:00:00</td>\n      <td>Night</td>\n      <td>4</td>\n      <td>1</td>\n      <td>Winter</td>\n      <td>ORD-SYR</td>\n      <td>8.238029</td>\n      <td>4783</td>\n      <td>0.255325</td>\n      <td>974</td>\n    </tr>\n    <tr>\n      <th>2</th>\n      <td>ORD</td>\n      <td>124</td>\n      <td>Severely Late</td>\n      <td>1989-01-01 18:00:00</td>\n      <td>Evening</td>\n      <td>6</td>\n      <td>1</td>\n      <td>Winter</td>\n      <td>ORD-SYR</td>\n      <td>8.238029</td>\n      <td>4783</td>\n      <td>0.255325</td>\n      <td>974</td>\n    </tr>\n    <tr>\n      <th>3</th>\n      <td>ORD</td>\n      <td>81</td>\n      <td>Severely Late</td>\n      <td>1989-01-01 21:00:00</td>\n      <td>Night</td>\n      <td>6</td>\n      <td>1</td>\n      <td>Winter</td>\n      <td>ORD-SYR</td>\n      <td>8.238029</td>\n      <td>4783</td>\n      <td>0.255325</td>\n      <td>974</td>\n    </tr>\n    <tr>\n      <th>4</th>\n      <td>ORD</td>\n      <td>-7</td>\n      <td>On-time</td>\n      <td>1989-01-01 09:00:00</td>\n      <td>Morning</td>\n      <td>6</td>\n      <td>1</td>\n      <td>Winter</td>\n      <td>ORD-SYR</td>\n      <td>8.238029</td>\n      <td>4783</td>\n      <td>0.255325</td>\n      <td>974</td>\n    </tr>\n    <tr>\n      <th>5</th>\n      <td>ORD</td>\n      <td>68</td>\n      <td>Severely Late</td>\n      <td>1989-01-02 00:00:00</td>\n      <td>Night</td>\n      <td>0</td>\n      <td>1</td>\n      <td>Winter</td>\n      <td>ORD-SYR</td>\n      <td>8.238029</td>\n      <td>4783</td>\n      <td>0.255325</td>\n      <td>974</td>\n    </tr>\n    <tr>\n      <th>6</th>\n      <td>IAD</td>\n      <td>88</td>\n      <td>Severely Late</td>\n      <td>1989-01-01 15:00:00</td>\n      <td>Afternoon</td>\n      <td>6</td>\n      <td>1</td>\n      <td>Winter</td>\n      <td>IAD-SYR</td>\n      <td>6.451291</td>\n      <td>235</td>\n      <td>0.195670</td>\n      <td>477</td>\n    </tr>\n    <tr>\n      <th>7</th>\n      <td>IAD</td>\n      <td>66</td>\n      <td>Severely Late</td>\n      <td>1989-01-02 00:00:00</td>\n      <td>Night</td>\n      <td>0</td>\n      <td>1</td>\n      <td>Winter</td>\n      <td>IAD-SYR</td>\n      <td>6.451291</td>\n      <td>235</td>\n      <td>0.195670</td>\n      <td>477</td>\n    </tr>\n    <tr>\n      <th>8</th>\n      <td>ORD</td>\n      <td>17</td>\n      <td>Late</td>\n      <td>1990-01-01 17:00:00</td>\n      <td>Evening</td>\n      <td>0</td>\n      <td>1</td>\n      <td>Winter</td>\n      <td>ORD-SYR</td>\n      <td>8.238029</td>\n      <td>4783</td>\n      <td>0.255325</td>\n      <td>974</td>\n    </tr>\n    <tr>\n      <th>9</th>\n      <td>ORD</td>\n      <td>8</td>\n      <td>On-time</td>\n      <td>1990-01-01 23:00:00</td>\n      <td>Night</td>\n      <td>0</td>\n      <td>1</td>\n      <td>Winter</td>\n      <td>ORD-SYR</td>\n      <td>8.238029</td>\n      <td>4783</td>\n      <td>0.255325</td>\n      <td>974</td>\n    </tr>\n  </tbody>\n</table>\n</div>"
     },
     "execution_count": 61,
     "metadata": {},
     "output_type": "execute_result"
    }
   ],
   "source": [
    "cords = {\n",
    "    'IATA': ['SYR', 'EWR', 'ORD', 'IAD', 'DEN'],\n",
    "    'Latitude': [43.1112, 40.6925, 41.9742, 38.9445, 39.8617],\n",
    "    'Longitude': [-76.1038, -74.1687, -87.9073, -77.4558, -104.6731]\n",
    "}\n",
    "\n",
    "airport_coords = pd.DataFrame(cords)\n",
    "airport_coords.set_index('IATA', inplace=True)\n",
    "\n",
    "\n",
    "def haversine(lat1, lon1, lat2, lon2):\n",
    "    R = 6371  # Earth radius in km\n",
    "    lat1, lon1, lat2, lon2 = np.radians([lat1, lon1, lat2, lon2])\n",
    "\n",
    "    dlat = lat2 - lat1\n",
    "    dlon = lon2 - lon1\n",
    "\n",
    "    a = np.sin(dlat / 2) ** 2 + np.cos(lat1) * np.cos(lat2) * np.sin(dlon / 2) ** 2\n",
    "    c = 2 * np.arctan2(np.sqrt(a), np.sqrt(1 - a))\n",
    "\n",
    "    return R * c\n",
    "\n",
    "\n",
    "def get_distance(row, airport_coords):\n",
    "    origin_airport = row['Origin Airport']\n",
    "\n",
    "    origin_coords = airport_coords.loc[origin_airport]\n",
    "    dest_coords = airport_coords.loc[DESTINATION_AIRPORT]\n",
    "\n",
    "    distance = haversine(origin_coords['Latitude'], origin_coords['Longitude'],\n",
    "                         dest_coords['Latitude'], dest_coords['Longitude'])\n",
    "    return round(distance)\n",
    "\n",
    "\n",
    "# Assuming airport_coords is a dataframe indexed by IATA code with 'Latitude' and 'Longitude' columns\n",
    "flight_data['Distance (km)'] = flight_data.apply(lambda row: get_distance(row, airport_coords), axis=1)\n",
    "\n",
    "# Show 10 rows of the dataframe\n",
    "flight_data.head(10)"
   ],
   "metadata": {
    "collapsed": false
   }
  },
  {
   "cell_type": "markdown",
   "source": [
    "## Destination Weather Data"
   ],
   "metadata": {
    "collapsed": false
   }
  },
  {
   "cell_type": "code",
   "execution_count": 62,
   "outputs": [
    {
     "data": {
      "text/plain": "   Arrival Delay (Minutes)         Status Time of Day Day of the Week Month  \\\n0                      -20          Early     Evening               4     1   \n1                        7        On-time       Night               4     1   \n2                      124  Severely Late     Evening               6     1   \n3                       81  Severely Late       Night               6     1   \n4                       -7        On-time     Morning               6     1   \n5                       68  Severely Late       Night               0     1   \n6                       88  Severely Late   Afternoon               6     1   \n7                       66  Severely Late       Night               0     1   \n8                       17           Late     Evening               0     1   \n9                        8        On-time       Night               0     1   \n\n   Season Flight Route  Route Mean Delay  Route Delay Frequency  \\\n0  Winter      ORD-SYR          8.238029                   4783   \n1  Winter      ORD-SYR          8.238029                   4783   \n2  Winter      ORD-SYR          8.238029                   4783   \n3  Winter      ORD-SYR          8.238029                   4783   \n4  Winter      ORD-SYR          8.238029                   4783   \n5  Winter      ORD-SYR          8.238029                   4783   \n6  Winter      IAD-SYR          6.451291                    235   \n7  Winter      IAD-SYR          6.451291                    235   \n8  Winter      ORD-SYR          8.238029                   4783   \n9  Winter      ORD-SYR          8.238029                   4783   \n\n   Route Delay Ratio  ...  destination_snowfall (cm)  \\\n0           0.255325  ...                       0.00   \n1           0.255325  ...                       0.00   \n2           0.255325  ...                       0.00   \n3           0.255325  ...                       0.00   \n4           0.255325  ...                       0.00   \n5           0.255325  ...                       0.00   \n6           0.195670  ...                       0.00   \n7           0.195670  ...                       0.00   \n8           0.255325  ...                       0.07   \n9           0.255325  ...                       0.07   \n\n   destination_cloudcover (%)  destination_cloudcover_low (%)  \\\n0                          77                              79   \n1                          90                              89   \n2                          52                              42   \n3                         100                              85   \n4                          38                               8   \n5                          95                              71   \n6                          17                              17   \n7                          95                              71   \n8                          87                              83   \n9                          79                              88   \n\n   destination_cloudcover_mid (%)  destination_cloudcover_high (%)  \\\n0                               9                                0   \n1                              16                                0   \n2                              24                                0   \n3                              21                               63   \n4                              45                               11   \n5                               4                               94   \n6                               2                                0   \n7                               4                               94   \n8                              20                                0   \n9                               0                                0   \n\n   destination_windspeed_10m (km/h)  destination_winddirection_10m (°)  \\\n0                              15.4                                254   \n1                              17.2                                259   \n2                               9.7                                141   \n3                              14.9                                173   \n4                              10.0                                120   \n5                              15.8                                180   \n6                              10.6                                145   \n7                              15.8                                180   \n8                              21.6                                294   \n9                              16.3                                298   \n\n   destination_windgusts_10m (km/h)  \\\n0                              31.7   \n1                              38.9   \n2                              21.2   \n3                              31.3   \n4                              18.4   \n5                              34.2   \n6                              24.1   \n7                              34.2   \n8                              51.5   \n9                              37.8   \n\n   destination_et0_fao_evapotranspiration (mm)  \\\n0                                         0.02   \n1                                         0.02   \n2                                         0.01   \n3                                         0.01   \n4                                         0.00   \n5                                         0.01   \n6                                         0.11   \n7                                         0.01   \n8                                         0.03   \n9                                         0.01   \n\n   destination_vapor_pressure_deficit (kPa)  \n0                                      0.16  \n1                                      0.16  \n2                                      0.12  \n3                                      0.14  \n4                                      0.03  \n5                                      0.12  \n6                                      0.25  \n7                                      0.12  \n8                                      0.12  \n9                                      0.08  \n\n[10 rows x 29 columns]",
      "text/html": "<div>\n<style scoped>\n    .dataframe tbody tr th:only-of-type {\n        vertical-align: middle;\n    }\n\n    .dataframe tbody tr th {\n        vertical-align: top;\n    }\n\n    .dataframe thead th {\n        text-align: right;\n    }\n</style>\n<table border=\"1\" class=\"dataframe\">\n  <thead>\n    <tr style=\"text-align: right;\">\n      <th></th>\n      <th>Arrival Delay (Minutes)</th>\n      <th>Status</th>\n      <th>Time of Day</th>\n      <th>Day of the Week</th>\n      <th>Month</th>\n      <th>Season</th>\n      <th>Flight Route</th>\n      <th>Route Mean Delay</th>\n      <th>Route Delay Frequency</th>\n      <th>Route Delay Ratio</th>\n      <th>...</th>\n      <th>destination_snowfall (cm)</th>\n      <th>destination_cloudcover (%)</th>\n      <th>destination_cloudcover_low (%)</th>\n      <th>destination_cloudcover_mid (%)</th>\n      <th>destination_cloudcover_high (%)</th>\n      <th>destination_windspeed_10m (km/h)</th>\n      <th>destination_winddirection_10m (°)</th>\n      <th>destination_windgusts_10m (km/h)</th>\n      <th>destination_et0_fao_evapotranspiration (mm)</th>\n      <th>destination_vapor_pressure_deficit (kPa)</th>\n    </tr>\n  </thead>\n  <tbody>\n    <tr>\n      <th>0</th>\n      <td>-20</td>\n      <td>Early</td>\n      <td>Evening</td>\n      <td>4</td>\n      <td>1</td>\n      <td>Winter</td>\n      <td>ORD-SYR</td>\n      <td>8.238029</td>\n      <td>4783</td>\n      <td>0.255325</td>\n      <td>...</td>\n      <td>0.00</td>\n      <td>77</td>\n      <td>79</td>\n      <td>9</td>\n      <td>0</td>\n      <td>15.4</td>\n      <td>254</td>\n      <td>31.7</td>\n      <td>0.02</td>\n      <td>0.16</td>\n    </tr>\n    <tr>\n      <th>1</th>\n      <td>7</td>\n      <td>On-time</td>\n      <td>Night</td>\n      <td>4</td>\n      <td>1</td>\n      <td>Winter</td>\n      <td>ORD-SYR</td>\n      <td>8.238029</td>\n      <td>4783</td>\n      <td>0.255325</td>\n      <td>...</td>\n      <td>0.00</td>\n      <td>90</td>\n      <td>89</td>\n      <td>16</td>\n      <td>0</td>\n      <td>17.2</td>\n      <td>259</td>\n      <td>38.9</td>\n      <td>0.02</td>\n      <td>0.16</td>\n    </tr>\n    <tr>\n      <th>2</th>\n      <td>124</td>\n      <td>Severely Late</td>\n      <td>Evening</td>\n      <td>6</td>\n      <td>1</td>\n      <td>Winter</td>\n      <td>ORD-SYR</td>\n      <td>8.238029</td>\n      <td>4783</td>\n      <td>0.255325</td>\n      <td>...</td>\n      <td>0.00</td>\n      <td>52</td>\n      <td>42</td>\n      <td>24</td>\n      <td>0</td>\n      <td>9.7</td>\n      <td>141</td>\n      <td>21.2</td>\n      <td>0.01</td>\n      <td>0.12</td>\n    </tr>\n    <tr>\n      <th>3</th>\n      <td>81</td>\n      <td>Severely Late</td>\n      <td>Night</td>\n      <td>6</td>\n      <td>1</td>\n      <td>Winter</td>\n      <td>ORD-SYR</td>\n      <td>8.238029</td>\n      <td>4783</td>\n      <td>0.255325</td>\n      <td>...</td>\n      <td>0.00</td>\n      <td>100</td>\n      <td>85</td>\n      <td>21</td>\n      <td>63</td>\n      <td>14.9</td>\n      <td>173</td>\n      <td>31.3</td>\n      <td>0.01</td>\n      <td>0.14</td>\n    </tr>\n    <tr>\n      <th>4</th>\n      <td>-7</td>\n      <td>On-time</td>\n      <td>Morning</td>\n      <td>6</td>\n      <td>1</td>\n      <td>Winter</td>\n      <td>ORD-SYR</td>\n      <td>8.238029</td>\n      <td>4783</td>\n      <td>0.255325</td>\n      <td>...</td>\n      <td>0.00</td>\n      <td>38</td>\n      <td>8</td>\n      <td>45</td>\n      <td>11</td>\n      <td>10.0</td>\n      <td>120</td>\n      <td>18.4</td>\n      <td>0.00</td>\n      <td>0.03</td>\n    </tr>\n    <tr>\n      <th>5</th>\n      <td>68</td>\n      <td>Severely Late</td>\n      <td>Night</td>\n      <td>0</td>\n      <td>1</td>\n      <td>Winter</td>\n      <td>ORD-SYR</td>\n      <td>8.238029</td>\n      <td>4783</td>\n      <td>0.255325</td>\n      <td>...</td>\n      <td>0.00</td>\n      <td>95</td>\n      <td>71</td>\n      <td>4</td>\n      <td>94</td>\n      <td>15.8</td>\n      <td>180</td>\n      <td>34.2</td>\n      <td>0.01</td>\n      <td>0.12</td>\n    </tr>\n    <tr>\n      <th>6</th>\n      <td>88</td>\n      <td>Severely Late</td>\n      <td>Afternoon</td>\n      <td>6</td>\n      <td>1</td>\n      <td>Winter</td>\n      <td>IAD-SYR</td>\n      <td>6.451291</td>\n      <td>235</td>\n      <td>0.195670</td>\n      <td>...</td>\n      <td>0.00</td>\n      <td>17</td>\n      <td>17</td>\n      <td>2</td>\n      <td>0</td>\n      <td>10.6</td>\n      <td>145</td>\n      <td>24.1</td>\n      <td>0.11</td>\n      <td>0.25</td>\n    </tr>\n    <tr>\n      <th>7</th>\n      <td>66</td>\n      <td>Severely Late</td>\n      <td>Night</td>\n      <td>0</td>\n      <td>1</td>\n      <td>Winter</td>\n      <td>IAD-SYR</td>\n      <td>6.451291</td>\n      <td>235</td>\n      <td>0.195670</td>\n      <td>...</td>\n      <td>0.00</td>\n      <td>95</td>\n      <td>71</td>\n      <td>4</td>\n      <td>94</td>\n      <td>15.8</td>\n      <td>180</td>\n      <td>34.2</td>\n      <td>0.01</td>\n      <td>0.12</td>\n    </tr>\n    <tr>\n      <th>8</th>\n      <td>17</td>\n      <td>Late</td>\n      <td>Evening</td>\n      <td>0</td>\n      <td>1</td>\n      <td>Winter</td>\n      <td>ORD-SYR</td>\n      <td>8.238029</td>\n      <td>4783</td>\n      <td>0.255325</td>\n      <td>...</td>\n      <td>0.07</td>\n      <td>87</td>\n      <td>83</td>\n      <td>20</td>\n      <td>0</td>\n      <td>21.6</td>\n      <td>294</td>\n      <td>51.5</td>\n      <td>0.03</td>\n      <td>0.12</td>\n    </tr>\n    <tr>\n      <th>9</th>\n      <td>8</td>\n      <td>On-time</td>\n      <td>Night</td>\n      <td>0</td>\n      <td>1</td>\n      <td>Winter</td>\n      <td>ORD-SYR</td>\n      <td>8.238029</td>\n      <td>4783</td>\n      <td>0.255325</td>\n      <td>...</td>\n      <td>0.07</td>\n      <td>79</td>\n      <td>88</td>\n      <td>0</td>\n      <td>0</td>\n      <td>16.3</td>\n      <td>298</td>\n      <td>37.8</td>\n      <td>0.01</td>\n      <td>0.08</td>\n    </tr>\n  </tbody>\n</table>\n<p>10 rows × 29 columns</p>\n</div>"
     },
     "execution_count": 62,
     "metadata": {},
     "output_type": "execute_result"
    }
   ],
   "source": [
    "# Merge the merged_data and destination_weather_data dataframes on 'Arrival Datetime', and 'destination_time' columns using a left join\n",
    "data = pd.merge(flight_data, destination_weather_data,\n",
    "                left_on='Arrival Datetime',\n",
    "                right_on='destination_time',\n",
    "                how='left')\n",
    "\n",
    "# Drop more unnecessary columns\n",
    "data.drop(columns=[\n",
    "    'Origin Airport',\n",
    "    'Arrival Datetime',\n",
    "    'destination_time',\n",
    "], inplace=True)\n",
    "\n",
    "# Show 10 rows of the dataframe\n",
    "data.head(10)"
   ],
   "metadata": {
    "collapsed": false
   }
  },
  {
   "cell_type": "markdown",
   "source": [
    "# Check Data"
   ],
   "metadata": {
    "collapsed": false
   }
  },
  {
   "cell_type": "code",
   "execution_count": 63,
   "outputs": [
    {
     "data": {
      "text/plain": "Arrival Delay (Minutes)                           int64\nStatus                                           object\nTime of Day                                      object\nDay of the Week                                category\nMonth                                          category\nSeason                                         category\nFlight Route                                   category\nRoute Mean Delay                                float64\nRoute Delay Frequency                             int64\nRoute Delay Ratio                               float64\nDistance (km)                                     int64\ndestination_temperature_2m (°C)                 float64\ndestination_relativehumidity_2m (%)               int64\ndestination_dewpoint_2m (°C)                    float64\ndestination_apparent_temperature (°C)           float64\ndestination_pressure_msl (hPa)                  float64\ndestination_surface_pressure (hPa)              float64\ndestination_precipitation (mm)                  float64\ndestination_rain (mm)                           float64\ndestination_snowfall (cm)                       float64\ndestination_cloudcover (%)                        int64\ndestination_cloudcover_low (%)                    int64\ndestination_cloudcover_mid (%)                    int64\ndestination_cloudcover_high (%)                   int64\ndestination_windspeed_10m (km/h)                float64\ndestination_winddirection_10m (°)                 int64\ndestination_windgusts_10m (km/h)                float64\ndestination_et0_fao_evapotranspiration (mm)     float64\ndestination_vapor_pressure_deficit (kPa)        float64\ndtype: object"
     },
     "metadata": {},
     "output_type": "display_data"
    },
    {
     "data": {
      "text/plain": "<Figure size 800x600 with 1 Axes>",
      "image/png": "[encoded data removed]"
     },
     "metadata": {},
     "output_type": "display_data"
    },
    {
     "name": "stdout",
     "output_type": "stream",
     "text": [
      "Length of flight data:  20352\n",
      "Length of merged data:  20352\n",
      "Total NaN values:  0\n"
     ]
    }
   ],
   "source": [
    "display(data.dtypes)\n",
    "\n",
    "fig, ax = plt.subplots(figsize=(8, 6))\n",
    "data['Status'].hist(ax=ax)\n",
    "plt.show()\n",
    "\n",
    "print(\"Length of flight data: \", len(flight_data))\n",
    "print(\"Length of merged data: \", len(data))\n",
    "print(\"Total NaN values: \", data.isna().sum().sum())"
   ],
   "metadata": {
    "collapsed": false
   }
  },
  {
   "cell_type": "markdown",
   "source": [
    "# One Hot Encoding"
   ],
   "metadata": {
    "collapsed": false
   }
  },
  {
   "cell_type": "code",
   "execution_count": 64,
   "outputs": [
    {
     "data": {
      "text/plain": "   Arrival Delay (Minutes)         Status  Route Mean Delay  \\\n0                      -20          Early          8.238029   \n1                        7        On-time          8.238029   \n2                      124  Severely Late          8.238029   \n3                       81  Severely Late          8.238029   \n4                       -7        On-time          8.238029   \n5                       68  Severely Late          8.238029   \n6                       88  Severely Late          6.451291   \n7                       66  Severely Late          6.451291   \n8                       17           Late          8.238029   \n9                        8        On-time          8.238029   \n\n   Route Delay Frequency  Route Delay Ratio  Distance (km)  \\\n0                   4783           0.255325            974   \n1                   4783           0.255325            974   \n2                   4783           0.255325            974   \n3                   4783           0.255325            974   \n4                   4783           0.255325            974   \n5                   4783           0.255325            974   \n6                    235           0.195670            477   \n7                    235           0.195670            477   \n8                   4783           0.255325            974   \n9                   4783           0.255325            974   \n\n   destination_temperature_2m (°C)  destination_relativehumidity_2m (%)  \\\n0                             -3.2                                   67   \n1                             -4.5                                   63   \n2                             -0.8                                   80   \n3                             -0.6                                   76   \n4                            -11.8                                   89   \n5                              0.0                                   80   \n6                              1.1                                   62   \n7                              0.0                                   80   \n8                             -4.2                                   74   \n9                             -5.0                                   80   \n\n   destination_dewpoint_2m (°C)  destination_apparent_temperature (°C)  ...  \\\n0                          -8.5                                   -8.6  ...   \n1                         -10.5                                  -10.3  ...   \n2                          -3.8                                   -4.8  ...   \n3                          -4.3                                   -5.5  ...   \n4                         -13.3                                  -16.8  ...   \n5                          -3.0                                   -4.8  ...   \n6                          -5.4                                   -3.3  ...   \n7                          -3.0                                   -4.8  ...   \n8                          -8.2                                  -10.5  ...   \n9                          -7.9                                  -10.4  ...   \n\n   Month_9  Month_10  Month_11  Month_12  Season_Spring  Season_Summer  \\\n0        0         0         0         0              0              0   \n1        0         0         0         0              0              0   \n2        0         0         0         0              0              0   \n3        0         0         0         0              0              0   \n4        0         0         0         0              0              0   \n5        0         0         0         0              0              0   \n6        0         0         0         0              0              0   \n7        0         0         0         0              0              0   \n8        0         0         0         0              0              0   \n9        0         0         0         0              0              0   \n\n   Season_Winter  Flight Route_EWR-SYR  Flight Route_IAD-SYR  \\\n0              1                     0                     0   \n1              1                     0                     0   \n2              1                     0                     0   \n3              1                     0                     0   \n4              1                     0                     0   \n5              1                     0                     0   \n6              1                     0                     1   \n7              1                     0                     1   \n8              1                     0                     0   \n9              1                     0                     0   \n\n   Flight Route_ORD-SYR  \n0                     1  \n1                     1  \n2                     1  \n3                     1  \n4                     1  \n5                     1  \n6                     0  \n7                     0  \n8                     1  \n9                     1  \n\n[10 rows x 50 columns]",
      "text/html": "<div>\n<style scoped>\n    .dataframe tbody tr th:only-of-type {\n        vertical-align: middle;\n    }\n\n    .dataframe tbody tr th {\n        vertical-align: top;\n    }\n\n    .dataframe thead th {\n        text-align: right;\n    }\n</style>\n<table border=\"1\" class=\"dataframe\">\n  <thead>\n    <tr style=\"text-align: right;\">\n      <th></th>\n      <th>Arrival Delay (Minutes)</th>\n      <th>Status</th>\n      <th>Route Mean Delay</th>\n      <th>Route Delay Frequency</th>\n      <th>Route Delay Ratio</th>\n      <th>Distance (km)</th>\n      <th>destination_temperature_2m (°C)</th>\n      <th>destination_relativehumidity_2m (%)</th>\n      <th>destination_dewpoint_2m (°C)</th>\n      <th>destination_apparent_temperature (°C)</th>\n      <th>...</th>\n      <th>Month_9</th>\n      <th>Month_10</th>\n      <th>Month_11</th>\n      <th>Month_12</th>\n      <th>Season_Spring</th>\n      <th>Season_Summer</th>\n      <th>Season_Winter</th>\n      <th>Flight Route_EWR-SYR</th>\n      <th>Flight Route_IAD-SYR</th>\n      <th>Flight Route_ORD-SYR</th>\n    </tr>\n  </thead>\n  <tbody>\n    <tr>\n      <th>0</th>\n      <td>-20</td>\n      <td>Early</td>\n      <td>8.238029</td>\n      <td>4783</td>\n      <td>0.255325</td>\n      <td>974</td>\n      <td>-3.2</td>\n      <td>67</td>\n      <td>-8.5</td>\n      <td>-8.6</td>\n      <td>...</td>\n      <td>0</td>\n      <td>0</td>\n      <td>0</td>\n      <td>0</td>\n      <td>0</td>\n      <td>0</td>\n      <td>1</td>\n      <td>0</td>\n      <td>0</td>\n      <td>1</td>\n    </tr>\n    <tr>\n      <th>1</th>\n      <td>7</td>\n      <td>On-time</td>\n      <td>8.238029</td>\n      <td>4783</td>\n      <td>0.255325</td>\n      <td>974</td>\n      <td>-4.5</td>\n      <td>63</td>\n      <td>-10.5</td>\n      <td>-10.3</td>\n      <td>...</td>\n      <td>0</td>\n      <td>0</td>\n      <td>0</td>\n      <td>0</td>\n      <td>0</td>\n      <td>0</td>\n      <td>1</td>\n      <td>0</td>\n      <td>0</td>\n      <td>1</td>\n    </tr>\n    <tr>\n      <th>2</th>\n      <td>124</td>\n      <td>Severely Late</td>\n      <td>8.238029</td>\n      <td>4783</td>\n      <td>0.255325</td>\n      <td>974</td>\n      <td>-0.8</td>\n      <td>80</td>\n      <td>-3.8</td>\n      <td>-4.8</td>\n      <td>...</td>\n      <td>0</td>\n      <td>0</td>\n      <td>0</td>\n      <td>0</td>\n      <td>0</td>\n      <td>0</td>\n      <td>1</td>\n      <td>0</td>\n      <td>0</td>\n      <td>1</td>\n    </tr>\n    <tr>\n      <th>3</th>\n      <td>81</td>\n      <td>Severely Late</td>\n      <td>8.238029</td>\n      <td>4783</td>\n      <td>0.255325</td>\n      <td>974</td>\n      <td>-0.6</td>\n      <td>76</td>\n      <td>-4.3</td>\n      <td>-5.5</td>\n      <td>...</td>\n      <td>0</td>\n      <td>0</td>\n      <td>0</td>\n      <td>0</td>\n      <td>0</td>\n      <td>0</td>\n      <td>1</td>\n      <td>0</td>\n      <td>0</td>\n      <td>1</td>\n    </tr>\n    <tr>\n      <th>4</th>\n      <td>-7</td>\n      <td>On-time</td>\n      <td>8.238029</td>\n      <td>4783</td>\n      <td>0.255325</td>\n      <td>974</td>\n      <td>-11.8</td>\n      <td>89</td>\n      <td>-13.3</td>\n      <td>-16.8</td>\n      <td>...</td>\n      <td>0</td>\n      <td>0</td>\n      <td>0</td>\n      <td>0</td>\n      <td>0</td>\n      <td>0</td>\n      <td>1</td>\n      <td>0</td>\n      <td>0</td>\n      <td>1</td>\n    </tr>\n    <tr>\n      <th>5</th>\n      <td>68</td>\n      <td>Severely Late</td>\n      <td>8.238029</td>\n      <td>4783</td>\n      <td>0.255325</td>\n      <td>974</td>\n      <td>0.0</td>\n      <td>80</td>\n      <td>-3.0</td>\n      <td>-4.8</td>\n      <td>...</td>\n      <td>0</td>\n      <td>0</td>\n      <td>0</td>\n      <td>0</td>\n      <td>0</td>\n      <td>0</td>\n      <td>1</td>\n      <td>0</td>\n      <td>0</td>\n      <td>1</td>\n    </tr>\n    <tr>\n      <th>6</th>\n      <td>88</td>\n      <td>Severely Late</td>\n      <td>6.451291</td>\n      <td>235</td>\n      <td>0.195670</td>\n      <td>477</td>\n      <td>1.1</td>\n      <td>62</td>\n      <td>-5.4</td>\n      <td>-3.3</td>\n      <td>...</td>\n      <td>0</td>\n      <td>0</td>\n      <td>0</td>\n      <td>0</td>\n      <td>0</td>\n      <td>0</td>\n      <td>1</td>\n      <td>0</td>\n      <td>1</td>\n      <td>0</td>\n    </tr>\n    <tr>\n      <th>7</th>\n      <td>66</td>\n      <td>Severely Late</td>\n      <td>6.451291</td>\n      <td>235</td>\n      <td>0.195670</td>\n      <td>477</td>\n      <td>0.0</td>\n      <td>80</td>\n      <td>-3.0</td>\n      <td>-4.8</td>\n      <td>...</td>\n      <td>0</td>\n      <td>0</td>\n      <td>0</td>\n      <td>0</td>\n      <td>0</td>\n      <td>0</td>\n      <td>1</td>\n      <td>0</td>\n      <td>1</td>\n      <td>0</td>\n    </tr>\n    <tr>\n      <th>8</th>\n      <td>17</td>\n      <td>Late</td>\n      <td>8.238029</td>\n      <td>4783</td>\n      <td>0.255325</td>\n      <td>974</td>\n      <td>-4.2</td>\n      <td>74</td>\n      <td>-8.2</td>\n      <td>-10.5</td>\n      <td>...</td>\n      <td>0</td>\n      <td>0</td>\n      <td>0</td>\n      <td>0</td>\n      <td>0</td>\n      <td>0</td>\n      <td>1</td>\n      <td>0</td>\n      <td>0</td>\n      <td>1</td>\n    </tr>\n    <tr>\n      <th>9</th>\n      <td>8</td>\n      <td>On-time</td>\n      <td>8.238029</td>\n      <td>4783</td>\n      <td>0.255325</td>\n      <td>974</td>\n      <td>-5.0</td>\n      <td>80</td>\n      <td>-7.9</td>\n      <td>-10.4</td>\n      <td>...</td>\n      <td>0</td>\n      <td>0</td>\n      <td>0</td>\n      <td>0</td>\n      <td>0</td>\n      <td>0</td>\n      <td>1</td>\n      <td>0</td>\n      <td>0</td>\n      <td>1</td>\n    </tr>\n  </tbody>\n</table>\n<p>10 rows × 50 columns</p>\n</div>"
     },
     "execution_count": 64,
     "metadata": {},
     "output_type": "execute_result"
    }
   ],
   "source": [
    "# One-hot encode categorical variables\n",
    "data = pd.get_dummies(data, columns=['Day of the Week', 'Time of Day', 'Month', 'Season', 'Flight Route'],\n",
    "                      drop_first=True)\n",
    "\n",
    "# Show 10 rows of the dataframe\n",
    "data.head(10)"
   ],
   "metadata": {
    "collapsed": false
   }
  },
  {
   "cell_type": "markdown",
   "source": [
    "# Split data into testing and training"
   ],
   "metadata": {
    "collapsed": false
   }
  },
  {
   "cell_type": "code",
   "execution_count": 65,
   "outputs": [
    {
     "name": "stdout",
     "output_type": "stream",
     "text": [
      "Length of train dataset:  16281\n",
      "Length of test dataset:  4071\n"
     ]
    }
   ],
   "source": [
    "X = data.drop(columns=['Status', 'Arrival Delay (Minutes)'])\n",
    "y = data['Status']\n",
    "\n",
    "# Split data into training and testing sets\n",
    "X_train, X_test, y_train, y_test = train_test_split(X, y, test_size=0.2, random_state=42, stratify=y)\n",
    "\n",
    "# Print the length of the train and test data\n",
    "print(\"Length of train dataset: \", len(X_train))\n",
    "print(\"Length of test dataset: \", len(X_test))"
   ],
   "metadata": {
    "collapsed": false
   }
  },
  {
   "cell_type": "markdown",
   "source": [
    "# Normalize data"
   ],
   "metadata": {
    "collapsed": false
   }
  },
  {
   "cell_type": "code",
   "execution_count": 66,
   "outputs": [
    {
     "data": {
      "text/plain": "       Route Mean Delay  Route Delay Frequency  Route Delay Ratio  \\\n14100          0.046873               0.044538           0.000000   \n9830           0.188215               1.000000           0.364403   \n16218          0.188215               1.000000           0.364403   \n16870          0.188215               1.000000           0.364403   \n7831           0.188215               1.000000           0.364403   \n4073           0.188215               1.000000           0.364403   \n5084           0.188215               1.000000           0.364403   \n1965           0.188215               1.000000           0.364403   \n18400          0.188215               1.000000           0.364403   \n11829          0.188215               1.000000           0.364403   \n\n       Distance (km)  destination_temperature_2m (°C)  \\\n14100       0.078770                         0.679868   \n9830        0.317483                         0.768977   \n16218       0.317483                         0.526403   \n16870       0.317483                         0.567657   \n7831        0.317483                         0.673267   \n4073        0.317483                         0.445545   \n5084        0.317483                         0.488449   \n1965        0.317483                         0.386139   \n18400       0.317483                         0.448845   \n11829       0.317483                         0.818482   \n\n       destination_relativehumidity_2m (%)  destination_dewpoint_2m (°C)  \\\n14100                             1.000000                      0.827138   \n9830                              0.476744                      0.754647   \n16218                             0.546512                      0.527881   \n16870                             0.697674                      0.620818   \n7831                              0.686047                      0.730483   \n4073                              0.906977                      0.542751   \n5084                              0.627907                      0.513011   \n1965                              0.802326                      0.453532   \n18400                             0.744186                      0.505576   \n11829                             0.895349                      0.957249   \n\n       destination_apparent_temperature (°C)  destination_pressure_msl (hPa)  \\\n14100                               0.686331                        0.537736   \n9830                                0.725180                        0.599730   \n16218                               0.494964                        0.676550   \n16870                               0.539568                        0.467655   \n7831                                0.671942                        0.525606   \n4073                                0.408633                        0.672507   \n5084                                0.470504                        0.722372   \n1965                                0.358273                        0.598383   \n18400                               0.410072                        0.574124   \n11829                               0.869065                        0.520216   \n\n       destination_surface_pressure (hPa)  ...  Month_9  Month_10  Month_11  \\\n14100                            0.556802  ...      1.0       0.0       0.0   \n9830                             0.624123  ...      0.0       0.0       0.0   \n16218                            0.691445  ...      0.0       1.0       0.0   \n16870                            0.479663  ...      0.0       1.0       0.0   \n7831                             0.544180  ...      0.0       0.0       0.0   \n4073                             0.683029  ...      0.0       0.0       0.0   \n5084                             0.736325  ...      0.0       0.0       0.0   \n1965                             0.604488  ...      0.0       0.0       0.0   \n18400                            0.583450  ...      0.0       0.0       1.0   \n11829                            0.545582  ...      0.0       0.0       0.0   \n\n       Month_12  Season_Spring  Season_Summer  Season_Winter  \\\n14100       0.0            0.0            0.0            0.0   \n9830        0.0            0.0            1.0            0.0   \n16218       0.0            0.0            0.0            0.0   \n16870       0.0            0.0            0.0            0.0   \n7831        0.0            1.0            0.0            0.0   \n4073        0.0            1.0            0.0            0.0   \n5084        0.0            1.0            0.0            0.0   \n1965        0.0            0.0            0.0            1.0   \n18400       0.0            0.0            0.0            0.0   \n11829       0.0            0.0            1.0            0.0   \n\n       Flight Route_EWR-SYR  Flight Route_IAD-SYR  Flight Route_ORD-SYR  \n14100                   0.0                   1.0                   0.0  \n9830                    0.0                   0.0                   1.0  \n16218                   0.0                   0.0                   1.0  \n16870                   0.0                   0.0                   1.0  \n7831                    0.0                   0.0                   1.0  \n4073                    0.0                   0.0                   1.0  \n5084                    0.0                   0.0                   1.0  \n1965                    0.0                   0.0                   1.0  \n18400                   0.0                   0.0                   1.0  \n11829                   0.0                   0.0                   1.0  \n\n[10 rows x 48 columns]",
      "text/html": "<div>\n<style scoped>\n    .dataframe tbody tr th:only-of-type {\n        vertical-align: middle;\n    }\n\n    .dataframe tbody tr th {\n        vertical-align: top;\n    }\n\n    .dataframe thead th {\n        text-align: right;\n    }\n</style>\n<table border=\"1\" class=\"dataframe\">\n  <thead>\n    <tr style=\"text-align: right;\">\n      <th></th>\n      <th>Route Mean Delay</th>\n      <th>Route Delay Frequency</th>\n      <th>Route Delay Ratio</th>\n      <th>Distance (km)</th>\n      <th>destination_temperature_2m (°C)</th>\n      <th>destination_relativehumidity_2m (%)</th>\n      <th>destination_dewpoint_2m (°C)</th>\n      <th>destination_apparent_temperature (°C)</th>\n      <th>destination_pressure_msl (hPa)</th>\n      <th>destination_surface_pressure (hPa)</th>\n      <th>...</th>\n      <th>Month_9</th>\n      <th>Month_10</th>\n      <th>Month_11</th>\n      <th>Month_12</th>\n      <th>Season_Spring</th>\n      <th>Season_Summer</th>\n      <th>Season_Winter</th>\n      <th>Flight Route_EWR-SYR</th>\n      <th>Flight Route_IAD-SYR</th>\n      <th>Flight Route_ORD-SYR</th>\n    </tr>\n  </thead>\n  <tbody>\n    <tr>\n      <th>14100</th>\n      <td>0.046873</td>\n      <td>0.044538</td>\n      <td>0.000000</td>\n      <td>0.078770</td>\n      <td>0.679868</td>\n      <td>1.000000</td>\n      <td>0.827138</td>\n      <td>0.686331</td>\n      <td>0.537736</td>\n      <td>0.556802</td>\n      <td>...</td>\n      <td>1.0</td>\n      <td>0.0</td>\n      <td>0.0</td>\n      <td>0.0</td>\n      <td>0.0</td>\n      <td>0.0</td>\n      <td>0.0</td>\n      <td>0.0</td>\n      <td>1.0</td>\n      <td>0.0</td>\n    </tr>\n    <tr>\n      <th>9830</th>\n      <td>0.188215</td>\n      <td>1.000000</td>\n      <td>0.364403</td>\n      <td>0.317483</td>\n      <td>0.768977</td>\n      <td>0.476744</td>\n      <td>0.754647</td>\n      <td>0.725180</td>\n      <td>0.599730</td>\n      <td>0.624123</td>\n      <td>...</td>\n      <td>0.0</td>\n      <td>0.0</td>\n      <td>0.0</td>\n      <td>0.0</td>\n      <td>0.0</td>\n      <td>1.0</td>\n      <td>0.0</td>\n      <td>0.0</td>\n      <td>0.0</td>\n      <td>1.0</td>\n    </tr>\n    <tr>\n      <th>16218</th>\n      <td>0.188215</td>\n      <td>1.000000</td>\n      <td>0.364403</td>\n      <td>0.317483</td>\n      <td>0.526403</td>\n      <td>0.546512</td>\n      <td>0.527881</td>\n      <td>0.494964</td>\n      <td>0.676550</td>\n      <td>0.691445</td>\n      <td>...</td>\n      <td>0.0</td>\n      <td>1.0</td>\n      <td>0.0</td>\n      <td>0.0</td>\n      <td>0.0</td>\n      <td>0.0</td>\n      <td>0.0</td>\n      <td>0.0</td>\n      <td>0.0</td>\n      <td>1.0</td>\n    </tr>\n    <tr>\n      <th>16870</th>\n      <td>0.188215</td>\n      <td>1.000000</td>\n      <td>0.364403</td>\n      <td>0.317483</td>\n      <td>0.567657</td>\n      <td>0.697674</td>\n      <td>0.620818</td>\n      <td>0.539568</td>\n      <td>0.467655</td>\n      <td>0.479663</td>\n      <td>...</td>\n      <td>0.0</td>\n      <td>1.0</td>\n      <td>0.0</td>\n      <td>0.0</td>\n      <td>0.0</td>\n      <td>0.0</td>\n      <td>0.0</td>\n      <td>0.0</td>\n      <td>0.0</td>\n      <td>1.0</td>\n    </tr>\n    <tr>\n      <th>7831</th>\n      <td>0.188215</td>\n      <td>1.000000</td>\n      <td>0.364403</td>\n      <td>0.317483</td>\n      <td>0.673267</td>\n      <td>0.686047</td>\n      <td>0.730483</td>\n      <td>0.671942</td>\n      <td>0.525606</td>\n      <td>0.544180</td>\n      <td>...</td>\n      <td>0.0</td>\n      <td>0.0</td>\n      <td>0.0</td>\n      <td>0.0</td>\n      <td>1.0</td>\n      <td>0.0</td>\n      <td>0.0</td>\n      <td>0.0</td>\n      <td>0.0</td>\n      <td>1.0</td>\n    </tr>\n    <tr>\n      <th>4073</th>\n      <td>0.188215</td>\n      <td>1.000000</td>\n      <td>0.364403</td>\n      <td>0.317483</td>\n      <td>0.445545</td>\n      <td>0.906977</td>\n      <td>0.542751</td>\n      <td>0.408633</td>\n      <td>0.672507</td>\n      <td>0.683029</td>\n      <td>...</td>\n      <td>0.0</td>\n      <td>0.0</td>\n      <td>0.0</td>\n      <td>0.0</td>\n      <td>1.0</td>\n      <td>0.0</td>\n      <td>0.0</td>\n      <td>0.0</td>\n      <td>0.0</td>\n      <td>1.0</td>\n    </tr>\n    <tr>\n      <th>5084</th>\n      <td>0.188215</td>\n      <td>1.000000</td>\n      <td>0.364403</td>\n      <td>0.317483</td>\n      <td>0.488449</td>\n      <td>0.627907</td>\n      <td>0.513011</td>\n      <td>0.470504</td>\n      <td>0.722372</td>\n      <td>0.736325</td>\n      <td>...</td>\n      <td>0.0</td>\n      <td>0.0</td>\n      <td>0.0</td>\n      <td>0.0</td>\n      <td>1.0</td>\n      <td>0.0</td>\n      <td>0.0</td>\n      <td>0.0</td>\n      <td>0.0</td>\n      <td>1.0</td>\n    </tr>\n    <tr>\n      <th>1965</th>\n      <td>0.188215</td>\n      <td>1.000000</td>\n      <td>0.364403</td>\n      <td>0.317483</td>\n      <td>0.386139</td>\n      <td>0.802326</td>\n      <td>0.453532</td>\n      <td>0.358273</td>\n      <td>0.598383</td>\n      <td>0.604488</td>\n      <td>...</td>\n      <td>0.0</td>\n      <td>0.0</td>\n      <td>0.0</td>\n      <td>0.0</td>\n      <td>0.0</td>\n      <td>0.0</td>\n      <td>1.0</td>\n      <td>0.0</td>\n      <td>0.0</td>\n      <td>1.0</td>\n    </tr>\n    <tr>\n      <th>18400</th>\n      <td>0.188215</td>\n      <td>1.000000</td>\n      <td>0.364403</td>\n      <td>0.317483</td>\n      <td>0.448845</td>\n      <td>0.744186</td>\n      <td>0.505576</td>\n      <td>0.410072</td>\n      <td>0.574124</td>\n      <td>0.583450</td>\n      <td>...</td>\n      <td>0.0</td>\n      <td>0.0</td>\n      <td>1.0</td>\n      <td>0.0</td>\n      <td>0.0</td>\n      <td>0.0</td>\n      <td>0.0</td>\n      <td>0.0</td>\n      <td>0.0</td>\n      <td>1.0</td>\n    </tr>\n    <tr>\n      <th>11829</th>\n      <td>0.188215</td>\n      <td>1.000000</td>\n      <td>0.364403</td>\n      <td>0.317483</td>\n      <td>0.818482</td>\n      <td>0.895349</td>\n      <td>0.957249</td>\n      <td>0.869065</td>\n      <td>0.520216</td>\n      <td>0.545582</td>\n      <td>...</td>\n      <td>0.0</td>\n      <td>0.0</td>\n      <td>0.0</td>\n      <td>0.0</td>\n      <td>0.0</td>\n      <td>1.0</td>\n      <td>0.0</td>\n      <td>0.0</td>\n      <td>0.0</td>\n      <td>1.0</td>\n    </tr>\n  </tbody>\n</table>\n<p>10 rows × 48 columns</p>\n</div>"
     },
     "execution_count": 66,
     "metadata": {},
     "output_type": "execute_result"
    }
   ],
   "source": [
    "scaler = MinMaxScaler()\n",
    "X_train = pd.DataFrame(scaler.fit_transform(X_train), columns=X_train.columns, index=X_train.index)\n",
    "X_test = pd.DataFrame(scaler.transform(X_test), columns=X_test.columns, index=X_test.index)\n",
    "\n",
    "# Show 10 rows of the dataframe\n",
    "X_train.head(10)"
   ],
   "metadata": {
    "collapsed": false
   }
  },
  {
   "cell_type": "markdown",
   "source": [
    "# Hyperparameter tuning"
   ],
   "metadata": {
    "collapsed": false
   }
  },
  {
   "cell_type": "code",
   "execution_count": 67,
   "outputs": [],
   "source": [
    "# Instantiate the LabelEncoder\n",
    "le = LabelEncoder()\n",
    "\n",
    "# Fit and transform the target variable in the training set\n",
    "y_train_encoded = le.fit_transform(y_train)\n",
    "\n",
    "# Transform the target variable in the testing set\n",
    "y_test_encoded = le.transform(y_test)\n",
    "\n",
    "# Calculate the sample weights\n",
    "sample_weights = compute_sample_weight(class_weight='balanced', y=y_train_encoded)\n",
    "\n",
    "# # Define the parameter grid for the search\n",
    "# param_grid = {\n",
    "#     'n_estimators': [300, 500, 700],\n",
    "#     'max_depth': [7, 9, 11],\n",
    "#     'learning_rate': [0.2, 0.3, 0.4],\n",
    "# }\n",
    "#\n",
    "# # Create the XGBClassifier instance\n",
    "# xgb_clf = xgb.XGBClassifier(objective='multi:softmax', seed=42)\n",
    "#\n",
    "# # Create the GridSearchCV instance\n",
    "# grid_search = GridSearchCV(xgb_clf, param_grid, scoring='f1_weighted', cv=3, verbose=1, n_jobs=-1)\n",
    "#\n",
    "# # Fit the GridSearchCV to the training data\n",
    "# grid_search.fit(X_train, y_train_encoded, sample_weight=sample_weights)\n",
    "#\n",
    "# # Retrieve the best parameters\n",
    "# best_params = grid_search.best_params_\n",
    "# print(f\"Best parameters: {best_params}\")"
   ],
   "metadata": {
    "collapsed": false
   }
  },
  {
   "cell_type": "markdown",
   "source": [
    "# Training the best model"
   ],
   "metadata": {
    "collapsed": false
   }
  },
  {
   "cell_type": "code",
   "execution_count": 68,
   "outputs": [],
   "source": [
    "# Create and train the XGBoost model\n",
    "xgbr = xgb.XGBClassifier(objective='multi:softmax', seed=42,\n",
    "                         **{'learning_rate': 0.2, 'max_depth': 7, 'n_estimators': 300})\n",
    "xgbr.fit(X_train, y_train_encoded, sample_weight=sample_weights)\n",
    "\n",
    "# Make predictions\n",
    "y_train_pred_encoded = xgbr.predict(X_train)\n",
    "y_test_pred_encoded = xgbr.predict(X_test)\n",
    "\n",
    "# Inverse transform the predictions back to the original labels\n",
    "y_train_pred = le.inverse_transform(y_train_pred_encoded)\n",
    "y_test_pred = le.inverse_transform(y_test_pred_encoded)"
   ],
   "metadata": {
    "collapsed": false
   }
  },
  {
   "cell_type": "markdown",
   "source": [
    "# Evaluate the model"
   ],
   "metadata": {
    "collapsed": false
   }
  },
  {
   "cell_type": "code",
   "execution_count": 69,
   "outputs": [
    {
     "name": "stdout",
     "output_type": "stream",
     "text": [
      "Training Classification report:\n",
      "               precision    recall  f1-score   support\n",
      "\n",
      "        Early       0.96      1.00      0.98      2437\n",
      "         Late       0.97      1.00      0.98      2302\n",
      "      On-time       1.00      0.97      0.98      9740\n",
      "Severely Late       0.93      1.00      0.96      1802\n",
      "\n",
      "     accuracy                           0.98     16281\n",
      "    macro avg       0.96      0.99      0.98     16281\n",
      " weighted avg       0.98      0.98      0.98     16281\n",
      "\n",
      "\n",
      "Testing Classification report:\n",
      "               precision    recall  f1-score   support\n",
      "\n",
      "        Early       0.23      0.17      0.20       610\n",
      "         Late       0.29      0.19      0.23       575\n",
      "      On-time       0.64      0.73      0.68      2436\n",
      "Severely Late       0.28      0.29      0.28       450\n",
      "\n",
      "     accuracy                           0.52      4071\n",
      "    macro avg       0.36      0.35      0.35      4071\n",
      " weighted avg       0.49      0.52      0.50      4071\n",
      "\n"
     ]
    }
   ],
   "source": [
    "print('Training Classification report:')\n",
    "print(classification_report(y_train, y_train_pred))\n",
    "\n",
    "print('\\nTesting Classification report:')\n",
    "print(classification_report(y_test, y_test_pred))"
   ],
   "metadata": {
    "collapsed": false
   }
  },
  {
   "cell_type": "code",
   "execution_count": 70,
   "outputs": [
    {
     "data": {
      "text/plain": "              actual      predicted\n13435        On-time        On-time\n7552         On-time           Late\n6981         On-time        On-time\n7257         On-time        On-time\n4813         On-time        On-time\n2013         On-time        On-time\n14330        On-time          Early\n7137            Late           Late\n15933        On-time          Early\n10742           Late           Late\n1026         On-time        On-time\n3523         On-time        On-time\n14800          Early        On-time\n16393        On-time        On-time\n16783        On-time        On-time\n16000        On-time           Late\n12594        On-time        On-time\n7407         On-time        On-time\n11495  Severely Late  Severely Late\n3866           Early          Early\n5154           Early        On-time\n14418        On-time        On-time\n9274         On-time           Late\n14504        On-time  Severely Late\n10677        On-time        On-time\n10788        On-time        On-time\n7272         On-time  Severely Late\n13354        On-time        On-time\n15699        On-time          Early\n3084            Late           Late",
      "text/html": "<div>\n<style scoped>\n    .dataframe tbody tr th:only-of-type {\n        vertical-align: middle;\n    }\n\n    .dataframe tbody tr th {\n        vertical-align: top;\n    }\n\n    .dataframe thead th {\n        text-align: right;\n    }\n</style>\n<table border=\"1\" class=\"dataframe\">\n  <thead>\n    <tr style=\"text-align: right;\">\n      <th></th>\n      <th>actual</th>\n      <th>predicted</th>\n    </tr>\n  </thead>\n  <tbody>\n    <tr>\n      <th>13435</th>\n      <td>On-time</td>\n      <td>On-time</td>\n    </tr>\n    <tr>\n      <th>7552</th>\n      <td>On-time</td>\n      <td>Late</td>\n    </tr>\n    <tr>\n      <th>6981</th>\n      <td>On-time</td>\n      <td>On-time</td>\n    </tr>\n    <tr>\n      <th>7257</th>\n      <td>On-time</td>\n      <td>On-time</td>\n    </tr>\n    <tr>\n      <th>4813</th>\n      <td>On-time</td>\n      <td>On-time</td>\n    </tr>\n    <tr>\n      <th>2013</th>\n      <td>On-time</td>\n      <td>On-time</td>\n    </tr>\n    <tr>\n      <th>14330</th>\n      <td>On-time</td>\n      <td>Early</td>\n    </tr>\n    <tr>\n      <th>7137</th>\n      <td>Late</td>\n      <td>Late</td>\n    </tr>\n    <tr>\n      <th>15933</th>\n      <td>On-time</td>\n      <td>Early</td>\n    </tr>\n    <tr>\n      <th>10742</th>\n      <td>Late</td>\n      <td>Late</td>\n    </tr>\n    <tr>\n      <th>1026</th>\n      <td>On-time</td>\n      <td>On-time</td>\n    </tr>\n    <tr>\n      <th>3523</th>\n      <td>On-time</td>\n      <td>On-time</td>\n    </tr>\n    <tr>\n      <th>14800</th>\n      <td>Early</td>\n      <td>On-time</td>\n    </tr>\n    <tr>\n      <th>16393</th>\n      <td>On-time</td>\n      <td>On-time</td>\n    </tr>\n    <tr>\n      <th>16783</th>\n      <td>On-time</td>\n      <td>On-time</td>\n    </tr>\n    <tr>\n      <th>16000</th>\n      <td>On-time</td>\n      <td>Late</td>\n    </tr>\n    <tr>\n      <th>12594</th>\n      <td>On-time</td>\n      <td>On-time</td>\n    </tr>\n    <tr>\n      <th>7407</th>\n      <td>On-time</td>\n      <td>On-time</td>\n    </tr>\n    <tr>\n      <th>11495</th>\n      <td>Severely Late</td>\n      <td>Severely Late</td>\n    </tr>\n    <tr>\n      <th>3866</th>\n      <td>Early</td>\n      <td>Early</td>\n    </tr>\n    <tr>\n      <th>5154</th>\n      <td>Early</td>\n      <td>On-time</td>\n    </tr>\n    <tr>\n      <th>14418</th>\n      <td>On-time</td>\n      <td>On-time</td>\n    </tr>\n    <tr>\n      <th>9274</th>\n      <td>On-time</td>\n      <td>Late</td>\n    </tr>\n    <tr>\n      <th>14504</th>\n      <td>On-time</td>\n      <td>Severely Late</td>\n    </tr>\n    <tr>\n      <th>10677</th>\n      <td>On-time</td>\n      <td>On-time</td>\n    </tr>\n    <tr>\n      <th>10788</th>\n      <td>On-time</td>\n      <td>On-time</td>\n    </tr>\n    <tr>\n      <th>7272</th>\n      <td>On-time</td>\n      <td>Severely Late</td>\n    </tr>\n    <tr>\n      <th>13354</th>\n      <td>On-time</td>\n      <td>On-time</td>\n    </tr>\n    <tr>\n      <th>15699</th>\n      <td>On-time</td>\n      <td>Early</td>\n    </tr>\n    <tr>\n      <th>3084</th>\n      <td>Late</td>\n      <td>Late</td>\n    </tr>\n  </tbody>\n</table>\n</div>"
     },
     "execution_count": 70,
     "metadata": {},
     "output_type": "execute_result"
    }
   ],
   "source": [
    "test_output = pd.DataFrame({'actual': y_test, 'predicted': y_test_pred})\n",
    "\n",
    "test_output.head(30)"
   ],
   "metadata": {
    "collapsed": false
   }
  },
  {
   "cell_type": "code",
   "execution_count": 71,
   "outputs": [
    {
     "data": {
      "text/plain": "<Figure size 1000x500 with 1 Axes>",
      "image/png": "[encoded data removed]"
     },
     "metadata": {},
     "output_type": "display_data"
    }
   ],
   "source": [
    "# Create a single figure with a specified size (width=10, height=5)\n",
    "fig, ax = plt.subplots(figsize=(10, 5))\n",
    "\n",
    "# Set the width of the bars in the histogram\n",
    "bar_width = 0.4\n",
    "\n",
    "# Create an array with the unique categories in the 'actual' and 'predicted' columns\n",
    "categories = test_output.actual.unique()\n",
    "\n",
    "# Generate the x-axis positions for each category\n",
    "x_pos = np.arange(len(categories))\n",
    "\n",
    "# Calculate the counts for each category in the 'actual' column\n",
    "actual_counts = test_output.actual.value_counts()\n",
    "\n",
    "# Calculate the counts for each category in the 'predicted' column\n",
    "predicted_counts = test_output.predicted.value_counts()\n",
    "\n",
    "# Plot the histogram of the ground truth (actual) values\n",
    "ax.bar(x_pos - bar_width / 2, actual_counts, width=bar_width, color='blue', edgecolor='black', label='Ground truth')\n",
    "\n",
    "# Plot the histogram of the predicted values\n",
    "ax.bar(x_pos + bar_width / 2, predicted_counts, width=bar_width, color='green', edgecolor='black', label='Predictions')\n",
    "\n",
    "# Set the x-axis ticks and labels\n",
    "ax.set_xticks(x_pos)\n",
    "ax.set_xticklabels(categories)\n",
    "\n",
    "# Set the title and axis labels for the figure\n",
    "ax.set_title('Actual vs. Predictions', fontsize=14)\n",
    "ax.set_xlabel('Status', fontsize=12)\n",
    "ax.set_ylabel('Frequency', fontsize=12)\n",
    "\n",
    "# Add a legend to distinguish between the two sets of data\n",
    "ax.legend(fontsize=12)\n",
    "\n",
    "# Display the figure\n",
    "plt.show()"
   ],
   "metadata": {
    "collapsed": false
   }
  },
  {
   "cell_type": "markdown",
   "source": [],
   "metadata": {
    "collapsed": false
   }
  },
  {
   "cell_type": "code",
   "execution_count": 72,
   "outputs": [
    {
     "data": {
      "text/plain": "         Date       Day Origin Airport Arrival Time\n0  2023-04-21    Friday            ORD     10:00 AM\n1  2023-04-21    Friday            ORD      4:50 PM\n2  2023-04-21    Friday            ORD      9:34 PM\n3  2023-04-22  Saturday            ORD     10:00 AM\n4  2023-04-22  Saturday            ORD      4:50 PM\n5  2023-04-22  Saturday            ORD      9:34 PM\n6  2023-04-23    Sunday            ORD     10:00 AM\n7  2023-04-23    Sunday            ORD      4:55 PM\n8  2023-04-23    Sunday            ORD      9:34 PM\n9  2023-04-24    Monday            ORD     10:00 AM\n10 2023-04-24    Monday            ORD      4:50 PM\n11 2023-04-24    Monday            ORD      9:34 PM\n12 2023-04-21    Friday            DEN      3:12 PM\n13 2023-04-22  Saturday            DEN      3:12 PM\n14 2023-04-23    Sunday            DEN      3:12 PM\n15 2023-04-24    Monday            DEN      3:12 PM\n16 2023-04-21    Friday            EWR     10:46 AM\n17 2023-04-21    Friday            EWR     11:42 PM\n18 2023-04-22  Saturday            EWR     10:46 AM\n19 2023-04-22  Saturday            EWR     11:17 PM",
      "text/html": "<div>\n<style scoped>\n    .dataframe tbody tr th:only-of-type {\n        vertical-align: middle;\n    }\n\n    .dataframe tbody tr th {\n        vertical-align: top;\n    }\n\n    .dataframe thead th {\n        text-align: right;\n    }\n</style>\n<table border=\"1\" class=\"dataframe\">\n  <thead>\n    <tr style=\"text-align: right;\">\n      <th></th>\n      <th>Date</th>\n      <th>Day</th>\n      <th>Origin Airport</th>\n      <th>Arrival Time</th>\n    </tr>\n  </thead>\n  <tbody>\n    <tr>\n      <th>0</th>\n      <td>2023-04-21</td>\n      <td>Friday</td>\n      <td>ORD</td>\n      <td>10:00 AM</td>\n    </tr>\n    <tr>\n      <th>1</th>\n      <td>2023-04-21</td>\n      <td>Friday</td>\n      <td>ORD</td>\n      <td>4:50 PM</td>\n    </tr>\n    <tr>\n      <th>2</th>\n      <td>2023-04-21</td>\n      <td>Friday</td>\n      <td>ORD</td>\n      <td>9:34 PM</td>\n    </tr>\n    <tr>\n      <th>3</th>\n      <td>2023-04-22</td>\n      <td>Saturday</td>\n      <td>ORD</td>\n      <td>10:00 AM</td>\n    </tr>\n    <tr>\n      <th>4</th>\n      <td>2023-04-22</td>\n      <td>Saturday</td>\n      <td>ORD</td>\n      <td>4:50 PM</td>\n    </tr>\n    <tr>\n      <th>5</th>\n      <td>2023-04-22</td>\n      <td>Saturday</td>\n      <td>ORD</td>\n      <td>9:34 PM</td>\n    </tr>\n    <tr>\n      <th>6</th>\n      <td>2023-04-23</td>\n      <td>Sunday</td>\n      <td>ORD</td>\n      <td>10:00 AM</td>\n    </tr>\n    <tr>\n      <th>7</th>\n      <td>2023-04-23</td>\n      <td>Sunday</td>\n      <td>ORD</td>\n      <td>4:55 PM</td>\n    </tr>\n    <tr>\n      <th>8</th>\n      <td>2023-04-23</td>\n      <td>Sunday</td>\n      <td>ORD</td>\n      <td>9:34 PM</td>\n    </tr>\n    <tr>\n      <th>9</th>\n      <td>2023-04-24</td>\n      <td>Monday</td>\n      <td>ORD</td>\n      <td>10:00 AM</td>\n    </tr>\n    <tr>\n      <th>10</th>\n      <td>2023-04-24</td>\n      <td>Monday</td>\n      <td>ORD</td>\n      <td>4:50 PM</td>\n    </tr>\n    <tr>\n      <th>11</th>\n      <td>2023-04-24</td>\n      <td>Monday</td>\n      <td>ORD</td>\n      <td>9:34 PM</td>\n    </tr>\n    <tr>\n      <th>12</th>\n      <td>2023-04-21</td>\n      <td>Friday</td>\n      <td>DEN</td>\n      <td>3:12 PM</td>\n    </tr>\n    <tr>\n      <th>13</th>\n      <td>2023-04-22</td>\n      <td>Saturday</td>\n      <td>DEN</td>\n      <td>3:12 PM</td>\n    </tr>\n    <tr>\n      <th>14</th>\n      <td>2023-04-23</td>\n      <td>Sunday</td>\n      <td>DEN</td>\n      <td>3:12 PM</td>\n    </tr>\n    <tr>\n      <th>15</th>\n      <td>2023-04-24</td>\n      <td>Monday</td>\n      <td>DEN</td>\n      <td>3:12 PM</td>\n    </tr>\n    <tr>\n      <th>16</th>\n      <td>2023-04-21</td>\n      <td>Friday</td>\n      <td>EWR</td>\n      <td>10:46 AM</td>\n    </tr>\n    <tr>\n      <th>17</th>\n      <td>2023-04-21</td>\n      <td>Friday</td>\n      <td>EWR</td>\n      <td>11:42 PM</td>\n    </tr>\n    <tr>\n      <th>18</th>\n      <td>2023-04-22</td>\n      <td>Saturday</td>\n      <td>EWR</td>\n      <td>10:46 AM</td>\n    </tr>\n    <tr>\n      <th>19</th>\n      <td>2023-04-22</td>\n      <td>Saturday</td>\n      <td>EWR</td>\n      <td>11:17 PM</td>\n    </tr>\n  </tbody>\n</table>\n</div>"
     },
     "execution_count": 72,
     "metadata": {},
     "output_type": "execute_result"
    }
   ],
   "source": [
    "# Load the historical data into a pandas dataframe\n",
    "test_data = pd.read_csv(\"data/test_data.csv\", parse_dates=['Date'])\n",
    "\n",
    "# Drop unnecessary columns\n",
    "test_data.drop(columns=[\n",
    "    'Flight Number',\n",
    "    'Status (Early, On-time, Late, Severly Late)',\n",
    "], inplace=True)\n",
    "\n",
    "test_data.head(20)"
   ],
   "metadata": {
    "collapsed": false
   }
  }
 ],
 "metadata": {
  "kernelspec": {
   "display_name": "Python 3",
   "language": "python",
   "name": "python3"
  },
  "language_info": {
   "codemirror_mode": {
    "name": "ipython",
    "version": 2
   },
   "file_extension": ".py",
   "mimetype": "text/x-python",
   "name": "python",
   "nbconvert_exporter": "python",
   "pygments_lexer": "ipython2",
   "version": "2.7.6"
  }
 },
 "nbformat": 4,
 "nbformat_minor": 0
}
