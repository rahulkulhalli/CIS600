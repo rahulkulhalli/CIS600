{
 "cells": [
  {
   "cell_type": "code",
   "execution_count": 1,
   "id": "c84f588c",
   "metadata": {},
   "outputs": [],
   "source": [
    "from enum import Enum\n",
    "from tqdm import tqdm\n",
    "import pandas as pd\n",
    "import requests\n",
    "import json\n",
    "\n",
    "\n",
    "# An Enum to stay consistent.\n",
    "class City(Enum):\n",
    "    SYR = 0\n",
    "    EWR = 1\n",
    "    IAD = 2\n",
    "    DEN = 3\n",
    "    ORD = 4"
   ]
  },
  {
   "cell_type": "code",
   "execution_count": 2,
   "id": "2fc07a3d",
   "metadata": {},
   "outputs": [],
   "source": [
    "# Build the coordinates for the respective cities.\n",
    "\n",
    "coordinates = {\n",
    "    City.SYR: {\n",
    "        'latitude': 43.05,\n",
    "        'longitude': -76.15\n",
    "    },\n",
    "    City.EWR: {\n",
    "        'latitude': 40.70,\n",
    "        'longitude': -74.20\n",
    "    },\n",
    "    City.IAD: {\n",
    "        'latitude': 39.00,\n",
    "        'longitude': -77.40\n",
    "    },\n",
    "    City.DEN: {\n",
    "        'latitude': 39.70,\n",
    "        'longitude': -105.00\n",
    "    },\n",
    "    City.ORD: {\n",
    "        'latitude': 42.00,\n",
    "        'longitude': -87.90\n",
    "    }\n",
    "}"
   ]
  },
  {
   "cell_type": "code",
   "execution_count": 3,
   "id": "bf31b386",
   "metadata": {},
   "outputs": [],
   "source": [
    "# Build start and end date dictionary for the cities.\n",
    "\n",
    "## All flight data was captured from 01/01/2015 to now.\n",
    "\n",
    "dates = {\n",
    "    City.DEN: {\n",
    "        'start': pd.to_datetime(\"2022-02-11\"),\n",
    "        'end': pd.to_datetime(\"2023-01-31\")\n",
    "    },\n",
    "    City.EWR: {\n",
    "        'start': pd.to_datetime(\"2019-11-30\"),\n",
    "        'end': pd.to_datetime(\"2023-01-31\")\n",
    "    },\n",
    "    City.IAD: {\n",
    "        'start': pd.to_datetime(\"2018-07-02\"),\n",
    "        'end': pd.to_datetime(\"2023-01-02\")\n",
    "    },\n",
    "    City.ORD: {\n",
    "        'start': pd.to_datetime(\"2017-06-08\"),\n",
    "        'end': pd.to_datetime(\"2023-01-31\")\n",
    "    },\n",
    "    City.SYR: {\n",
    "        'start': pd.to_datetime('2017-06-08'),\n",
    "        'end': pd.to_datetime('2023-01-31')\n",
    "    }\n",
    "}"
   ]
  },
  {
   "cell_type": "code",
   "execution_count": 4,
   "id": "1de870c4",
   "metadata": {},
   "outputs": [
    {
     "data": {
      "text/plain": [
       "'2017-06-08'"
      ]
     },
     "execution_count": 4,
     "metadata": {},
     "output_type": "execute_result"
    }
   ],
   "source": [
    "str(dates[City.ORD]['start'].date())"
   ]
  },
  {
   "cell_type": "code",
   "execution_count": 5,
   "id": "a6ecb173",
   "metadata": {},
   "outputs": [],
   "source": [
    "# Required weather parameters.\n",
    "\n",
    "parameters = [\n",
    "    'temperature_2m',\n",
    "    'relativehumidity_2m',\n",
    "    'dewpoint_2m',\n",
    "    'apparent_temperature',\n",
    "    'pressure_msl',\n",
    "    'surface_pressure',\n",
    "    'precipitation',\n",
    "    'rain',\n",
    "    'snowfall',\n",
    "    'cloudcover',\n",
    "    'cloudcover_low',\n",
    "    'cloudcover_mid',\n",
    "    'cloudcover_high',\n",
    "    'windspeed_10m',\n",
    "    'winddirection_10m',\n",
    "    'windgusts_10m',\n",
    "    'et0_fao_evapotranspiration',\n",
    "    'vapor_pressure_deficit'\n",
    "]"
   ]
  },
  {
   "cell_type": "code",
   "execution_count": 6,
   "id": "0f394a8e",
   "metadata": {},
   "outputs": [],
   "source": [
    "# A method that aggregates all the info above and generates the API URL.\n",
    "\n",
    "def build_url(city: City):\n",
    "    URL = \"https://archive-api.open-meteo.com/v1/archive?latitude={latitude}&longitude={longitude}&start_date={start}&end_date={end}&hourly={params}&timezone=America%2FNew_York\"\n",
    "    return URL.format(\n",
    "        latitude=coordinates[city]['latitude'],\n",
    "        longitude=coordinates[city]['longitude'],\n",
    "        start=str(dates[city]['start'].date()),\n",
    "        end=str(dates[city]['end'].date()),\n",
    "        params=\",\".join(parameters)\n",
    "    )"
   ]
  },
  {
   "cell_type": "code",
   "execution_count": 6,
   "id": "c3a9091f",
   "metadata": {},
   "outputs": [],
   "source": [
    "# A method to parse the incoming API JSON response into a dataframe. \n",
    "\n",
    "def parse_response(response):\n",
    "\n",
    "    if response.status_code != 200:\n",
    "        raise Exception(f\"Status code {response.status_code} received!\")\n",
    "\n",
    "    response_json = json.loads(response.content.decode('utf-8'))\n",
    "    \n",
    "    data = response_json['hourly']\n",
    "    \n",
    "    headers = list(data.keys())\n",
    "    response_df = pd.DataFrame(columns=headers)\n",
    "    \n",
    "    for row_ix in tqdm(range(len(data['time']))):\n",
    "        row_dict = {\n",
    "            p: data[p][row_ix] for p in headers\n",
    "        }\n",
    "        \n",
    "        response_df = response_df.append(\n",
    "            row_dict, ignore_index=True\n",
    "        )\n",
    "    \n",
    "    return response_df"
   ]
  },
  {
   "cell_type": "code",
   "execution_count": 7,
   "id": "69ae8813",
   "metadata": {},
   "outputs": [],
   "source": [
    "# Loop over the required cities, create their respective DFs, and save them.\n",
    "\n",
    "def save_historical_data():\n",
    "\n",
    "    for city in [City.DEN, City.EWR, City.IAD, City.ORD, City.SYR]:\n",
    "\n",
    "        print(\"Fetching weather details for \", city.name, \"...\")\n",
    "\n",
    "        url = build_url(city)\n",
    "        city_response = requests.get(url)\n",
    "\n",
    "        city_df = parse_response(city_response)\n",
    "\n",
    "        city_df.to_csv(f'../data/{city.name}_weather.csv', index=None)\n",
    "        print(f\"Weather info for {city.name} saved!\")"
   ]
  },
  {
   "cell_type": "code",
   "execution_count": 8,
   "id": "2b624ec8",
   "metadata": {
    "scrolled": false
   },
   "outputs": [],
   "source": [
    "# Uncomment this to parse the data and save the CSVs.\n",
    "\n",
    "# save_historical_data()"
   ]
  },
  {
   "cell_type": "markdown",
   "id": "0cd0e02c",
   "metadata": {},
   "source": [
    " ## Predictive data API\n"
   ]
  },
  {
   "cell_type": "code",
   "execution_count": 9,
   "id": "20e89856",
   "metadata": {},
   "outputs": [],
   "source": [
    "def build_forecast_url(city: City, prediction_window_days=3):\n",
    "    if prediction_window_days not in [1, 3, 7, 14, 16]:\n",
    "        raise NotImplementedError(f\"{prediction_window_days} days forecast is not supported by Open-Meteo.\")\n",
    "    \n",
    "    url_template = \"https://api.open-meteo.com/v1/forecast?latitude={lat}&longitude={lng}&hourly={params}&forecast_days={window}\"\n",
    "    return url_template.format(\n",
    "        lat=coordinates[city]['latitude'],\n",
    "        lng=coordinates[city]['longitude'],\n",
    "        window=prediction_window_days,\n",
    "        params=\",\".join(parameters)\n",
    "    )"
   ]
  },
  {
   "cell_type": "code",
   "execution_count": 15,
   "id": "491923e9",
   "metadata": {},
   "outputs": [],
   "source": [
    "def save_future_data():\n",
    "\n",
    "    for city in [City.DEN, City.EWR, City.IAD, City.ORD, City.SYR]:\n",
    "\n",
    "        print(\"Fetching weather details for \", city.name, \"...\")\n",
    "\n",
    "        url = build_forecast_url(city, 7)\n",
    "        city_response = requests.get(url)\n",
    "\n",
    "        city_df = parse_response(city_response)\n",
    "        city_df.to_csv(f\"../data/{city.name}_weather_forecast.csv\")\n",
    "        \n",
    "        print(\"Saved forecast for \", city.name, \" to disk!\")"
   ]
  },
  {
   "cell_type": "code",
   "execution_count": 16,
   "id": "c3d45ee0",
   "metadata": {},
   "outputs": [
    {
     "name": "stdout",
     "output_type": "stream",
     "text": [
      "Fetching weather details for  DEN ...\n"
     ]
    },
    {
     "name": "stderr",
     "output_type": "stream",
     "text": [
      "100%|██████████| 168/168 [00:01<00:00, 127.23it/s]\n"
     ]
    },
    {
     "name": "stdout",
     "output_type": "stream",
     "text": [
      "Saved forecast for  DEN  to disk!\n",
      "Fetching weather details for  EWR ...\n"
     ]
    },
    {
     "name": "stderr",
     "output_type": "stream",
     "text": [
      "100%|██████████| 168/168 [00:01<00:00, 131.11it/s]\n"
     ]
    },
    {
     "name": "stdout",
     "output_type": "stream",
     "text": [
      "Saved forecast for  EWR  to disk!\n",
      "Fetching weather details for  IAD ...\n"
     ]
    },
    {
     "name": "stderr",
     "output_type": "stream",
     "text": [
      "100%|██████████| 168/168 [00:01<00:00, 128.88it/s]\n"
     ]
    },
    {
     "name": "stdout",
     "output_type": "stream",
     "text": [
      "Saved forecast for  IAD  to disk!\n",
      "Fetching weather details for  ORD ...\n"
     ]
    },
    {
     "name": "stderr",
     "output_type": "stream",
     "text": [
      "100%|██████████| 168/168 [00:01<00:00, 133.58it/s]\n"
     ]
    },
    {
     "name": "stdout",
     "output_type": "stream",
     "text": [
      "Saved forecast for  ORD  to disk!\n",
      "Fetching weather details for  SYR ...\n"
     ]
    },
    {
     "name": "stderr",
     "output_type": "stream",
     "text": [
      "100%|██████████| 168/168 [00:01<00:00, 123.59it/s]"
     ]
    },
    {
     "name": "stdout",
     "output_type": "stream",
     "text": [
      "Saved forecast for  SYR  to disk!\n"
     ]
    },
    {
     "name": "stderr",
     "output_type": "stream",
     "text": [
      "\n"
     ]
    }
   ],
   "source": [
    "save_future_data()"
   ]
  },
  {
   "cell_type": "code",
   "execution_count": null,
   "id": "1d4e4ced",
   "metadata": {},
   "outputs": [],
   "source": []
  }
 ],
 "metadata": {
  "kernelspec": {
   "display_name": "work",
   "language": "python",
   "name": "work"
  },
  "language_info": {
   "codemirror_mode": {
    "name": "ipython",
    "version": 3
   },
   "file_extension": ".py",
   "mimetype": "text/x-python",
   "name": "python",
   "nbconvert_exporter": "python",
   "pygments_lexer": "ipython3",
   "version": "3.8.0"
  }
 },
 "nbformat": 4,
 "nbformat_minor": 5
}
