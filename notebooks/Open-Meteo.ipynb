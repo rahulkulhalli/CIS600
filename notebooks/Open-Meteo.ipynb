{
 "cells": [
  {
   "cell_type": "code",
   "execution_count": 1,
   "id": "930690c1",
   "metadata": {},
   "outputs": [],
   "source": [
    "from enum import Enum\n",
    "from tqdm import tqdm\n",
    "import pandas as pd\n",
    "import requests\n",
    "import json\n",
    "\n",
    "\n",
    "# An Enum to stay consistent.\n",
    "class City(Enum):\n",
    "    SYR = 0\n",
    "    EWR = 1\n",
    "    IAD = 2\n",
    "    DEN = 3\n",
    "    ORD = 4"
   ]
  },
  {
   "cell_type": "code",
   "execution_count": 2,
   "id": "16c04ed3",
   "metadata": {},
   "outputs": [],
   "source": [
    "# Build the coordinates for the respective cities.\n",
    "\n",
    "coordinates = {\n",
    "    City.SYR: {\n",
    "        'latitude': 43.05,\n",
    "        'longitude': -76.15\n",
    "    },\n",
    "    City.EWR: {\n",
    "        'latitude': 40.70,\n",
    "        'longitude': -74.20\n",
    "    },\n",
    "    City.IAD: {\n",
    "        'latitude': 39.00,\n",
    "        'longitude': -77.40\n",
    "    },\n",
    "    City.DEN: {\n",
    "        'latitude': 39.70,\n",
    "        'longitude': -105.00\n",
    "    },\n",
    "    City.ORD: {\n",
    "        'latitude': 42.00,\n",
    "        'longitude': -87.90\n",
    "    }\n",
    "}"
   ]
  },
  {
   "cell_type": "code",
   "execution_count": 3,
   "id": "cb971000",
   "metadata": {},
   "outputs": [],
   "source": [
    "# Build start and end date dictionary for the cities.\n",
    "\n",
    "## All flight data was captured from 01/01/2015 to now.\n",
    "\n",
    "dates = {\n",
    "    City.DEN: {\n",
    "        'start': pd.to_datetime(\"2022-02-11\"),\n",
    "        'end': pd.to_datetime(\"2023-01-31\")\n",
    "    },\n",
    "    City.EWR: {\n",
    "        'start': pd.to_datetime(\"2019-11-30\"),\n",
    "        'end': pd.to_datetime(\"2023-01-31\")\n",
    "    },\n",
    "    City.IAD: {\n",
    "        'start': pd.to_datetime(\"2018-07-02\"),\n",
    "        'end': pd.to_datetime(\"2023-01-02\")\n",
    "    },\n",
    "    City.ORD: {\n",
    "        'start': pd.to_datetime(\"2017-06-08\"),\n",
    "        'end': pd.to_datetime(\"2023-01-31\")\n",
    "    },\n",
    "    City.SYR: {\n",
    "        'start': pd.to_datetime('2017-06-08'),\n",
    "        'end': pd.to_datetime('2023-01-31')\n",
    "    }\n",
    "}"
   ]
  },
  {
   "cell_type": "code",
   "execution_count": 4,
   "id": "35802eb6",
   "metadata": {},
   "outputs": [
    {
     "data": {
      "text/plain": [
       "'2017-06-08'"
      ]
     },
     "execution_count": 4,
     "metadata": {},
     "output_type": "execute_result"
    }
   ],
   "source": [
    "str(dates[City.ORD]['start'].date())"
   ]
  },
  {
   "cell_type": "code",
   "execution_count": 5,
   "id": "cd40bc88",
   "metadata": {},
   "outputs": [],
   "source": [
    "# Required weather parameters.\n",
    "\n",
    "parameters = [\n",
    "    \"temperature_2m\",\n",
    "    \"relativehumidity_2m\",\n",
    "    \"dewpoint_2m\",\n",
    "    \"apparent_temperature\",\n",
    "    \"pressure_msl\",\n",
    "    \"surface_pressure\",\n",
    "    \"precipitation\",\n",
    "    \"rain\",\n",
    "    \"snowfall\",\n",
    "    \"cloudcover\",\n",
    "    \"cloudcover_low\",\n",
    "    \"cloudcover_mid\",\n",
    "    \"cloudcover_high\",\n",
    "    \"shortwave_radiation\",\n",
    "    \"direct_radiation\",\n",
    "    \"diffuse_radiation\",\n",
    "    \"direct_normal_irradiance\",\n",
    "    \"windspeed_10m\",\n",
    "    \"windspeed_100m\",\n",
    "    \"winddirection_10m\",\n",
    "    \"winddirection_100m\",\n",
    "    \"windgusts_10m\",\n",
    "    \"et0_fao_evapotranspiration\",\n",
    "    \"vapor_pressure_deficit\"\n",
    "]"
   ]
  },
  {
   "cell_type": "code",
   "execution_count": 6,
   "id": "62e2bdf9",
   "metadata": {},
   "outputs": [],
   "source": [
    "# A method that aggregates all the info above and generates the API URL.\n",
    "\n",
    "def build_url(city: City):\n",
    "    URL = \"https://archive-api.open-meteo.com/v1/archive?latitude={latitude}&longitude={longitude}&start_date={start}&end_date={end}&hourly={params}&timezone=America%2FNew_York\"\n",
    "    return URL.format(\n",
    "        latitude=coordinates[city]['latitude'],\n",
    "        longitude=coordinates[city]['longitude'],\n",
    "        start=str(dates[city]['start'].date()),\n",
    "        end=str(dates[city]['end'].date()),\n",
    "        params=\",\".join(parameters)\n",
    "    )"
   ]
  },
  {
   "cell_type": "code",
   "execution_count": 7,
   "id": "428f2f07",
   "metadata": {},
   "outputs": [],
   "source": [
    "# A method to parse the incoming API JSON response into a dataframe. \n",
    "\n",
    "def parse_response(response):\n",
    "\n",
    "    if response.status_code != 200:\n",
    "        raise Exception(f\"Status code {response.status_code} received!\")\n",
    "\n",
    "    response_json = json.loads(response.content.decode('utf-8'))\n",
    "    \n",
    "    data = response_json['hourly']\n",
    "    \n",
    "    headers = list(data.keys())\n",
    "    response_df = pd.DataFrame(columns=headers)\n",
    "    \n",
    "    for row_ix in tqdm(range(len(data['time']))):\n",
    "        row_dict = {\n",
    "            p: data[p][row_ix] for p in headers\n",
    "        }\n",
    "        \n",
    "        response_df = response_df.append(\n",
    "            row_dict, ignore_index=True\n",
    "        )\n",
    "    \n",
    "    return response_df"
   ]
  },
  {
   "cell_type": "code",
   "execution_count": 8,
   "id": "306b0846",
   "metadata": {},
   "outputs": [
    {
     "name": "stdout",
     "output_type": "stream",
     "text": [
      "Fetching weather details for  DEN ...\n"
     ]
    },
    {
     "name": "stderr",
     "output_type": "stream",
     "text": [
      "100%|██████████| 8520/8520 [01:50<00:00, 77.18it/s] \n"
     ]
    },
    {
     "name": "stdout",
     "output_type": "stream",
     "text": [
      "Weather info for DEN saved!\n",
      "Fetching weather details for  EWR ...\n"
     ]
    },
    {
     "name": "stderr",
     "output_type": "stream",
     "text": [
      "100%|██████████| 27816/27816 [08:33<00:00, 54.17it/s]\n"
     ]
    },
    {
     "name": "stdout",
     "output_type": "stream",
     "text": [
      "Weather info for EWR saved!\n",
      "Fetching weather details for  IAD ...\n"
     ]
    },
    {
     "name": "stderr",
     "output_type": "stream",
     "text": [
      "100%|██████████| 39504/39504 [13:42<00:00, 48.05it/s]\n"
     ]
    },
    {
     "name": "stdout",
     "output_type": "stream",
     "text": [
      "Weather info for IAD saved!\n",
      "Fetching weather details for  ORD ...\n"
     ]
    },
    {
     "name": "stderr",
     "output_type": "stream",
     "text": [
      "100%|██████████| 49536/49536 [15:01:59<00:00,  1.09s/it]       \n"
     ]
    },
    {
     "name": "stdout",
     "output_type": "stream",
     "text": [
      "Weather info for ORD saved!\n",
      "Fetching weather details for  SYR ...\n"
     ]
    },
    {
     "name": "stderr",
     "output_type": "stream",
     "text": [
      "100%|██████████| 49536/49536 [20:26<00:00, 40.38it/s]  \n"
     ]
    },
    {
     "name": "stdout",
     "output_type": "stream",
     "text": [
      "Weather info for SYR saved!\n"
     ]
    }
   ],
   "source": [
    "# Loop over the required cities, create their respective DFs, and save them.\n",
    "\n",
    "def save_historical_data():\n",
    "\n",
    "    for city in [City.DEN, City.EWR, City.IAD, City.ORD, City.SYR]:\n",
    "\n",
    "        print(\"Fetching weather details for \", city.name, \"...\")\n",
    "\n",
    "        url = build_url(city)\n",
    "        city_response = requests.get(url)\n",
    "\n",
    "        city_df = parse_response(city_response)\n",
    "\n",
    "        city_df.to_csv(f'../data/{city.name}_weather.csv', index=None)\n",
    "        print(f\"Weather info for {city.name} saved!\")"
   ]
  },
  {
   "cell_type": "code",
   "execution_count": null,
   "id": "63788aa7",
   "metadata": {},
   "outputs": [],
   "source": [
    "# Uncomment this to parse the data and save the CSVs.\n",
    "\n",
    "# save_historical_data()"
   ]
  }
 ],
 "metadata": {
  "kernelspec": {
   "display_name": "work",
   "language": "python",
   "name": "work"
  },
  "language_info": {
   "codemirror_mode": {
    "name": "ipython",
    "version": 3
   },
   "file_extension": ".py",
   "mimetype": "text/x-python",
   "name": "python",
   "nbconvert_exporter": "python",
   "pygments_lexer": "ipython3",
   "version": "3.8.0"
  }
 },
 "nbformat": 4,
 "nbformat_minor": 5
}
