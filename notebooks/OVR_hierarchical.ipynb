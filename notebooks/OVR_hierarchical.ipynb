{
 "cells": [
  {
   "cell_type": "code",
   "execution_count": 9,
   "id": "c6b60b3e",
   "metadata": {},
   "outputs": [],
   "source": [
    "import pandas as pd\n",
    "from sklearn.model_selection import train_test_split\n",
    "from sklearn.ensemble import RandomForestClassifier\n",
    "from sklearn.preprocessing import StandardScaler\n",
    "import numpy as np"
   ]
  },
  {
   "cell_type": "code",
   "execution_count": 2,
   "id": "11b081ed",
   "metadata": {},
   "outputs": [
    {
     "data": {
      "text/html": [
       "<div>\n",
       "<style scoped>\n",
       "    .dataframe tbody tr th:only-of-type {\n",
       "        vertical-align: middle;\n",
       "    }\n",
       "\n",
       "    .dataframe tbody tr th {\n",
       "        vertical-align: top;\n",
       "    }\n",
       "\n",
       "    .dataframe thead th {\n",
       "        text-align: right;\n",
       "    }\n",
       "</style>\n",
       "<table border=\"1\" class=\"dataframe\">\n",
       "  <thead>\n",
       "    <tr style=\"text-align: right;\">\n",
       "      <th></th>\n",
       "      <th>temperature_2m</th>\n",
       "      <th>relativehumidity_2m</th>\n",
       "      <th>dewpoint_2m</th>\n",
       "      <th>apparent_temperature</th>\n",
       "      <th>pressure_msl</th>\n",
       "      <th>surface_pressure</th>\n",
       "      <th>precipitation</th>\n",
       "      <th>rain</th>\n",
       "      <th>snowfall</th>\n",
       "      <th>cloudcover</th>\n",
       "      <th>...</th>\n",
       "      <th>x0_UA 760</th>\n",
       "      <th>x0_UA 776</th>\n",
       "      <th>x0_UA 790</th>\n",
       "      <th>x0_UA 794</th>\n",
       "      <th>x0_UA 849</th>\n",
       "      <th>x0_UA 964</th>\n",
       "      <th>x0_DEN</th>\n",
       "      <th>x0_EWR</th>\n",
       "      <th>x0_IAD</th>\n",
       "      <th>x0_ORD</th>\n",
       "    </tr>\n",
       "  </thead>\n",
       "  <tbody>\n",
       "    <tr>\n",
       "      <th>0</th>\n",
       "      <td>-1.2</td>\n",
       "      <td>75</td>\n",
       "      <td>-5.1</td>\n",
       "      <td>-6.5</td>\n",
       "      <td>1025.6</td>\n",
       "      <td>841.8</td>\n",
       "      <td>0.2</td>\n",
       "      <td>0.0</td>\n",
       "      <td>0.14</td>\n",
       "      <td>100</td>\n",
       "      <td>...</td>\n",
       "      <td>0.0</td>\n",
       "      <td>0.0</td>\n",
       "      <td>0.0</td>\n",
       "      <td>0.0</td>\n",
       "      <td>0.0</td>\n",
       "      <td>0.0</td>\n",
       "      <td>1.0</td>\n",
       "      <td>0.0</td>\n",
       "      <td>0.0</td>\n",
       "      <td>0.0</td>\n",
       "    </tr>\n",
       "    <tr>\n",
       "      <th>1</th>\n",
       "      <td>1.1</td>\n",
       "      <td>43</td>\n",
       "      <td>-10.2</td>\n",
       "      <td>-2.2</td>\n",
       "      <td>1027.6</td>\n",
       "      <td>844.8</td>\n",
       "      <td>0.0</td>\n",
       "      <td>0.0</td>\n",
       "      <td>0.00</td>\n",
       "      <td>1</td>\n",
       "      <td>...</td>\n",
       "      <td>0.0</td>\n",
       "      <td>0.0</td>\n",
       "      <td>0.0</td>\n",
       "      <td>0.0</td>\n",
       "      <td>0.0</td>\n",
       "      <td>0.0</td>\n",
       "      <td>1.0</td>\n",
       "      <td>0.0</td>\n",
       "      <td>0.0</td>\n",
       "      <td>0.0</td>\n",
       "    </tr>\n",
       "    <tr>\n",
       "      <th>2</th>\n",
       "      <td>5.1</td>\n",
       "      <td>52</td>\n",
       "      <td>-4.0</td>\n",
       "      <td>1.8</td>\n",
       "      <td>1021.2</td>\n",
       "      <td>841.9</td>\n",
       "      <td>0.0</td>\n",
       "      <td>0.0</td>\n",
       "      <td>0.00</td>\n",
       "      <td>0</td>\n",
       "      <td>...</td>\n",
       "      <td>0.0</td>\n",
       "      <td>0.0</td>\n",
       "      <td>0.0</td>\n",
       "      <td>0.0</td>\n",
       "      <td>0.0</td>\n",
       "      <td>0.0</td>\n",
       "      <td>1.0</td>\n",
       "      <td>0.0</td>\n",
       "      <td>0.0</td>\n",
       "      <td>0.0</td>\n",
       "    </tr>\n",
       "  </tbody>\n",
       "</table>\n",
       "<p>3 rows × 132 columns</p>\n",
       "</div>"
      ],
      "text/plain": [
       "   temperature_2m  relativehumidity_2m  dewpoint_2m  apparent_temperature  \\\n",
       "0            -1.2                   75         -5.1                  -6.5   \n",
       "1             1.1                   43        -10.2                  -2.2   \n",
       "2             5.1                   52         -4.0                   1.8   \n",
       "\n",
       "   pressure_msl  surface_pressure  precipitation  rain  snowfall  cloudcover  \\\n",
       "0        1025.6             841.8            0.2   0.0      0.14         100   \n",
       "1        1027.6             844.8            0.0   0.0      0.00           1   \n",
       "2        1021.2             841.9            0.0   0.0      0.00           0   \n",
       "\n",
       "   ...  x0_UA 760  x0_UA 776  x0_UA 790  x0_UA 794  x0_UA 849  x0_UA 964  \\\n",
       "0  ...        0.0        0.0        0.0        0.0        0.0        0.0   \n",
       "1  ...        0.0        0.0        0.0        0.0        0.0        0.0   \n",
       "2  ...        0.0        0.0        0.0        0.0        0.0        0.0   \n",
       "\n",
       "   x0_DEN  x0_EWR  x0_IAD  x0_ORD  \n",
       "0     1.0     0.0     0.0     0.0  \n",
       "1     1.0     0.0     0.0     0.0  \n",
       "2     1.0     0.0     0.0     0.0  \n",
       "\n",
       "[3 rows x 132 columns]"
      ]
     },
     "execution_count": 2,
     "metadata": {},
     "output_type": "execute_result"
    }
   ],
   "source": [
    "final_df = pd.read_csv('../data/FINAL_DATA_v2.csv')\n",
    "final_df.head(3)"
   ]
  },
  {
   "cell_type": "code",
   "execution_count": 6,
   "id": "db38cf36",
   "metadata": {},
   "outputs": [],
   "source": [
    "df = final_df.loc[:, [x for x in final_df.columns.tolist() if not x.startswith('x0')]]"
   ]
  },
  {
   "cell_type": "code",
   "execution_count": 7,
   "id": "247264d4",
   "metadata": {},
   "outputs": [
    {
     "data": {
      "text/html": [
       "<div>\n",
       "<style scoped>\n",
       "    .dataframe tbody tr th:only-of-type {\n",
       "        vertical-align: middle;\n",
       "    }\n",
       "\n",
       "    .dataframe tbody tr th {\n",
       "        vertical-align: top;\n",
       "    }\n",
       "\n",
       "    .dataframe thead th {\n",
       "        text-align: right;\n",
       "    }\n",
       "</style>\n",
       "<table border=\"1\" class=\"dataframe\">\n",
       "  <thead>\n",
       "    <tr style=\"text-align: right;\">\n",
       "      <th></th>\n",
       "      <th>temperature_2m</th>\n",
       "      <th>relativehumidity_2m</th>\n",
       "      <th>dewpoint_2m</th>\n",
       "      <th>apparent_temperature</th>\n",
       "      <th>pressure_msl</th>\n",
       "      <th>surface_pressure</th>\n",
       "      <th>precipitation</th>\n",
       "      <th>rain</th>\n",
       "      <th>snowfall</th>\n",
       "      <th>cloudcover</th>\n",
       "      <th>...</th>\n",
       "      <th>syr_cloudcover</th>\n",
       "      <th>syr_cloudcover_low</th>\n",
       "      <th>syr_cloudcover_mid</th>\n",
       "      <th>syr_cloudcover_high</th>\n",
       "      <th>syr_windspeed_10m</th>\n",
       "      <th>syr_winddirection_10m</th>\n",
       "      <th>syr_windgusts_10m</th>\n",
       "      <th>syr_et0_fao_evapotranspiration</th>\n",
       "      <th>syr_vapor_pressure_deficit</th>\n",
       "      <th>arrival_status</th>\n",
       "    </tr>\n",
       "  </thead>\n",
       "  <tbody>\n",
       "    <tr>\n",
       "      <th>0</th>\n",
       "      <td>-1.2</td>\n",
       "      <td>75</td>\n",
       "      <td>-5.1</td>\n",
       "      <td>-6.5</td>\n",
       "      <td>1025.6</td>\n",
       "      <td>841.8</td>\n",
       "      <td>0.2</td>\n",
       "      <td>0.0</td>\n",
       "      <td>0.14</td>\n",
       "      <td>100</td>\n",
       "      <td>...</td>\n",
       "      <td>81</td>\n",
       "      <td>0</td>\n",
       "      <td>98</td>\n",
       "      <td>73</td>\n",
       "      <td>23.1</td>\n",
       "      <td>267</td>\n",
       "      <td>49.0</td>\n",
       "      <td>0.14</td>\n",
       "      <td>0.46</td>\n",
       "      <td>early</td>\n",
       "    </tr>\n",
       "    <tr>\n",
       "      <th>1</th>\n",
       "      <td>1.1</td>\n",
       "      <td>43</td>\n",
       "      <td>-10.2</td>\n",
       "      <td>-2.2</td>\n",
       "      <td>1027.6</td>\n",
       "      <td>844.8</td>\n",
       "      <td>0.0</td>\n",
       "      <td>0.0</td>\n",
       "      <td>0.00</td>\n",
       "      <td>1</td>\n",
       "      <td>...</td>\n",
       "      <td>97</td>\n",
       "      <td>96</td>\n",
       "      <td>17</td>\n",
       "      <td>0</td>\n",
       "      <td>19.9</td>\n",
       "      <td>167</td>\n",
       "      <td>44.6</td>\n",
       "      <td>0.09</td>\n",
       "      <td>0.20</td>\n",
       "      <td>delayed</td>\n",
       "    </tr>\n",
       "    <tr>\n",
       "      <th>2</th>\n",
       "      <td>5.1</td>\n",
       "      <td>52</td>\n",
       "      <td>-4.0</td>\n",
       "      <td>1.8</td>\n",
       "      <td>1021.2</td>\n",
       "      <td>841.9</td>\n",
       "      <td>0.0</td>\n",
       "      <td>0.0</td>\n",
       "      <td>0.00</td>\n",
       "      <td>0</td>\n",
       "      <td>...</td>\n",
       "      <td>100</td>\n",
       "      <td>93</td>\n",
       "      <td>67</td>\n",
       "      <td>0</td>\n",
       "      <td>8.9</td>\n",
       "      <td>137</td>\n",
       "      <td>24.1</td>\n",
       "      <td>0.10</td>\n",
       "      <td>0.14</td>\n",
       "      <td>on_time</td>\n",
       "    </tr>\n",
       "  </tbody>\n",
       "</table>\n",
       "<p>3 rows × 37 columns</p>\n",
       "</div>"
      ],
      "text/plain": [
       "   temperature_2m  relativehumidity_2m  dewpoint_2m  apparent_temperature  \\\n",
       "0            -1.2                   75         -5.1                  -6.5   \n",
       "1             1.1                   43        -10.2                  -2.2   \n",
       "2             5.1                   52         -4.0                   1.8   \n",
       "\n",
       "   pressure_msl  surface_pressure  precipitation  rain  snowfall  cloudcover  \\\n",
       "0        1025.6             841.8            0.2   0.0      0.14         100   \n",
       "1        1027.6             844.8            0.0   0.0      0.00           1   \n",
       "2        1021.2             841.9            0.0   0.0      0.00           0   \n",
       "\n",
       "   ...  syr_cloudcover  syr_cloudcover_low  syr_cloudcover_mid  \\\n",
       "0  ...              81                   0                  98   \n",
       "1  ...              97                  96                  17   \n",
       "2  ...             100                  93                  67   \n",
       "\n",
       "   syr_cloudcover_high  syr_windspeed_10m  syr_winddirection_10m  \\\n",
       "0                   73               23.1                    267   \n",
       "1                    0               19.9                    167   \n",
       "2                    0                8.9                    137   \n",
       "\n",
       "   syr_windgusts_10m  syr_et0_fao_evapotranspiration  \\\n",
       "0               49.0                            0.14   \n",
       "1               44.6                            0.09   \n",
       "2               24.1                            0.10   \n",
       "\n",
       "   syr_vapor_pressure_deficit  arrival_status  \n",
       "0                        0.46           early  \n",
       "1                        0.20         delayed  \n",
       "2                        0.14         on_time  \n",
       "\n",
       "[3 rows x 37 columns]"
      ]
     },
     "execution_count": 7,
     "metadata": {},
     "output_type": "execute_result"
    }
   ],
   "source": [
    "df.head(3)"
   ]
  },
  {
   "cell_type": "code",
   "execution_count": 14,
   "id": "a9fc0ade",
   "metadata": {},
   "outputs": [
    {
     "data": {
      "text/plain": [
       "<AxesSubplot:>"
      ]
     },
     "execution_count": 14,
     "metadata": {},
     "output_type": "execute_result"
    },
    {
     "data": {
      "image/png": "[encoded data removed]",
      "text/plain": [
       "<Figure size 432x288 with 1 Axes>"
      ]
     },
     "metadata": {
      "needs_background": "light"
     },
     "output_type": "display_data"
    }
   ],
   "source": [
    "df_lvl1 = df.copy()\n",
    "df_lvl1['arrival_status'] = df_lvl1['arrival_status'].apply(lambda x: x if x == 'on_time' else 'not_on_time')\n",
    "df_lvl1.arrival_status.hist()"
   ]
  },
  {
   "cell_type": "code",
   "execution_count": 25,
   "id": "677769e4",
   "metadata": {},
   "outputs": [
    {
     "data": {
      "text/plain": [
       "0.6042065009560229"
      ]
     },
     "execution_count": 25,
     "metadata": {},
     "output_type": "execute_result"
    }
   ],
   "source": [
    "lvl1_scaler = StandardScaler()\n",
    "X_lvl1 = df_lvl1.loc[:, ~df_lvl1.columns.isin(['arrival_status'])]\n",
    "Y_lvl1 = df_lvl1.loc[:, 'arrival_status']\n",
    "\n",
    "X_tr_l1, X_te_l1, Y_tr_l1, Y_te_l1 = train_test_split(\n",
    "    X_lvl1, Y_lvl1, test_size=0.25, shuffle=True, stratify=Y_lvl1\n",
    ")\n",
    "\n",
    "X_tr_l1_scaled = lvl1_scaler.fit_transform(X_tr_l1)\n",
    "X_te_l1_scaled = lvl1_scaler.transform(X_te_l1)\n",
    "\n",
    "lvl1_model = RandomForestClassifier(\n",
    "    n_estimators=150,\n",
    "    max_depth=120,\n",
    "    min_samples_leaf=2,\n",
    "    min_samples_split=3,\n",
    "    max_features=None,\n",
    "    random_state=69420\n",
    ").fit(X_tr_l1_scaled, Y_tr_l1)\n",
    "\n",
    "lvl1_model.score(X_te_l1_scaled, Y_te_l1)"
   ]
  },
  {
   "cell_type": "code",
   "execution_count": 27,
   "id": "00328c2f",
   "metadata": {},
   "outputs": [
    {
     "data": {
      "text/plain": [
       "<AxesSubplot:>"
      ]
     },
     "execution_count": 27,
     "metadata": {},
     "output_type": "execute_result"
    },
    {
     "data": {
      "image/png": "[encoded data removed]",
      "text/plain": [
       "<Figure size 432x288 with 1 Axes>"
      ]
     },
     "metadata": {
      "needs_background": "light"
     },
     "output_type": "display_data"
    }
   ],
   "source": [
    "df_lvl2 = df.copy()\n",
    "df_lvl2 = df_lvl2.loc[df_lvl2.arrival_status != \"on_time\", :]\n",
    "\n",
    "df_lvl2['arrival_status'] = df_lvl2['arrival_status'].apply(lambda x: x if x == 'early' else 'not_early')\n",
    "df_lvl2['arrival_status'].hist()"
   ]
  },
  {
   "cell_type": "code",
   "execution_count": 28,
   "id": "648c6889",
   "metadata": {},
   "outputs": [
    {
     "data": {
      "text/plain": [
       "0.6501650165016502"
      ]
     },
     "execution_count": 28,
     "metadata": {},
     "output_type": "execute_result"
    }
   ],
   "source": [
    "lvl2_scaler = StandardScaler()\n",
    "X_lvl2 = df_lvl2.loc[:, ~df_lvl2.columns.isin(['arrival_status'])]\n",
    "Y_lvl2 = df_lvl2.loc[:, 'arrival_status']\n",
    "\n",
    "X_tr_l2, X_te_l2, Y_tr_l2, Y_te_l2 = train_test_split(\n",
    "    X_lvl2, Y_lvl2, test_size=0.25, shuffle=True, stratify=Y_lvl2\n",
    ")\n",
    "\n",
    "X_tr_l2_scaled = lvl2_scaler.fit_transform(X_tr_l2)\n",
    "X_te_l2_scaled = lvl2_scaler.transform(X_te_l2)\n",
    "\n",
    "lvl2_model = RandomForestClassifier(\n",
    "    n_estimators=150,\n",
    "    max_depth=120,\n",
    "    min_samples_leaf=2,\n",
    "    min_samples_split=3,\n",
    "    max_features=None,\n",
    "    random_state=69420\n",
    ").fit(X_tr_l2_scaled, Y_tr_l2)\n",
    "\n",
    "lvl2_model.score(X_te_l2_scaled, Y_te_l2)"
   ]
  },
  {
   "cell_type": "code",
   "execution_count": 29,
   "id": "e69b8959",
   "metadata": {},
   "outputs": [
    {
     "data": {
      "text/plain": [
       "<AxesSubplot:>"
      ]
     },
     "execution_count": 29,
     "metadata": {},
     "output_type": "execute_result"
    },
    {
     "data": {
      "image/png": "[encoded data removed]",
      "text/plain": [
       "<Figure size 432x288 with 1 Axes>"
      ]
     },
     "metadata": {
      "needs_background": "light"
     },
     "output_type": "display_data"
    }
   ],
   "source": [
    "df_lvl3 = df.copy()\n",
    "df_lvl3 = df_lvl3.loc[df_lvl3.arrival_status.isin(['delayed', 'severely_delayed']), :]\n",
    "\n",
    "df_lvl3['arrival_status'] = df_lvl3['arrival_status'].apply(\n",
    "    lambda x: x if x == 'severely_delayed' else 'not_severely_delayed'\n",
    ")\n",
    "\n",
    "df_lvl3['arrival_status'].hist()"
   ]
  },
  {
   "cell_type": "code",
   "execution_count": null,
   "id": "30b42612",
   "metadata": {},
   "outputs": [],
   "source": []
  }
 ],
 "metadata": {
  "kernelspec": {
   "display_name": "work",
   "language": "python",
   "name": "work"
  },
  "language_info": {
   "codemirror_mode": {
    "name": "ipython",
    "version": 3
   },
   "file_extension": ".py",
   "mimetype": "text/x-python",
   "name": "python",
   "nbconvert_exporter": "python",
   "pygments_lexer": "ipython3",
   "version": "3.8.0"
  }
 },
 "nbformat": 4,
 "nbformat_minor": 5
}
