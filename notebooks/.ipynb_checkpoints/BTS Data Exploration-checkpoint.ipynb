{
 "cells": [
  {
   "cell_type": "code",
   "execution_count": 7,
   "id": "3f4e6c36",
   "metadata": {},
   "outputs": [],
   "source": [
    "import pandas as pd\n",
    "import matplotlib.pyplot as plt\n",
    "\n",
    "%matplotlib inline"
   ]
  },
  {
   "cell_type": "code",
   "execution_count": 9,
   "id": "50e299aa",
   "metadata": {},
   "outputs": [
    {
     "data": {
      "text/html": [
       "<div>\n",
       "<style scoped>\n",
       "    .dataframe tbody tr th:only-of-type {\n",
       "        vertical-align: middle;\n",
       "    }\n",
       "\n",
       "    .dataframe tbody tr th {\n",
       "        vertical-align: top;\n",
       "    }\n",
       "\n",
       "    .dataframe thead th {\n",
       "        text-align: right;\n",
       "    }\n",
       "</style>\n",
       "<table border=\"1\" class=\"dataframe\">\n",
       "  <thead>\n",
       "    <tr style=\"text-align: right;\">\n",
       "      <th></th>\n",
       "      <th>Carrier Code</th>\n",
       "      <th>Date (MM/DD/YYYY)</th>\n",
       "      <th>Flight Number</th>\n",
       "      <th>Tail Number</th>\n",
       "      <th>Origin Airport</th>\n",
       "      <th>Scheduled Arrival Time</th>\n",
       "      <th>Actual Arrival Time</th>\n",
       "      <th>Scheduled Elapsed Time (Minutes)</th>\n",
       "      <th>Actual Elapsed Time (Minutes)</th>\n",
       "      <th>Arrival Delay (Minutes)</th>\n",
       "      <th>Delay Carrier (Minutes)</th>\n",
       "      <th>Delay Weather (Minutes)</th>\n",
       "      <th>Delay National Aviation System (Minutes)</th>\n",
       "      <th>Delay Security (Minutes)</th>\n",
       "      <th>Delay Late Aircraft Arrival (Minutes)</th>\n",
       "    </tr>\n",
       "  </thead>\n",
       "  <tbody>\n",
       "    <tr>\n",
       "      <th>0</th>\n",
       "      <td>UA</td>\n",
       "      <td>01/01/2022</td>\n",
       "      <td>1282.0</td>\n",
       "      <td>N4901U</td>\n",
       "      <td>IAD</td>\n",
       "      <td>23:10</td>\n",
       "      <td>00:01</td>\n",
       "      <td>70.0</td>\n",
       "      <td>76.0</td>\n",
       "      <td>51.0</td>\n",
       "      <td>23.0</td>\n",
       "      <td>0.0</td>\n",
       "      <td>6.0</td>\n",
       "      <td>0.0</td>\n",
       "      <td>22.0</td>\n",
       "    </tr>\n",
       "    <tr>\n",
       "      <th>1</th>\n",
       "      <td>UA</td>\n",
       "      <td>01/01/2023</td>\n",
       "      <td>604.0</td>\n",
       "      <td>N814UA</td>\n",
       "      <td>DEN</td>\n",
       "      <td>14:58</td>\n",
       "      <td>14:52</td>\n",
       "      <td>193.0</td>\n",
       "      <td>177.0</td>\n",
       "      <td>-6.0</td>\n",
       "      <td>0.0</td>\n",
       "      <td>0.0</td>\n",
       "      <td>0.0</td>\n",
       "      <td>0.0</td>\n",
       "      <td>0.0</td>\n",
       "    </tr>\n",
       "    <tr>\n",
       "      <th>2</th>\n",
       "      <td>UA</td>\n",
       "      <td>01/01/2023</td>\n",
       "      <td>2488.0</td>\n",
       "      <td>N38458</td>\n",
       "      <td>EWR</td>\n",
       "      <td>23:14</td>\n",
       "      <td>23:15</td>\n",
       "      <td>75.0</td>\n",
       "      <td>62.0</td>\n",
       "      <td>1.0</td>\n",
       "      <td>0.0</td>\n",
       "      <td>0.0</td>\n",
       "      <td>0.0</td>\n",
       "      <td>0.0</td>\n",
       "      <td>0.0</td>\n",
       "    </tr>\n",
       "    <tr>\n",
       "      <th>3</th>\n",
       "      <td>UA</td>\n",
       "      <td>01/01/2023</td>\n",
       "      <td>2645.0</td>\n",
       "      <td>N23721</td>\n",
       "      <td>ORD</td>\n",
       "      <td>23:57</td>\n",
       "      <td>23:47</td>\n",
       "      <td>107.0</td>\n",
       "      <td>100.0</td>\n",
       "      <td>-10.0</td>\n",
       "      <td>0.0</td>\n",
       "      <td>0.0</td>\n",
       "      <td>0.0</td>\n",
       "      <td>0.0</td>\n",
       "      <td>0.0</td>\n",
       "    </tr>\n",
       "    <tr>\n",
       "      <th>4</th>\n",
       "      <td>UA</td>\n",
       "      <td>01/02/2022</td>\n",
       "      <td>1282.0</td>\n",
       "      <td>N4901U</td>\n",
       "      <td>IAD</td>\n",
       "      <td>23:10</td>\n",
       "      <td>23:27</td>\n",
       "      <td>70.0</td>\n",
       "      <td>64.0</td>\n",
       "      <td>17.0</td>\n",
       "      <td>17.0</td>\n",
       "      <td>0.0</td>\n",
       "      <td>0.0</td>\n",
       "      <td>0.0</td>\n",
       "      <td>0.0</td>\n",
       "    </tr>\n",
       "  </tbody>\n",
       "</table>\n",
       "</div>"
      ],
      "text/plain": [
       "  Carrier Code Date (MM/DD/YYYY)  Flight Number Tail Number Origin Airport  \\\n",
       "0           UA        01/01/2022         1282.0      N4901U            IAD   \n",
       "1           UA        01/01/2023          604.0      N814UA            DEN   \n",
       "2           UA        01/01/2023         2488.0      N38458            EWR   \n",
       "3           UA        01/01/2023         2645.0      N23721            ORD   \n",
       "4           UA        01/02/2022         1282.0      N4901U            IAD   \n",
       "\n",
       "  Scheduled Arrival Time Actual Arrival Time  \\\n",
       "0                  23:10               00:01   \n",
       "1                  14:58               14:52   \n",
       "2                  23:14               23:15   \n",
       "3                  23:57               23:47   \n",
       "4                  23:10               23:27   \n",
       "\n",
       "   Scheduled Elapsed Time (Minutes)  Actual Elapsed Time (Minutes)  \\\n",
       "0                              70.0                           76.0   \n",
       "1                             193.0                          177.0   \n",
       "2                              75.0                           62.0   \n",
       "3                             107.0                          100.0   \n",
       "4                              70.0                           64.0   \n",
       "\n",
       "   Arrival Delay (Minutes)  Delay Carrier (Minutes)  Delay Weather (Minutes)  \\\n",
       "0                     51.0                     23.0                      0.0   \n",
       "1                     -6.0                      0.0                      0.0   \n",
       "2                      1.0                      0.0                      0.0   \n",
       "3                    -10.0                      0.0                      0.0   \n",
       "4                     17.0                     17.0                      0.0   \n",
       "\n",
       "   Delay National Aviation System (Minutes)  Delay Security (Minutes)  \\\n",
       "0                                       6.0                       0.0   \n",
       "1                                       0.0                       0.0   \n",
       "2                                       0.0                       0.0   \n",
       "3                                       0.0                       0.0   \n",
       "4                                       0.0                       0.0   \n",
       "\n",
       "   Delay Late Aircraft Arrival (Minutes)  \n",
       "0                                   22.0  \n",
       "1                                    0.0  \n",
       "2                                    0.0  \n",
       "3                                    0.0  \n",
       "4                                    0.0  "
      ]
     },
     "execution_count": 9,
     "metadata": {},
     "output_type": "execute_result"
    }
   ],
   "source": [
    "data = pd.read_csv('../data/Detailed_Statistics_Arrivals.csv')\n",
    "data.dropna(axis='rows', inplace=True)\n",
    "data.head()"
   ]
  },
  {
   "cell_type": "code",
   "execution_count": 10,
   "id": "83de4372",
   "metadata": {},
   "outputs": [
    {
     "data": {
      "text/plain": [
       "array(['IAD', 'DEN', 'EWR', 'ORD'], dtype=object)"
      ]
     },
     "execution_count": 10,
     "metadata": {},
     "output_type": "execute_result"
    }
   ],
   "source": [
    "data['Origin Airport'].unique()"
   ]
  },
  {
   "cell_type": "code",
   "execution_count": 22,
   "id": "403bbe6f",
   "metadata": {},
   "outputs": [
    {
     "data": {
      "image/png": "[encoded data removed]",
      "text/plain": [
       "<Figure size 432x288 with 1 Axes>"
      ]
     },
     "metadata": {
      "needs_background": "light"
     },
     "output_type": "display_data"
    }
   ],
   "source": [
    "hist_df = data.groupby('Origin Airport').count()[['Flight Number']]\n",
    "\n",
    "# display(hist_df)\n",
    "\n",
    "fig, ax = plt.subplots()\n",
    "ax.bar(x=hist_df.index, height=hist_df['Flight Number'])\n",
    "plt.show()"
   ]
  },
  {
   "cell_type": "code",
   "execution_count": null,
   "id": "a3ae78c4",
   "metadata": {},
   "outputs": [],
   "source": []
  }
 ],
 "metadata": {
  "kernelspec": {
   "display_name": "work",
   "language": "python",
   "name": "work"
  },
  "language_info": {
   "codemirror_mode": {
    "name": "ipython",
    "version": 3
   },
   "file_extension": ".py",
   "mimetype": "text/x-python",
   "name": "python",
   "nbconvert_exporter": "python",
   "pygments_lexer": "ipython3",
   "version": "3.8.0"
  }
 },
 "nbformat": 4,
 "nbformat_minor": 5
}
