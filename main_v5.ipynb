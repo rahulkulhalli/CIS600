{
 "cells": [
  {
   "cell_type": "code",
   "execution_count": 50,
   "outputs": [],
   "source": [
    "import numpy as np\n",
    "import pandas as pd\n",
    "import matplotlib.pyplot as plt\n",
    "import xgboost as xgb\n",
    "\n",
    "from sklearn.metrics import classification_report\n",
    "from sklearn.model_selection import train_test_split, GridSearchCV\n",
    "from sklearn.preprocessing import MinMaxScaler, LabelEncoder\n",
    "from sklearn.utils import compute_sample_weight\n",
    "from sklearn.preprocessing import OneHotEncoder"
   ],
   "metadata": {
    "collapsed": false
   }
  },
  {
   "cell_type": "markdown",
   "source": [
    "# Get data and pre-process"
   ],
   "metadata": {
    "collapsed": false
   }
  },
  {
   "cell_type": "code",
   "execution_count": 51,
   "outputs": [],
   "source": [
    "def delay_to_status(delay):\n",
    "    if delay < -10:\n",
    "        return \"Early\"\n",
    "    elif -10 <= delay <= 10:\n",
    "        return \"On-time\"\n",
    "    elif 10 < delay <= 30:\n",
    "        return \"Late\"\n",
    "    else:\n",
    "        return \"Severely Late\""
   ],
   "metadata": {
    "collapsed": false
   }
  },
  {
   "cell_type": "code",
   "execution_count": 52,
   "metadata": {
    "collapsed": true
   },
   "outputs": [],
   "source": [
    "DESTINATION_AIRPORT = 'SYR'\n",
    "\n",
    "# Load the historical data into a pandas dataframe\n",
    "flight_data = pd.read_csv(\"data/flight_data.csv\", parse_dates=['Date (MM/DD/YYYY)'])\n",
    "origin_weather_data = pd.read_csv(\"data/all_origin_weather.csv\", parse_dates=['origin_time'])\n",
    "destination_weather_data = pd.read_csv(\"data/all_destination_weather.csv\", parse_dates=['destination_time'])"
   ]
  },
  {
   "cell_type": "markdown",
   "source": [
    "# Preprocessing on Flight Data\n",
    "\n",
    "- **Date (MM/DD/YYYY)**: This is the date when the flight took place. It's needed to create a proper timestamp for weather data. The combined date and time will help to accurately merge weather data with flight data. It is later dropped because the relevant information is extracted into other features.\n",
    "\n",
    "- **Origin Airport:** This feature identifies the airport from which the flight is departing. It is used to create the 'Flight Route' feature, which combines 'Origin Airport' and 'Destination Airport'. This feature helps the model understand patterns and delays specific to certain routes. It is dropped later as its information is captured in the 'Flight Route' feature.\n",
    "\n",
    "- **Actual Arrival Time:** This is the time when the flight actually arrived at the destination. It is used to create the 'Arrival Datetime' feature, which is necessary for merging weather data with flight data. It is later dropped because the relevant information is extracted into other features.\n",
    "\n",
    "- **Actual Elapsed Time (Minutes):** This feature represents the time taken by the flight from departure to arrival. It is used to calculate the average elapsed time per route, which can help the model capture patterns in flight durations that may affect delays. It is later dropped because the relevant information is extracted into the 'Average Elapsed Time per Route' feature.\n",
    "\n",
    "- **Arrival Delay (Minutes):** This is the target variable, representing the delay in minutes upon arrival. It is used to calculate the average delay per route, which can help the model understand the delay patterns specific to certain routes. It is dropped later as its information is captured in the 'Route Mean Delay' feature.\n"
   ],
   "metadata": {
    "collapsed": false
   }
  },
  {
   "cell_type": "code",
   "execution_count": 53,
   "outputs": [
    {
     "data": {
      "text/plain": "  Date (MM/DD/YYYY) Origin Airport Actual Arrival Time  \\\n0        1988-01-01            ORD               19:13   \n1        1988-01-01            ORD               22:41   \n2        1989-01-01            ORD               18:27   \n3        1989-01-01            ORD               20:55   \n4        1989-01-01            ORD                9:00   \n\n   Actual Elapsed Time (Minutes)  Arrival Delay (Minutes)         Status  \n0                             79                      -20          Early  \n1                             95                        7        On-time  \n2                             89                      124  Severely Late  \n3                            113                       81  Severely Late  \n4                             96                       -7        On-time  ",
      "text/html": "<div>\n<style scoped>\n    .dataframe tbody tr th:only-of-type {\n        vertical-align: middle;\n    }\n\n    .dataframe tbody tr th {\n        vertical-align: top;\n    }\n\n    .dataframe thead th {\n        text-align: right;\n    }\n</style>\n<table border=\"1\" class=\"dataframe\">\n  <thead>\n    <tr style=\"text-align: right;\">\n      <th></th>\n      <th>Date (MM/DD/YYYY)</th>\n      <th>Origin Airport</th>\n      <th>Actual Arrival Time</th>\n      <th>Actual Elapsed Time (Minutes)</th>\n      <th>Arrival Delay (Minutes)</th>\n      <th>Status</th>\n    </tr>\n  </thead>\n  <tbody>\n    <tr>\n      <th>0</th>\n      <td>1988-01-01</td>\n      <td>ORD</td>\n      <td>19:13</td>\n      <td>79</td>\n      <td>-20</td>\n      <td>Early</td>\n    </tr>\n    <tr>\n      <th>1</th>\n      <td>1988-01-01</td>\n      <td>ORD</td>\n      <td>22:41</td>\n      <td>95</td>\n      <td>7</td>\n      <td>On-time</td>\n    </tr>\n    <tr>\n      <th>2</th>\n      <td>1989-01-01</td>\n      <td>ORD</td>\n      <td>18:27</td>\n      <td>89</td>\n      <td>124</td>\n      <td>Severely Late</td>\n    </tr>\n    <tr>\n      <th>3</th>\n      <td>1989-01-01</td>\n      <td>ORD</td>\n      <td>20:55</td>\n      <td>113</td>\n      <td>81</td>\n      <td>Severely Late</td>\n    </tr>\n    <tr>\n      <th>4</th>\n      <td>1989-01-01</td>\n      <td>ORD</td>\n      <td>9:00</td>\n      <td>96</td>\n      <td>-7</td>\n      <td>On-time</td>\n    </tr>\n  </tbody>\n</table>\n</div>"
     },
     "execution_count": 53,
     "metadata": {},
     "output_type": "execute_result"
    }
   ],
   "source": [
    "columns = [\n",
    "    'Date (MM/DD/YYYY)',\n",
    "    'Origin Airport',\n",
    "    'Actual Arrival Time',\n",
    "    'Actual Elapsed Time (Minutes)',\n",
    "    'Arrival Delay (Minutes)'\n",
    "]\n",
    "\n",
    "# Select the necessary columns\n",
    "flight_data = flight_data[columns]\n",
    "\n",
    "# Categorize delays\n",
    "flight_data['Status'] = flight_data['Arrival Delay (Minutes)'].apply(delay_to_status)\n",
    "\n",
    "# Handle missing values\n",
    "flight_data.dropna(inplace=True)\n",
    "\n",
    "# Show 10 rows of the dataframe\n",
    "flight_data.head()"
   ],
   "metadata": {
    "collapsed": false
   }
  },
  {
   "cell_type": "markdown",
   "source": [
    "# Get Date Ranges for Weather Data"
   ],
   "metadata": {
    "collapsed": false
   }
  },
  {
   "cell_type": "code",
   "execution_count": 54,
   "outputs": [
    {
     "name": "stdout",
     "output_type": "stream",
     "text": [
      "Origin Airport: DEN\n",
      "Adjusted Date Range: 2022-02-10 - 2023-02-01\n",
      "\n",
      "Origin Airport: EWR\n",
      "Adjusted Date Range: 2019-11-29 - 2023-02-01\n",
      "\n",
      "Origin Airport: IAD\n",
      "Adjusted Date Range: 1988-06-08 - 2023-01-03\n",
      "\n",
      "Origin Airport: ORD\n",
      "Adjusted Date Range: 1987-09-30 - 2023-02-01\n",
      "\n",
      "Overall Adjusted Date Range: 1987-09-30 - 2023-02-01\n"
     ]
    }
   ],
   "source": [
    "# Group flight_data by 'Origin Airport' and aggregate the min and max 'Departure Datetime' for each group\n",
    "date_ranges = flight_data.groupby('Origin Airport')['Date (MM/DD/YYYY)'].agg(['min', 'max'])\n",
    "\n",
    "# Print the 'Origin Airport' and the date range for each group\n",
    "for index, row in date_ranges.iterrows():\n",
    "    adjusted_min = row['min'] - pd.Timedelta(days=1)\n",
    "    adjusted_max = row['max'] + pd.Timedelta(days=1)\n",
    "    print(f\"Origin Airport: {index}\")\n",
    "    print(f\"Adjusted Date Range: {adjusted_min.strftime('%Y-%m-%d')} - {adjusted_max.strftime('%Y-%m-%d')}\\n\")\n",
    "\n",
    "min_departure = flight_data['Date (MM/DD/YYYY)'].min() - pd.Timedelta(days=1)\n",
    "max_departure = flight_data['Date (MM/DD/YYYY)'].max() + pd.Timedelta(days=1)\n",
    "\n",
    "print(\n",
    "    f\"Overall Adjusted Date Range: {min_departure.strftime('%Y-%m-%d')} - {max_departure.strftime('%Y-%m-%d')}\")"
   ],
   "metadata": {
    "collapsed": false
   }
  },
  {
   "cell_type": "markdown",
   "source": [
    "# Feature Engineering"
   ],
   "metadata": {
    "collapsed": false
   }
  },
  {
   "cell_type": "markdown",
   "source": [
    "## Add Arrival Datetime"
   ],
   "metadata": {
    "collapsed": false
   }
  },
  {
   "cell_type": "code",
   "execution_count": 55,
   "outputs": [
    {
     "data": {
      "text/plain": "  Origin Airport  Actual Elapsed Time (Minutes)  Arrival Delay (Minutes)  \\\n0            ORD                             79                      -20   \n1            ORD                             95                        7   \n2            ORD                             89                      124   \n3            ORD                            113                       81   \n4            ORD                             96                       -7   \n5            ORD                            110                       68   \n6            IAD                            120                       88   \n7            IAD                             91                       66   \n8            ORD                            120                       17   \n9            ORD                            100                        8   \n\n          Status    Arrival Datetime  \n0          Early 1988-01-01 19:00:00  \n1        On-time 1988-01-01 23:00:00  \n2  Severely Late 1989-01-01 18:00:00  \n3  Severely Late 1989-01-01 21:00:00  \n4        On-time 1989-01-01 09:00:00  \n5  Severely Late 1989-01-02 00:00:00  \n6  Severely Late 1989-01-01 15:00:00  \n7  Severely Late 1989-01-02 00:00:00  \n8           Late 1990-01-01 17:00:00  \n9        On-time 1990-01-01 23:00:00  ",
      "text/html": "<div>\n<style scoped>\n    .dataframe tbody tr th:only-of-type {\n        vertical-align: middle;\n    }\n\n    .dataframe tbody tr th {\n        vertical-align: top;\n    }\n\n    .dataframe thead th {\n        text-align: right;\n    }\n</style>\n<table border=\"1\" class=\"dataframe\">\n  <thead>\n    <tr style=\"text-align: right;\">\n      <th></th>\n      <th>Origin Airport</th>\n      <th>Actual Elapsed Time (Minutes)</th>\n      <th>Arrival Delay (Minutes)</th>\n      <th>Status</th>\n      <th>Arrival Datetime</th>\n    </tr>\n  </thead>\n  <tbody>\n    <tr>\n      <th>0</th>\n      <td>ORD</td>\n      <td>79</td>\n      <td>-20</td>\n      <td>Early</td>\n      <td>1988-01-01 19:00:00</td>\n    </tr>\n    <tr>\n      <th>1</th>\n      <td>ORD</td>\n      <td>95</td>\n      <td>7</td>\n      <td>On-time</td>\n      <td>1988-01-01 23:00:00</td>\n    </tr>\n    <tr>\n      <th>2</th>\n      <td>ORD</td>\n      <td>89</td>\n      <td>124</td>\n      <td>Severely Late</td>\n      <td>1989-01-01 18:00:00</td>\n    </tr>\n    <tr>\n      <th>3</th>\n      <td>ORD</td>\n      <td>113</td>\n      <td>81</td>\n      <td>Severely Late</td>\n      <td>1989-01-01 21:00:00</td>\n    </tr>\n    <tr>\n      <th>4</th>\n      <td>ORD</td>\n      <td>96</td>\n      <td>-7</td>\n      <td>On-time</td>\n      <td>1989-01-01 09:00:00</td>\n    </tr>\n    <tr>\n      <th>5</th>\n      <td>ORD</td>\n      <td>110</td>\n      <td>68</td>\n      <td>Severely Late</td>\n      <td>1989-01-02 00:00:00</td>\n    </tr>\n    <tr>\n      <th>6</th>\n      <td>IAD</td>\n      <td>120</td>\n      <td>88</td>\n      <td>Severely Late</td>\n      <td>1989-01-01 15:00:00</td>\n    </tr>\n    <tr>\n      <th>7</th>\n      <td>IAD</td>\n      <td>91</td>\n      <td>66</td>\n      <td>Severely Late</td>\n      <td>1989-01-02 00:00:00</td>\n    </tr>\n    <tr>\n      <th>8</th>\n      <td>ORD</td>\n      <td>120</td>\n      <td>17</td>\n      <td>Late</td>\n      <td>1990-01-01 17:00:00</td>\n    </tr>\n    <tr>\n      <th>9</th>\n      <td>ORD</td>\n      <td>100</td>\n      <td>8</td>\n      <td>On-time</td>\n      <td>1990-01-01 23:00:00</td>\n    </tr>\n  </tbody>\n</table>\n</div>"
     },
     "execution_count": 55,
     "metadata": {},
     "output_type": "execute_result"
    }
   ],
   "source": [
    "# Create a boolean mask to identify rows with '24:00:00'\n",
    "mask_24 = flight_data['Actual Arrival Time'] == '24:00:00'\n",
    "\n",
    "# Replace '24:00:00' with '00:00:00'\n",
    "flight_data['Actual Arrival Time'] = flight_data['Actual Arrival Time'].replace('24:00:00', '00:00:00')\n",
    "\n",
    "# Combine date and time columns\n",
    "flight_data['Arrival Datetime'] = pd.to_datetime(\n",
    "    flight_data['Date (MM/DD/YYYY)'].astype(str) + ' ' + flight_data['Actual Arrival Time'])\n",
    "\n",
    "# Add a day to the date part when the original time value was '24:00:00'\n",
    "flight_data.loc[mask_24, 'Arrival Datetime'] = flight_data.loc[mask_24, 'Arrival Datetime'] + pd.Timedelta(days=1)\n",
    "\n",
    "# Drop more unnecessary date columns\n",
    "flight_data.drop(columns=[\n",
    "    'Date (MM/DD/YYYY)',\n",
    "    'Actual Arrival Time',\n",
    "], inplace=True)\n",
    "\n",
    "# Round to the nearest hour for the weather data\n",
    "flight_data['Arrival Datetime'] = flight_data['Arrival Datetime'].dt.round(\"H\")\n",
    "\n",
    "# Show 10 rows of the dataframe\n",
    "flight_data.head(10)"
   ],
   "metadata": {
    "collapsed": false
   }
  },
  {
   "cell_type": "markdown",
   "source": [
    "## Time of day\n",
    "Flights during certain times of the day may experience more delays, such as early morning or late evening flights."
   ],
   "metadata": {
    "collapsed": false
   }
  },
  {
   "cell_type": "code",
   "execution_count": 56,
   "outputs": [
    {
     "data": {
      "text/plain": "  Origin Airport  Actual Elapsed Time (Minutes)  Arrival Delay (Minutes)  \\\n0            ORD                             79                      -20   \n1            ORD                             95                        7   \n2            ORD                             89                      124   \n3            ORD                            113                       81   \n4            ORD                             96                       -7   \n5            ORD                            110                       68   \n6            IAD                            120                       88   \n7            IAD                             91                       66   \n8            ORD                            120                       17   \n9            ORD                            100                        8   \n\n          Status    Arrival Datetime Time of Day  \n0          Early 1988-01-01 19:00:00     Evening  \n1        On-time 1988-01-01 23:00:00       Night  \n2  Severely Late 1989-01-01 18:00:00     Evening  \n3  Severely Late 1989-01-01 21:00:00       Night  \n4        On-time 1989-01-01 09:00:00     Morning  \n5  Severely Late 1989-01-02 00:00:00       Night  \n6  Severely Late 1989-01-01 15:00:00   Afternoon  \n7  Severely Late 1989-01-02 00:00:00       Night  \n8           Late 1990-01-01 17:00:00     Evening  \n9        On-time 1990-01-01 23:00:00       Night  ",
      "text/html": "<div>\n<style scoped>\n    .dataframe tbody tr th:only-of-type {\n        vertical-align: middle;\n    }\n\n    .dataframe tbody tr th {\n        vertical-align: top;\n    }\n\n    .dataframe thead th {\n        text-align: right;\n    }\n</style>\n<table border=\"1\" class=\"dataframe\">\n  <thead>\n    <tr style=\"text-align: right;\">\n      <th></th>\n      <th>Origin Airport</th>\n      <th>Actual Elapsed Time (Minutes)</th>\n      <th>Arrival Delay (Minutes)</th>\n      <th>Status</th>\n      <th>Arrival Datetime</th>\n      <th>Time of Day</th>\n    </tr>\n  </thead>\n  <tbody>\n    <tr>\n      <th>0</th>\n      <td>ORD</td>\n      <td>79</td>\n      <td>-20</td>\n      <td>Early</td>\n      <td>1988-01-01 19:00:00</td>\n      <td>Evening</td>\n    </tr>\n    <tr>\n      <th>1</th>\n      <td>ORD</td>\n      <td>95</td>\n      <td>7</td>\n      <td>On-time</td>\n      <td>1988-01-01 23:00:00</td>\n      <td>Night</td>\n    </tr>\n    <tr>\n      <th>2</th>\n      <td>ORD</td>\n      <td>89</td>\n      <td>124</td>\n      <td>Severely Late</td>\n      <td>1989-01-01 18:00:00</td>\n      <td>Evening</td>\n    </tr>\n    <tr>\n      <th>3</th>\n      <td>ORD</td>\n      <td>113</td>\n      <td>81</td>\n      <td>Severely Late</td>\n      <td>1989-01-01 21:00:00</td>\n      <td>Night</td>\n    </tr>\n    <tr>\n      <th>4</th>\n      <td>ORD</td>\n      <td>96</td>\n      <td>-7</td>\n      <td>On-time</td>\n      <td>1989-01-01 09:00:00</td>\n      <td>Morning</td>\n    </tr>\n    <tr>\n      <th>5</th>\n      <td>ORD</td>\n      <td>110</td>\n      <td>68</td>\n      <td>Severely Late</td>\n      <td>1989-01-02 00:00:00</td>\n      <td>Night</td>\n    </tr>\n    <tr>\n      <th>6</th>\n      <td>IAD</td>\n      <td>120</td>\n      <td>88</td>\n      <td>Severely Late</td>\n      <td>1989-01-01 15:00:00</td>\n      <td>Afternoon</td>\n    </tr>\n    <tr>\n      <th>7</th>\n      <td>IAD</td>\n      <td>91</td>\n      <td>66</td>\n      <td>Severely Late</td>\n      <td>1989-01-02 00:00:00</td>\n      <td>Night</td>\n    </tr>\n    <tr>\n      <th>8</th>\n      <td>ORD</td>\n      <td>120</td>\n      <td>17</td>\n      <td>Late</td>\n      <td>1990-01-01 17:00:00</td>\n      <td>Evening</td>\n    </tr>\n    <tr>\n      <th>9</th>\n      <td>ORD</td>\n      <td>100</td>\n      <td>8</td>\n      <td>On-time</td>\n      <td>1990-01-01 23:00:00</td>\n      <td>Night</td>\n    </tr>\n  </tbody>\n</table>\n</div>"
     },
     "execution_count": 56,
     "metadata": {},
     "output_type": "execute_result"
    }
   ],
   "source": [
    "def categorize_time_of_day(hour):\n",
    "    if 6 <= hour < 12:\n",
    "        return 'Morning'\n",
    "    elif 12 <= hour < 17:\n",
    "        return 'Afternoon'\n",
    "    elif 17 <= hour < 21:\n",
    "        return 'Evening'\n",
    "    else:\n",
    "        return 'Night'\n",
    "\n",
    "\n",
    "flight_data['Time of Day'] = flight_data['Arrival Datetime'].dt.hour.apply(categorize_time_of_day)\n",
    "\n",
    "# Show 10 rows of the dataframe\n",
    "flight_data.head(10)"
   ],
   "metadata": {
    "collapsed": false
   }
  },
  {
   "cell_type": "markdown",
   "source": [
    "## Day of the week\n",
    "Some days of the week may have more delays than others, such as weekends or Fridays, when air traffic is typically higher."
   ],
   "metadata": {
    "collapsed": false
   }
  },
  {
   "cell_type": "code",
   "execution_count": 57,
   "outputs": [
    {
     "data": {
      "text/plain": "  Origin Airport  Actual Elapsed Time (Minutes)  Arrival Delay (Minutes)  \\\n0            ORD                             79                      -20   \n1            ORD                             95                        7   \n2            ORD                             89                      124   \n3            ORD                            113                       81   \n4            ORD                             96                       -7   \n5            ORD                            110                       68   \n6            IAD                            120                       88   \n7            IAD                             91                       66   \n8            ORD                            120                       17   \n9            ORD                            100                        8   \n\n          Status    Arrival Datetime Time of Day Day of the Week  \n0          Early 1988-01-01 19:00:00     Evening               4  \n1        On-time 1988-01-01 23:00:00       Night               4  \n2  Severely Late 1989-01-01 18:00:00     Evening               6  \n3  Severely Late 1989-01-01 21:00:00       Night               6  \n4        On-time 1989-01-01 09:00:00     Morning               6  \n5  Severely Late 1989-01-02 00:00:00       Night               0  \n6  Severely Late 1989-01-01 15:00:00   Afternoon               6  \n7  Severely Late 1989-01-02 00:00:00       Night               0  \n8           Late 1990-01-01 17:00:00     Evening               0  \n9        On-time 1990-01-01 23:00:00       Night               0  ",
      "text/html": "<div>\n<style scoped>\n    .dataframe tbody tr th:only-of-type {\n        vertical-align: middle;\n    }\n\n    .dataframe tbody tr th {\n        vertical-align: top;\n    }\n\n    .dataframe thead th {\n        text-align: right;\n    }\n</style>\n<table border=\"1\" class=\"dataframe\">\n  <thead>\n    <tr style=\"text-align: right;\">\n      <th></th>\n      <th>Origin Airport</th>\n      <th>Actual Elapsed Time (Minutes)</th>\n      <th>Arrival Delay (Minutes)</th>\n      <th>Status</th>\n      <th>Arrival Datetime</th>\n      <th>Time of Day</th>\n      <th>Day of the Week</th>\n    </tr>\n  </thead>\n  <tbody>\n    <tr>\n      <th>0</th>\n      <td>ORD</td>\n      <td>79</td>\n      <td>-20</td>\n      <td>Early</td>\n      <td>1988-01-01 19:00:00</td>\n      <td>Evening</td>\n      <td>4</td>\n    </tr>\n    <tr>\n      <th>1</th>\n      <td>ORD</td>\n      <td>95</td>\n      <td>7</td>\n      <td>On-time</td>\n      <td>1988-01-01 23:00:00</td>\n      <td>Night</td>\n      <td>4</td>\n    </tr>\n    <tr>\n      <th>2</th>\n      <td>ORD</td>\n      <td>89</td>\n      <td>124</td>\n      <td>Severely Late</td>\n      <td>1989-01-01 18:00:00</td>\n      <td>Evening</td>\n      <td>6</td>\n    </tr>\n    <tr>\n      <th>3</th>\n      <td>ORD</td>\n      <td>113</td>\n      <td>81</td>\n      <td>Severely Late</td>\n      <td>1989-01-01 21:00:00</td>\n      <td>Night</td>\n      <td>6</td>\n    </tr>\n    <tr>\n      <th>4</th>\n      <td>ORD</td>\n      <td>96</td>\n      <td>-7</td>\n      <td>On-time</td>\n      <td>1989-01-01 09:00:00</td>\n      <td>Morning</td>\n      <td>6</td>\n    </tr>\n    <tr>\n      <th>5</th>\n      <td>ORD</td>\n      <td>110</td>\n      <td>68</td>\n      <td>Severely Late</td>\n      <td>1989-01-02 00:00:00</td>\n      <td>Night</td>\n      <td>0</td>\n    </tr>\n    <tr>\n      <th>6</th>\n      <td>IAD</td>\n      <td>120</td>\n      <td>88</td>\n      <td>Severely Late</td>\n      <td>1989-01-01 15:00:00</td>\n      <td>Afternoon</td>\n      <td>6</td>\n    </tr>\n    <tr>\n      <th>7</th>\n      <td>IAD</td>\n      <td>91</td>\n      <td>66</td>\n      <td>Severely Late</td>\n      <td>1989-01-02 00:00:00</td>\n      <td>Night</td>\n      <td>0</td>\n    </tr>\n    <tr>\n      <th>8</th>\n      <td>ORD</td>\n      <td>120</td>\n      <td>17</td>\n      <td>Late</td>\n      <td>1990-01-01 17:00:00</td>\n      <td>Evening</td>\n      <td>0</td>\n    </tr>\n    <tr>\n      <th>9</th>\n      <td>ORD</td>\n      <td>100</td>\n      <td>8</td>\n      <td>On-time</td>\n      <td>1990-01-01 23:00:00</td>\n      <td>Night</td>\n      <td>0</td>\n    </tr>\n  </tbody>\n</table>\n</div>"
     },
     "execution_count": 57,
     "metadata": {},
     "output_type": "execute_result"
    }
   ],
   "source": [
    "flight_data['Day of the Week'] = flight_data['Arrival Datetime'].dt.dayofweek\n",
    "flight_data['Day of the Week'] = flight_data['Day of the Week'].astype('category')\n",
    "\n",
    "# Show 10 rows of the dataframe\n",
    "flight_data.head(10)"
   ],
   "metadata": {
    "collapsed": false
   }
  },
  {
   "cell_type": "markdown",
   "source": [
    "## Month and season\n",
    "Delays may be more common during certain months or seasons, such as winter months with more severe weather."
   ],
   "metadata": {
    "collapsed": false
   }
  },
  {
   "cell_type": "code",
   "execution_count": 58,
   "outputs": [
    {
     "data": {
      "text/plain": "  Origin Airport  Actual Elapsed Time (Minutes)  Arrival Delay (Minutes)  \\\n0            ORD                             79                      -20   \n1            ORD                             95                        7   \n2            ORD                             89                      124   \n3            ORD                            113                       81   \n4            ORD                             96                       -7   \n5            ORD                            110                       68   \n6            IAD                            120                       88   \n7            IAD                             91                       66   \n8            ORD                            120                       17   \n9            ORD                            100                        8   \n\n          Status    Arrival Datetime Time of Day Day of the Week Month  Season  \n0          Early 1988-01-01 19:00:00     Evening               4     1  Winter  \n1        On-time 1988-01-01 23:00:00       Night               4     1  Winter  \n2  Severely Late 1989-01-01 18:00:00     Evening               6     1  Winter  \n3  Severely Late 1989-01-01 21:00:00       Night               6     1  Winter  \n4        On-time 1989-01-01 09:00:00     Morning               6     1  Winter  \n5  Severely Late 1989-01-02 00:00:00       Night               0     1  Winter  \n6  Severely Late 1989-01-01 15:00:00   Afternoon               6     1  Winter  \n7  Severely Late 1989-01-02 00:00:00       Night               0     1  Winter  \n8           Late 1990-01-01 17:00:00     Evening               0     1  Winter  \n9        On-time 1990-01-01 23:00:00       Night               0     1  Winter  ",
      "text/html": "<div>\n<style scoped>\n    .dataframe tbody tr th:only-of-type {\n        vertical-align: middle;\n    }\n\n    .dataframe tbody tr th {\n        vertical-align: top;\n    }\n\n    .dataframe thead th {\n        text-align: right;\n    }\n</style>\n<table border=\"1\" class=\"dataframe\">\n  <thead>\n    <tr style=\"text-align: right;\">\n      <th></th>\n      <th>Origin Airport</th>\n      <th>Actual Elapsed Time (Minutes)</th>\n      <th>Arrival Delay (Minutes)</th>\n      <th>Status</th>\n      <th>Arrival Datetime</th>\n      <th>Time of Day</th>\n      <th>Day of the Week</th>\n      <th>Month</th>\n      <th>Season</th>\n    </tr>\n  </thead>\n  <tbody>\n    <tr>\n      <th>0</th>\n      <td>ORD</td>\n      <td>79</td>\n      <td>-20</td>\n      <td>Early</td>\n      <td>1988-01-01 19:00:00</td>\n      <td>Evening</td>\n      <td>4</td>\n      <td>1</td>\n      <td>Winter</td>\n    </tr>\n    <tr>\n      <th>1</th>\n      <td>ORD</td>\n      <td>95</td>\n      <td>7</td>\n      <td>On-time</td>\n      <td>1988-01-01 23:00:00</td>\n      <td>Night</td>\n      <td>4</td>\n      <td>1</td>\n      <td>Winter</td>\n    </tr>\n    <tr>\n      <th>2</th>\n      <td>ORD</td>\n      <td>89</td>\n      <td>124</td>\n      <td>Severely Late</td>\n      <td>1989-01-01 18:00:00</td>\n      <td>Evening</td>\n      <td>6</td>\n      <td>1</td>\n      <td>Winter</td>\n    </tr>\n    <tr>\n      <th>3</th>\n      <td>ORD</td>\n      <td>113</td>\n      <td>81</td>\n      <td>Severely Late</td>\n      <td>1989-01-01 21:00:00</td>\n      <td>Night</td>\n      <td>6</td>\n      <td>1</td>\n      <td>Winter</td>\n    </tr>\n    <tr>\n      <th>4</th>\n      <td>ORD</td>\n      <td>96</td>\n      <td>-7</td>\n      <td>On-time</td>\n      <td>1989-01-01 09:00:00</td>\n      <td>Morning</td>\n      <td>6</td>\n      <td>1</td>\n      <td>Winter</td>\n    </tr>\n    <tr>\n      <th>5</th>\n      <td>ORD</td>\n      <td>110</td>\n      <td>68</td>\n      <td>Severely Late</td>\n      <td>1989-01-02 00:00:00</td>\n      <td>Night</td>\n      <td>0</td>\n      <td>1</td>\n      <td>Winter</td>\n    </tr>\n    <tr>\n      <th>6</th>\n      <td>IAD</td>\n      <td>120</td>\n      <td>88</td>\n      <td>Severely Late</td>\n      <td>1989-01-01 15:00:00</td>\n      <td>Afternoon</td>\n      <td>6</td>\n      <td>1</td>\n      <td>Winter</td>\n    </tr>\n    <tr>\n      <th>7</th>\n      <td>IAD</td>\n      <td>91</td>\n      <td>66</td>\n      <td>Severely Late</td>\n      <td>1989-01-02 00:00:00</td>\n      <td>Night</td>\n      <td>0</td>\n      <td>1</td>\n      <td>Winter</td>\n    </tr>\n    <tr>\n      <th>8</th>\n      <td>ORD</td>\n      <td>120</td>\n      <td>17</td>\n      <td>Late</td>\n      <td>1990-01-01 17:00:00</td>\n      <td>Evening</td>\n      <td>0</td>\n      <td>1</td>\n      <td>Winter</td>\n    </tr>\n    <tr>\n      <th>9</th>\n      <td>ORD</td>\n      <td>100</td>\n      <td>8</td>\n      <td>On-time</td>\n      <td>1990-01-01 23:00:00</td>\n      <td>Night</td>\n      <td>0</td>\n      <td>1</td>\n      <td>Winter</td>\n    </tr>\n  </tbody>\n</table>\n</div>"
     },
     "execution_count": 58,
     "metadata": {},
     "output_type": "execute_result"
    }
   ],
   "source": [
    "# Add the 'Month' feature\n",
    "flight_data['Month'] = flight_data['Arrival Datetime'].dt.month\n",
    "flight_data['Month'] = flight_data['Month'].astype('category')\n",
    "\n",
    "\n",
    "def month_to_season(month):\n",
    "    if month in [12, 1, 2]:\n",
    "        return 'Winter'\n",
    "    elif month in [3, 4, 5]:\n",
    "        return 'Spring'\n",
    "    elif month in [6, 7, 8]:\n",
    "        return 'Summer'\n",
    "    else:\n",
    "        return 'Fall'\n",
    "\n",
    "\n",
    "# Add the 'Season' feature\n",
    "flight_data['Season'] = flight_data['Month'].apply(month_to_season)\n",
    "flight_data['Season'] = flight_data['Season'].astype('category')\n",
    "\n",
    "# Show 10 rows of the dataframe\n",
    "flight_data.head(10)"
   ],
   "metadata": {
    "collapsed": false
   }
  },
  {
   "cell_type": "markdown",
   "source": [
    "## Flight route\n",
    "Some flight routes may be more prone to delays than others due to factors such as air traffic congestion, distance, or regional weather patterns."
   ],
   "metadata": {
    "collapsed": false
   }
  },
  {
   "cell_type": "code",
   "execution_count": 59,
   "outputs": [
    {
     "data": {
      "text/plain": "  Origin Airport  Actual Elapsed Time (Minutes)  Arrival Delay (Minutes)  \\\n0            ORD                             79                      -20   \n1            ORD                             95                        7   \n2            ORD                             89                      124   \n3            ORD                            113                       81   \n4            ORD                             96                       -7   \n5            ORD                            110                       68   \n6            IAD                            120                       88   \n7            IAD                             91                       66   \n8            ORD                            120                       17   \n9            ORD                            100                        8   \n\n          Status    Arrival Datetime Time of Day Day of the Week Month  \\\n0          Early 1988-01-01 19:00:00     Evening               4     1   \n1        On-time 1988-01-01 23:00:00       Night               4     1   \n2  Severely Late 1989-01-01 18:00:00     Evening               6     1   \n3  Severely Late 1989-01-01 21:00:00       Night               6     1   \n4        On-time 1989-01-01 09:00:00     Morning               6     1   \n5  Severely Late 1989-01-02 00:00:00       Night               0     1   \n6  Severely Late 1989-01-01 15:00:00   Afternoon               6     1   \n7  Severely Late 1989-01-02 00:00:00       Night               0     1   \n8           Late 1990-01-01 17:00:00     Evening               0     1   \n9        On-time 1990-01-01 23:00:00       Night               0     1   \n\n   Season Flight Route  \n0  Winter      ORD-SYR  \n1  Winter      ORD-SYR  \n2  Winter      ORD-SYR  \n3  Winter      ORD-SYR  \n4  Winter      ORD-SYR  \n5  Winter      ORD-SYR  \n6  Winter      IAD-SYR  \n7  Winter      IAD-SYR  \n8  Winter      ORD-SYR  \n9  Winter      ORD-SYR  ",
      "text/html": "<div>\n<style scoped>\n    .dataframe tbody tr th:only-of-type {\n        vertical-align: middle;\n    }\n\n    .dataframe tbody tr th {\n        vertical-align: top;\n    }\n\n    .dataframe thead th {\n        text-align: right;\n    }\n</style>\n<table border=\"1\" class=\"dataframe\">\n  <thead>\n    <tr style=\"text-align: right;\">\n      <th></th>\n      <th>Origin Airport</th>\n      <th>Actual Elapsed Time (Minutes)</th>\n      <th>Arrival Delay (Minutes)</th>\n      <th>Status</th>\n      <th>Arrival Datetime</th>\n      <th>Time of Day</th>\n      <th>Day of the Week</th>\n      <th>Month</th>\n      <th>Season</th>\n      <th>Flight Route</th>\n    </tr>\n  </thead>\n  <tbody>\n    <tr>\n      <th>0</th>\n      <td>ORD</td>\n      <td>79</td>\n      <td>-20</td>\n      <td>Early</td>\n      <td>1988-01-01 19:00:00</td>\n      <td>Evening</td>\n      <td>4</td>\n      <td>1</td>\n      <td>Winter</td>\n      <td>ORD-SYR</td>\n    </tr>\n    <tr>\n      <th>1</th>\n      <td>ORD</td>\n      <td>95</td>\n      <td>7</td>\n      <td>On-time</td>\n      <td>1988-01-01 23:00:00</td>\n      <td>Night</td>\n      <td>4</td>\n      <td>1</td>\n      <td>Winter</td>\n      <td>ORD-SYR</td>\n    </tr>\n    <tr>\n      <th>2</th>\n      <td>ORD</td>\n      <td>89</td>\n      <td>124</td>\n      <td>Severely Late</td>\n      <td>1989-01-01 18:00:00</td>\n      <td>Evening</td>\n      <td>6</td>\n      <td>1</td>\n      <td>Winter</td>\n      <td>ORD-SYR</td>\n    </tr>\n    <tr>\n      <th>3</th>\n      <td>ORD</td>\n      <td>113</td>\n      <td>81</td>\n      <td>Severely Late</td>\n      <td>1989-01-01 21:00:00</td>\n      <td>Night</td>\n      <td>6</td>\n      <td>1</td>\n      <td>Winter</td>\n      <td>ORD-SYR</td>\n    </tr>\n    <tr>\n      <th>4</th>\n      <td>ORD</td>\n      <td>96</td>\n      <td>-7</td>\n      <td>On-time</td>\n      <td>1989-01-01 09:00:00</td>\n      <td>Morning</td>\n      <td>6</td>\n      <td>1</td>\n      <td>Winter</td>\n      <td>ORD-SYR</td>\n    </tr>\n    <tr>\n      <th>5</th>\n      <td>ORD</td>\n      <td>110</td>\n      <td>68</td>\n      <td>Severely Late</td>\n      <td>1989-01-02 00:00:00</td>\n      <td>Night</td>\n      <td>0</td>\n      <td>1</td>\n      <td>Winter</td>\n      <td>ORD-SYR</td>\n    </tr>\n    <tr>\n      <th>6</th>\n      <td>IAD</td>\n      <td>120</td>\n      <td>88</td>\n      <td>Severely Late</td>\n      <td>1989-01-01 15:00:00</td>\n      <td>Afternoon</td>\n      <td>6</td>\n      <td>1</td>\n      <td>Winter</td>\n      <td>IAD-SYR</td>\n    </tr>\n    <tr>\n      <th>7</th>\n      <td>IAD</td>\n      <td>91</td>\n      <td>66</td>\n      <td>Severely Late</td>\n      <td>1989-01-02 00:00:00</td>\n      <td>Night</td>\n      <td>0</td>\n      <td>1</td>\n      <td>Winter</td>\n      <td>IAD-SYR</td>\n    </tr>\n    <tr>\n      <th>8</th>\n      <td>ORD</td>\n      <td>120</td>\n      <td>17</td>\n      <td>Late</td>\n      <td>1990-01-01 17:00:00</td>\n      <td>Evening</td>\n      <td>0</td>\n      <td>1</td>\n      <td>Winter</td>\n      <td>ORD-SYR</td>\n    </tr>\n    <tr>\n      <th>9</th>\n      <td>ORD</td>\n      <td>100</td>\n      <td>8</td>\n      <td>On-time</td>\n      <td>1990-01-01 23:00:00</td>\n      <td>Night</td>\n      <td>0</td>\n      <td>1</td>\n      <td>Winter</td>\n      <td>ORD-SYR</td>\n    </tr>\n  </tbody>\n</table>\n</div>"
     },
     "execution_count": 59,
     "metadata": {},
     "output_type": "execute_result"
    }
   ],
   "source": [
    "flight_data['Flight Route'] = flight_data['Origin Airport'] + '-' + DESTINATION_AIRPORT\n",
    "flight_data['Flight Route'] = flight_data['Flight Route'].astype('category')\n",
    "\n",
    "# Show 10 rows of the dataframe\n",
    "flight_data.head(10)"
   ],
   "metadata": {
    "collapsed": false
   }
  },
  {
   "cell_type": "markdown",
   "source": [
    "## Route Mean Delay\n",
    "Calculate the mean delay for each flight route (Origin-Destination pair) in the historical data, and use this as a new feature. This can help capture the general trend of delays for a specific route."
   ],
   "metadata": {
    "collapsed": false
   }
  },
  {
   "cell_type": "code",
   "execution_count": 60,
   "outputs": [
    {
     "data": {
      "text/plain": "  Origin Airport  Actual Elapsed Time (Minutes)  Arrival Delay (Minutes)  \\\n0            ORD                             79                      -20   \n1            ORD                             95                        7   \n2            ORD                             89                      124   \n3            ORD                            113                       81   \n4            ORD                             96                       -7   \n5            ORD                            110                       68   \n6            IAD                            120                       88   \n7            IAD                             91                       66   \n8            ORD                            120                       17   \n9            ORD                            100                        8   \n\n          Status    Arrival Datetime Time of Day Day of the Week Month  \\\n0          Early 1988-01-01 19:00:00     Evening               4     1   \n1        On-time 1988-01-01 23:00:00       Night               4     1   \n2  Severely Late 1989-01-01 18:00:00     Evening               6     1   \n3  Severely Late 1989-01-01 21:00:00       Night               6     1   \n4        On-time 1989-01-01 09:00:00     Morning               6     1   \n5  Severely Late 1989-01-02 00:00:00       Night               0     1   \n6  Severely Late 1989-01-01 15:00:00   Afternoon               6     1   \n7  Severely Late 1989-01-02 00:00:00       Night               0     1   \n8           Late 1990-01-01 17:00:00     Evening               0     1   \n9        On-time 1990-01-01 23:00:00       Night               0     1   \n\n   Season Flight Route  Route Mean Delay  \n0  Winter      ORD-SYR          8.238029  \n1  Winter      ORD-SYR          8.238029  \n2  Winter      ORD-SYR          8.238029  \n3  Winter      ORD-SYR          8.238029  \n4  Winter      ORD-SYR          8.238029  \n5  Winter      ORD-SYR          8.238029  \n6  Winter      IAD-SYR          6.451291  \n7  Winter      IAD-SYR          6.451291  \n8  Winter      ORD-SYR          8.238029  \n9  Winter      ORD-SYR          8.238029  ",
      "text/html": "<div>\n<style scoped>\n    .dataframe tbody tr th:only-of-type {\n        vertical-align: middle;\n    }\n\n    .dataframe tbody tr th {\n        vertical-align: top;\n    }\n\n    .dataframe thead th {\n        text-align: right;\n    }\n</style>\n<table border=\"1\" class=\"dataframe\">\n  <thead>\n    <tr style=\"text-align: right;\">\n      <th></th>\n      <th>Origin Airport</th>\n      <th>Actual Elapsed Time (Minutes)</th>\n      <th>Arrival Delay (Minutes)</th>\n      <th>Status</th>\n      <th>Arrival Datetime</th>\n      <th>Time of Day</th>\n      <th>Day of the Week</th>\n      <th>Month</th>\n      <th>Season</th>\n      <th>Flight Route</th>\n      <th>Route Mean Delay</th>\n    </tr>\n  </thead>\n  <tbody>\n    <tr>\n      <th>0</th>\n      <td>ORD</td>\n      <td>79</td>\n      <td>-20</td>\n      <td>Early</td>\n      <td>1988-01-01 19:00:00</td>\n      <td>Evening</td>\n      <td>4</td>\n      <td>1</td>\n      <td>Winter</td>\n      <td>ORD-SYR</td>\n      <td>8.238029</td>\n    </tr>\n    <tr>\n      <th>1</th>\n      <td>ORD</td>\n      <td>95</td>\n      <td>7</td>\n      <td>On-time</td>\n      <td>1988-01-01 23:00:00</td>\n      <td>Night</td>\n      <td>4</td>\n      <td>1</td>\n      <td>Winter</td>\n      <td>ORD-SYR</td>\n      <td>8.238029</td>\n    </tr>\n    <tr>\n      <th>2</th>\n      <td>ORD</td>\n      <td>89</td>\n      <td>124</td>\n      <td>Severely Late</td>\n      <td>1989-01-01 18:00:00</td>\n      <td>Evening</td>\n      <td>6</td>\n      <td>1</td>\n      <td>Winter</td>\n      <td>ORD-SYR</td>\n      <td>8.238029</td>\n    </tr>\n    <tr>\n      <th>3</th>\n      <td>ORD</td>\n      <td>113</td>\n      <td>81</td>\n      <td>Severely Late</td>\n      <td>1989-01-01 21:00:00</td>\n      <td>Night</td>\n      <td>6</td>\n      <td>1</td>\n      <td>Winter</td>\n      <td>ORD-SYR</td>\n      <td>8.238029</td>\n    </tr>\n    <tr>\n      <th>4</th>\n      <td>ORD</td>\n      <td>96</td>\n      <td>-7</td>\n      <td>On-time</td>\n      <td>1989-01-01 09:00:00</td>\n      <td>Morning</td>\n      <td>6</td>\n      <td>1</td>\n      <td>Winter</td>\n      <td>ORD-SYR</td>\n      <td>8.238029</td>\n    </tr>\n    <tr>\n      <th>5</th>\n      <td>ORD</td>\n      <td>110</td>\n      <td>68</td>\n      <td>Severely Late</td>\n      <td>1989-01-02 00:00:00</td>\n      <td>Night</td>\n      <td>0</td>\n      <td>1</td>\n      <td>Winter</td>\n      <td>ORD-SYR</td>\n      <td>8.238029</td>\n    </tr>\n    <tr>\n      <th>6</th>\n      <td>IAD</td>\n      <td>120</td>\n      <td>88</td>\n      <td>Severely Late</td>\n      <td>1989-01-01 15:00:00</td>\n      <td>Afternoon</td>\n      <td>6</td>\n      <td>1</td>\n      <td>Winter</td>\n      <td>IAD-SYR</td>\n      <td>6.451291</td>\n    </tr>\n    <tr>\n      <th>7</th>\n      <td>IAD</td>\n      <td>91</td>\n      <td>66</td>\n      <td>Severely Late</td>\n      <td>1989-01-02 00:00:00</td>\n      <td>Night</td>\n      <td>0</td>\n      <td>1</td>\n      <td>Winter</td>\n      <td>IAD-SYR</td>\n      <td>6.451291</td>\n    </tr>\n    <tr>\n      <th>8</th>\n      <td>ORD</td>\n      <td>120</td>\n      <td>17</td>\n      <td>Late</td>\n      <td>1990-01-01 17:00:00</td>\n      <td>Evening</td>\n      <td>0</td>\n      <td>1</td>\n      <td>Winter</td>\n      <td>ORD-SYR</td>\n      <td>8.238029</td>\n    </tr>\n    <tr>\n      <th>9</th>\n      <td>ORD</td>\n      <td>100</td>\n      <td>8</td>\n      <td>On-time</td>\n      <td>1990-01-01 23:00:00</td>\n      <td>Night</td>\n      <td>0</td>\n      <td>1</td>\n      <td>Winter</td>\n      <td>ORD-SYR</td>\n      <td>8.238029</td>\n    </tr>\n  </tbody>\n</table>\n</div>"
     },
     "execution_count": 60,
     "metadata": {},
     "output_type": "execute_result"
    }
   ],
   "source": [
    "# Group the flight_data by 'Flight Route' and calculate the mean 'Arrival Delay (Minutes)' for each group\n",
    "mean_delay_by_route = flight_data.groupby('Flight Route')['Arrival Delay (Minutes)'].mean().reset_index()\n",
    "\n",
    "# Rename the columns of the mean_delay_by_route DataFrame for clarity\n",
    "mean_delay_by_route.columns = ['Flight Route', 'Route Mean Delay']\n",
    "\n",
    "# Merge the mean_delay_by_route DataFrame with the original flight_data DataFrame\n",
    "# This adds the 'Route Mean Delay' column to the flight_data DataFrame, with the appropriate values for each flight\n",
    "flight_data = flight_data.merge(mean_delay_by_route, on='Flight Route', how='left')\n",
    "\n",
    "# Display the first 10 rows of the updated flight_data DataFrame\n",
    "flight_data.head(10)"
   ],
   "metadata": {
    "collapsed": false
   }
  },
  {
   "cell_type": "markdown",
   "source": [
    "## Route Delay Frequency\n",
    "Calculate the frequency of delayed flights for each route. This can help capture how often a specific route experiences delays."
   ],
   "metadata": {
    "collapsed": false
   }
  },
  {
   "cell_type": "code",
   "execution_count": 61,
   "outputs": [
    {
     "data": {
      "text/plain": "  Origin Airport  Actual Elapsed Time (Minutes)  Arrival Delay (Minutes)  \\\n0            ORD                             79                      -20   \n1            ORD                             95                        7   \n2            ORD                             89                      124   \n3            ORD                            113                       81   \n4            ORD                             96                       -7   \n5            ORD                            110                       68   \n6            IAD                            120                       88   \n7            IAD                             91                       66   \n8            ORD                            120                       17   \n9            ORD                            100                        8   \n\n          Status    Arrival Datetime Time of Day Day of the Week Month  \\\n0          Early 1988-01-01 19:00:00     Evening               4     1   \n1        On-time 1988-01-01 23:00:00       Night               4     1   \n2  Severely Late 1989-01-01 18:00:00     Evening               6     1   \n3  Severely Late 1989-01-01 21:00:00       Night               6     1   \n4        On-time 1989-01-01 09:00:00     Morning               6     1   \n5  Severely Late 1989-01-02 00:00:00       Night               0     1   \n6  Severely Late 1989-01-01 15:00:00   Afternoon               6     1   \n7  Severely Late 1989-01-02 00:00:00       Night               0     1   \n8           Late 1990-01-01 17:00:00     Evening               0     1   \n9        On-time 1990-01-01 23:00:00       Night               0     1   \n\n   Season Flight Route  Route Mean Delay  Route Delay Frequency  \n0  Winter      ORD-SYR          8.238029                   4783  \n1  Winter      ORD-SYR          8.238029                   4783  \n2  Winter      ORD-SYR          8.238029                   4783  \n3  Winter      ORD-SYR          8.238029                   4783  \n4  Winter      ORD-SYR          8.238029                   4783  \n5  Winter      ORD-SYR          8.238029                   4783  \n6  Winter      IAD-SYR          6.451291                    235  \n7  Winter      IAD-SYR          6.451291                    235  \n8  Winter      ORD-SYR          8.238029                   4783  \n9  Winter      ORD-SYR          8.238029                   4783  ",
      "text/html": "<div>\n<style scoped>\n    .dataframe tbody tr th:only-of-type {\n        vertical-align: middle;\n    }\n\n    .dataframe tbody tr th {\n        vertical-align: top;\n    }\n\n    .dataframe thead th {\n        text-align: right;\n    }\n</style>\n<table border=\"1\" class=\"dataframe\">\n  <thead>\n    <tr style=\"text-align: right;\">\n      <th></th>\n      <th>Origin Airport</th>\n      <th>Actual Elapsed Time (Minutes)</th>\n      <th>Arrival Delay (Minutes)</th>\n      <th>Status</th>\n      <th>Arrival Datetime</th>\n      <th>Time of Day</th>\n      <th>Day of the Week</th>\n      <th>Month</th>\n      <th>Season</th>\n      <th>Flight Route</th>\n      <th>Route Mean Delay</th>\n      <th>Route Delay Frequency</th>\n    </tr>\n  </thead>\n  <tbody>\n    <tr>\n      <th>0</th>\n      <td>ORD</td>\n      <td>79</td>\n      <td>-20</td>\n      <td>Early</td>\n      <td>1988-01-01 19:00:00</td>\n      <td>Evening</td>\n      <td>4</td>\n      <td>1</td>\n      <td>Winter</td>\n      <td>ORD-SYR</td>\n      <td>8.238029</td>\n      <td>4783</td>\n    </tr>\n    <tr>\n      <th>1</th>\n      <td>ORD</td>\n      <td>95</td>\n      <td>7</td>\n      <td>On-time</td>\n      <td>1988-01-01 23:00:00</td>\n      <td>Night</td>\n      <td>4</td>\n      <td>1</td>\n      <td>Winter</td>\n      <td>ORD-SYR</td>\n      <td>8.238029</td>\n      <td>4783</td>\n    </tr>\n    <tr>\n      <th>2</th>\n      <td>ORD</td>\n      <td>89</td>\n      <td>124</td>\n      <td>Severely Late</td>\n      <td>1989-01-01 18:00:00</td>\n      <td>Evening</td>\n      <td>6</td>\n      <td>1</td>\n      <td>Winter</td>\n      <td>ORD-SYR</td>\n      <td>8.238029</td>\n      <td>4783</td>\n    </tr>\n    <tr>\n      <th>3</th>\n      <td>ORD</td>\n      <td>113</td>\n      <td>81</td>\n      <td>Severely Late</td>\n      <td>1989-01-01 21:00:00</td>\n      <td>Night</td>\n      <td>6</td>\n      <td>1</td>\n      <td>Winter</td>\n      <td>ORD-SYR</td>\n      <td>8.238029</td>\n      <td>4783</td>\n    </tr>\n    <tr>\n      <th>4</th>\n      <td>ORD</td>\n      <td>96</td>\n      <td>-7</td>\n      <td>On-time</td>\n      <td>1989-01-01 09:00:00</td>\n      <td>Morning</td>\n      <td>6</td>\n      <td>1</td>\n      <td>Winter</td>\n      <td>ORD-SYR</td>\n      <td>8.238029</td>\n      <td>4783</td>\n    </tr>\n    <tr>\n      <th>5</th>\n      <td>ORD</td>\n      <td>110</td>\n      <td>68</td>\n      <td>Severely Late</td>\n      <td>1989-01-02 00:00:00</td>\n      <td>Night</td>\n      <td>0</td>\n      <td>1</td>\n      <td>Winter</td>\n      <td>ORD-SYR</td>\n      <td>8.238029</td>\n      <td>4783</td>\n    </tr>\n    <tr>\n      <th>6</th>\n      <td>IAD</td>\n      <td>120</td>\n      <td>88</td>\n      <td>Severely Late</td>\n      <td>1989-01-01 15:00:00</td>\n      <td>Afternoon</td>\n      <td>6</td>\n      <td>1</td>\n      <td>Winter</td>\n      <td>IAD-SYR</td>\n      <td>6.451291</td>\n      <td>235</td>\n    </tr>\n    <tr>\n      <th>7</th>\n      <td>IAD</td>\n      <td>91</td>\n      <td>66</td>\n      <td>Severely Late</td>\n      <td>1989-01-02 00:00:00</td>\n      <td>Night</td>\n      <td>0</td>\n      <td>1</td>\n      <td>Winter</td>\n      <td>IAD-SYR</td>\n      <td>6.451291</td>\n      <td>235</td>\n    </tr>\n    <tr>\n      <th>8</th>\n      <td>ORD</td>\n      <td>120</td>\n      <td>17</td>\n      <td>Late</td>\n      <td>1990-01-01 17:00:00</td>\n      <td>Evening</td>\n      <td>0</td>\n      <td>1</td>\n      <td>Winter</td>\n      <td>ORD-SYR</td>\n      <td>8.238029</td>\n      <td>4783</td>\n    </tr>\n    <tr>\n      <th>9</th>\n      <td>ORD</td>\n      <td>100</td>\n      <td>8</td>\n      <td>On-time</td>\n      <td>1990-01-01 23:00:00</td>\n      <td>Night</td>\n      <td>0</td>\n      <td>1</td>\n      <td>Winter</td>\n      <td>ORD-SYR</td>\n      <td>8.238029</td>\n      <td>4783</td>\n    </tr>\n  </tbody>\n</table>\n</div>"
     },
     "execution_count": 61,
     "metadata": {},
     "output_type": "execute_result"
    }
   ],
   "source": [
    "# Define a threshold for delays (in minutes)\n",
    "delay_threshold = 10\n",
    "\n",
    "# Filter the flight_data DataFrame to include only flights with 'Arrival Delay (Minutes)' greater than the threshold\n",
    "delayed_flights = flight_data[flight_data['Arrival Delay (Minutes)'] > delay_threshold]\n",
    "\n",
    "# Group the delayed_flights by 'Flight Route' and count the number of delayed flights for each group\n",
    "delay_frequency_by_route = delayed_flights.groupby('Flight Route').size().reset_index()\n",
    "\n",
    "# Rename the columns of the delay_frequency_by_route DataFrame for clarity\n",
    "delay_frequency_by_route.columns = ['Flight Route', 'Route Delay Frequency']\n",
    "\n",
    "# Merge the delay_frequency_by_route DataFrame with the original flight_data DataFrame\n",
    "# This adds the 'Route Delay Frequency' column to the flight_data DataFrame, with the appropriate values for each flight\n",
    "flight_data = flight_data.merge(delay_frequency_by_route, on='Flight Route', how='left')\n",
    "\n",
    "# Fill any missing values in the 'Route Delay Frequency' column with 0\n",
    "flight_data['Route Delay Frequency'] = flight_data['Route Delay Frequency'].fillna(0)\n",
    "\n",
    "# Display the first 10 rows of the updated flight_data DataFrame\n",
    "flight_data.head(10)"
   ],
   "metadata": {
    "collapsed": false
   }
  },
  {
   "cell_type": "markdown",
   "source": [
    "## Route Delay Ratio\n",
    "Calculate the ratio of delayed flights to the total number of flights for each route. This can help capture the proportion of flights that experience delays on a specific route."
   ],
   "metadata": {
    "collapsed": false
   }
  },
  {
   "cell_type": "code",
   "execution_count": 62,
   "outputs": [
    {
     "data": {
      "text/plain": "  Origin Airport  Actual Elapsed Time (Minutes)  Arrival Delay (Minutes)  \\\n0            ORD                             79                      -20   \n1            ORD                             95                        7   \n2            ORD                             89                      124   \n3            ORD                            113                       81   \n4            ORD                             96                       -7   \n5            ORD                            110                       68   \n6            IAD                            120                       88   \n7            IAD                             91                       66   \n8            ORD                            120                       17   \n9            ORD                            100                        8   \n\n          Status    Arrival Datetime Time of Day Day of the Week Month  \\\n0          Early 1988-01-01 19:00:00     Evening               4     1   \n1        On-time 1988-01-01 23:00:00       Night               4     1   \n2  Severely Late 1989-01-01 18:00:00     Evening               6     1   \n3  Severely Late 1989-01-01 21:00:00       Night               6     1   \n4        On-time 1989-01-01 09:00:00     Morning               6     1   \n5  Severely Late 1989-01-02 00:00:00       Night               0     1   \n6  Severely Late 1989-01-01 15:00:00   Afternoon               6     1   \n7  Severely Late 1989-01-02 00:00:00       Night               0     1   \n8           Late 1990-01-01 17:00:00     Evening               0     1   \n9        On-time 1990-01-01 23:00:00       Night               0     1   \n\n   Season Flight Route  Route Mean Delay  Route Delay Frequency  \\\n0  Winter      ORD-SYR          8.238029                   4783   \n1  Winter      ORD-SYR          8.238029                   4783   \n2  Winter      ORD-SYR          8.238029                   4783   \n3  Winter      ORD-SYR          8.238029                   4783   \n4  Winter      ORD-SYR          8.238029                   4783   \n5  Winter      ORD-SYR          8.238029                   4783   \n6  Winter      IAD-SYR          6.451291                    235   \n7  Winter      IAD-SYR          6.451291                    235   \n8  Winter      ORD-SYR          8.238029                   4783   \n9  Winter      ORD-SYR          8.238029                   4783   \n\n   Route Delay Ratio  \n0           0.255325  \n1           0.255325  \n2           0.255325  \n3           0.255325  \n4           0.255325  \n5           0.255325  \n6           0.195670  \n7           0.195670  \n8           0.255325  \n9           0.255325  ",
      "text/html": "<div>\n<style scoped>\n    .dataframe tbody tr th:only-of-type {\n        vertical-align: middle;\n    }\n\n    .dataframe tbody tr th {\n        vertical-align: top;\n    }\n\n    .dataframe thead th {\n        text-align: right;\n    }\n</style>\n<table border=\"1\" class=\"dataframe\">\n  <thead>\n    <tr style=\"text-align: right;\">\n      <th></th>\n      <th>Origin Airport</th>\n      <th>Actual Elapsed Time (Minutes)</th>\n      <th>Arrival Delay (Minutes)</th>\n      <th>Status</th>\n      <th>Arrival Datetime</th>\n      <th>Time of Day</th>\n      <th>Day of the Week</th>\n      <th>Month</th>\n      <th>Season</th>\n      <th>Flight Route</th>\n      <th>Route Mean Delay</th>\n      <th>Route Delay Frequency</th>\n      <th>Route Delay Ratio</th>\n    </tr>\n  </thead>\n  <tbody>\n    <tr>\n      <th>0</th>\n      <td>ORD</td>\n      <td>79</td>\n      <td>-20</td>\n      <td>Early</td>\n      <td>1988-01-01 19:00:00</td>\n      <td>Evening</td>\n      <td>4</td>\n      <td>1</td>\n      <td>Winter</td>\n      <td>ORD-SYR</td>\n      <td>8.238029</td>\n      <td>4783</td>\n      <td>0.255325</td>\n    </tr>\n    <tr>\n      <th>1</th>\n      <td>ORD</td>\n      <td>95</td>\n      <td>7</td>\n      <td>On-time</td>\n      <td>1988-01-01 23:00:00</td>\n      <td>Night</td>\n      <td>4</td>\n      <td>1</td>\n      <td>Winter</td>\n      <td>ORD-SYR</td>\n      <td>8.238029</td>\n      <td>4783</td>\n      <td>0.255325</td>\n    </tr>\n    <tr>\n      <th>2</th>\n      <td>ORD</td>\n      <td>89</td>\n      <td>124</td>\n      <td>Severely Late</td>\n      <td>1989-01-01 18:00:00</td>\n      <td>Evening</td>\n      <td>6</td>\n      <td>1</td>\n      <td>Winter</td>\n      <td>ORD-SYR</td>\n      <td>8.238029</td>\n      <td>4783</td>\n      <td>0.255325</td>\n    </tr>\n    <tr>\n      <th>3</th>\n      <td>ORD</td>\n      <td>113</td>\n      <td>81</td>\n      <td>Severely Late</td>\n      <td>1989-01-01 21:00:00</td>\n      <td>Night</td>\n      <td>6</td>\n      <td>1</td>\n      <td>Winter</td>\n      <td>ORD-SYR</td>\n      <td>8.238029</td>\n      <td>4783</td>\n      <td>0.255325</td>\n    </tr>\n    <tr>\n      <th>4</th>\n      <td>ORD</td>\n      <td>96</td>\n      <td>-7</td>\n      <td>On-time</td>\n      <td>1989-01-01 09:00:00</td>\n      <td>Morning</td>\n      <td>6</td>\n      <td>1</td>\n      <td>Winter</td>\n      <td>ORD-SYR</td>\n      <td>8.238029</td>\n      <td>4783</td>\n      <td>0.255325</td>\n    </tr>\n    <tr>\n      <th>5</th>\n      <td>ORD</td>\n      <td>110</td>\n      <td>68</td>\n      <td>Severely Late</td>\n      <td>1989-01-02 00:00:00</td>\n      <td>Night</td>\n      <td>0</td>\n      <td>1</td>\n      <td>Winter</td>\n      <td>ORD-SYR</td>\n      <td>8.238029</td>\n      <td>4783</td>\n      <td>0.255325</td>\n    </tr>\n    <tr>\n      <th>6</th>\n      <td>IAD</td>\n      <td>120</td>\n      <td>88</td>\n      <td>Severely Late</td>\n      <td>1989-01-01 15:00:00</td>\n      <td>Afternoon</td>\n      <td>6</td>\n      <td>1</td>\n      <td>Winter</td>\n      <td>IAD-SYR</td>\n      <td>6.451291</td>\n      <td>235</td>\n      <td>0.195670</td>\n    </tr>\n    <tr>\n      <th>7</th>\n      <td>IAD</td>\n      <td>91</td>\n      <td>66</td>\n      <td>Severely Late</td>\n      <td>1989-01-02 00:00:00</td>\n      <td>Night</td>\n      <td>0</td>\n      <td>1</td>\n      <td>Winter</td>\n      <td>IAD-SYR</td>\n      <td>6.451291</td>\n      <td>235</td>\n      <td>0.195670</td>\n    </tr>\n    <tr>\n      <th>8</th>\n      <td>ORD</td>\n      <td>120</td>\n      <td>17</td>\n      <td>Late</td>\n      <td>1990-01-01 17:00:00</td>\n      <td>Evening</td>\n      <td>0</td>\n      <td>1</td>\n      <td>Winter</td>\n      <td>ORD-SYR</td>\n      <td>8.238029</td>\n      <td>4783</td>\n      <td>0.255325</td>\n    </tr>\n    <tr>\n      <th>9</th>\n      <td>ORD</td>\n      <td>100</td>\n      <td>8</td>\n      <td>On-time</td>\n      <td>1990-01-01 23:00:00</td>\n      <td>Night</td>\n      <td>0</td>\n      <td>1</td>\n      <td>Winter</td>\n      <td>ORD-SYR</td>\n      <td>8.238029</td>\n      <td>4783</td>\n      <td>0.255325</td>\n    </tr>\n  </tbody>\n</table>\n</div>"
     },
     "execution_count": 62,
     "metadata": {},
     "output_type": "execute_result"
    }
   ],
   "source": [
    "# Group the flight_data DataFrame by 'Flight Route' and count the number of flights for each group\n",
    "total_flights_by_route = flight_data.groupby('Flight Route').size().reset_index()\n",
    "\n",
    "# Rename the columns of the total_flights_by_route DataFrame for clarity\n",
    "total_flights_by_route.columns = ['Flight Route', 'Total Flights']\n",
    "\n",
    "# Merge the total_flights_by_route DataFrame with the delay_frequency_by_route DataFrame\n",
    "# This creates a new DataFrame that contains the total flights and delay frequency for each route\n",
    "route_delay_ratio = total_flights_by_route.merge(delay_frequency_by_route, on='Flight Route', how='left')\n",
    "\n",
    "# Calculate the route delay ratio by dividing the 'Route Delay Frequency' by 'Total Flights' for each route\n",
    "route_delay_ratio['Route Delay Ratio'] = route_delay_ratio['Route Delay Frequency'] / route_delay_ratio['Total Flights']\n",
    "\n",
    "# Keep only the 'Flight Route' and 'Route Delay Ratio' columns in the route_delay_ratio DataFrame\n",
    "route_delay_ratio = route_delay_ratio[['Flight Route', 'Route Delay Ratio']]\n",
    "\n",
    "# Merge the route_delay_ratio DataFrame with the original flight_data DataFrame\n",
    "# This adds the 'Route Delay Ratio' column to the flight_data DataFrame, with the appropriate values for each flight\n",
    "flight_data = flight_data.merge(route_delay_ratio, on='Flight Route', how='left')\n",
    "\n",
    "# Display the first 10 rows of the updated flight_data DataFrame\n",
    "flight_data.head(10)"
   ],
   "metadata": {
    "collapsed": false
   }
  },
  {
   "cell_type": "markdown",
   "source": [
    "## Route Mean Elapsed"
   ],
   "metadata": {
    "collapsed": false
   }
  },
  {
   "cell_type": "code",
   "execution_count": 63,
   "outputs": [
    {
     "data": {
      "text/plain": "  Origin Airport  Actual Elapsed Time (Minutes)  Arrival Delay (Minutes)  \\\n0            ORD                             79                      -20   \n1            ORD                             95                        7   \n2            ORD                             89                      124   \n3            ORD                            113                       81   \n4            ORD                             96                       -7   \n5            ORD                            110                       68   \n6            IAD                            120                       88   \n7            IAD                             91                       66   \n8            ORD                            120                       17   \n9            ORD                            100                        8   \n\n          Status    Arrival Datetime Time of Day Day of the Week Month  \\\n0          Early 1988-01-01 19:00:00     Evening               4     1   \n1        On-time 1988-01-01 23:00:00       Night               4     1   \n2  Severely Late 1989-01-01 18:00:00     Evening               6     1   \n3  Severely Late 1989-01-01 21:00:00       Night               6     1   \n4        On-time 1989-01-01 09:00:00     Morning               6     1   \n5  Severely Late 1989-01-02 00:00:00       Night               0     1   \n6  Severely Late 1989-01-01 15:00:00   Afternoon               6     1   \n7  Severely Late 1989-01-02 00:00:00       Night               0     1   \n8           Late 1990-01-01 17:00:00     Evening               0     1   \n9        On-time 1990-01-01 23:00:00       Night               0     1   \n\n   Season Flight Route  Route Mean Delay  Route Delay Frequency  \\\n0  Winter      ORD-SYR          8.238029                   4783   \n1  Winter      ORD-SYR          8.238029                   4783   \n2  Winter      ORD-SYR          8.238029                   4783   \n3  Winter      ORD-SYR          8.238029                   4783   \n4  Winter      ORD-SYR          8.238029                   4783   \n5  Winter      ORD-SYR          8.238029                   4783   \n6  Winter      IAD-SYR          6.451291                    235   \n7  Winter      IAD-SYR          6.451291                    235   \n8  Winter      ORD-SYR          8.238029                   4783   \n9  Winter      ORD-SYR          8.238029                   4783   \n\n   Route Delay Ratio  Average Elapsed Time (Minutes)  \n0           0.255325                              99  \n1           0.255325                              99  \n2           0.255325                              99  \n3           0.255325                              99  \n4           0.255325                              99  \n5           0.255325                              99  \n6           0.195670                              65  \n7           0.195670                              65  \n8           0.255325                              99  \n9           0.255325                              99  ",
      "text/html": "<div>\n<style scoped>\n    .dataframe tbody tr th:only-of-type {\n        vertical-align: middle;\n    }\n\n    .dataframe tbody tr th {\n        vertical-align: top;\n    }\n\n    .dataframe thead th {\n        text-align: right;\n    }\n</style>\n<table border=\"1\" class=\"dataframe\">\n  <thead>\n    <tr style=\"text-align: right;\">\n      <th></th>\n      <th>Origin Airport</th>\n      <th>Actual Elapsed Time (Minutes)</th>\n      <th>Arrival Delay (Minutes)</th>\n      <th>Status</th>\n      <th>Arrival Datetime</th>\n      <th>Time of Day</th>\n      <th>Day of the Week</th>\n      <th>Month</th>\n      <th>Season</th>\n      <th>Flight Route</th>\n      <th>Route Mean Delay</th>\n      <th>Route Delay Frequency</th>\n      <th>Route Delay Ratio</th>\n      <th>Average Elapsed Time (Minutes)</th>\n    </tr>\n  </thead>\n  <tbody>\n    <tr>\n      <th>0</th>\n      <td>ORD</td>\n      <td>79</td>\n      <td>-20</td>\n      <td>Early</td>\n      <td>1988-01-01 19:00:00</td>\n      <td>Evening</td>\n      <td>4</td>\n      <td>1</td>\n      <td>Winter</td>\n      <td>ORD-SYR</td>\n      <td>8.238029</td>\n      <td>4783</td>\n      <td>0.255325</td>\n      <td>99</td>\n    </tr>\n    <tr>\n      <th>1</th>\n      <td>ORD</td>\n      <td>95</td>\n      <td>7</td>\n      <td>On-time</td>\n      <td>1988-01-01 23:00:00</td>\n      <td>Night</td>\n      <td>4</td>\n      <td>1</td>\n      <td>Winter</td>\n      <td>ORD-SYR</td>\n      <td>8.238029</td>\n      <td>4783</td>\n      <td>0.255325</td>\n      <td>99</td>\n    </tr>\n    <tr>\n      <th>2</th>\n      <td>ORD</td>\n      <td>89</td>\n      <td>124</td>\n      <td>Severely Late</td>\n      <td>1989-01-01 18:00:00</td>\n      <td>Evening</td>\n      <td>6</td>\n      <td>1</td>\n      <td>Winter</td>\n      <td>ORD-SYR</td>\n      <td>8.238029</td>\n      <td>4783</td>\n      <td>0.255325</td>\n      <td>99</td>\n    </tr>\n    <tr>\n      <th>3</th>\n      <td>ORD</td>\n      <td>113</td>\n      <td>81</td>\n      <td>Severely Late</td>\n      <td>1989-01-01 21:00:00</td>\n      <td>Night</td>\n      <td>6</td>\n      <td>1</td>\n      <td>Winter</td>\n      <td>ORD-SYR</td>\n      <td>8.238029</td>\n      <td>4783</td>\n      <td>0.255325</td>\n      <td>99</td>\n    </tr>\n    <tr>\n      <th>4</th>\n      <td>ORD</td>\n      <td>96</td>\n      <td>-7</td>\n      <td>On-time</td>\n      <td>1989-01-01 09:00:00</td>\n      <td>Morning</td>\n      <td>6</td>\n      <td>1</td>\n      <td>Winter</td>\n      <td>ORD-SYR</td>\n      <td>8.238029</td>\n      <td>4783</td>\n      <td>0.255325</td>\n      <td>99</td>\n    </tr>\n    <tr>\n      <th>5</th>\n      <td>ORD</td>\n      <td>110</td>\n      <td>68</td>\n      <td>Severely Late</td>\n      <td>1989-01-02 00:00:00</td>\n      <td>Night</td>\n      <td>0</td>\n      <td>1</td>\n      <td>Winter</td>\n      <td>ORD-SYR</td>\n      <td>8.238029</td>\n      <td>4783</td>\n      <td>0.255325</td>\n      <td>99</td>\n    </tr>\n    <tr>\n      <th>6</th>\n      <td>IAD</td>\n      <td>120</td>\n      <td>88</td>\n      <td>Severely Late</td>\n      <td>1989-01-01 15:00:00</td>\n      <td>Afternoon</td>\n      <td>6</td>\n      <td>1</td>\n      <td>Winter</td>\n      <td>IAD-SYR</td>\n      <td>6.451291</td>\n      <td>235</td>\n      <td>0.195670</td>\n      <td>65</td>\n    </tr>\n    <tr>\n      <th>7</th>\n      <td>IAD</td>\n      <td>91</td>\n      <td>66</td>\n      <td>Severely Late</td>\n      <td>1989-01-02 00:00:00</td>\n      <td>Night</td>\n      <td>0</td>\n      <td>1</td>\n      <td>Winter</td>\n      <td>IAD-SYR</td>\n      <td>6.451291</td>\n      <td>235</td>\n      <td>0.195670</td>\n      <td>65</td>\n    </tr>\n    <tr>\n      <th>8</th>\n      <td>ORD</td>\n      <td>120</td>\n      <td>17</td>\n      <td>Late</td>\n      <td>1990-01-01 17:00:00</td>\n      <td>Evening</td>\n      <td>0</td>\n      <td>1</td>\n      <td>Winter</td>\n      <td>ORD-SYR</td>\n      <td>8.238029</td>\n      <td>4783</td>\n      <td>0.255325</td>\n      <td>99</td>\n    </tr>\n    <tr>\n      <th>9</th>\n      <td>ORD</td>\n      <td>100</td>\n      <td>8</td>\n      <td>On-time</td>\n      <td>1990-01-01 23:00:00</td>\n      <td>Night</td>\n      <td>0</td>\n      <td>1</td>\n      <td>Winter</td>\n      <td>ORD-SYR</td>\n      <td>8.238029</td>\n      <td>4783</td>\n      <td>0.255325</td>\n      <td>99</td>\n    </tr>\n  </tbody>\n</table>\n</div>"
     },
     "execution_count": 63,
     "metadata": {},
     "output_type": "execute_result"
    }
   ],
   "source": [
    "# Calculate the average elapsed time per route\n",
    "avg_elapsed_time_by_route = flight_data.groupby('Flight Route')['Actual Elapsed Time (Minutes)'].mean().reset_index()\n",
    "avg_elapsed_time_by_route.columns = ['Flight Route', 'Average Elapsed Time (Minutes)']\n",
    "\n",
    "# Round the average elapsed time to the nearest integer\n",
    "avg_elapsed_time_by_route['Average Elapsed Time (Minutes)'] = avg_elapsed_time_by_route[\n",
    "    'Average Elapsed Time (Minutes)'].round().astype(int)\n",
    "\n",
    "# Merge the average elapsed time data back into the original dataset\n",
    "flight_data = flight_data.merge(avg_elapsed_time_by_route, on='Flight Route', how='left')\n",
    "\n",
    "# Show 10 rows of the dataframe\n",
    "flight_data.head(10)"
   ],
   "metadata": {
    "collapsed": false
   }
  },
  {
   "cell_type": "markdown",
   "source": [
    "## Distance between origin and destination airports\n",
    "The distance between airports could affect the likelihood of delays due to various factors, such as air traffic or weather conditions along the route."
   ],
   "metadata": {
    "collapsed": false
   }
  },
  {
   "cell_type": "code",
   "execution_count": 64,
   "outputs": [
    {
     "data": {
      "text/plain": "  Origin Airport  Actual Elapsed Time (Minutes)  Arrival Delay (Minutes)  \\\n0            ORD                             79                      -20   \n1            ORD                             95                        7   \n2            ORD                             89                      124   \n3            ORD                            113                       81   \n4            ORD                             96                       -7   \n5            ORD                            110                       68   \n6            IAD                            120                       88   \n7            IAD                             91                       66   \n8            ORD                            120                       17   \n9            ORD                            100                        8   \n\n          Status    Arrival Datetime Time of Day Day of the Week Month  \\\n0          Early 1988-01-01 19:00:00     Evening               4     1   \n1        On-time 1988-01-01 23:00:00       Night               4     1   \n2  Severely Late 1989-01-01 18:00:00     Evening               6     1   \n3  Severely Late 1989-01-01 21:00:00       Night               6     1   \n4        On-time 1989-01-01 09:00:00     Morning               6     1   \n5  Severely Late 1989-01-02 00:00:00       Night               0     1   \n6  Severely Late 1989-01-01 15:00:00   Afternoon               6     1   \n7  Severely Late 1989-01-02 00:00:00       Night               0     1   \n8           Late 1990-01-01 17:00:00     Evening               0     1   \n9        On-time 1990-01-01 23:00:00       Night               0     1   \n\n   Season Flight Route  Route Mean Delay  Route Delay Frequency  \\\n0  Winter      ORD-SYR          8.238029                   4783   \n1  Winter      ORD-SYR          8.238029                   4783   \n2  Winter      ORD-SYR          8.238029                   4783   \n3  Winter      ORD-SYR          8.238029                   4783   \n4  Winter      ORD-SYR          8.238029                   4783   \n5  Winter      ORD-SYR          8.238029                   4783   \n6  Winter      IAD-SYR          6.451291                    235   \n7  Winter      IAD-SYR          6.451291                    235   \n8  Winter      ORD-SYR          8.238029                   4783   \n9  Winter      ORD-SYR          8.238029                   4783   \n\n   Route Delay Ratio  Average Elapsed Time (Minutes)  Distance (km)  \n0           0.255325                              99            974  \n1           0.255325                              99            974  \n2           0.255325                              99            974  \n3           0.255325                              99            974  \n4           0.255325                              99            974  \n5           0.255325                              99            974  \n6           0.195670                              65            477  \n7           0.195670                              65            477  \n8           0.255325                              99            974  \n9           0.255325                              99            974  ",
      "text/html": "<div>\n<style scoped>\n    .dataframe tbody tr th:only-of-type {\n        vertical-align: middle;\n    }\n\n    .dataframe tbody tr th {\n        vertical-align: top;\n    }\n\n    .dataframe thead th {\n        text-align: right;\n    }\n</style>\n<table border=\"1\" class=\"dataframe\">\n  <thead>\n    <tr style=\"text-align: right;\">\n      <th></th>\n      <th>Origin Airport</th>\n      <th>Actual Elapsed Time (Minutes)</th>\n      <th>Arrival Delay (Minutes)</th>\n      <th>Status</th>\n      <th>Arrival Datetime</th>\n      <th>Time of Day</th>\n      <th>Day of the Week</th>\n      <th>Month</th>\n      <th>Season</th>\n      <th>Flight Route</th>\n      <th>Route Mean Delay</th>\n      <th>Route Delay Frequency</th>\n      <th>Route Delay Ratio</th>\n      <th>Average Elapsed Time (Minutes)</th>\n      <th>Distance (km)</th>\n    </tr>\n  </thead>\n  <tbody>\n    <tr>\n      <th>0</th>\n      <td>ORD</td>\n      <td>79</td>\n      <td>-20</td>\n      <td>Early</td>\n      <td>1988-01-01 19:00:00</td>\n      <td>Evening</td>\n      <td>4</td>\n      <td>1</td>\n      <td>Winter</td>\n      <td>ORD-SYR</td>\n      <td>8.238029</td>\n      <td>4783</td>\n      <td>0.255325</td>\n      <td>99</td>\n      <td>974</td>\n    </tr>\n    <tr>\n      <th>1</th>\n      <td>ORD</td>\n      <td>95</td>\n      <td>7</td>\n      <td>On-time</td>\n      <td>1988-01-01 23:00:00</td>\n      <td>Night</td>\n      <td>4</td>\n      <td>1</td>\n      <td>Winter</td>\n      <td>ORD-SYR</td>\n      <td>8.238029</td>\n      <td>4783</td>\n      <td>0.255325</td>\n      <td>99</td>\n      <td>974</td>\n    </tr>\n    <tr>\n      <th>2</th>\n      <td>ORD</td>\n      <td>89</td>\n      <td>124</td>\n      <td>Severely Late</td>\n      <td>1989-01-01 18:00:00</td>\n      <td>Evening</td>\n      <td>6</td>\n      <td>1</td>\n      <td>Winter</td>\n      <td>ORD-SYR</td>\n      <td>8.238029</td>\n      <td>4783</td>\n      <td>0.255325</td>\n      <td>99</td>\n      <td>974</td>\n    </tr>\n    <tr>\n      <th>3</th>\n      <td>ORD</td>\n      <td>113</td>\n      <td>81</td>\n      <td>Severely Late</td>\n      <td>1989-01-01 21:00:00</td>\n      <td>Night</td>\n      <td>6</td>\n      <td>1</td>\n      <td>Winter</td>\n      <td>ORD-SYR</td>\n      <td>8.238029</td>\n      <td>4783</td>\n      <td>0.255325</td>\n      <td>99</td>\n      <td>974</td>\n    </tr>\n    <tr>\n      <th>4</th>\n      <td>ORD</td>\n      <td>96</td>\n      <td>-7</td>\n      <td>On-time</td>\n      <td>1989-01-01 09:00:00</td>\n      <td>Morning</td>\n      <td>6</td>\n      <td>1</td>\n      <td>Winter</td>\n      <td>ORD-SYR</td>\n      <td>8.238029</td>\n      <td>4783</td>\n      <td>0.255325</td>\n      <td>99</td>\n      <td>974</td>\n    </tr>\n    <tr>\n      <th>5</th>\n      <td>ORD</td>\n      <td>110</td>\n      <td>68</td>\n      <td>Severely Late</td>\n      <td>1989-01-02 00:00:00</td>\n      <td>Night</td>\n      <td>0</td>\n      <td>1</td>\n      <td>Winter</td>\n      <td>ORD-SYR</td>\n      <td>8.238029</td>\n      <td>4783</td>\n      <td>0.255325</td>\n      <td>99</td>\n      <td>974</td>\n    </tr>\n    <tr>\n      <th>6</th>\n      <td>IAD</td>\n      <td>120</td>\n      <td>88</td>\n      <td>Severely Late</td>\n      <td>1989-01-01 15:00:00</td>\n      <td>Afternoon</td>\n      <td>6</td>\n      <td>1</td>\n      <td>Winter</td>\n      <td>IAD-SYR</td>\n      <td>6.451291</td>\n      <td>235</td>\n      <td>0.195670</td>\n      <td>65</td>\n      <td>477</td>\n    </tr>\n    <tr>\n      <th>7</th>\n      <td>IAD</td>\n      <td>91</td>\n      <td>66</td>\n      <td>Severely Late</td>\n      <td>1989-01-02 00:00:00</td>\n      <td>Night</td>\n      <td>0</td>\n      <td>1</td>\n      <td>Winter</td>\n      <td>IAD-SYR</td>\n      <td>6.451291</td>\n      <td>235</td>\n      <td>0.195670</td>\n      <td>65</td>\n      <td>477</td>\n    </tr>\n    <tr>\n      <th>8</th>\n      <td>ORD</td>\n      <td>120</td>\n      <td>17</td>\n      <td>Late</td>\n      <td>1990-01-01 17:00:00</td>\n      <td>Evening</td>\n      <td>0</td>\n      <td>1</td>\n      <td>Winter</td>\n      <td>ORD-SYR</td>\n      <td>8.238029</td>\n      <td>4783</td>\n      <td>0.255325</td>\n      <td>99</td>\n      <td>974</td>\n    </tr>\n    <tr>\n      <th>9</th>\n      <td>ORD</td>\n      <td>100</td>\n      <td>8</td>\n      <td>On-time</td>\n      <td>1990-01-01 23:00:00</td>\n      <td>Night</td>\n      <td>0</td>\n      <td>1</td>\n      <td>Winter</td>\n      <td>ORD-SYR</td>\n      <td>8.238029</td>\n      <td>4783</td>\n      <td>0.255325</td>\n      <td>99</td>\n      <td>974</td>\n    </tr>\n  </tbody>\n</table>\n</div>"
     },
     "execution_count": 64,
     "metadata": {},
     "output_type": "execute_result"
    }
   ],
   "source": [
    "cords = {\n",
    "    'IATA': ['SYR', 'EWR', 'ORD', 'IAD', 'DEN'],\n",
    "    'Latitude': [43.1112, 40.6925, 41.9742, 38.9445, 39.8617],\n",
    "    'Longitude': [-76.1038, -74.1687, -87.9073, -77.4558, -104.6731]\n",
    "}\n",
    "\n",
    "airport_coords = pd.DataFrame(cords)\n",
    "airport_coords.set_index('IATA', inplace=True)\n",
    "\n",
    "\n",
    "def haversine(lat1, lon1, lat2, lon2):\n",
    "    R = 6371  # Earth radius in km\n",
    "    lat1, lon1, lat2, lon2 = np.radians([lat1, lon1, lat2, lon2])\n",
    "\n",
    "    dlat = lat2 - lat1\n",
    "    dlon = lon2 - lon1\n",
    "\n",
    "    a = np.sin(dlat / 2) ** 2 + np.cos(lat1) * np.cos(lat2) * np.sin(dlon / 2) ** 2\n",
    "    c = 2 * np.arctan2(np.sqrt(a), np.sqrt(1 - a))\n",
    "\n",
    "    return R * c\n",
    "\n",
    "\n",
    "def get_distance(row, airport_coords):\n",
    "    origin_airport = row['Origin Airport']\n",
    "\n",
    "    origin_coords = airport_coords.loc[origin_airport]\n",
    "    dest_coords = airport_coords.loc[DESTINATION_AIRPORT]\n",
    "\n",
    "    distance = haversine(origin_coords['Latitude'], origin_coords['Longitude'],\n",
    "                         dest_coords['Latitude'], dest_coords['Longitude'])\n",
    "    return round(distance)\n",
    "\n",
    "\n",
    "# Assuming airport_coords is a dataframe indexed by IATA code with 'Latitude' and 'Longitude' columns\n",
    "flight_data['Distance (km)'] = flight_data.apply(lambda row: get_distance(row, airport_coords), axis=1)\n",
    "\n",
    "# Show 10 rows of the dataframe\n",
    "flight_data.head(10)"
   ],
   "metadata": {
    "collapsed": false
   }
  },
  {
   "cell_type": "markdown",
   "source": [
    "## Add Departure Datetime\n"
   ],
   "metadata": {
    "collapsed": false
   }
  },
  {
   "cell_type": "code",
   "execution_count": 65,
   "outputs": [
    {
     "data": {
      "text/plain": "  Origin Airport         Status    Arrival Datetime Time of Day  \\\n0            ORD          Early 1988-01-01 19:00:00     Evening   \n1            ORD        On-time 1988-01-01 23:00:00       Night   \n2            ORD  Severely Late 1989-01-01 18:00:00     Evening   \n3            ORD  Severely Late 1989-01-01 21:00:00       Night   \n4            ORD        On-time 1989-01-01 09:00:00     Morning   \n5            ORD  Severely Late 1989-01-02 00:00:00       Night   \n6            IAD  Severely Late 1989-01-01 15:00:00   Afternoon   \n7            IAD  Severely Late 1989-01-02 00:00:00       Night   \n8            ORD           Late 1990-01-01 17:00:00     Evening   \n9            ORD        On-time 1990-01-01 23:00:00       Night   \n\n  Day of the Week Month  Season Flight Route  Route Mean Delay  \\\n0               4     1  Winter      ORD-SYR          8.238029   \n1               4     1  Winter      ORD-SYR          8.238029   \n2               6     1  Winter      ORD-SYR          8.238029   \n3               6     1  Winter      ORD-SYR          8.238029   \n4               6     1  Winter      ORD-SYR          8.238029   \n5               0     1  Winter      ORD-SYR          8.238029   \n6               6     1  Winter      IAD-SYR          6.451291   \n7               0     1  Winter      IAD-SYR          6.451291   \n8               0     1  Winter      ORD-SYR          8.238029   \n9               0     1  Winter      ORD-SYR          8.238029   \n\n   Route Delay Frequency  Route Delay Ratio  Average Elapsed Time (Minutes)  \\\n0                   4783           0.255325                              99   \n1                   4783           0.255325                              99   \n2                   4783           0.255325                              99   \n3                   4783           0.255325                              99   \n4                   4783           0.255325                              99   \n5                   4783           0.255325                              99   \n6                    235           0.195670                              65   \n7                    235           0.195670                              65   \n8                   4783           0.255325                              99   \n9                   4783           0.255325                              99   \n\n   Distance (km)  Departure Datetime  \n0            974 1988-01-01 17:00:00  \n1            974 1988-01-01 21:00:00  \n2            974 1989-01-01 16:00:00  \n3            974 1989-01-01 19:00:00  \n4            974 1989-01-01 07:00:00  \n5            974 1989-01-01 22:00:00  \n6            477 1989-01-01 14:00:00  \n7            477 1989-01-01 23:00:00  \n8            974 1990-01-01 15:00:00  \n9            974 1990-01-01 21:00:00  ",
      "text/html": "<div>\n<style scoped>\n    .dataframe tbody tr th:only-of-type {\n        vertical-align: middle;\n    }\n\n    .dataframe tbody tr th {\n        vertical-align: top;\n    }\n\n    .dataframe thead th {\n        text-align: right;\n    }\n</style>\n<table border=\"1\" class=\"dataframe\">\n  <thead>\n    <tr style=\"text-align: right;\">\n      <th></th>\n      <th>Origin Airport</th>\n      <th>Status</th>\n      <th>Arrival Datetime</th>\n      <th>Time of Day</th>\n      <th>Day of the Week</th>\n      <th>Month</th>\n      <th>Season</th>\n      <th>Flight Route</th>\n      <th>Route Mean Delay</th>\n      <th>Route Delay Frequency</th>\n      <th>Route Delay Ratio</th>\n      <th>Average Elapsed Time (Minutes)</th>\n      <th>Distance (km)</th>\n      <th>Departure Datetime</th>\n    </tr>\n  </thead>\n  <tbody>\n    <tr>\n      <th>0</th>\n      <td>ORD</td>\n      <td>Early</td>\n      <td>1988-01-01 19:00:00</td>\n      <td>Evening</td>\n      <td>4</td>\n      <td>1</td>\n      <td>Winter</td>\n      <td>ORD-SYR</td>\n      <td>8.238029</td>\n      <td>4783</td>\n      <td>0.255325</td>\n      <td>99</td>\n      <td>974</td>\n      <td>1988-01-01 17:00:00</td>\n    </tr>\n    <tr>\n      <th>1</th>\n      <td>ORD</td>\n      <td>On-time</td>\n      <td>1988-01-01 23:00:00</td>\n      <td>Night</td>\n      <td>4</td>\n      <td>1</td>\n      <td>Winter</td>\n      <td>ORD-SYR</td>\n      <td>8.238029</td>\n      <td>4783</td>\n      <td>0.255325</td>\n      <td>99</td>\n      <td>974</td>\n      <td>1988-01-01 21:00:00</td>\n    </tr>\n    <tr>\n      <th>2</th>\n      <td>ORD</td>\n      <td>Severely Late</td>\n      <td>1989-01-01 18:00:00</td>\n      <td>Evening</td>\n      <td>6</td>\n      <td>1</td>\n      <td>Winter</td>\n      <td>ORD-SYR</td>\n      <td>8.238029</td>\n      <td>4783</td>\n      <td>0.255325</td>\n      <td>99</td>\n      <td>974</td>\n      <td>1989-01-01 16:00:00</td>\n    </tr>\n    <tr>\n      <th>3</th>\n      <td>ORD</td>\n      <td>Severely Late</td>\n      <td>1989-01-01 21:00:00</td>\n      <td>Night</td>\n      <td>6</td>\n      <td>1</td>\n      <td>Winter</td>\n      <td>ORD-SYR</td>\n      <td>8.238029</td>\n      <td>4783</td>\n      <td>0.255325</td>\n      <td>99</td>\n      <td>974</td>\n      <td>1989-01-01 19:00:00</td>\n    </tr>\n    <tr>\n      <th>4</th>\n      <td>ORD</td>\n      <td>On-time</td>\n      <td>1989-01-01 09:00:00</td>\n      <td>Morning</td>\n      <td>6</td>\n      <td>1</td>\n      <td>Winter</td>\n      <td>ORD-SYR</td>\n      <td>8.238029</td>\n      <td>4783</td>\n      <td>0.255325</td>\n      <td>99</td>\n      <td>974</td>\n      <td>1989-01-01 07:00:00</td>\n    </tr>\n    <tr>\n      <th>5</th>\n      <td>ORD</td>\n      <td>Severely Late</td>\n      <td>1989-01-02 00:00:00</td>\n      <td>Night</td>\n      <td>0</td>\n      <td>1</td>\n      <td>Winter</td>\n      <td>ORD-SYR</td>\n      <td>8.238029</td>\n      <td>4783</td>\n      <td>0.255325</td>\n      <td>99</td>\n      <td>974</td>\n      <td>1989-01-01 22:00:00</td>\n    </tr>\n    <tr>\n      <th>6</th>\n      <td>IAD</td>\n      <td>Severely Late</td>\n      <td>1989-01-01 15:00:00</td>\n      <td>Afternoon</td>\n      <td>6</td>\n      <td>1</td>\n      <td>Winter</td>\n      <td>IAD-SYR</td>\n      <td>6.451291</td>\n      <td>235</td>\n      <td>0.195670</td>\n      <td>65</td>\n      <td>477</td>\n      <td>1989-01-01 14:00:00</td>\n    </tr>\n    <tr>\n      <th>7</th>\n      <td>IAD</td>\n      <td>Severely Late</td>\n      <td>1989-01-02 00:00:00</td>\n      <td>Night</td>\n      <td>0</td>\n      <td>1</td>\n      <td>Winter</td>\n      <td>IAD-SYR</td>\n      <td>6.451291</td>\n      <td>235</td>\n      <td>0.195670</td>\n      <td>65</td>\n      <td>477</td>\n      <td>1989-01-01 23:00:00</td>\n    </tr>\n    <tr>\n      <th>8</th>\n      <td>ORD</td>\n      <td>Late</td>\n      <td>1990-01-01 17:00:00</td>\n      <td>Evening</td>\n      <td>0</td>\n      <td>1</td>\n      <td>Winter</td>\n      <td>ORD-SYR</td>\n      <td>8.238029</td>\n      <td>4783</td>\n      <td>0.255325</td>\n      <td>99</td>\n      <td>974</td>\n      <td>1990-01-01 15:00:00</td>\n    </tr>\n    <tr>\n      <th>9</th>\n      <td>ORD</td>\n      <td>On-time</td>\n      <td>1990-01-01 23:00:00</td>\n      <td>Night</td>\n      <td>0</td>\n      <td>1</td>\n      <td>Winter</td>\n      <td>ORD-SYR</td>\n      <td>8.238029</td>\n      <td>4783</td>\n      <td>0.255325</td>\n      <td>99</td>\n      <td>974</td>\n      <td>1990-01-01 21:00:00</td>\n    </tr>\n  </tbody>\n</table>\n</div>"
     },
     "execution_count": 65,
     "metadata": {},
     "output_type": "execute_result"
    }
   ],
   "source": [
    "# Convert the 'Actual Elapsed Time (Minutes)' to a timedelta\n",
    "flight_data['Average Elapsed Time'] = pd.to_timedelta(flight_data['Average Elapsed Time (Minutes)'], unit='m')\n",
    "\n",
    "# Subtract the 'Actual Elapsed Time' from the 'Arrival Datetime' to create the 'Departure Datetime' column\n",
    "flight_data['Departure Datetime'] = flight_data['Arrival Datetime'] - flight_data['Average Elapsed Time']\n",
    "\n",
    "# Drop more unnecessary date columns\n",
    "flight_data.drop(columns=[\n",
    "    'Actual Elapsed Time (Minutes)',\n",
    "    'Arrival Delay (Minutes)',\n",
    "    'Average Elapsed Time'\n",
    "], inplace=True)\n",
    "\n",
    "# Round to the nearest hour for the weather data\n",
    "flight_data['Departure Datetime'] = flight_data['Departure Datetime'].dt.round(\"H\")\n",
    "\n",
    "# Show 10 rows of the dataframe\n",
    "flight_data.head(10)"
   ],
   "metadata": {
    "collapsed": false
   }
  },
  {
   "cell_type": "markdown",
   "source": [
    "## Origin Weather Data"
   ],
   "metadata": {
    "collapsed": false
   }
  },
  {
   "cell_type": "code",
   "execution_count": 66,
   "outputs": [
    {
     "data": {
      "text/plain": "  Origin Airport         Status    Arrival Datetime Time of Day  \\\n0            ORD          Early 1988-01-01 19:00:00     Evening   \n1            ORD        On-time 1988-01-01 23:00:00       Night   \n2            ORD  Severely Late 1989-01-01 18:00:00     Evening   \n3            ORD  Severely Late 1989-01-01 21:00:00       Night   \n4            ORD        On-time 1989-01-01 09:00:00     Morning   \n5            ORD  Severely Late 1989-01-02 00:00:00       Night   \n6            IAD  Severely Late 1989-01-01 15:00:00   Afternoon   \n7            IAD  Severely Late 1989-01-02 00:00:00       Night   \n8            ORD           Late 1990-01-01 17:00:00     Evening   \n9            ORD        On-time 1990-01-01 23:00:00       Night   \n\n  Day of the Week Month  Season Flight Route  Route Mean Delay  \\\n0               4     1  Winter      ORD-SYR          8.238029   \n1               4     1  Winter      ORD-SYR          8.238029   \n2               6     1  Winter      ORD-SYR          8.238029   \n3               6     1  Winter      ORD-SYR          8.238029   \n4               6     1  Winter      ORD-SYR          8.238029   \n5               0     1  Winter      ORD-SYR          8.238029   \n6               6     1  Winter      IAD-SYR          6.451291   \n7               0     1  Winter      IAD-SYR          6.451291   \n8               0     1  Winter      ORD-SYR          8.238029   \n9               0     1  Winter      ORD-SYR          8.238029   \n\n   Route Delay Frequency  ...  origin_snowfall (cm)  origin_cloudcover (%)  \\\n0                   4783  ...                  0.00                     41   \n1                   4783  ...                  0.00                      0   \n2                   4783  ...                  0.00                      1   \n3                   4783  ...                  0.00                      7   \n4                   4783  ...                  0.00                     12   \n5                   4783  ...                  0.00                     89   \n6                    235  ...                  0.35                    100   \n7                    235  ...                  0.00                     95   \n8                   4783  ...                  0.00                     90   \n9                   4783  ...                  0.00                     32   \n\n   origin_cloudcover_low (%)  origin_cloudcover_mid (%)  \\\n0                         45                          0   \n1                          0                          0   \n2                          0                          0   \n3                          6                          0   \n4                         13                          0   \n5                         79                          0   \n6                        100                         76   \n7                        100                          9   \n8                        100                          0   \n9                         35                          0   \n\n   origin_cloudcover_high (%)  origin_windspeed_10m (km/h)  \\\n0                           0                         20.9   \n1                           0                         18.5   \n2                           2                         14.7   \n3                           5                         17.1   \n4                           0                          6.9   \n5                          61                         18.2   \n6                           0                          6.8   \n7                           0                          1.3   \n8                           0                         15.6   \n9                           0                         16.7   \n\n   origin_winddirection_10m (°)  origin_windgusts_10m (km/h)  \\\n0                           255                         41.8   \n1                           263                         33.5   \n2                           216                         29.2   \n3                           221                         28.8   \n4                           186                         10.8   \n5                           240                         32.8   \n6                            72                         22.7   \n7                           304                          8.3   \n8                           263                         33.1   \n9                           217                         29.5   \n\n   origin_et0_fao_evapotranspiration (mm)  origin_vapor_pressure_deficit (kPa)  \n0                                    0.03                                 0.06  \n1                                    0.01                                 0.05  \n2                                    0.10                                 0.18  \n3                                    0.02                                 0.10  \n4                                    0.00                                 0.02  \n5                                    0.01                                 0.07  \n6                                    0.03                                 0.00  \n7                                    0.00                                 0.01  \n8                                    0.07                                 0.17  \n9                                    0.02                                 0.14  \n\n[10 rows x 31 columns]",
      "text/html": "<div>\n<style scoped>\n    .dataframe tbody tr th:only-of-type {\n        vertical-align: middle;\n    }\n\n    .dataframe tbody tr th {\n        vertical-align: top;\n    }\n\n    .dataframe thead th {\n        text-align: right;\n    }\n</style>\n<table border=\"1\" class=\"dataframe\">\n  <thead>\n    <tr style=\"text-align: right;\">\n      <th></th>\n      <th>Origin Airport</th>\n      <th>Status</th>\n      <th>Arrival Datetime</th>\n      <th>Time of Day</th>\n      <th>Day of the Week</th>\n      <th>Month</th>\n      <th>Season</th>\n      <th>Flight Route</th>\n      <th>Route Mean Delay</th>\n      <th>Route Delay Frequency</th>\n      <th>...</th>\n      <th>origin_snowfall (cm)</th>\n      <th>origin_cloudcover (%)</th>\n      <th>origin_cloudcover_low (%)</th>\n      <th>origin_cloudcover_mid (%)</th>\n      <th>origin_cloudcover_high (%)</th>\n      <th>origin_windspeed_10m (km/h)</th>\n      <th>origin_winddirection_10m (°)</th>\n      <th>origin_windgusts_10m (km/h)</th>\n      <th>origin_et0_fao_evapotranspiration (mm)</th>\n      <th>origin_vapor_pressure_deficit (kPa)</th>\n    </tr>\n  </thead>\n  <tbody>\n    <tr>\n      <th>0</th>\n      <td>ORD</td>\n      <td>Early</td>\n      <td>1988-01-01 19:00:00</td>\n      <td>Evening</td>\n      <td>4</td>\n      <td>1</td>\n      <td>Winter</td>\n      <td>ORD-SYR</td>\n      <td>8.238029</td>\n      <td>4783</td>\n      <td>...</td>\n      <td>0.00</td>\n      <td>41</td>\n      <td>45</td>\n      <td>0</td>\n      <td>0</td>\n      <td>20.9</td>\n      <td>255</td>\n      <td>41.8</td>\n      <td>0.03</td>\n      <td>0.06</td>\n    </tr>\n    <tr>\n      <th>1</th>\n      <td>ORD</td>\n      <td>On-time</td>\n      <td>1988-01-01 23:00:00</td>\n      <td>Night</td>\n      <td>4</td>\n      <td>1</td>\n      <td>Winter</td>\n      <td>ORD-SYR</td>\n      <td>8.238029</td>\n      <td>4783</td>\n      <td>...</td>\n      <td>0.00</td>\n      <td>0</td>\n      <td>0</td>\n      <td>0</td>\n      <td>0</td>\n      <td>18.5</td>\n      <td>263</td>\n      <td>33.5</td>\n      <td>0.01</td>\n      <td>0.05</td>\n    </tr>\n    <tr>\n      <th>2</th>\n      <td>ORD</td>\n      <td>Severely Late</td>\n      <td>1989-01-01 18:00:00</td>\n      <td>Evening</td>\n      <td>6</td>\n      <td>1</td>\n      <td>Winter</td>\n      <td>ORD-SYR</td>\n      <td>8.238029</td>\n      <td>4783</td>\n      <td>...</td>\n      <td>0.00</td>\n      <td>1</td>\n      <td>0</td>\n      <td>0</td>\n      <td>2</td>\n      <td>14.7</td>\n      <td>216</td>\n      <td>29.2</td>\n      <td>0.10</td>\n      <td>0.18</td>\n    </tr>\n    <tr>\n      <th>3</th>\n      <td>ORD</td>\n      <td>Severely Late</td>\n      <td>1989-01-01 21:00:00</td>\n      <td>Night</td>\n      <td>6</td>\n      <td>1</td>\n      <td>Winter</td>\n      <td>ORD-SYR</td>\n      <td>8.238029</td>\n      <td>4783</td>\n      <td>...</td>\n      <td>0.00</td>\n      <td>7</td>\n      <td>6</td>\n      <td>0</td>\n      <td>5</td>\n      <td>17.1</td>\n      <td>221</td>\n      <td>28.8</td>\n      <td>0.02</td>\n      <td>0.10</td>\n    </tr>\n    <tr>\n      <th>4</th>\n      <td>ORD</td>\n      <td>On-time</td>\n      <td>1989-01-01 09:00:00</td>\n      <td>Morning</td>\n      <td>6</td>\n      <td>1</td>\n      <td>Winter</td>\n      <td>ORD-SYR</td>\n      <td>8.238029</td>\n      <td>4783</td>\n      <td>...</td>\n      <td>0.00</td>\n      <td>12</td>\n      <td>13</td>\n      <td>0</td>\n      <td>0</td>\n      <td>6.9</td>\n      <td>186</td>\n      <td>10.8</td>\n      <td>0.00</td>\n      <td>0.02</td>\n    </tr>\n    <tr>\n      <th>5</th>\n      <td>ORD</td>\n      <td>Severely Late</td>\n      <td>1989-01-02 00:00:00</td>\n      <td>Night</td>\n      <td>0</td>\n      <td>1</td>\n      <td>Winter</td>\n      <td>ORD-SYR</td>\n      <td>8.238029</td>\n      <td>4783</td>\n      <td>...</td>\n      <td>0.00</td>\n      <td>89</td>\n      <td>79</td>\n      <td>0</td>\n      <td>61</td>\n      <td>18.2</td>\n      <td>240</td>\n      <td>32.8</td>\n      <td>0.01</td>\n      <td>0.07</td>\n    </tr>\n    <tr>\n      <th>6</th>\n      <td>IAD</td>\n      <td>Severely Late</td>\n      <td>1989-01-01 15:00:00</td>\n      <td>Afternoon</td>\n      <td>6</td>\n      <td>1</td>\n      <td>Winter</td>\n      <td>IAD-SYR</td>\n      <td>6.451291</td>\n      <td>235</td>\n      <td>...</td>\n      <td>0.35</td>\n      <td>100</td>\n      <td>100</td>\n      <td>76</td>\n      <td>0</td>\n      <td>6.8</td>\n      <td>72</td>\n      <td>22.7</td>\n      <td>0.03</td>\n      <td>0.00</td>\n    </tr>\n    <tr>\n      <th>7</th>\n      <td>IAD</td>\n      <td>Severely Late</td>\n      <td>1989-01-02 00:00:00</td>\n      <td>Night</td>\n      <td>0</td>\n      <td>1</td>\n      <td>Winter</td>\n      <td>IAD-SYR</td>\n      <td>6.451291</td>\n      <td>235</td>\n      <td>...</td>\n      <td>0.00</td>\n      <td>95</td>\n      <td>100</td>\n      <td>9</td>\n      <td>0</td>\n      <td>1.3</td>\n      <td>304</td>\n      <td>8.3</td>\n      <td>0.00</td>\n      <td>0.01</td>\n    </tr>\n    <tr>\n      <th>8</th>\n      <td>ORD</td>\n      <td>Late</td>\n      <td>1990-01-01 17:00:00</td>\n      <td>Evening</td>\n      <td>0</td>\n      <td>1</td>\n      <td>Winter</td>\n      <td>ORD-SYR</td>\n      <td>8.238029</td>\n      <td>4783</td>\n      <td>...</td>\n      <td>0.00</td>\n      <td>90</td>\n      <td>100</td>\n      <td>0</td>\n      <td>0</td>\n      <td>15.6</td>\n      <td>263</td>\n      <td>33.1</td>\n      <td>0.07</td>\n      <td>0.17</td>\n    </tr>\n    <tr>\n      <th>9</th>\n      <td>ORD</td>\n      <td>On-time</td>\n      <td>1990-01-01 23:00:00</td>\n      <td>Night</td>\n      <td>0</td>\n      <td>1</td>\n      <td>Winter</td>\n      <td>ORD-SYR</td>\n      <td>8.238029</td>\n      <td>4783</td>\n      <td>...</td>\n      <td>0.00</td>\n      <td>32</td>\n      <td>35</td>\n      <td>0</td>\n      <td>0</td>\n      <td>16.7</td>\n      <td>217</td>\n      <td>29.5</td>\n      <td>0.02</td>\n      <td>0.14</td>\n    </tr>\n  </tbody>\n</table>\n<p>10 rows × 31 columns</p>\n</div>"
     },
     "execution_count": 66,
     "metadata": {},
     "output_type": "execute_result"
    }
   ],
   "source": [
    "# Merge the flight_data and origin_weather_data dataframes on 'Departure Datetime' and 'Origin Airport' columns using a left join\n",
    "merged_data = pd.merge(flight_data, origin_weather_data,\n",
    "                       left_on=['Departure Datetime', 'Origin Airport'],\n",
    "                       right_on=['origin_time', 'origin_airport'],\n",
    "                       how='left')\n",
    "\n",
    "# Drop more unnecessary date columns\n",
    "merged_data.drop(columns=[\n",
    "    'Departure Datetime',\n",
    "    'origin_time',\n",
    "    'origin_airport'\n",
    "], inplace=True)\n",
    "\n",
    "# Show 10 rows of the dataframe\n",
    "merged_data.head(10)"
   ],
   "metadata": {
    "collapsed": false
   }
  },
  {
   "cell_type": "markdown",
   "source": [
    "## Destination Weather Data"
   ],
   "metadata": {
    "collapsed": false
   }
  },
  {
   "cell_type": "code",
   "execution_count": 67,
   "outputs": [
    {
     "data": {
      "text/plain": "          Status Time of Day Day of the Week Month  Season Flight Route  \\\n0          Early     Evening               4     1  Winter      ORD-SYR   \n1        On-time       Night               4     1  Winter      ORD-SYR   \n2  Severely Late     Evening               6     1  Winter      ORD-SYR   \n3  Severely Late       Night               6     1  Winter      ORD-SYR   \n4        On-time     Morning               6     1  Winter      ORD-SYR   \n5  Severely Late       Night               0     1  Winter      ORD-SYR   \n6  Severely Late   Afternoon               6     1  Winter      IAD-SYR   \n7  Severely Late       Night               0     1  Winter      IAD-SYR   \n8           Late     Evening               0     1  Winter      ORD-SYR   \n9        On-time       Night               0     1  Winter      ORD-SYR   \n\n   Route Mean Delay  Route Delay Frequency  Route Delay Ratio  \\\n0          8.238029                   4783           0.255325   \n1          8.238029                   4783           0.255325   \n2          8.238029                   4783           0.255325   \n3          8.238029                   4783           0.255325   \n4          8.238029                   4783           0.255325   \n5          8.238029                   4783           0.255325   \n6          6.451291                    235           0.195670   \n7          6.451291                    235           0.195670   \n8          8.238029                   4783           0.255325   \n9          8.238029                   4783           0.255325   \n\n   Average Elapsed Time (Minutes)  ...  destination_snowfall (cm)  \\\n0                              99  ...                       0.00   \n1                              99  ...                       0.00   \n2                              99  ...                       0.00   \n3                              99  ...                       0.00   \n4                              99  ...                       0.00   \n5                              99  ...                       0.00   \n6                              65  ...                       0.00   \n7                              65  ...                       0.00   \n8                              99  ...                       0.07   \n9                              99  ...                       0.07   \n\n   destination_cloudcover (%)  destination_cloudcover_low (%)  \\\n0                          77                              79   \n1                          90                              89   \n2                          52                              42   \n3                         100                              85   \n4                          38                               8   \n5                          95                              71   \n6                          17                              17   \n7                          95                              71   \n8                          87                              83   \n9                          79                              88   \n\n   destination_cloudcover_mid (%)  destination_cloudcover_high (%)  \\\n0                               9                                0   \n1                              16                                0   \n2                              24                                0   \n3                              21                               63   \n4                              45                               11   \n5                               4                               94   \n6                               2                                0   \n7                               4                               94   \n8                              20                                0   \n9                               0                                0   \n\n   destination_windspeed_10m (km/h)  destination_winddirection_10m (°)  \\\n0                              15.4                                254   \n1                              17.2                                259   \n2                               9.7                                141   \n3                              14.9                                173   \n4                              10.0                                120   \n5                              15.8                                180   \n6                              10.6                                145   \n7                              15.8                                180   \n8                              21.6                                294   \n9                              16.3                                298   \n\n   destination_windgusts_10m (km/h)  \\\n0                              31.7   \n1                              38.9   \n2                              21.2   \n3                              31.3   \n4                              18.4   \n5                              34.2   \n6                              24.1   \n7                              34.2   \n8                              51.5   \n9                              37.8   \n\n   destination_et0_fao_evapotranspiration (mm)  \\\n0                                         0.02   \n1                                         0.02   \n2                                         0.01   \n3                                         0.01   \n4                                         0.00   \n5                                         0.01   \n6                                         0.11   \n7                                         0.01   \n8                                         0.03   \n9                                         0.01   \n\n   destination_vapor_pressure_deficit (kPa)  \n0                                      0.16  \n1                                      0.16  \n2                                      0.12  \n3                                      0.14  \n4                                      0.03  \n5                                      0.12  \n6                                      0.25  \n7                                      0.12  \n8                                      0.12  \n9                                      0.08  \n\n[10 rows x 47 columns]",
      "text/html": "<div>\n<style scoped>\n    .dataframe tbody tr th:only-of-type {\n        vertical-align: middle;\n    }\n\n    .dataframe tbody tr th {\n        vertical-align: top;\n    }\n\n    .dataframe thead th {\n        text-align: right;\n    }\n</style>\n<table border=\"1\" class=\"dataframe\">\n  <thead>\n    <tr style=\"text-align: right;\">\n      <th></th>\n      <th>Status</th>\n      <th>Time of Day</th>\n      <th>Day of the Week</th>\n      <th>Month</th>\n      <th>Season</th>\n      <th>Flight Route</th>\n      <th>Route Mean Delay</th>\n      <th>Route Delay Frequency</th>\n      <th>Route Delay Ratio</th>\n      <th>Average Elapsed Time (Minutes)</th>\n      <th>...</th>\n      <th>destination_snowfall (cm)</th>\n      <th>destination_cloudcover (%)</th>\n      <th>destination_cloudcover_low (%)</th>\n      <th>destination_cloudcover_mid (%)</th>\n      <th>destination_cloudcover_high (%)</th>\n      <th>destination_windspeed_10m (km/h)</th>\n      <th>destination_winddirection_10m (°)</th>\n      <th>destination_windgusts_10m (km/h)</th>\n      <th>destination_et0_fao_evapotranspiration (mm)</th>\n      <th>destination_vapor_pressure_deficit (kPa)</th>\n    </tr>\n  </thead>\n  <tbody>\n    <tr>\n      <th>0</th>\n      <td>Early</td>\n      <td>Evening</td>\n      <td>4</td>\n      <td>1</td>\n      <td>Winter</td>\n      <td>ORD-SYR</td>\n      <td>8.238029</td>\n      <td>4783</td>\n      <td>0.255325</td>\n      <td>99</td>\n      <td>...</td>\n      <td>0.00</td>\n      <td>77</td>\n      <td>79</td>\n      <td>9</td>\n      <td>0</td>\n      <td>15.4</td>\n      <td>254</td>\n      <td>31.7</td>\n      <td>0.02</td>\n      <td>0.16</td>\n    </tr>\n    <tr>\n      <th>1</th>\n      <td>On-time</td>\n      <td>Night</td>\n      <td>4</td>\n      <td>1</td>\n      <td>Winter</td>\n      <td>ORD-SYR</td>\n      <td>8.238029</td>\n      <td>4783</td>\n      <td>0.255325</td>\n      <td>99</td>\n      <td>...</td>\n      <td>0.00</td>\n      <td>90</td>\n      <td>89</td>\n      <td>16</td>\n      <td>0</td>\n      <td>17.2</td>\n      <td>259</td>\n      <td>38.9</td>\n      <td>0.02</td>\n      <td>0.16</td>\n    </tr>\n    <tr>\n      <th>2</th>\n      <td>Severely Late</td>\n      <td>Evening</td>\n      <td>6</td>\n      <td>1</td>\n      <td>Winter</td>\n      <td>ORD-SYR</td>\n      <td>8.238029</td>\n      <td>4783</td>\n      <td>0.255325</td>\n      <td>99</td>\n      <td>...</td>\n      <td>0.00</td>\n      <td>52</td>\n      <td>42</td>\n      <td>24</td>\n      <td>0</td>\n      <td>9.7</td>\n      <td>141</td>\n      <td>21.2</td>\n      <td>0.01</td>\n      <td>0.12</td>\n    </tr>\n    <tr>\n      <th>3</th>\n      <td>Severely Late</td>\n      <td>Night</td>\n      <td>6</td>\n      <td>1</td>\n      <td>Winter</td>\n      <td>ORD-SYR</td>\n      <td>8.238029</td>\n      <td>4783</td>\n      <td>0.255325</td>\n      <td>99</td>\n      <td>...</td>\n      <td>0.00</td>\n      <td>100</td>\n      <td>85</td>\n      <td>21</td>\n      <td>63</td>\n      <td>14.9</td>\n      <td>173</td>\n      <td>31.3</td>\n      <td>0.01</td>\n      <td>0.14</td>\n    </tr>\n    <tr>\n      <th>4</th>\n      <td>On-time</td>\n      <td>Morning</td>\n      <td>6</td>\n      <td>1</td>\n      <td>Winter</td>\n      <td>ORD-SYR</td>\n      <td>8.238029</td>\n      <td>4783</td>\n      <td>0.255325</td>\n      <td>99</td>\n      <td>...</td>\n      <td>0.00</td>\n      <td>38</td>\n      <td>8</td>\n      <td>45</td>\n      <td>11</td>\n      <td>10.0</td>\n      <td>120</td>\n      <td>18.4</td>\n      <td>0.00</td>\n      <td>0.03</td>\n    </tr>\n    <tr>\n      <th>5</th>\n      <td>Severely Late</td>\n      <td>Night</td>\n      <td>0</td>\n      <td>1</td>\n      <td>Winter</td>\n      <td>ORD-SYR</td>\n      <td>8.238029</td>\n      <td>4783</td>\n      <td>0.255325</td>\n      <td>99</td>\n      <td>...</td>\n      <td>0.00</td>\n      <td>95</td>\n      <td>71</td>\n      <td>4</td>\n      <td>94</td>\n      <td>15.8</td>\n      <td>180</td>\n      <td>34.2</td>\n      <td>0.01</td>\n      <td>0.12</td>\n    </tr>\n    <tr>\n      <th>6</th>\n      <td>Severely Late</td>\n      <td>Afternoon</td>\n      <td>6</td>\n      <td>1</td>\n      <td>Winter</td>\n      <td>IAD-SYR</td>\n      <td>6.451291</td>\n      <td>235</td>\n      <td>0.195670</td>\n      <td>65</td>\n      <td>...</td>\n      <td>0.00</td>\n      <td>17</td>\n      <td>17</td>\n      <td>2</td>\n      <td>0</td>\n      <td>10.6</td>\n      <td>145</td>\n      <td>24.1</td>\n      <td>0.11</td>\n      <td>0.25</td>\n    </tr>\n    <tr>\n      <th>7</th>\n      <td>Severely Late</td>\n      <td>Night</td>\n      <td>0</td>\n      <td>1</td>\n      <td>Winter</td>\n      <td>IAD-SYR</td>\n      <td>6.451291</td>\n      <td>235</td>\n      <td>0.195670</td>\n      <td>65</td>\n      <td>...</td>\n      <td>0.00</td>\n      <td>95</td>\n      <td>71</td>\n      <td>4</td>\n      <td>94</td>\n      <td>15.8</td>\n      <td>180</td>\n      <td>34.2</td>\n      <td>0.01</td>\n      <td>0.12</td>\n    </tr>\n    <tr>\n      <th>8</th>\n      <td>Late</td>\n      <td>Evening</td>\n      <td>0</td>\n      <td>1</td>\n      <td>Winter</td>\n      <td>ORD-SYR</td>\n      <td>8.238029</td>\n      <td>4783</td>\n      <td>0.255325</td>\n      <td>99</td>\n      <td>...</td>\n      <td>0.07</td>\n      <td>87</td>\n      <td>83</td>\n      <td>20</td>\n      <td>0</td>\n      <td>21.6</td>\n      <td>294</td>\n      <td>51.5</td>\n      <td>0.03</td>\n      <td>0.12</td>\n    </tr>\n    <tr>\n      <th>9</th>\n      <td>On-time</td>\n      <td>Night</td>\n      <td>0</td>\n      <td>1</td>\n      <td>Winter</td>\n      <td>ORD-SYR</td>\n      <td>8.238029</td>\n      <td>4783</td>\n      <td>0.255325</td>\n      <td>99</td>\n      <td>...</td>\n      <td>0.07</td>\n      <td>79</td>\n      <td>88</td>\n      <td>0</td>\n      <td>0</td>\n      <td>16.3</td>\n      <td>298</td>\n      <td>37.8</td>\n      <td>0.01</td>\n      <td>0.08</td>\n    </tr>\n  </tbody>\n</table>\n<p>10 rows × 47 columns</p>\n</div>"
     },
     "execution_count": 67,
     "metadata": {},
     "output_type": "execute_result"
    }
   ],
   "source": [
    "# Merge the merged_data and destination_weather_data dataframes on 'Arrival Datetime', and 'destination_time' columns using a left join\n",
    "data = pd.merge(merged_data, destination_weather_data,\n",
    "                left_on='Arrival Datetime',\n",
    "                right_on='destination_time',\n",
    "                how='left')\n",
    "\n",
    "# Drop more unnecessary columns\n",
    "data.drop(columns=[\n",
    "    'Origin Airport',\n",
    "    'Arrival Datetime',\n",
    "    'destination_time',\n",
    "], inplace=True)\n",
    "\n",
    "# Show 10 rows of the dataframe\n",
    "data.head(10)"
   ],
   "metadata": {
    "collapsed": false
   }
  },
  {
   "cell_type": "markdown",
   "source": [
    "# Check Data"
   ],
   "metadata": {
    "collapsed": false
   }
  },
  {
   "cell_type": "code",
   "execution_count": 68,
   "outputs": [
    {
     "data": {
      "text/plain": "Index(['Status', 'Time of Day', 'Day of the Week', 'Month', 'Season',\n       'Flight Route', 'Route Mean Delay', 'Route Delay Frequency',\n       'Route Delay Ratio', 'Average Elapsed Time (Minutes)', 'Distance (km)',\n       'origin_temperature_2m (°C)', 'origin_relativehumidity_2m (%)',\n       'origin_dewpoint_2m (°C)', 'origin_apparent_temperature (°C)',\n       'origin_pressure_msl (hPa)', 'origin_surface_pressure (hPa)',\n       'origin_precipitation (mm)', 'origin_rain (mm)', 'origin_snowfall (cm)',\n       'origin_cloudcover (%)', 'origin_cloudcover_low (%)',\n       'origin_cloudcover_mid (%)', 'origin_cloudcover_high (%)',\n       'origin_windspeed_10m (km/h)', 'origin_winddirection_10m (°)',\n       'origin_windgusts_10m (km/h)', 'origin_et0_fao_evapotranspiration (mm)',\n       'origin_vapor_pressure_deficit (kPa)',\n       'destination_temperature_2m (°C)',\n       'destination_relativehumidity_2m (%)', 'destination_dewpoint_2m (°C)',\n       'destination_apparent_temperature (°C)',\n       'destination_pressure_msl (hPa)', 'destination_surface_pressure (hPa)',\n       'destination_precipitation (mm)', 'destination_rain (mm)',\n       'destination_snowfall (cm)', 'destination_cloudcover (%)',\n       'destination_cloudcover_low (%)', 'destination_cloudcover_mid (%)',\n       'destination_cloudcover_high (%)', 'destination_windspeed_10m (km/h)',\n       'destination_winddirection_10m (°)', 'destination_windgusts_10m (km/h)',\n       'destination_et0_fao_evapotranspiration (mm)',\n       'destination_vapor_pressure_deficit (kPa)'],\n      dtype='object')"
     },
     "metadata": {},
     "output_type": "display_data"
    },
    {
     "data": {
      "text/plain": "<Figure size 800x600 with 1 Axes>",
      "image/png": "[encoded data removed]"
     },
     "metadata": {},
     "output_type": "display_data"
    },
    {
     "name": "stdout",
     "output_type": "stream",
     "text": [
      "Length of flight data:  20352\n",
      "Length of merged data:  20352\n",
      "Total NaN values:  0\n"
     ]
    }
   ],
   "source": [
    "display(data.columns)\n",
    "\n",
    "fig, ax = plt.subplots(figsize=(8, 6))\n",
    "data['Status'].hist(ax=ax)\n",
    "plt.show()\n",
    "\n",
    "print(\"Length of flight data: \", len(flight_data))\n",
    "print(\"Length of merged data: \", len(data))\n",
    "print(\"Total NaN values: \", data.isna().sum().sum())"
   ],
   "metadata": {
    "collapsed": false
   }
  },
  {
   "cell_type": "markdown",
   "source": [
    "# Choose features to train on"
   ],
   "metadata": {
    "collapsed": false
   }
  },
  {
   "cell_type": "code",
   "execution_count": 69,
   "outputs": [],
   "source": [
    "columns_to_drop = ['Time of Day', 'Day of the Week', 'Month', 'Flight Route', 'Distance (km)']\n",
    "data.drop(columns=columns_to_drop, inplace=True)"
   ],
   "metadata": {
    "collapsed": false
   }
  },
  {
   "cell_type": "markdown",
   "source": [
    "# One Hot Encoding"
   ],
   "metadata": {
    "collapsed": false
   }
  },
  {
   "cell_type": "code",
   "execution_count": 70,
   "outputs": [
    {
     "data": {
      "text/plain": "          Status  Route Mean Delay  Route Delay Frequency  Route Delay Ratio  \\\n0          Early          8.238029                   4783           0.255325   \n1        On-time          8.238029                   4783           0.255325   \n2  Severely Late          8.238029                   4783           0.255325   \n3  Severely Late          8.238029                   4783           0.255325   \n4        On-time          8.238029                   4783           0.255325   \n\n   Average Elapsed Time (Minutes)  origin_temperature_2m (°C)  \\\n0                              99                       -14.8   \n1                              99                       -16.3   \n2                              99                         0.7   \n3                              99                        -1.7   \n4                              99                        -6.0   \n\n   origin_relativehumidity_2m (%)  origin_dewpoint_2m (°C)  \\\n0                              67                    -19.5   \n1                              72                    -20.1   \n2                              72                     -3.7   \n3                              82                     -4.3   \n4                              94                     -6.9   \n\n   origin_apparent_temperature (°C)  origin_pressure_msl (hPa)  ...  \\\n0                             -21.7                     1034.6  ...   \n1                             -22.8                     1035.4  ...   \n2                              -4.1                     1016.6  ...   \n3                              -6.9                     1016.2  ...   \n4                             -10.0                     1018.9  ...   \n\n   destination_cloudcover_high (%)  destination_windspeed_10m (km/h)  \\\n0                                0                              15.4   \n1                                0                              17.2   \n2                                0                               9.7   \n3                               63                              14.9   \n4                               11                              10.0   \n\n   destination_winddirection_10m (°)  destination_windgusts_10m (km/h)  \\\n0                                254                              31.7   \n1                                259                              38.9   \n2                                141                              21.2   \n3                                173                              31.3   \n4                                120                              18.4   \n\n   destination_et0_fao_evapotranspiration (mm)  \\\n0                                         0.02   \n1                                         0.02   \n2                                         0.01   \n3                                         0.01   \n4                                         0.00   \n\n   destination_vapor_pressure_deficit (kPa)  Season_Fall  Season_Spring  \\\n0                                      0.16          0.0            0.0   \n1                                      0.16          0.0            0.0   \n2                                      0.12          0.0            0.0   \n3                                      0.14          0.0            0.0   \n4                                      0.03          0.0            0.0   \n\n   Season_Summer  Season_Winter  \n0            0.0            1.0  \n1            0.0            1.0  \n2            0.0            1.0  \n3            0.0            1.0  \n4            0.0            1.0  \n\n[5 rows x 45 columns]",
      "text/html": "<div>\n<style scoped>\n    .dataframe tbody tr th:only-of-type {\n        vertical-align: middle;\n    }\n\n    .dataframe tbody tr th {\n        vertical-align: top;\n    }\n\n    .dataframe thead th {\n        text-align: right;\n    }\n</style>\n<table border=\"1\" class=\"dataframe\">\n  <thead>\n    <tr style=\"text-align: right;\">\n      <th></th>\n      <th>Status</th>\n      <th>Route Mean Delay</th>\n      <th>Route Delay Frequency</th>\n      <th>Route Delay Ratio</th>\n      <th>Average Elapsed Time (Minutes)</th>\n      <th>origin_temperature_2m (°C)</th>\n      <th>origin_relativehumidity_2m (%)</th>\n      <th>origin_dewpoint_2m (°C)</th>\n      <th>origin_apparent_temperature (°C)</th>\n      <th>origin_pressure_msl (hPa)</th>\n      <th>...</th>\n      <th>destination_cloudcover_high (%)</th>\n      <th>destination_windspeed_10m (km/h)</th>\n      <th>destination_winddirection_10m (°)</th>\n      <th>destination_windgusts_10m (km/h)</th>\n      <th>destination_et0_fao_evapotranspiration (mm)</th>\n      <th>destination_vapor_pressure_deficit (kPa)</th>\n      <th>Season_Fall</th>\n      <th>Season_Spring</th>\n      <th>Season_Summer</th>\n      <th>Season_Winter</th>\n    </tr>\n  </thead>\n  <tbody>\n    <tr>\n      <th>0</th>\n      <td>Early</td>\n      <td>8.238029</td>\n      <td>4783</td>\n      <td>0.255325</td>\n      <td>99</td>\n      <td>-14.8</td>\n      <td>67</td>\n      <td>-19.5</td>\n      <td>-21.7</td>\n      <td>1034.6</td>\n      <td>...</td>\n      <td>0</td>\n      <td>15.4</td>\n      <td>254</td>\n      <td>31.7</td>\n      <td>0.02</td>\n      <td>0.16</td>\n      <td>0.0</td>\n      <td>0.0</td>\n      <td>0.0</td>\n      <td>1.0</td>\n    </tr>\n    <tr>\n      <th>1</th>\n      <td>On-time</td>\n      <td>8.238029</td>\n      <td>4783</td>\n      <td>0.255325</td>\n      <td>99</td>\n      <td>-16.3</td>\n      <td>72</td>\n      <td>-20.1</td>\n      <td>-22.8</td>\n      <td>1035.4</td>\n      <td>...</td>\n      <td>0</td>\n      <td>17.2</td>\n      <td>259</td>\n      <td>38.9</td>\n      <td>0.02</td>\n      <td>0.16</td>\n      <td>0.0</td>\n      <td>0.0</td>\n      <td>0.0</td>\n      <td>1.0</td>\n    </tr>\n    <tr>\n      <th>2</th>\n      <td>Severely Late</td>\n      <td>8.238029</td>\n      <td>4783</td>\n      <td>0.255325</td>\n      <td>99</td>\n      <td>0.7</td>\n      <td>72</td>\n      <td>-3.7</td>\n      <td>-4.1</td>\n      <td>1016.6</td>\n      <td>...</td>\n      <td>0</td>\n      <td>9.7</td>\n      <td>141</td>\n      <td>21.2</td>\n      <td>0.01</td>\n      <td>0.12</td>\n      <td>0.0</td>\n      <td>0.0</td>\n      <td>0.0</td>\n      <td>1.0</td>\n    </tr>\n    <tr>\n      <th>3</th>\n      <td>Severely Late</td>\n      <td>8.238029</td>\n      <td>4783</td>\n      <td>0.255325</td>\n      <td>99</td>\n      <td>-1.7</td>\n      <td>82</td>\n      <td>-4.3</td>\n      <td>-6.9</td>\n      <td>1016.2</td>\n      <td>...</td>\n      <td>63</td>\n      <td>14.9</td>\n      <td>173</td>\n      <td>31.3</td>\n      <td>0.01</td>\n      <td>0.14</td>\n      <td>0.0</td>\n      <td>0.0</td>\n      <td>0.0</td>\n      <td>1.0</td>\n    </tr>\n    <tr>\n      <th>4</th>\n      <td>On-time</td>\n      <td>8.238029</td>\n      <td>4783</td>\n      <td>0.255325</td>\n      <td>99</td>\n      <td>-6.0</td>\n      <td>94</td>\n      <td>-6.9</td>\n      <td>-10.0</td>\n      <td>1018.9</td>\n      <td>...</td>\n      <td>11</td>\n      <td>10.0</td>\n      <td>120</td>\n      <td>18.4</td>\n      <td>0.00</td>\n      <td>0.03</td>\n      <td>0.0</td>\n      <td>0.0</td>\n      <td>0.0</td>\n      <td>1.0</td>\n    </tr>\n  </tbody>\n</table>\n<p>5 rows × 45 columns</p>\n</div>"
     },
     "execution_count": 70,
     "metadata": {},
     "output_type": "execute_result"
    }
   ],
   "source": [
    "# List of columns to one-hot encode\n",
    "# columns_to_encode = ['Day of the Week', 'Time of Day', 'Month', 'Season', 'Flight Route']\n",
    "columns_to_encode = ['Season']\n",
    "\n",
    "# Create an instance of OneHotEncoder\n",
    "OHE = OneHotEncoder(sparse=False)\n",
    "\n",
    "# Fit the encoder to your data\n",
    "OHE.fit(data[columns_to_encode])\n",
    "\n",
    "# Transform your data using the encoder\n",
    "encoded_data = OHE.transform(data[columns_to_encode])\n",
    "\n",
    "# Create a new dataframe with transformed data and column names\n",
    "encoded_df = pd.DataFrame(encoded_data, columns=OHE.get_feature_names_out(columns_to_encode))\n",
    "\n",
    "# Reset index on the original dataframe\n",
    "data.reset_index(drop=True, inplace=True)\n",
    "\n",
    "# Merge the new dataframe with the original dataframe\n",
    "data = pd.concat([data, encoded_df], axis=1)\n",
    "\n",
    "# Drop the original columns\n",
    "data.drop(columns=columns_to_encode, inplace=True)\n",
    "\n",
    "# Show the modified dataframe\n",
    "data.head()"
   ],
   "metadata": {
    "collapsed": false
   }
  },
  {
   "cell_type": "markdown",
   "source": [
    "# Split data into testing and training"
   ],
   "metadata": {
    "collapsed": false
   }
  },
  {
   "cell_type": "code",
   "execution_count": 71,
   "outputs": [
    {
     "name": "stdout",
     "output_type": "stream",
     "text": [
      "Length of train dataset:  16281\n",
      "Length of test dataset:  4071\n"
     ]
    }
   ],
   "source": [
    "X = data.drop(columns=['Status'])\n",
    "y = data['Status']\n",
    "\n",
    "# Split data into training and testing sets\n",
    "X_train, X_test, y_train, y_test = train_test_split(X, y, test_size=0.2, random_state=42, stratify=y)\n",
    "\n",
    "# Print the length of the train and test data\n",
    "print(\"Length of train dataset: \", len(X_train))\n",
    "print(\"Length of test dataset: \", len(X_test))"
   ],
   "metadata": {
    "collapsed": false
   }
  },
  {
   "cell_type": "markdown",
   "source": [
    "# Normalize data"
   ],
   "metadata": {
    "collapsed": false
   }
  },
  {
   "cell_type": "code",
   "execution_count": 72,
   "outputs": [
    {
     "data": {
      "text/plain": "       Route Mean Delay  Route Delay Frequency  Route Delay Ratio  \\\n14100          0.046873               0.044538           0.000000   \n9830           0.188215               1.000000           0.364403   \n16218          0.188215               1.000000           0.364403   \n16870          0.188215               1.000000           0.364403   \n7831           0.188215               1.000000           0.364403   \n4073           0.188215               1.000000           0.364403   \n5084           0.188215               1.000000           0.364403   \n1965           0.188215               1.000000           0.364403   \n18400          0.188215               1.000000           0.364403   \n11829          0.188215               1.000000           0.364403   \n\n       Average Elapsed Time (Minutes)  origin_temperature_2m (°C)  \\\n14100                        0.007812                    0.784314   \n9830                         0.273438                    0.736695   \n16218                        0.273438                    0.610644   \n16870                        0.273438                    0.511204   \n7831                         0.273438                    0.655462   \n4073                         0.273438                    0.359944   \n5084                         0.273438                    0.463585   \n1965                         0.273438                    0.438375   \n18400                        0.273438                    0.519608   \n11829                        0.273438                    0.899160   \n\n       origin_relativehumidity_2m (%)  origin_dewpoint_2m (°C)  \\\n14100                        0.911111                 0.922835   \n9830                         0.955556                 0.880315   \n16218                        0.511111                 0.615748   \n16870                        0.377778                 0.461417   \n7831                         0.800000                 0.751181   \n4073                         0.411111                 0.319685   \n5084                         0.866667                 0.554331   \n1965                         0.888889                 0.532283   \n18400                        0.688889                 0.574803   \n11829                        0.244444                 0.779528   \n\n       origin_apparent_temperature (°C)  origin_pressure_msl (hPa)  \\\n14100                          0.794370                   0.400951   \n9830                           0.738066                   0.397781   \n16218                          0.576499                   0.570523   \n16870                          0.449204                   0.443740   \n7831                           0.626683                   0.426307   \n4073                           0.301102                   0.760697   \n5084                           0.433293                   0.578447   \n1965                           0.403917                   0.492868   \n18400                          0.487148                   0.470681   \n11829                          0.876377                   0.467512   \n\n       origin_surface_pressure (hPa)  ...  destination_cloudcover_high (%)  \\\n14100                       0.850585  ...                             1.00   \n9830                        0.789227  ...                             0.98   \n16218                       0.835129  ...                             0.00   \n16870                       0.795785  ...                             0.00   \n7831                        0.794848  ...                             0.00   \n4073                        0.882436  ...                             0.99   \n5084                        0.833255  ...                             0.45   \n1965                        0.807963  ...                             1.00   \n18400                       0.803747  ...                             0.00   \n11829                       0.813115  ...                             0.74   \n\n       destination_windspeed_10m (km/h)  destination_winddirection_10m (°)  \\\n14100                          0.273869                           0.983287   \n9830                           0.489950                           0.420613   \n16218                          0.233668                           0.963788   \n16870                          0.281407                           0.754875   \n7831                           0.067839                           0.562674   \n4073                           0.454774                           0.863510   \n5084                           0.113065                           0.167131   \n1965                           0.311558                           0.437326   \n18400                          0.409548                           0.818942   \n11829                          0.130653                           0.654596   \n\n       destination_windgusts_10m (km/h)  \\\n14100                          0.267778   \n9830                           0.424444   \n16218                          0.255556   \n16870                          0.272222   \n7831                           0.112222   \n4073                           0.300000   \n5084                           0.112222   \n1965                           0.264444   \n18400                          0.355556   \n11829                          0.192222   \n\n       destination_et0_fao_evapotranspiration (mm)  \\\n14100                                       0.0000   \n9830                                        0.3750   \n16218                                       0.0250   \n16870                                       0.0250   \n7831                                        0.2750   \n4073                                        0.0375   \n5084                                        0.2250   \n1965                                        0.0250   \n18400                                       0.0125   \n11829                                       0.1000   \n\n       destination_vapor_pressure_deficit (kPa)  Season_Fall  Season_Spring  \\\n14100                                  0.002558          1.0            0.0   \n9830                                   0.294118          0.0            0.0   \n16218                                  0.097187          1.0            0.0   \n16870                                  0.076726          1.0            0.0   \n7831                                   0.125320          0.0            1.0   \n4073                                   0.015345          0.0            1.0   \n5084                                   0.069054          0.0            1.0   \n1965                                   0.023018          0.0            0.0   \n18400                                  0.038363          1.0            0.0   \n11829                                  0.069054          0.0            0.0   \n\n       Season_Summer  Season_Winter  \n14100            0.0            0.0  \n9830             1.0            0.0  \n16218            0.0            0.0  \n16870            0.0            0.0  \n7831             0.0            0.0  \n4073             0.0            0.0  \n5084             0.0            0.0  \n1965             0.0            1.0  \n18400            0.0            0.0  \n11829            1.0            0.0  \n\n[10 rows x 44 columns]",
      "text/html": "<div>\n<style scoped>\n    .dataframe tbody tr th:only-of-type {\n        vertical-align: middle;\n    }\n\n    .dataframe tbody tr th {\n        vertical-align: top;\n    }\n\n    .dataframe thead th {\n        text-align: right;\n    }\n</style>\n<table border=\"1\" class=\"dataframe\">\n  <thead>\n    <tr style=\"text-align: right;\">\n      <th></th>\n      <th>Route Mean Delay</th>\n      <th>Route Delay Frequency</th>\n      <th>Route Delay Ratio</th>\n      <th>Average Elapsed Time (Minutes)</th>\n      <th>origin_temperature_2m (°C)</th>\n      <th>origin_relativehumidity_2m (%)</th>\n      <th>origin_dewpoint_2m (°C)</th>\n      <th>origin_apparent_temperature (°C)</th>\n      <th>origin_pressure_msl (hPa)</th>\n      <th>origin_surface_pressure (hPa)</th>\n      <th>...</th>\n      <th>destination_cloudcover_high (%)</th>\n      <th>destination_windspeed_10m (km/h)</th>\n      <th>destination_winddirection_10m (°)</th>\n      <th>destination_windgusts_10m (km/h)</th>\n      <th>destination_et0_fao_evapotranspiration (mm)</th>\n      <th>destination_vapor_pressure_deficit (kPa)</th>\n      <th>Season_Fall</th>\n      <th>Season_Spring</th>\n      <th>Season_Summer</th>\n      <th>Season_Winter</th>\n    </tr>\n  </thead>\n  <tbody>\n    <tr>\n      <th>14100</th>\n      <td>0.046873</td>\n      <td>0.044538</td>\n      <td>0.000000</td>\n      <td>0.007812</td>\n      <td>0.784314</td>\n      <td>0.911111</td>\n      <td>0.922835</td>\n      <td>0.794370</td>\n      <td>0.400951</td>\n      <td>0.850585</td>\n      <td>...</td>\n      <td>1.00</td>\n      <td>0.273869</td>\n      <td>0.983287</td>\n      <td>0.267778</td>\n      <td>0.0000</td>\n      <td>0.002558</td>\n      <td>1.0</td>\n      <td>0.0</td>\n      <td>0.0</td>\n      <td>0.0</td>\n    </tr>\n    <tr>\n      <th>9830</th>\n      <td>0.188215</td>\n      <td>1.000000</td>\n      <td>0.364403</td>\n      <td>0.273438</td>\n      <td>0.736695</td>\n      <td>0.955556</td>\n      <td>0.880315</td>\n      <td>0.738066</td>\n      <td>0.397781</td>\n      <td>0.789227</td>\n      <td>...</td>\n      <td>0.98</td>\n      <td>0.489950</td>\n      <td>0.420613</td>\n      <td>0.424444</td>\n      <td>0.3750</td>\n      <td>0.294118</td>\n      <td>0.0</td>\n      <td>0.0</td>\n      <td>1.0</td>\n      <td>0.0</td>\n    </tr>\n    <tr>\n      <th>16218</th>\n      <td>0.188215</td>\n      <td>1.000000</td>\n      <td>0.364403</td>\n      <td>0.273438</td>\n      <td>0.610644</td>\n      <td>0.511111</td>\n      <td>0.615748</td>\n      <td>0.576499</td>\n      <td>0.570523</td>\n      <td>0.835129</td>\n      <td>...</td>\n      <td>0.00</td>\n      <td>0.233668</td>\n      <td>0.963788</td>\n      <td>0.255556</td>\n      <td>0.0250</td>\n      <td>0.097187</td>\n      <td>1.0</td>\n      <td>0.0</td>\n      <td>0.0</td>\n      <td>0.0</td>\n    </tr>\n    <tr>\n      <th>16870</th>\n      <td>0.188215</td>\n      <td>1.000000</td>\n      <td>0.364403</td>\n      <td>0.273438</td>\n      <td>0.511204</td>\n      <td>0.377778</td>\n      <td>0.461417</td>\n      <td>0.449204</td>\n      <td>0.443740</td>\n      <td>0.795785</td>\n      <td>...</td>\n      <td>0.00</td>\n      <td>0.281407</td>\n      <td>0.754875</td>\n      <td>0.272222</td>\n      <td>0.0250</td>\n      <td>0.076726</td>\n      <td>1.0</td>\n      <td>0.0</td>\n      <td>0.0</td>\n      <td>0.0</td>\n    </tr>\n    <tr>\n      <th>7831</th>\n      <td>0.188215</td>\n      <td>1.000000</td>\n      <td>0.364403</td>\n      <td>0.273438</td>\n      <td>0.655462</td>\n      <td>0.800000</td>\n      <td>0.751181</td>\n      <td>0.626683</td>\n      <td>0.426307</td>\n      <td>0.794848</td>\n      <td>...</td>\n      <td>0.00</td>\n      <td>0.067839</td>\n      <td>0.562674</td>\n      <td>0.112222</td>\n      <td>0.2750</td>\n      <td>0.125320</td>\n      <td>0.0</td>\n      <td>1.0</td>\n      <td>0.0</td>\n      <td>0.0</td>\n    </tr>\n    <tr>\n      <th>4073</th>\n      <td>0.188215</td>\n      <td>1.000000</td>\n      <td>0.364403</td>\n      <td>0.273438</td>\n      <td>0.359944</td>\n      <td>0.411111</td>\n      <td>0.319685</td>\n      <td>0.301102</td>\n      <td>0.760697</td>\n      <td>0.882436</td>\n      <td>...</td>\n      <td>0.99</td>\n      <td>0.454774</td>\n      <td>0.863510</td>\n      <td>0.300000</td>\n      <td>0.0375</td>\n      <td>0.015345</td>\n      <td>0.0</td>\n      <td>1.0</td>\n      <td>0.0</td>\n      <td>0.0</td>\n    </tr>\n    <tr>\n      <th>5084</th>\n      <td>0.188215</td>\n      <td>1.000000</td>\n      <td>0.364403</td>\n      <td>0.273438</td>\n      <td>0.463585</td>\n      <td>0.866667</td>\n      <td>0.554331</td>\n      <td>0.433293</td>\n      <td>0.578447</td>\n      <td>0.833255</td>\n      <td>...</td>\n      <td>0.45</td>\n      <td>0.113065</td>\n      <td>0.167131</td>\n      <td>0.112222</td>\n      <td>0.2250</td>\n      <td>0.069054</td>\n      <td>0.0</td>\n      <td>1.0</td>\n      <td>0.0</td>\n      <td>0.0</td>\n    </tr>\n    <tr>\n      <th>1965</th>\n      <td>0.188215</td>\n      <td>1.000000</td>\n      <td>0.364403</td>\n      <td>0.273438</td>\n      <td>0.438375</td>\n      <td>0.888889</td>\n      <td>0.532283</td>\n      <td>0.403917</td>\n      <td>0.492868</td>\n      <td>0.807963</td>\n      <td>...</td>\n      <td>1.00</td>\n      <td>0.311558</td>\n      <td>0.437326</td>\n      <td>0.264444</td>\n      <td>0.0250</td>\n      <td>0.023018</td>\n      <td>0.0</td>\n      <td>0.0</td>\n      <td>0.0</td>\n      <td>1.0</td>\n    </tr>\n    <tr>\n      <th>18400</th>\n      <td>0.188215</td>\n      <td>1.000000</td>\n      <td>0.364403</td>\n      <td>0.273438</td>\n      <td>0.519608</td>\n      <td>0.688889</td>\n      <td>0.574803</td>\n      <td>0.487148</td>\n      <td>0.470681</td>\n      <td>0.803747</td>\n      <td>...</td>\n      <td>0.00</td>\n      <td>0.409548</td>\n      <td>0.818942</td>\n      <td>0.355556</td>\n      <td>0.0125</td>\n      <td>0.038363</td>\n      <td>1.0</td>\n      <td>0.0</td>\n      <td>0.0</td>\n      <td>0.0</td>\n    </tr>\n    <tr>\n      <th>11829</th>\n      <td>0.188215</td>\n      <td>1.000000</td>\n      <td>0.364403</td>\n      <td>0.273438</td>\n      <td>0.899160</td>\n      <td>0.244444</td>\n      <td>0.779528</td>\n      <td>0.876377</td>\n      <td>0.467512</td>\n      <td>0.813115</td>\n      <td>...</td>\n      <td>0.74</td>\n      <td>0.130653</td>\n      <td>0.654596</td>\n      <td>0.192222</td>\n      <td>0.1000</td>\n      <td>0.069054</td>\n      <td>0.0</td>\n      <td>0.0</td>\n      <td>1.0</td>\n      <td>0.0</td>\n    </tr>\n  </tbody>\n</table>\n<p>10 rows × 44 columns</p>\n</div>"
     },
     "execution_count": 72,
     "metadata": {},
     "output_type": "execute_result"
    }
   ],
   "source": [
    "scaler = MinMaxScaler()\n",
    "X_train = pd.DataFrame(scaler.fit_transform(X_train), columns=X_train.columns, index=X_train.index)\n",
    "X_test = pd.DataFrame(scaler.transform(X_test), columns=X_test.columns, index=X_test.index)\n",
    "\n",
    "# Show 10 rows of the dataframe\n",
    "X_train.head(10)"
   ],
   "metadata": {
    "collapsed": false
   }
  },
  {
   "cell_type": "markdown",
   "source": [
    "# Label Encode"
   ],
   "metadata": {
    "collapsed": false
   }
  },
  {
   "cell_type": "code",
   "execution_count": 73,
   "outputs": [],
   "source": [
    "# Instantiate the LabelEncoder\n",
    "le = LabelEncoder()\n",
    "\n",
    "# Fit and transform the target variable in the training set\n",
    "y_train_encoded = le.fit_transform(y_train)\n",
    "\n",
    "# Transform the target variable in the testing set\n",
    "y_test_encoded = le.transform(y_test)"
   ],
   "metadata": {
    "collapsed": false
   }
  },
  {
   "cell_type": "markdown",
   "source": [
    "# Class Weights"
   ],
   "metadata": {
    "collapsed": false
   }
  },
  {
   "cell_type": "code",
   "execution_count": 74,
   "outputs": [],
   "source": [
    "# Calculate the sample weights\n",
    "sample_weights = compute_sample_weight(class_weight='balanced', y=y_train_encoded)"
   ],
   "metadata": {
    "collapsed": false
   }
  },
  {
   "cell_type": "markdown",
   "source": [
    "# Hyperparameter tuning"
   ],
   "metadata": {
    "collapsed": false
   }
  },
  {
   "cell_type": "code",
   "execution_count": 75,
   "outputs": [],
   "source": [
    "# # Define the parameter grid for the search\n",
    "# param_grid = {\n",
    "#     'n_estimators': [300, 500, 700],\n",
    "#     'max_depth': [7, 9, 11],\n",
    "#     'learning_rate': [0.2, 0.3, 0.4],\n",
    "# }\n",
    "#\n",
    "# # Create the XGBClassifier instance\n",
    "# xgb_clf = xgb.XGBClassifier(objective='multi:softmax', seed=42)\n",
    "#\n",
    "# # Create the GridSearchCV instance\n",
    "# grid_search = GridSearchCV(xgb_clf, param_grid, scoring='f1_weighted', cv=3, verbose=1, n_jobs=-1)\n",
    "#\n",
    "# # Fit the GridSearchCV to the training data\n",
    "# grid_search.fit(X_train, y_train_encoded, sample_weight=sample_weights)\n",
    "#\n",
    "# # Retrieve the best parameters\n",
    "# best_params = grid_search.best_params_\n",
    "# print(f\"Best parameters: {best_params}\")"
   ],
   "metadata": {
    "collapsed": false
   }
  },
  {
   "cell_type": "markdown",
   "source": [
    "# Training the best model"
   ],
   "metadata": {
    "collapsed": false
   }
  },
  {
   "cell_type": "code",
   "execution_count": 76,
   "outputs": [],
   "source": [
    "# Create and train the XGBoost model\n",
    "best_model = xgb.XGBClassifier(objective='multi:softmax', seed=100, n_estimators=300, max_depth=6, learning_rate=0.1)\n",
    "best_model.fit(X_train, y_train_encoded, sample_weight=sample_weights)\n",
    "\n",
    "# Make predictions\n",
    "y_train_pred_encoded = best_model.predict(X_train)\n",
    "y_test_pred_encoded = best_model.predict(X_test)"
   ],
   "metadata": {
    "collapsed": false
   }
  },
  {
   "cell_type": "markdown",
   "source": [
    "# Decode"
   ],
   "metadata": {
    "collapsed": false
   }
  },
  {
   "cell_type": "code",
   "execution_count": 77,
   "outputs": [],
   "source": [
    "# Inverse transform the predictions back to the original labels\n",
    "y_train_pred = le.inverse_transform(y_train_pred_encoded)\n",
    "y_test_pred = le.inverse_transform(y_test_pred_encoded)"
   ],
   "metadata": {
    "collapsed": false
   }
  },
  {
   "cell_type": "markdown",
   "source": [
    "# Evaluate the model"
   ],
   "metadata": {
    "collapsed": false
   }
  },
  {
   "cell_type": "code",
   "execution_count": 78,
   "outputs": [
    {
     "name": "stdout",
     "output_type": "stream",
     "text": [
      "Training Classification report:\n",
      "               precision    recall  f1-score   support\n",
      "\n",
      "        Early       0.69      0.95      0.80      2437\n",
      "         Late       0.78      0.92      0.85      2302\n",
      "      On-time       0.98      0.78      0.87      9740\n",
      "Severely Late       0.74      0.98      0.84      1802\n",
      "\n",
      "     accuracy                           0.85     16281\n",
      "    macro avg       0.80      0.91      0.84     16281\n",
      " weighted avg       0.88      0.85      0.85     16281\n",
      "\n",
      "\n",
      "Testing Classification report:\n",
      "               precision    recall  f1-score   support\n",
      "\n",
      "        Early       0.24      0.34      0.28       610\n",
      "         Late       0.20      0.22      0.21       575\n",
      "      On-time       0.66      0.55      0.60      2436\n",
      "Severely Late       0.29      0.39      0.33       450\n",
      "\n",
      "     accuracy                           0.45      4071\n",
      "    macro avg       0.35      0.37      0.36      4071\n",
      " weighted avg       0.49      0.45      0.47      4071\n",
      "\n"
     ]
    }
   ],
   "source": [
    "print('Training Classification report:')\n",
    "print(classification_report(y_train, y_train_pred))\n",
    "\n",
    "print('\\nTesting Classification report:')\n",
    "print(classification_report(y_test, y_test_pred))"
   ],
   "metadata": {
    "collapsed": false
   }
  },
  {
   "cell_type": "code",
   "execution_count": 79,
   "outputs": [
    {
     "data": {
      "text/plain": "              actual      predicted\n13435        On-time          Early\n7552         On-time        On-time\n6981         On-time        On-time\n7257         On-time        On-time\n4813         On-time  Severely Late\n2013         On-time        On-time\n14330        On-time          Early\n7137            Late           Late\n15933        On-time          Early\n10742           Late           Late\n1026         On-time           Late\n3523         On-time        On-time\n14800          Early           Late\n16393        On-time          Early\n16783        On-time        On-time\n16000        On-time           Late\n12594        On-time        On-time\n7407         On-time        On-time\n11495  Severely Late        On-time\n3866           Early        On-time\n5154           Early  Severely Late\n14418        On-time        On-time\n9274         On-time  Severely Late\n14504        On-time  Severely Late\n10677        On-time        On-time\n10788        On-time        On-time\n7272         On-time  Severely Late\n13354        On-time        On-time\n15699        On-time        On-time\n3084            Late        On-time",
      "text/html": "<div>\n<style scoped>\n    .dataframe tbody tr th:only-of-type {\n        vertical-align: middle;\n    }\n\n    .dataframe tbody tr th {\n        vertical-align: top;\n    }\n\n    .dataframe thead th {\n        text-align: right;\n    }\n</style>\n<table border=\"1\" class=\"dataframe\">\n  <thead>\n    <tr style=\"text-align: right;\">\n      <th></th>\n      <th>actual</th>\n      <th>predicted</th>\n    </tr>\n  </thead>\n  <tbody>\n    <tr>\n      <th>13435</th>\n      <td>On-time</td>\n      <td>Early</td>\n    </tr>\n    <tr>\n      <th>7552</th>\n      <td>On-time</td>\n      <td>On-time</td>\n    </tr>\n    <tr>\n      <th>6981</th>\n      <td>On-time</td>\n      <td>On-time</td>\n    </tr>\n    <tr>\n      <th>7257</th>\n      <td>On-time</td>\n      <td>On-time</td>\n    </tr>\n    <tr>\n      <th>4813</th>\n      <td>On-time</td>\n      <td>Severely Late</td>\n    </tr>\n    <tr>\n      <th>2013</th>\n      <td>On-time</td>\n      <td>On-time</td>\n    </tr>\n    <tr>\n      <th>14330</th>\n      <td>On-time</td>\n      <td>Early</td>\n    </tr>\n    <tr>\n      <th>7137</th>\n      <td>Late</td>\n      <td>Late</td>\n    </tr>\n    <tr>\n      <th>15933</th>\n      <td>On-time</td>\n      <td>Early</td>\n    </tr>\n    <tr>\n      <th>10742</th>\n      <td>Late</td>\n      <td>Late</td>\n    </tr>\n    <tr>\n      <th>1026</th>\n      <td>On-time</td>\n      <td>Late</td>\n    </tr>\n    <tr>\n      <th>3523</th>\n      <td>On-time</td>\n      <td>On-time</td>\n    </tr>\n    <tr>\n      <th>14800</th>\n      <td>Early</td>\n      <td>Late</td>\n    </tr>\n    <tr>\n      <th>16393</th>\n      <td>On-time</td>\n      <td>Early</td>\n    </tr>\n    <tr>\n      <th>16783</th>\n      <td>On-time</td>\n      <td>On-time</td>\n    </tr>\n    <tr>\n      <th>16000</th>\n      <td>On-time</td>\n      <td>Late</td>\n    </tr>\n    <tr>\n      <th>12594</th>\n      <td>On-time</td>\n      <td>On-time</td>\n    </tr>\n    <tr>\n      <th>7407</th>\n      <td>On-time</td>\n      <td>On-time</td>\n    </tr>\n    <tr>\n      <th>11495</th>\n      <td>Severely Late</td>\n      <td>On-time</td>\n    </tr>\n    <tr>\n      <th>3866</th>\n      <td>Early</td>\n      <td>On-time</td>\n    </tr>\n    <tr>\n      <th>5154</th>\n      <td>Early</td>\n      <td>Severely Late</td>\n    </tr>\n    <tr>\n      <th>14418</th>\n      <td>On-time</td>\n      <td>On-time</td>\n    </tr>\n    <tr>\n      <th>9274</th>\n      <td>On-time</td>\n      <td>Severely Late</td>\n    </tr>\n    <tr>\n      <th>14504</th>\n      <td>On-time</td>\n      <td>Severely Late</td>\n    </tr>\n    <tr>\n      <th>10677</th>\n      <td>On-time</td>\n      <td>On-time</td>\n    </tr>\n    <tr>\n      <th>10788</th>\n      <td>On-time</td>\n      <td>On-time</td>\n    </tr>\n    <tr>\n      <th>7272</th>\n      <td>On-time</td>\n      <td>Severely Late</td>\n    </tr>\n    <tr>\n      <th>13354</th>\n      <td>On-time</td>\n      <td>On-time</td>\n    </tr>\n    <tr>\n      <th>15699</th>\n      <td>On-time</td>\n      <td>On-time</td>\n    </tr>\n    <tr>\n      <th>3084</th>\n      <td>Late</td>\n      <td>On-time</td>\n    </tr>\n  </tbody>\n</table>\n</div>"
     },
     "execution_count": 79,
     "metadata": {},
     "output_type": "execute_result"
    }
   ],
   "source": [
    "test_output = pd.DataFrame({'actual': y_test, 'predicted': y_test_pred})\n",
    "\n",
    "test_output.head(30)"
   ],
   "metadata": {
    "collapsed": false
   }
  },
  {
   "cell_type": "code",
   "execution_count": 80,
   "outputs": [
    {
     "data": {
      "text/plain": "<Figure size 1000x500 with 1 Axes>",
      "image/png": "[encoded data removed]"
     },
     "metadata": {},
     "output_type": "display_data"
    }
   ],
   "source": [
    "# Create a single figure with a specified size (width=10, height=5)\n",
    "fig, ax = plt.subplots(figsize=(10, 5))\n",
    "\n",
    "# Set the width of the bars in the histogram\n",
    "bar_width = 0.4\n",
    "\n",
    "# Create an array with the unique categories in the 'actual' and 'predicted' columns\n",
    "categories = test_output.actual.unique()\n",
    "\n",
    "# Generate the x-axis positions for each category\n",
    "x_pos = np.arange(len(categories))\n",
    "\n",
    "# Calculate the counts for each category in the 'actual' column\n",
    "actual_counts = test_output.actual.value_counts()\n",
    "\n",
    "# Calculate the counts for each category in the 'predicted' column\n",
    "predicted_counts = test_output.predicted.value_counts()\n",
    "\n",
    "# Plot the histogram of the ground truth (actual) values\n",
    "ax.bar(x_pos - bar_width / 2, actual_counts, width=bar_width, color='blue', edgecolor='black', label='Actual')\n",
    "\n",
    "# Plot the histogram of the predicted values\n",
    "ax.bar(x_pos + bar_width / 2, predicted_counts, width=bar_width, color='green', edgecolor='black', label='Predictions')\n",
    "\n",
    "# Set the x-axis ticks and labels\n",
    "ax.set_xticks(x_pos)\n",
    "ax.set_xticklabels(categories)\n",
    "\n",
    "# Set the title and axis labels for the figure\n",
    "ax.set_title('Actual vs. Predictions', fontsize=14)\n",
    "ax.set_xlabel('Status', fontsize=12)\n",
    "ax.set_ylabel('Frequency', fontsize=12)\n",
    "\n",
    "# Add a legend to distinguish between the two sets of data\n",
    "ax.legend(fontsize=12)\n",
    "\n",
    "# Display the figure\n",
    "plt.show()"
   ],
   "metadata": {
    "collapsed": false
   }
  },
  {
   "cell_type": "markdown",
   "source": [
    "# Predict on real data"
   ],
   "metadata": {
    "collapsed": false
   }
  },
  {
   "cell_type": "code",
   "execution_count": 81,
   "outputs": [
    {
     "data": {
      "text/plain": "         Date Origin Airport Arrival Time\n0  2023-04-12            ORD     10:00 AM\n1  2023-04-12            ORD      4:52 PM\n2  2023-04-12            ORD      9:34 PM\n3  2023-04-13            ORD     10:00 AM\n4  2023-04-13            ORD      4:50 PM\n5  2023-04-13            ORD      9:34 PM\n6  2023-04-14            ORD     10:00 AM\n7  2023-04-14            ORD      4:50 PM\n8  2023-04-14            ORD      9:34 PM\n9  2023-04-15            ORD     10:00 AM\n10 2023-04-15            ORD      4:50 PM\n11 2023-04-15            ORD      9:34 PM\n12 2023-04-12            DEN      3:12 PM\n13 2023-04-13            DEN      3:12 PM\n14 2023-04-14            DEN      3:12 PM\n15 2023-04-15            DEN      3:12 PM\n16 2023-04-12            EWR     10:46 AM\n17 2023-04-12            EWR     11:42 PM\n18 2023-04-13            EWR     10:46 AM\n19 2023-04-13            EWR     11:42 PM",
      "text/html": "<div>\n<style scoped>\n    .dataframe tbody tr th:only-of-type {\n        vertical-align: middle;\n    }\n\n    .dataframe tbody tr th {\n        vertical-align: top;\n    }\n\n    .dataframe thead th {\n        text-align: right;\n    }\n</style>\n<table border=\"1\" class=\"dataframe\">\n  <thead>\n    <tr style=\"text-align: right;\">\n      <th></th>\n      <th>Date</th>\n      <th>Origin Airport</th>\n      <th>Arrival Time</th>\n    </tr>\n  </thead>\n  <tbody>\n    <tr>\n      <th>0</th>\n      <td>2023-04-12</td>\n      <td>ORD</td>\n      <td>10:00 AM</td>\n    </tr>\n    <tr>\n      <th>1</th>\n      <td>2023-04-12</td>\n      <td>ORD</td>\n      <td>4:52 PM</td>\n    </tr>\n    <tr>\n      <th>2</th>\n      <td>2023-04-12</td>\n      <td>ORD</td>\n      <td>9:34 PM</td>\n    </tr>\n    <tr>\n      <th>3</th>\n      <td>2023-04-13</td>\n      <td>ORD</td>\n      <td>10:00 AM</td>\n    </tr>\n    <tr>\n      <th>4</th>\n      <td>2023-04-13</td>\n      <td>ORD</td>\n      <td>4:50 PM</td>\n    </tr>\n    <tr>\n      <th>5</th>\n      <td>2023-04-13</td>\n      <td>ORD</td>\n      <td>9:34 PM</td>\n    </tr>\n    <tr>\n      <th>6</th>\n      <td>2023-04-14</td>\n      <td>ORD</td>\n      <td>10:00 AM</td>\n    </tr>\n    <tr>\n      <th>7</th>\n      <td>2023-04-14</td>\n      <td>ORD</td>\n      <td>4:50 PM</td>\n    </tr>\n    <tr>\n      <th>8</th>\n      <td>2023-04-14</td>\n      <td>ORD</td>\n      <td>9:34 PM</td>\n    </tr>\n    <tr>\n      <th>9</th>\n      <td>2023-04-15</td>\n      <td>ORD</td>\n      <td>10:00 AM</td>\n    </tr>\n    <tr>\n      <th>10</th>\n      <td>2023-04-15</td>\n      <td>ORD</td>\n      <td>4:50 PM</td>\n    </tr>\n    <tr>\n      <th>11</th>\n      <td>2023-04-15</td>\n      <td>ORD</td>\n      <td>9:34 PM</td>\n    </tr>\n    <tr>\n      <th>12</th>\n      <td>2023-04-12</td>\n      <td>DEN</td>\n      <td>3:12 PM</td>\n    </tr>\n    <tr>\n      <th>13</th>\n      <td>2023-04-13</td>\n      <td>DEN</td>\n      <td>3:12 PM</td>\n    </tr>\n    <tr>\n      <th>14</th>\n      <td>2023-04-14</td>\n      <td>DEN</td>\n      <td>3:12 PM</td>\n    </tr>\n    <tr>\n      <th>15</th>\n      <td>2023-04-15</td>\n      <td>DEN</td>\n      <td>3:12 PM</td>\n    </tr>\n    <tr>\n      <th>16</th>\n      <td>2023-04-12</td>\n      <td>EWR</td>\n      <td>10:46 AM</td>\n    </tr>\n    <tr>\n      <th>17</th>\n      <td>2023-04-12</td>\n      <td>EWR</td>\n      <td>11:42 PM</td>\n    </tr>\n    <tr>\n      <th>18</th>\n      <td>2023-04-13</td>\n      <td>EWR</td>\n      <td>10:46 AM</td>\n    </tr>\n    <tr>\n      <th>19</th>\n      <td>2023-04-13</td>\n      <td>EWR</td>\n      <td>11:42 PM</td>\n    </tr>\n  </tbody>\n</table>\n</div>"
     },
     "execution_count": 81,
     "metadata": {},
     "output_type": "execute_result"
    }
   ],
   "source": [
    "# Load the historical data into a pandas dataframe\n",
    "real_data = pd.read_csv(\"data/april-12-15.csv\", parse_dates=['Date'])\n",
    "\n",
    "# Drop unnecessary columns\n",
    "real_data.drop(columns=[\n",
    "    'Day',\n",
    "    'Flight Number',\n",
    "    'Status (Early, On-time, Late, Severly Late)',\n",
    "], inplace=True)\n",
    "\n",
    "real_data.head(20)"
   ],
   "metadata": {
    "collapsed": false
   }
  },
  {
   "cell_type": "markdown",
   "source": [
    "## Add Arrival Datetime"
   ],
   "metadata": {
    "collapsed": false
   }
  },
  {
   "cell_type": "code",
   "execution_count": 82,
   "outputs": [
    {
     "data": {
      "text/plain": "  Origin Airport    Arrival Datetime\n0            ORD 2023-04-12 10:00:00\n1            ORD 2023-04-12 17:00:00\n2            ORD 2023-04-12 22:00:00\n3            ORD 2023-04-13 10:00:00\n4            ORD 2023-04-13 17:00:00\n5            ORD 2023-04-13 22:00:00\n6            ORD 2023-04-14 10:00:00\n7            ORD 2023-04-14 17:00:00\n8            ORD 2023-04-14 22:00:00\n9            ORD 2023-04-15 10:00:00",
      "text/html": "<div>\n<style scoped>\n    .dataframe tbody tr th:only-of-type {\n        vertical-align: middle;\n    }\n\n    .dataframe tbody tr th {\n        vertical-align: top;\n    }\n\n    .dataframe thead th {\n        text-align: right;\n    }\n</style>\n<table border=\"1\" class=\"dataframe\">\n  <thead>\n    <tr style=\"text-align: right;\">\n      <th></th>\n      <th>Origin Airport</th>\n      <th>Arrival Datetime</th>\n    </tr>\n  </thead>\n  <tbody>\n    <tr>\n      <th>0</th>\n      <td>ORD</td>\n      <td>2023-04-12 10:00:00</td>\n    </tr>\n    <tr>\n      <th>1</th>\n      <td>ORD</td>\n      <td>2023-04-12 17:00:00</td>\n    </tr>\n    <tr>\n      <th>2</th>\n      <td>ORD</td>\n      <td>2023-04-12 22:00:00</td>\n    </tr>\n    <tr>\n      <th>3</th>\n      <td>ORD</td>\n      <td>2023-04-13 10:00:00</td>\n    </tr>\n    <tr>\n      <th>4</th>\n      <td>ORD</td>\n      <td>2023-04-13 17:00:00</td>\n    </tr>\n    <tr>\n      <th>5</th>\n      <td>ORD</td>\n      <td>2023-04-13 22:00:00</td>\n    </tr>\n    <tr>\n      <th>6</th>\n      <td>ORD</td>\n      <td>2023-04-14 10:00:00</td>\n    </tr>\n    <tr>\n      <th>7</th>\n      <td>ORD</td>\n      <td>2023-04-14 17:00:00</td>\n    </tr>\n    <tr>\n      <th>8</th>\n      <td>ORD</td>\n      <td>2023-04-14 22:00:00</td>\n    </tr>\n    <tr>\n      <th>9</th>\n      <td>ORD</td>\n      <td>2023-04-15 10:00:00</td>\n    </tr>\n  </tbody>\n</table>\n</div>"
     },
     "execution_count": 82,
     "metadata": {},
     "output_type": "execute_result"
    }
   ],
   "source": [
    "# Create a boolean mask to identify rows with '24:00:00'\n",
    "mask_24 = real_data['Arrival Time'] == '24:00:00'\n",
    "\n",
    "# Replace '24:00:00' with '00:00:00'\n",
    "real_data['Arrival Time'] = real_data['Arrival Time'].replace('24:00:00', '00:00:00')\n",
    "\n",
    "# Combine date and time columns\n",
    "real_data['Arrival Datetime'] = pd.to_datetime(\n",
    "    real_data['Date'].astype(str) + ' ' + real_data['Arrival Time'])\n",
    "\n",
    "# Add a day to the date part when the original time value was '24:00:00'\n",
    "real_data.loc[mask_24, 'Arrival Datetime'] = real_data.loc[mask_24, 'Arrival Datetime'] + pd.Timedelta(days=1)\n",
    "\n",
    "# Drop more unnecessary date columns\n",
    "real_data.drop(columns=[\n",
    "    'Date',\n",
    "    'Arrival Time',\n",
    "], inplace=True)\n",
    "\n",
    "# Round to the nearest hour for the weather data\n",
    "real_data['Arrival Datetime'] = real_data['Arrival Datetime'].dt.round(\"H\")\n",
    "\n",
    "# Show 10 rows of the dataframe\n",
    "real_data.head(10)"
   ],
   "metadata": {
    "collapsed": false
   }
  },
  {
   "cell_type": "markdown",
   "source": [
    "## Time of day"
   ],
   "metadata": {
    "collapsed": false
   }
  },
  {
   "cell_type": "code",
   "execution_count": 83,
   "outputs": [
    {
     "data": {
      "text/plain": "  Origin Airport    Arrival Datetime Time of Day\n0            ORD 2023-04-12 10:00:00     Morning\n1            ORD 2023-04-12 17:00:00     Evening\n2            ORD 2023-04-12 22:00:00       Night\n3            ORD 2023-04-13 10:00:00     Morning\n4            ORD 2023-04-13 17:00:00     Evening\n5            ORD 2023-04-13 22:00:00       Night\n6            ORD 2023-04-14 10:00:00     Morning\n7            ORD 2023-04-14 17:00:00     Evening\n8            ORD 2023-04-14 22:00:00       Night\n9            ORD 2023-04-15 10:00:00     Morning",
      "text/html": "<div>\n<style scoped>\n    .dataframe tbody tr th:only-of-type {\n        vertical-align: middle;\n    }\n\n    .dataframe tbody tr th {\n        vertical-align: top;\n    }\n\n    .dataframe thead th {\n        text-align: right;\n    }\n</style>\n<table border=\"1\" class=\"dataframe\">\n  <thead>\n    <tr style=\"text-align: right;\">\n      <th></th>\n      <th>Origin Airport</th>\n      <th>Arrival Datetime</th>\n      <th>Time of Day</th>\n    </tr>\n  </thead>\n  <tbody>\n    <tr>\n      <th>0</th>\n      <td>ORD</td>\n      <td>2023-04-12 10:00:00</td>\n      <td>Morning</td>\n    </tr>\n    <tr>\n      <th>1</th>\n      <td>ORD</td>\n      <td>2023-04-12 17:00:00</td>\n      <td>Evening</td>\n    </tr>\n    <tr>\n      <th>2</th>\n      <td>ORD</td>\n      <td>2023-04-12 22:00:00</td>\n      <td>Night</td>\n    </tr>\n    <tr>\n      <th>3</th>\n      <td>ORD</td>\n      <td>2023-04-13 10:00:00</td>\n      <td>Morning</td>\n    </tr>\n    <tr>\n      <th>4</th>\n      <td>ORD</td>\n      <td>2023-04-13 17:00:00</td>\n      <td>Evening</td>\n    </tr>\n    <tr>\n      <th>5</th>\n      <td>ORD</td>\n      <td>2023-04-13 22:00:00</td>\n      <td>Night</td>\n    </tr>\n    <tr>\n      <th>6</th>\n      <td>ORD</td>\n      <td>2023-04-14 10:00:00</td>\n      <td>Morning</td>\n    </tr>\n    <tr>\n      <th>7</th>\n      <td>ORD</td>\n      <td>2023-04-14 17:00:00</td>\n      <td>Evening</td>\n    </tr>\n    <tr>\n      <th>8</th>\n      <td>ORD</td>\n      <td>2023-04-14 22:00:00</td>\n      <td>Night</td>\n    </tr>\n    <tr>\n      <th>9</th>\n      <td>ORD</td>\n      <td>2023-04-15 10:00:00</td>\n      <td>Morning</td>\n    </tr>\n  </tbody>\n</table>\n</div>"
     },
     "execution_count": 83,
     "metadata": {},
     "output_type": "execute_result"
    }
   ],
   "source": [
    "real_data['Time of Day'] = real_data['Arrival Datetime'].dt.hour.apply(categorize_time_of_day)\n",
    "\n",
    "# Show 10 rows of the dataframe\n",
    "real_data.head(10)"
   ],
   "metadata": {
    "collapsed": false
   }
  },
  {
   "cell_type": "markdown",
   "source": [
    "## Day of the week"
   ],
   "metadata": {
    "collapsed": false
   }
  },
  {
   "cell_type": "code",
   "execution_count": 84,
   "outputs": [
    {
     "data": {
      "text/plain": "  Origin Airport    Arrival Datetime Time of Day Day of the Week\n0            ORD 2023-04-12 10:00:00     Morning               2\n1            ORD 2023-04-12 17:00:00     Evening               2\n2            ORD 2023-04-12 22:00:00       Night               2\n3            ORD 2023-04-13 10:00:00     Morning               3\n4            ORD 2023-04-13 17:00:00     Evening               3\n5            ORD 2023-04-13 22:00:00       Night               3\n6            ORD 2023-04-14 10:00:00     Morning               4\n7            ORD 2023-04-14 17:00:00     Evening               4\n8            ORD 2023-04-14 22:00:00       Night               4\n9            ORD 2023-04-15 10:00:00     Morning               5",
      "text/html": "<div>\n<style scoped>\n    .dataframe tbody tr th:only-of-type {\n        vertical-align: middle;\n    }\n\n    .dataframe tbody tr th {\n        vertical-align: top;\n    }\n\n    .dataframe thead th {\n        text-align: right;\n    }\n</style>\n<table border=\"1\" class=\"dataframe\">\n  <thead>\n    <tr style=\"text-align: right;\">\n      <th></th>\n      <th>Origin Airport</th>\n      <th>Arrival Datetime</th>\n      <th>Time of Day</th>\n      <th>Day of the Week</th>\n    </tr>\n  </thead>\n  <tbody>\n    <tr>\n      <th>0</th>\n      <td>ORD</td>\n      <td>2023-04-12 10:00:00</td>\n      <td>Morning</td>\n      <td>2</td>\n    </tr>\n    <tr>\n      <th>1</th>\n      <td>ORD</td>\n      <td>2023-04-12 17:00:00</td>\n      <td>Evening</td>\n      <td>2</td>\n    </tr>\n    <tr>\n      <th>2</th>\n      <td>ORD</td>\n      <td>2023-04-12 22:00:00</td>\n      <td>Night</td>\n      <td>2</td>\n    </tr>\n    <tr>\n      <th>3</th>\n      <td>ORD</td>\n      <td>2023-04-13 10:00:00</td>\n      <td>Morning</td>\n      <td>3</td>\n    </tr>\n    <tr>\n      <th>4</th>\n      <td>ORD</td>\n      <td>2023-04-13 17:00:00</td>\n      <td>Evening</td>\n      <td>3</td>\n    </tr>\n    <tr>\n      <th>5</th>\n      <td>ORD</td>\n      <td>2023-04-13 22:00:00</td>\n      <td>Night</td>\n      <td>3</td>\n    </tr>\n    <tr>\n      <th>6</th>\n      <td>ORD</td>\n      <td>2023-04-14 10:00:00</td>\n      <td>Morning</td>\n      <td>4</td>\n    </tr>\n    <tr>\n      <th>7</th>\n      <td>ORD</td>\n      <td>2023-04-14 17:00:00</td>\n      <td>Evening</td>\n      <td>4</td>\n    </tr>\n    <tr>\n      <th>8</th>\n      <td>ORD</td>\n      <td>2023-04-14 22:00:00</td>\n      <td>Night</td>\n      <td>4</td>\n    </tr>\n    <tr>\n      <th>9</th>\n      <td>ORD</td>\n      <td>2023-04-15 10:00:00</td>\n      <td>Morning</td>\n      <td>5</td>\n    </tr>\n  </tbody>\n</table>\n</div>"
     },
     "execution_count": 84,
     "metadata": {},
     "output_type": "execute_result"
    }
   ],
   "source": [
    "real_data['Day of the Week'] = real_data['Arrival Datetime'].dt.dayofweek\n",
    "real_data['Day of the Week'] = real_data['Day of the Week'].astype('category')\n",
    "\n",
    "# Show 10 rows of the dataframe\n",
    "real_data.head(10)"
   ],
   "metadata": {
    "collapsed": false
   }
  },
  {
   "cell_type": "markdown",
   "source": [
    "## Month and Season"
   ],
   "metadata": {
    "collapsed": false
   }
  },
  {
   "cell_type": "code",
   "execution_count": 85,
   "outputs": [
    {
     "data": {
      "text/plain": "  Origin Airport    Arrival Datetime Time of Day Day of the Week Month  Season\n0            ORD 2023-04-12 10:00:00     Morning               2     4  Spring\n1            ORD 2023-04-12 17:00:00     Evening               2     4  Spring\n2            ORD 2023-04-12 22:00:00       Night               2     4  Spring\n3            ORD 2023-04-13 10:00:00     Morning               3     4  Spring\n4            ORD 2023-04-13 17:00:00     Evening               3     4  Spring\n5            ORD 2023-04-13 22:00:00       Night               3     4  Spring\n6            ORD 2023-04-14 10:00:00     Morning               4     4  Spring\n7            ORD 2023-04-14 17:00:00     Evening               4     4  Spring\n8            ORD 2023-04-14 22:00:00       Night               4     4  Spring\n9            ORD 2023-04-15 10:00:00     Morning               5     4  Spring",
      "text/html": "<div>\n<style scoped>\n    .dataframe tbody tr th:only-of-type {\n        vertical-align: middle;\n    }\n\n    .dataframe tbody tr th {\n        vertical-align: top;\n    }\n\n    .dataframe thead th {\n        text-align: right;\n    }\n</style>\n<table border=\"1\" class=\"dataframe\">\n  <thead>\n    <tr style=\"text-align: right;\">\n      <th></th>\n      <th>Origin Airport</th>\n      <th>Arrival Datetime</th>\n      <th>Time of Day</th>\n      <th>Day of the Week</th>\n      <th>Month</th>\n      <th>Season</th>\n    </tr>\n  </thead>\n  <tbody>\n    <tr>\n      <th>0</th>\n      <td>ORD</td>\n      <td>2023-04-12 10:00:00</td>\n      <td>Morning</td>\n      <td>2</td>\n      <td>4</td>\n      <td>Spring</td>\n    </tr>\n    <tr>\n      <th>1</th>\n      <td>ORD</td>\n      <td>2023-04-12 17:00:00</td>\n      <td>Evening</td>\n      <td>2</td>\n      <td>4</td>\n      <td>Spring</td>\n    </tr>\n    <tr>\n      <th>2</th>\n      <td>ORD</td>\n      <td>2023-04-12 22:00:00</td>\n      <td>Night</td>\n      <td>2</td>\n      <td>4</td>\n      <td>Spring</td>\n    </tr>\n    <tr>\n      <th>3</th>\n      <td>ORD</td>\n      <td>2023-04-13 10:00:00</td>\n      <td>Morning</td>\n      <td>3</td>\n      <td>4</td>\n      <td>Spring</td>\n    </tr>\n    <tr>\n      <th>4</th>\n      <td>ORD</td>\n      <td>2023-04-13 17:00:00</td>\n      <td>Evening</td>\n      <td>3</td>\n      <td>4</td>\n      <td>Spring</td>\n    </tr>\n    <tr>\n      <th>5</th>\n      <td>ORD</td>\n      <td>2023-04-13 22:00:00</td>\n      <td>Night</td>\n      <td>3</td>\n      <td>4</td>\n      <td>Spring</td>\n    </tr>\n    <tr>\n      <th>6</th>\n      <td>ORD</td>\n      <td>2023-04-14 10:00:00</td>\n      <td>Morning</td>\n      <td>4</td>\n      <td>4</td>\n      <td>Spring</td>\n    </tr>\n    <tr>\n      <th>7</th>\n      <td>ORD</td>\n      <td>2023-04-14 17:00:00</td>\n      <td>Evening</td>\n      <td>4</td>\n      <td>4</td>\n      <td>Spring</td>\n    </tr>\n    <tr>\n      <th>8</th>\n      <td>ORD</td>\n      <td>2023-04-14 22:00:00</td>\n      <td>Night</td>\n      <td>4</td>\n      <td>4</td>\n      <td>Spring</td>\n    </tr>\n    <tr>\n      <th>9</th>\n      <td>ORD</td>\n      <td>2023-04-15 10:00:00</td>\n      <td>Morning</td>\n      <td>5</td>\n      <td>4</td>\n      <td>Spring</td>\n    </tr>\n  </tbody>\n</table>\n</div>"
     },
     "execution_count": 85,
     "metadata": {},
     "output_type": "execute_result"
    }
   ],
   "source": [
    "# Add the 'Month' feature\n",
    "real_data['Month'] = real_data['Arrival Datetime'].dt.month\n",
    "real_data['Month'] = real_data['Month'].astype('category')\n",
    "# Add the 'Season' feature\n",
    "real_data['Season'] = real_data['Month'].apply(month_to_season)\n",
    "real_data['Season'] = real_data['Season'].astype('category')\n",
    "\n",
    "# Show 10 rows of the dataframe\n",
    "real_data.head(10)"
   ],
   "metadata": {
    "collapsed": false
   }
  },
  {
   "cell_type": "markdown",
   "source": [
    "## Flight Route"
   ],
   "metadata": {
    "collapsed": false
   }
  },
  {
   "cell_type": "code",
   "execution_count": 86,
   "outputs": [
    {
     "data": {
      "text/plain": "  Origin Airport    Arrival Datetime Time of Day Day of the Week Month  \\\n0            ORD 2023-04-12 10:00:00     Morning               2     4   \n1            ORD 2023-04-12 17:00:00     Evening               2     4   \n2            ORD 2023-04-12 22:00:00       Night               2     4   \n3            ORD 2023-04-13 10:00:00     Morning               3     4   \n4            ORD 2023-04-13 17:00:00     Evening               3     4   \n5            ORD 2023-04-13 22:00:00       Night               3     4   \n6            ORD 2023-04-14 10:00:00     Morning               4     4   \n7            ORD 2023-04-14 17:00:00     Evening               4     4   \n8            ORD 2023-04-14 22:00:00       Night               4     4   \n9            ORD 2023-04-15 10:00:00     Morning               5     4   \n\n   Season Flight Route  \n0  Spring      ORD-SYR  \n1  Spring      ORD-SYR  \n2  Spring      ORD-SYR  \n3  Spring      ORD-SYR  \n4  Spring      ORD-SYR  \n5  Spring      ORD-SYR  \n6  Spring      ORD-SYR  \n7  Spring      ORD-SYR  \n8  Spring      ORD-SYR  \n9  Spring      ORD-SYR  ",
      "text/html": "<div>\n<style scoped>\n    .dataframe tbody tr th:only-of-type {\n        vertical-align: middle;\n    }\n\n    .dataframe tbody tr th {\n        vertical-align: top;\n    }\n\n    .dataframe thead th {\n        text-align: right;\n    }\n</style>\n<table border=\"1\" class=\"dataframe\">\n  <thead>\n    <tr style=\"text-align: right;\">\n      <th></th>\n      <th>Origin Airport</th>\n      <th>Arrival Datetime</th>\n      <th>Time of Day</th>\n      <th>Day of the Week</th>\n      <th>Month</th>\n      <th>Season</th>\n      <th>Flight Route</th>\n    </tr>\n  </thead>\n  <tbody>\n    <tr>\n      <th>0</th>\n      <td>ORD</td>\n      <td>2023-04-12 10:00:00</td>\n      <td>Morning</td>\n      <td>2</td>\n      <td>4</td>\n      <td>Spring</td>\n      <td>ORD-SYR</td>\n    </tr>\n    <tr>\n      <th>1</th>\n      <td>ORD</td>\n      <td>2023-04-12 17:00:00</td>\n      <td>Evening</td>\n      <td>2</td>\n      <td>4</td>\n      <td>Spring</td>\n      <td>ORD-SYR</td>\n    </tr>\n    <tr>\n      <th>2</th>\n      <td>ORD</td>\n      <td>2023-04-12 22:00:00</td>\n      <td>Night</td>\n      <td>2</td>\n      <td>4</td>\n      <td>Spring</td>\n      <td>ORD-SYR</td>\n    </tr>\n    <tr>\n      <th>3</th>\n      <td>ORD</td>\n      <td>2023-04-13 10:00:00</td>\n      <td>Morning</td>\n      <td>3</td>\n      <td>4</td>\n      <td>Spring</td>\n      <td>ORD-SYR</td>\n    </tr>\n    <tr>\n      <th>4</th>\n      <td>ORD</td>\n      <td>2023-04-13 17:00:00</td>\n      <td>Evening</td>\n      <td>3</td>\n      <td>4</td>\n      <td>Spring</td>\n      <td>ORD-SYR</td>\n    </tr>\n    <tr>\n      <th>5</th>\n      <td>ORD</td>\n      <td>2023-04-13 22:00:00</td>\n      <td>Night</td>\n      <td>3</td>\n      <td>4</td>\n      <td>Spring</td>\n      <td>ORD-SYR</td>\n    </tr>\n    <tr>\n      <th>6</th>\n      <td>ORD</td>\n      <td>2023-04-14 10:00:00</td>\n      <td>Morning</td>\n      <td>4</td>\n      <td>4</td>\n      <td>Spring</td>\n      <td>ORD-SYR</td>\n    </tr>\n    <tr>\n      <th>7</th>\n      <td>ORD</td>\n      <td>2023-04-14 17:00:00</td>\n      <td>Evening</td>\n      <td>4</td>\n      <td>4</td>\n      <td>Spring</td>\n      <td>ORD-SYR</td>\n    </tr>\n    <tr>\n      <th>8</th>\n      <td>ORD</td>\n      <td>2023-04-14 22:00:00</td>\n      <td>Night</td>\n      <td>4</td>\n      <td>4</td>\n      <td>Spring</td>\n      <td>ORD-SYR</td>\n    </tr>\n    <tr>\n      <th>9</th>\n      <td>ORD</td>\n      <td>2023-04-15 10:00:00</td>\n      <td>Morning</td>\n      <td>5</td>\n      <td>4</td>\n      <td>Spring</td>\n      <td>ORD-SYR</td>\n    </tr>\n  </tbody>\n</table>\n</div>"
     },
     "execution_count": 86,
     "metadata": {},
     "output_type": "execute_result"
    }
   ],
   "source": [
    "real_data['Flight Route'] = real_data['Origin Airport'] + '-' + DESTINATION_AIRPORT\n",
    "real_data['Flight Route'] = real_data['Flight Route'].astype('category')\n",
    "\n",
    "# Show 10 rows of the dataframe\n",
    "real_data.head(10)"
   ],
   "metadata": {
    "collapsed": false
   }
  },
  {
   "cell_type": "markdown",
   "source": [
    "## Route Mean Delay"
   ],
   "metadata": {
    "collapsed": false
   }
  },
  {
   "cell_type": "code",
   "execution_count": 87,
   "outputs": [
    {
     "data": {
      "text/plain": "  Origin Airport    Arrival Datetime Time of Day Day of the Week Month  \\\n0            ORD 2023-04-12 10:00:00     Morning               2     4   \n1            ORD 2023-04-12 17:00:00     Evening               2     4   \n2            ORD 2023-04-12 22:00:00       Night               2     4   \n3            ORD 2023-04-13 10:00:00     Morning               3     4   \n4            ORD 2023-04-13 17:00:00     Evening               3     4   \n5            ORD 2023-04-13 22:00:00       Night               3     4   \n6            ORD 2023-04-14 10:00:00     Morning               4     4   \n7            ORD 2023-04-14 17:00:00     Evening               4     4   \n8            ORD 2023-04-14 22:00:00       Night               4     4   \n9            ORD 2023-04-15 10:00:00     Morning               5     4   \n\n   Season Flight Route  Route Mean Delay  \n0  Spring      ORD-SYR          8.238029  \n1  Spring      ORD-SYR          8.238029  \n2  Spring      ORD-SYR          8.238029  \n3  Spring      ORD-SYR          8.238029  \n4  Spring      ORD-SYR          8.238029  \n5  Spring      ORD-SYR          8.238029  \n6  Spring      ORD-SYR          8.238029  \n7  Spring      ORD-SYR          8.238029  \n8  Spring      ORD-SYR          8.238029  \n9  Spring      ORD-SYR          8.238029  ",
      "text/html": "<div>\n<style scoped>\n    .dataframe tbody tr th:only-of-type {\n        vertical-align: middle;\n    }\n\n    .dataframe tbody tr th {\n        vertical-align: top;\n    }\n\n    .dataframe thead th {\n        text-align: right;\n    }\n</style>\n<table border=\"1\" class=\"dataframe\">\n  <thead>\n    <tr style=\"text-align: right;\">\n      <th></th>\n      <th>Origin Airport</th>\n      <th>Arrival Datetime</th>\n      <th>Time of Day</th>\n      <th>Day of the Week</th>\n      <th>Month</th>\n      <th>Season</th>\n      <th>Flight Route</th>\n      <th>Route Mean Delay</th>\n    </tr>\n  </thead>\n  <tbody>\n    <tr>\n      <th>0</th>\n      <td>ORD</td>\n      <td>2023-04-12 10:00:00</td>\n      <td>Morning</td>\n      <td>2</td>\n      <td>4</td>\n      <td>Spring</td>\n      <td>ORD-SYR</td>\n      <td>8.238029</td>\n    </tr>\n    <tr>\n      <th>1</th>\n      <td>ORD</td>\n      <td>2023-04-12 17:00:00</td>\n      <td>Evening</td>\n      <td>2</td>\n      <td>4</td>\n      <td>Spring</td>\n      <td>ORD-SYR</td>\n      <td>8.238029</td>\n    </tr>\n    <tr>\n      <th>2</th>\n      <td>ORD</td>\n      <td>2023-04-12 22:00:00</td>\n      <td>Night</td>\n      <td>2</td>\n      <td>4</td>\n      <td>Spring</td>\n      <td>ORD-SYR</td>\n      <td>8.238029</td>\n    </tr>\n    <tr>\n      <th>3</th>\n      <td>ORD</td>\n      <td>2023-04-13 10:00:00</td>\n      <td>Morning</td>\n      <td>3</td>\n      <td>4</td>\n      <td>Spring</td>\n      <td>ORD-SYR</td>\n      <td>8.238029</td>\n    </tr>\n    <tr>\n      <th>4</th>\n      <td>ORD</td>\n      <td>2023-04-13 17:00:00</td>\n      <td>Evening</td>\n      <td>3</td>\n      <td>4</td>\n      <td>Spring</td>\n      <td>ORD-SYR</td>\n      <td>8.238029</td>\n    </tr>\n    <tr>\n      <th>5</th>\n      <td>ORD</td>\n      <td>2023-04-13 22:00:00</td>\n      <td>Night</td>\n      <td>3</td>\n      <td>4</td>\n      <td>Spring</td>\n      <td>ORD-SYR</td>\n      <td>8.238029</td>\n    </tr>\n    <tr>\n      <th>6</th>\n      <td>ORD</td>\n      <td>2023-04-14 10:00:00</td>\n      <td>Morning</td>\n      <td>4</td>\n      <td>4</td>\n      <td>Spring</td>\n      <td>ORD-SYR</td>\n      <td>8.238029</td>\n    </tr>\n    <tr>\n      <th>7</th>\n      <td>ORD</td>\n      <td>2023-04-14 17:00:00</td>\n      <td>Evening</td>\n      <td>4</td>\n      <td>4</td>\n      <td>Spring</td>\n      <td>ORD-SYR</td>\n      <td>8.238029</td>\n    </tr>\n    <tr>\n      <th>8</th>\n      <td>ORD</td>\n      <td>2023-04-14 22:00:00</td>\n      <td>Night</td>\n      <td>4</td>\n      <td>4</td>\n      <td>Spring</td>\n      <td>ORD-SYR</td>\n      <td>8.238029</td>\n    </tr>\n    <tr>\n      <th>9</th>\n      <td>ORD</td>\n      <td>2023-04-15 10:00:00</td>\n      <td>Morning</td>\n      <td>5</td>\n      <td>4</td>\n      <td>Spring</td>\n      <td>ORD-SYR</td>\n      <td>8.238029</td>\n    </tr>\n  </tbody>\n</table>\n</div>"
     },
     "execution_count": 87,
     "metadata": {},
     "output_type": "execute_result"
    }
   ],
   "source": [
    "# Merge the mean_delay_by_route DataFrame with the original flight_data DataFrame\n",
    "# This adds the 'Route Mean Delay' column to the real_data DataFrame, with the appropriate values for each flight\n",
    "real_data = real_data.merge(mean_delay_by_route, on='Flight Route', how='left')\n",
    "\n",
    "# Display the first 10 rows of the updated real_data DataFrame\n",
    "real_data.head(10)"
   ],
   "metadata": {
    "collapsed": false
   }
  },
  {
   "cell_type": "markdown",
   "source": [
    "## Route Delay Frequency"
   ],
   "metadata": {
    "collapsed": false
   }
  },
  {
   "cell_type": "code",
   "execution_count": 88,
   "outputs": [
    {
     "data": {
      "text/plain": "  Origin Airport    Arrival Datetime Time of Day Day of the Week Month  \\\n0            ORD 2023-04-12 10:00:00     Morning               2     4   \n1            ORD 2023-04-12 17:00:00     Evening               2     4   \n2            ORD 2023-04-12 22:00:00       Night               2     4   \n3            ORD 2023-04-13 10:00:00     Morning               3     4   \n4            ORD 2023-04-13 17:00:00     Evening               3     4   \n5            ORD 2023-04-13 22:00:00       Night               3     4   \n6            ORD 2023-04-14 10:00:00     Morning               4     4   \n7            ORD 2023-04-14 17:00:00     Evening               4     4   \n8            ORD 2023-04-14 22:00:00       Night               4     4   \n9            ORD 2023-04-15 10:00:00     Morning               5     4   \n\n   Season Flight Route  Route Mean Delay  Route Delay Frequency  \n0  Spring      ORD-SYR          8.238029                   4783  \n1  Spring      ORD-SYR          8.238029                   4783  \n2  Spring      ORD-SYR          8.238029                   4783  \n3  Spring      ORD-SYR          8.238029                   4783  \n4  Spring      ORD-SYR          8.238029                   4783  \n5  Spring      ORD-SYR          8.238029                   4783  \n6  Spring      ORD-SYR          8.238029                   4783  \n7  Spring      ORD-SYR          8.238029                   4783  \n8  Spring      ORD-SYR          8.238029                   4783  \n9  Spring      ORD-SYR          8.238029                   4783  ",
      "text/html": "<div>\n<style scoped>\n    .dataframe tbody tr th:only-of-type {\n        vertical-align: middle;\n    }\n\n    .dataframe tbody tr th {\n        vertical-align: top;\n    }\n\n    .dataframe thead th {\n        text-align: right;\n    }\n</style>\n<table border=\"1\" class=\"dataframe\">\n  <thead>\n    <tr style=\"text-align: right;\">\n      <th></th>\n      <th>Origin Airport</th>\n      <th>Arrival Datetime</th>\n      <th>Time of Day</th>\n      <th>Day of the Week</th>\n      <th>Month</th>\n      <th>Season</th>\n      <th>Flight Route</th>\n      <th>Route Mean Delay</th>\n      <th>Route Delay Frequency</th>\n    </tr>\n  </thead>\n  <tbody>\n    <tr>\n      <th>0</th>\n      <td>ORD</td>\n      <td>2023-04-12 10:00:00</td>\n      <td>Morning</td>\n      <td>2</td>\n      <td>4</td>\n      <td>Spring</td>\n      <td>ORD-SYR</td>\n      <td>8.238029</td>\n      <td>4783</td>\n    </tr>\n    <tr>\n      <th>1</th>\n      <td>ORD</td>\n      <td>2023-04-12 17:00:00</td>\n      <td>Evening</td>\n      <td>2</td>\n      <td>4</td>\n      <td>Spring</td>\n      <td>ORD-SYR</td>\n      <td>8.238029</td>\n      <td>4783</td>\n    </tr>\n    <tr>\n      <th>2</th>\n      <td>ORD</td>\n      <td>2023-04-12 22:00:00</td>\n      <td>Night</td>\n      <td>2</td>\n      <td>4</td>\n      <td>Spring</td>\n      <td>ORD-SYR</td>\n      <td>8.238029</td>\n      <td>4783</td>\n    </tr>\n    <tr>\n      <th>3</th>\n      <td>ORD</td>\n      <td>2023-04-13 10:00:00</td>\n      <td>Morning</td>\n      <td>3</td>\n      <td>4</td>\n      <td>Spring</td>\n      <td>ORD-SYR</td>\n      <td>8.238029</td>\n      <td>4783</td>\n    </tr>\n    <tr>\n      <th>4</th>\n      <td>ORD</td>\n      <td>2023-04-13 17:00:00</td>\n      <td>Evening</td>\n      <td>3</td>\n      <td>4</td>\n      <td>Spring</td>\n      <td>ORD-SYR</td>\n      <td>8.238029</td>\n      <td>4783</td>\n    </tr>\n    <tr>\n      <th>5</th>\n      <td>ORD</td>\n      <td>2023-04-13 22:00:00</td>\n      <td>Night</td>\n      <td>3</td>\n      <td>4</td>\n      <td>Spring</td>\n      <td>ORD-SYR</td>\n      <td>8.238029</td>\n      <td>4783</td>\n    </tr>\n    <tr>\n      <th>6</th>\n      <td>ORD</td>\n      <td>2023-04-14 10:00:00</td>\n      <td>Morning</td>\n      <td>4</td>\n      <td>4</td>\n      <td>Spring</td>\n      <td>ORD-SYR</td>\n      <td>8.238029</td>\n      <td>4783</td>\n    </tr>\n    <tr>\n      <th>7</th>\n      <td>ORD</td>\n      <td>2023-04-14 17:00:00</td>\n      <td>Evening</td>\n      <td>4</td>\n      <td>4</td>\n      <td>Spring</td>\n      <td>ORD-SYR</td>\n      <td>8.238029</td>\n      <td>4783</td>\n    </tr>\n    <tr>\n      <th>8</th>\n      <td>ORD</td>\n      <td>2023-04-14 22:00:00</td>\n      <td>Night</td>\n      <td>4</td>\n      <td>4</td>\n      <td>Spring</td>\n      <td>ORD-SYR</td>\n      <td>8.238029</td>\n      <td>4783</td>\n    </tr>\n    <tr>\n      <th>9</th>\n      <td>ORD</td>\n      <td>2023-04-15 10:00:00</td>\n      <td>Morning</td>\n      <td>5</td>\n      <td>4</td>\n      <td>Spring</td>\n      <td>ORD-SYR</td>\n      <td>8.238029</td>\n      <td>4783</td>\n    </tr>\n  </tbody>\n</table>\n</div>"
     },
     "execution_count": 88,
     "metadata": {},
     "output_type": "execute_result"
    }
   ],
   "source": [
    "# Merge the delay_frequency_by_route DataFrame with the original flight_data DataFrame\n",
    "# This adds the 'Route Delay Frequency' column to the real_data DataFrame, with the appropriate values for each flight\n",
    "real_data = real_data.merge(delay_frequency_by_route, on='Flight Route', how='left')\n",
    "\n",
    "# Fill any missing values in the 'Route Delay Frequency' column with 0\n",
    "real_data['Route Delay Frequency'] = real_data['Route Delay Frequency'].fillna(0)\n",
    "\n",
    "# Display the first 10 rows of the updated real_data DataFrame\n",
    "real_data.head(10)"
   ],
   "metadata": {
    "collapsed": false
   }
  },
  {
   "cell_type": "markdown",
   "source": [
    "## Route Delay Ratio"
   ],
   "metadata": {
    "collapsed": false
   }
  },
  {
   "cell_type": "code",
   "execution_count": 89,
   "outputs": [
    {
     "data": {
      "text/plain": "  Origin Airport    Arrival Datetime Time of Day Day of the Week Month  \\\n0            ORD 2023-04-12 10:00:00     Morning               2     4   \n1            ORD 2023-04-12 17:00:00     Evening               2     4   \n2            ORD 2023-04-12 22:00:00       Night               2     4   \n3            ORD 2023-04-13 10:00:00     Morning               3     4   \n4            ORD 2023-04-13 17:00:00     Evening               3     4   \n5            ORD 2023-04-13 22:00:00       Night               3     4   \n6            ORD 2023-04-14 10:00:00     Morning               4     4   \n7            ORD 2023-04-14 17:00:00     Evening               4     4   \n8            ORD 2023-04-14 22:00:00       Night               4     4   \n9            ORD 2023-04-15 10:00:00     Morning               5     4   \n\n   Season Flight Route  Route Mean Delay  Route Delay Frequency  \\\n0  Spring      ORD-SYR          8.238029                   4783   \n1  Spring      ORD-SYR          8.238029                   4783   \n2  Spring      ORD-SYR          8.238029                   4783   \n3  Spring      ORD-SYR          8.238029                   4783   \n4  Spring      ORD-SYR          8.238029                   4783   \n5  Spring      ORD-SYR          8.238029                   4783   \n6  Spring      ORD-SYR          8.238029                   4783   \n7  Spring      ORD-SYR          8.238029                   4783   \n8  Spring      ORD-SYR          8.238029                   4783   \n9  Spring      ORD-SYR          8.238029                   4783   \n\n   Route Delay Ratio  \n0           0.255325  \n1           0.255325  \n2           0.255325  \n3           0.255325  \n4           0.255325  \n5           0.255325  \n6           0.255325  \n7           0.255325  \n8           0.255325  \n9           0.255325  ",
      "text/html": "<div>\n<style scoped>\n    .dataframe tbody tr th:only-of-type {\n        vertical-align: middle;\n    }\n\n    .dataframe tbody tr th {\n        vertical-align: top;\n    }\n\n    .dataframe thead th {\n        text-align: right;\n    }\n</style>\n<table border=\"1\" class=\"dataframe\">\n  <thead>\n    <tr style=\"text-align: right;\">\n      <th></th>\n      <th>Origin Airport</th>\n      <th>Arrival Datetime</th>\n      <th>Time of Day</th>\n      <th>Day of the Week</th>\n      <th>Month</th>\n      <th>Season</th>\n      <th>Flight Route</th>\n      <th>Route Mean Delay</th>\n      <th>Route Delay Frequency</th>\n      <th>Route Delay Ratio</th>\n    </tr>\n  </thead>\n  <tbody>\n    <tr>\n      <th>0</th>\n      <td>ORD</td>\n      <td>2023-04-12 10:00:00</td>\n      <td>Morning</td>\n      <td>2</td>\n      <td>4</td>\n      <td>Spring</td>\n      <td>ORD-SYR</td>\n      <td>8.238029</td>\n      <td>4783</td>\n      <td>0.255325</td>\n    </tr>\n    <tr>\n      <th>1</th>\n      <td>ORD</td>\n      <td>2023-04-12 17:00:00</td>\n      <td>Evening</td>\n      <td>2</td>\n      <td>4</td>\n      <td>Spring</td>\n      <td>ORD-SYR</td>\n      <td>8.238029</td>\n      <td>4783</td>\n      <td>0.255325</td>\n    </tr>\n    <tr>\n      <th>2</th>\n      <td>ORD</td>\n      <td>2023-04-12 22:00:00</td>\n      <td>Night</td>\n      <td>2</td>\n      <td>4</td>\n      <td>Spring</td>\n      <td>ORD-SYR</td>\n      <td>8.238029</td>\n      <td>4783</td>\n      <td>0.255325</td>\n    </tr>\n    <tr>\n      <th>3</th>\n      <td>ORD</td>\n      <td>2023-04-13 10:00:00</td>\n      <td>Morning</td>\n      <td>3</td>\n      <td>4</td>\n      <td>Spring</td>\n      <td>ORD-SYR</td>\n      <td>8.238029</td>\n      <td>4783</td>\n      <td>0.255325</td>\n    </tr>\n    <tr>\n      <th>4</th>\n      <td>ORD</td>\n      <td>2023-04-13 17:00:00</td>\n      <td>Evening</td>\n      <td>3</td>\n      <td>4</td>\n      <td>Spring</td>\n      <td>ORD-SYR</td>\n      <td>8.238029</td>\n      <td>4783</td>\n      <td>0.255325</td>\n    </tr>\n    <tr>\n      <th>5</th>\n      <td>ORD</td>\n      <td>2023-04-13 22:00:00</td>\n      <td>Night</td>\n      <td>3</td>\n      <td>4</td>\n      <td>Spring</td>\n      <td>ORD-SYR</td>\n      <td>8.238029</td>\n      <td>4783</td>\n      <td>0.255325</td>\n    </tr>\n    <tr>\n      <th>6</th>\n      <td>ORD</td>\n      <td>2023-04-14 10:00:00</td>\n      <td>Morning</td>\n      <td>4</td>\n      <td>4</td>\n      <td>Spring</td>\n      <td>ORD-SYR</td>\n      <td>8.238029</td>\n      <td>4783</td>\n      <td>0.255325</td>\n    </tr>\n    <tr>\n      <th>7</th>\n      <td>ORD</td>\n      <td>2023-04-14 17:00:00</td>\n      <td>Evening</td>\n      <td>4</td>\n      <td>4</td>\n      <td>Spring</td>\n      <td>ORD-SYR</td>\n      <td>8.238029</td>\n      <td>4783</td>\n      <td>0.255325</td>\n    </tr>\n    <tr>\n      <th>8</th>\n      <td>ORD</td>\n      <td>2023-04-14 22:00:00</td>\n      <td>Night</td>\n      <td>4</td>\n      <td>4</td>\n      <td>Spring</td>\n      <td>ORD-SYR</td>\n      <td>8.238029</td>\n      <td>4783</td>\n      <td>0.255325</td>\n    </tr>\n    <tr>\n      <th>9</th>\n      <td>ORD</td>\n      <td>2023-04-15 10:00:00</td>\n      <td>Morning</td>\n      <td>5</td>\n      <td>4</td>\n      <td>Spring</td>\n      <td>ORD-SYR</td>\n      <td>8.238029</td>\n      <td>4783</td>\n      <td>0.255325</td>\n    </tr>\n  </tbody>\n</table>\n</div>"
     },
     "execution_count": 89,
     "metadata": {},
     "output_type": "execute_result"
    }
   ],
   "source": [
    "# Merge the route_delay_ratio DataFrame with the original real_data DataFrame\n",
    "# This adds the 'Route Delay Ratio' column to the real_data DataFrame, with the appropriate values for each flight\n",
    "real_data = real_data.merge(route_delay_ratio, on='Flight Route', how='left')\n",
    "\n",
    "# Display the first 10 rows of the updated real_data DataFrame\n",
    "real_data.head(10)"
   ],
   "metadata": {
    "collapsed": false
   }
  },
  {
   "cell_type": "markdown",
   "source": [
    "## Route Mean Elapsed"
   ],
   "metadata": {
    "collapsed": false
   }
  },
  {
   "cell_type": "code",
   "execution_count": 90,
   "outputs": [
    {
     "data": {
      "text/plain": "  Origin Airport    Arrival Datetime Time of Day Day of the Week Month  \\\n0            ORD 2023-04-12 10:00:00     Morning               2     4   \n1            ORD 2023-04-12 17:00:00     Evening               2     4   \n2            ORD 2023-04-12 22:00:00       Night               2     4   \n3            ORD 2023-04-13 10:00:00     Morning               3     4   \n4            ORD 2023-04-13 17:00:00     Evening               3     4   \n5            ORD 2023-04-13 22:00:00       Night               3     4   \n6            ORD 2023-04-14 10:00:00     Morning               4     4   \n7            ORD 2023-04-14 17:00:00     Evening               4     4   \n8            ORD 2023-04-14 22:00:00       Night               4     4   \n9            ORD 2023-04-15 10:00:00     Morning               5     4   \n\n   Season Flight Route  Route Mean Delay  Route Delay Frequency  \\\n0  Spring      ORD-SYR          8.238029                   4783   \n1  Spring      ORD-SYR          8.238029                   4783   \n2  Spring      ORD-SYR          8.238029                   4783   \n3  Spring      ORD-SYR          8.238029                   4783   \n4  Spring      ORD-SYR          8.238029                   4783   \n5  Spring      ORD-SYR          8.238029                   4783   \n6  Spring      ORD-SYR          8.238029                   4783   \n7  Spring      ORD-SYR          8.238029                   4783   \n8  Spring      ORD-SYR          8.238029                   4783   \n9  Spring      ORD-SYR          8.238029                   4783   \n\n   Route Delay Ratio  Average Elapsed Time (Minutes)  \n0           0.255325                              99  \n1           0.255325                              99  \n2           0.255325                              99  \n3           0.255325                              99  \n4           0.255325                              99  \n5           0.255325                              99  \n6           0.255325                              99  \n7           0.255325                              99  \n8           0.255325                              99  \n9           0.255325                              99  ",
      "text/html": "<div>\n<style scoped>\n    .dataframe tbody tr th:only-of-type {\n        vertical-align: middle;\n    }\n\n    .dataframe tbody tr th {\n        vertical-align: top;\n    }\n\n    .dataframe thead th {\n        text-align: right;\n    }\n</style>\n<table border=\"1\" class=\"dataframe\">\n  <thead>\n    <tr style=\"text-align: right;\">\n      <th></th>\n      <th>Origin Airport</th>\n      <th>Arrival Datetime</th>\n      <th>Time of Day</th>\n      <th>Day of the Week</th>\n      <th>Month</th>\n      <th>Season</th>\n      <th>Flight Route</th>\n      <th>Route Mean Delay</th>\n      <th>Route Delay Frequency</th>\n      <th>Route Delay Ratio</th>\n      <th>Average Elapsed Time (Minutes)</th>\n    </tr>\n  </thead>\n  <tbody>\n    <tr>\n      <th>0</th>\n      <td>ORD</td>\n      <td>2023-04-12 10:00:00</td>\n      <td>Morning</td>\n      <td>2</td>\n      <td>4</td>\n      <td>Spring</td>\n      <td>ORD-SYR</td>\n      <td>8.238029</td>\n      <td>4783</td>\n      <td>0.255325</td>\n      <td>99</td>\n    </tr>\n    <tr>\n      <th>1</th>\n      <td>ORD</td>\n      <td>2023-04-12 17:00:00</td>\n      <td>Evening</td>\n      <td>2</td>\n      <td>4</td>\n      <td>Spring</td>\n      <td>ORD-SYR</td>\n      <td>8.238029</td>\n      <td>4783</td>\n      <td>0.255325</td>\n      <td>99</td>\n    </tr>\n    <tr>\n      <th>2</th>\n      <td>ORD</td>\n      <td>2023-04-12 22:00:00</td>\n      <td>Night</td>\n      <td>2</td>\n      <td>4</td>\n      <td>Spring</td>\n      <td>ORD-SYR</td>\n      <td>8.238029</td>\n      <td>4783</td>\n      <td>0.255325</td>\n      <td>99</td>\n    </tr>\n    <tr>\n      <th>3</th>\n      <td>ORD</td>\n      <td>2023-04-13 10:00:00</td>\n      <td>Morning</td>\n      <td>3</td>\n      <td>4</td>\n      <td>Spring</td>\n      <td>ORD-SYR</td>\n      <td>8.238029</td>\n      <td>4783</td>\n      <td>0.255325</td>\n      <td>99</td>\n    </tr>\n    <tr>\n      <th>4</th>\n      <td>ORD</td>\n      <td>2023-04-13 17:00:00</td>\n      <td>Evening</td>\n      <td>3</td>\n      <td>4</td>\n      <td>Spring</td>\n      <td>ORD-SYR</td>\n      <td>8.238029</td>\n      <td>4783</td>\n      <td>0.255325</td>\n      <td>99</td>\n    </tr>\n    <tr>\n      <th>5</th>\n      <td>ORD</td>\n      <td>2023-04-13 22:00:00</td>\n      <td>Night</td>\n      <td>3</td>\n      <td>4</td>\n      <td>Spring</td>\n      <td>ORD-SYR</td>\n      <td>8.238029</td>\n      <td>4783</td>\n      <td>0.255325</td>\n      <td>99</td>\n    </tr>\n    <tr>\n      <th>6</th>\n      <td>ORD</td>\n      <td>2023-04-14 10:00:00</td>\n      <td>Morning</td>\n      <td>4</td>\n      <td>4</td>\n      <td>Spring</td>\n      <td>ORD-SYR</td>\n      <td>8.238029</td>\n      <td>4783</td>\n      <td>0.255325</td>\n      <td>99</td>\n    </tr>\n    <tr>\n      <th>7</th>\n      <td>ORD</td>\n      <td>2023-04-14 17:00:00</td>\n      <td>Evening</td>\n      <td>4</td>\n      <td>4</td>\n      <td>Spring</td>\n      <td>ORD-SYR</td>\n      <td>8.238029</td>\n      <td>4783</td>\n      <td>0.255325</td>\n      <td>99</td>\n    </tr>\n    <tr>\n      <th>8</th>\n      <td>ORD</td>\n      <td>2023-04-14 22:00:00</td>\n      <td>Night</td>\n      <td>4</td>\n      <td>4</td>\n      <td>Spring</td>\n      <td>ORD-SYR</td>\n      <td>8.238029</td>\n      <td>4783</td>\n      <td>0.255325</td>\n      <td>99</td>\n    </tr>\n    <tr>\n      <th>9</th>\n      <td>ORD</td>\n      <td>2023-04-15 10:00:00</td>\n      <td>Morning</td>\n      <td>5</td>\n      <td>4</td>\n      <td>Spring</td>\n      <td>ORD-SYR</td>\n      <td>8.238029</td>\n      <td>4783</td>\n      <td>0.255325</td>\n      <td>99</td>\n    </tr>\n  </tbody>\n</table>\n</div>"
     },
     "execution_count": 90,
     "metadata": {},
     "output_type": "execute_result"
    }
   ],
   "source": [
    "# Merge the average elapsed time data back into the original dataset\n",
    "real_data = real_data.merge(avg_elapsed_time_by_route, on='Flight Route', how='left')\n",
    "\n",
    "# Display the first 10 rows of the updated real_data DataFrame\n",
    "real_data.head(10)"
   ],
   "metadata": {
    "collapsed": false
   }
  },
  {
   "cell_type": "markdown",
   "source": [
    "## Distance"
   ],
   "metadata": {
    "collapsed": false
   }
  },
  {
   "cell_type": "code",
   "execution_count": 91,
   "outputs": [
    {
     "data": {
      "text/plain": "  Origin Airport    Arrival Datetime Time of Day Day of the Week Month  \\\n0            ORD 2023-04-12 10:00:00     Morning               2     4   \n1            ORD 2023-04-12 17:00:00     Evening               2     4   \n2            ORD 2023-04-12 22:00:00       Night               2     4   \n3            ORD 2023-04-13 10:00:00     Morning               3     4   \n4            ORD 2023-04-13 17:00:00     Evening               3     4   \n5            ORD 2023-04-13 22:00:00       Night               3     4   \n6            ORD 2023-04-14 10:00:00     Morning               4     4   \n7            ORD 2023-04-14 17:00:00     Evening               4     4   \n8            ORD 2023-04-14 22:00:00       Night               4     4   \n9            ORD 2023-04-15 10:00:00     Morning               5     4   \n\n   Season Flight Route  Route Mean Delay  Route Delay Frequency  \\\n0  Spring      ORD-SYR          8.238029                   4783   \n1  Spring      ORD-SYR          8.238029                   4783   \n2  Spring      ORD-SYR          8.238029                   4783   \n3  Spring      ORD-SYR          8.238029                   4783   \n4  Spring      ORD-SYR          8.238029                   4783   \n5  Spring      ORD-SYR          8.238029                   4783   \n6  Spring      ORD-SYR          8.238029                   4783   \n7  Spring      ORD-SYR          8.238029                   4783   \n8  Spring      ORD-SYR          8.238029                   4783   \n9  Spring      ORD-SYR          8.238029                   4783   \n\n   Route Delay Ratio  Average Elapsed Time (Minutes)  Distance (km)  \n0           0.255325                              99            974  \n1           0.255325                              99            974  \n2           0.255325                              99            974  \n3           0.255325                              99            974  \n4           0.255325                              99            974  \n5           0.255325                              99            974  \n6           0.255325                              99            974  \n7           0.255325                              99            974  \n8           0.255325                              99            974  \n9           0.255325                              99            974  ",
      "text/html": "<div>\n<style scoped>\n    .dataframe tbody tr th:only-of-type {\n        vertical-align: middle;\n    }\n\n    .dataframe tbody tr th {\n        vertical-align: top;\n    }\n\n    .dataframe thead th {\n        text-align: right;\n    }\n</style>\n<table border=\"1\" class=\"dataframe\">\n  <thead>\n    <tr style=\"text-align: right;\">\n      <th></th>\n      <th>Origin Airport</th>\n      <th>Arrival Datetime</th>\n      <th>Time of Day</th>\n      <th>Day of the Week</th>\n      <th>Month</th>\n      <th>Season</th>\n      <th>Flight Route</th>\n      <th>Route Mean Delay</th>\n      <th>Route Delay Frequency</th>\n      <th>Route Delay Ratio</th>\n      <th>Average Elapsed Time (Minutes)</th>\n      <th>Distance (km)</th>\n    </tr>\n  </thead>\n  <tbody>\n    <tr>\n      <th>0</th>\n      <td>ORD</td>\n      <td>2023-04-12 10:00:00</td>\n      <td>Morning</td>\n      <td>2</td>\n      <td>4</td>\n      <td>Spring</td>\n      <td>ORD-SYR</td>\n      <td>8.238029</td>\n      <td>4783</td>\n      <td>0.255325</td>\n      <td>99</td>\n      <td>974</td>\n    </tr>\n    <tr>\n      <th>1</th>\n      <td>ORD</td>\n      <td>2023-04-12 17:00:00</td>\n      <td>Evening</td>\n      <td>2</td>\n      <td>4</td>\n      <td>Spring</td>\n      <td>ORD-SYR</td>\n      <td>8.238029</td>\n      <td>4783</td>\n      <td>0.255325</td>\n      <td>99</td>\n      <td>974</td>\n    </tr>\n    <tr>\n      <th>2</th>\n      <td>ORD</td>\n      <td>2023-04-12 22:00:00</td>\n      <td>Night</td>\n      <td>2</td>\n      <td>4</td>\n      <td>Spring</td>\n      <td>ORD-SYR</td>\n      <td>8.238029</td>\n      <td>4783</td>\n      <td>0.255325</td>\n      <td>99</td>\n      <td>974</td>\n    </tr>\n    <tr>\n      <th>3</th>\n      <td>ORD</td>\n      <td>2023-04-13 10:00:00</td>\n      <td>Morning</td>\n      <td>3</td>\n      <td>4</td>\n      <td>Spring</td>\n      <td>ORD-SYR</td>\n      <td>8.238029</td>\n      <td>4783</td>\n      <td>0.255325</td>\n      <td>99</td>\n      <td>974</td>\n    </tr>\n    <tr>\n      <th>4</th>\n      <td>ORD</td>\n      <td>2023-04-13 17:00:00</td>\n      <td>Evening</td>\n      <td>3</td>\n      <td>4</td>\n      <td>Spring</td>\n      <td>ORD-SYR</td>\n      <td>8.238029</td>\n      <td>4783</td>\n      <td>0.255325</td>\n      <td>99</td>\n      <td>974</td>\n    </tr>\n    <tr>\n      <th>5</th>\n      <td>ORD</td>\n      <td>2023-04-13 22:00:00</td>\n      <td>Night</td>\n      <td>3</td>\n      <td>4</td>\n      <td>Spring</td>\n      <td>ORD-SYR</td>\n      <td>8.238029</td>\n      <td>4783</td>\n      <td>0.255325</td>\n      <td>99</td>\n      <td>974</td>\n    </tr>\n    <tr>\n      <th>6</th>\n      <td>ORD</td>\n      <td>2023-04-14 10:00:00</td>\n      <td>Morning</td>\n      <td>4</td>\n      <td>4</td>\n      <td>Spring</td>\n      <td>ORD-SYR</td>\n      <td>8.238029</td>\n      <td>4783</td>\n      <td>0.255325</td>\n      <td>99</td>\n      <td>974</td>\n    </tr>\n    <tr>\n      <th>7</th>\n      <td>ORD</td>\n      <td>2023-04-14 17:00:00</td>\n      <td>Evening</td>\n      <td>4</td>\n      <td>4</td>\n      <td>Spring</td>\n      <td>ORD-SYR</td>\n      <td>8.238029</td>\n      <td>4783</td>\n      <td>0.255325</td>\n      <td>99</td>\n      <td>974</td>\n    </tr>\n    <tr>\n      <th>8</th>\n      <td>ORD</td>\n      <td>2023-04-14 22:00:00</td>\n      <td>Night</td>\n      <td>4</td>\n      <td>4</td>\n      <td>Spring</td>\n      <td>ORD-SYR</td>\n      <td>8.238029</td>\n      <td>4783</td>\n      <td>0.255325</td>\n      <td>99</td>\n      <td>974</td>\n    </tr>\n    <tr>\n      <th>9</th>\n      <td>ORD</td>\n      <td>2023-04-15 10:00:00</td>\n      <td>Morning</td>\n      <td>5</td>\n      <td>4</td>\n      <td>Spring</td>\n      <td>ORD-SYR</td>\n      <td>8.238029</td>\n      <td>4783</td>\n      <td>0.255325</td>\n      <td>99</td>\n      <td>974</td>\n    </tr>\n  </tbody>\n</table>\n</div>"
     },
     "execution_count": 91,
     "metadata": {},
     "output_type": "execute_result"
    }
   ],
   "source": [
    "# Assuming airport_coords is a dataframe indexed by IATA code with 'Latitude' and 'Longitude' columns\n",
    "real_data['Distance (km)'] = real_data.apply(lambda row: get_distance(row, airport_coords), axis=1)\n",
    "\n",
    "# Show 10 rows of the dataframe\n",
    "real_data.head(10)"
   ],
   "metadata": {
    "collapsed": false
   }
  },
  {
   "cell_type": "markdown",
   "source": [
    "## Departure Datetime"
   ],
   "metadata": {
    "collapsed": false
   }
  },
  {
   "cell_type": "code",
   "execution_count": 92,
   "outputs": [
    {
     "data": {
      "text/plain": "  Origin Airport    Arrival Datetime Time of Day Day of the Week Month  \\\n0            ORD 2023-04-12 10:00:00     Morning               2     4   \n1            ORD 2023-04-12 17:00:00     Evening               2     4   \n2            ORD 2023-04-12 22:00:00       Night               2     4   \n3            ORD 2023-04-13 10:00:00     Morning               3     4   \n4            ORD 2023-04-13 17:00:00     Evening               3     4   \n5            ORD 2023-04-13 22:00:00       Night               3     4   \n6            ORD 2023-04-14 10:00:00     Morning               4     4   \n7            ORD 2023-04-14 17:00:00     Evening               4     4   \n8            ORD 2023-04-14 22:00:00       Night               4     4   \n9            ORD 2023-04-15 10:00:00     Morning               5     4   \n\n   Season Flight Route  Route Mean Delay  Route Delay Frequency  \\\n0  Spring      ORD-SYR          8.238029                   4783   \n1  Spring      ORD-SYR          8.238029                   4783   \n2  Spring      ORD-SYR          8.238029                   4783   \n3  Spring      ORD-SYR          8.238029                   4783   \n4  Spring      ORD-SYR          8.238029                   4783   \n5  Spring      ORD-SYR          8.238029                   4783   \n6  Spring      ORD-SYR          8.238029                   4783   \n7  Spring      ORD-SYR          8.238029                   4783   \n8  Spring      ORD-SYR          8.238029                   4783   \n9  Spring      ORD-SYR          8.238029                   4783   \n\n   Route Delay Ratio  Average Elapsed Time (Minutes)  Distance (km)  \\\n0           0.255325                              99            974   \n1           0.255325                              99            974   \n2           0.255325                              99            974   \n3           0.255325                              99            974   \n4           0.255325                              99            974   \n5           0.255325                              99            974   \n6           0.255325                              99            974   \n7           0.255325                              99            974   \n8           0.255325                              99            974   \n9           0.255325                              99            974   \n\n   Departure Datetime  \n0 2023-04-12 08:00:00  \n1 2023-04-12 15:00:00  \n2 2023-04-12 20:00:00  \n3 2023-04-13 08:00:00  \n4 2023-04-13 15:00:00  \n5 2023-04-13 20:00:00  \n6 2023-04-14 08:00:00  \n7 2023-04-14 15:00:00  \n8 2023-04-14 20:00:00  \n9 2023-04-15 08:00:00  ",
      "text/html": "<div>\n<style scoped>\n    .dataframe tbody tr th:only-of-type {\n        vertical-align: middle;\n    }\n\n    .dataframe tbody tr th {\n        vertical-align: top;\n    }\n\n    .dataframe thead th {\n        text-align: right;\n    }\n</style>\n<table border=\"1\" class=\"dataframe\">\n  <thead>\n    <tr style=\"text-align: right;\">\n      <th></th>\n      <th>Origin Airport</th>\n      <th>Arrival Datetime</th>\n      <th>Time of Day</th>\n      <th>Day of the Week</th>\n      <th>Month</th>\n      <th>Season</th>\n      <th>Flight Route</th>\n      <th>Route Mean Delay</th>\n      <th>Route Delay Frequency</th>\n      <th>Route Delay Ratio</th>\n      <th>Average Elapsed Time (Minutes)</th>\n      <th>Distance (km)</th>\n      <th>Departure Datetime</th>\n    </tr>\n  </thead>\n  <tbody>\n    <tr>\n      <th>0</th>\n      <td>ORD</td>\n      <td>2023-04-12 10:00:00</td>\n      <td>Morning</td>\n      <td>2</td>\n      <td>4</td>\n      <td>Spring</td>\n      <td>ORD-SYR</td>\n      <td>8.238029</td>\n      <td>4783</td>\n      <td>0.255325</td>\n      <td>99</td>\n      <td>974</td>\n      <td>2023-04-12 08:00:00</td>\n    </tr>\n    <tr>\n      <th>1</th>\n      <td>ORD</td>\n      <td>2023-04-12 17:00:00</td>\n      <td>Evening</td>\n      <td>2</td>\n      <td>4</td>\n      <td>Spring</td>\n      <td>ORD-SYR</td>\n      <td>8.238029</td>\n      <td>4783</td>\n      <td>0.255325</td>\n      <td>99</td>\n      <td>974</td>\n      <td>2023-04-12 15:00:00</td>\n    </tr>\n    <tr>\n      <th>2</th>\n      <td>ORD</td>\n      <td>2023-04-12 22:00:00</td>\n      <td>Night</td>\n      <td>2</td>\n      <td>4</td>\n      <td>Spring</td>\n      <td>ORD-SYR</td>\n      <td>8.238029</td>\n      <td>4783</td>\n      <td>0.255325</td>\n      <td>99</td>\n      <td>974</td>\n      <td>2023-04-12 20:00:00</td>\n    </tr>\n    <tr>\n      <th>3</th>\n      <td>ORD</td>\n      <td>2023-04-13 10:00:00</td>\n      <td>Morning</td>\n      <td>3</td>\n      <td>4</td>\n      <td>Spring</td>\n      <td>ORD-SYR</td>\n      <td>8.238029</td>\n      <td>4783</td>\n      <td>0.255325</td>\n      <td>99</td>\n      <td>974</td>\n      <td>2023-04-13 08:00:00</td>\n    </tr>\n    <tr>\n      <th>4</th>\n      <td>ORD</td>\n      <td>2023-04-13 17:00:00</td>\n      <td>Evening</td>\n      <td>3</td>\n      <td>4</td>\n      <td>Spring</td>\n      <td>ORD-SYR</td>\n      <td>8.238029</td>\n      <td>4783</td>\n      <td>0.255325</td>\n      <td>99</td>\n      <td>974</td>\n      <td>2023-04-13 15:00:00</td>\n    </tr>\n    <tr>\n      <th>5</th>\n      <td>ORD</td>\n      <td>2023-04-13 22:00:00</td>\n      <td>Night</td>\n      <td>3</td>\n      <td>4</td>\n      <td>Spring</td>\n      <td>ORD-SYR</td>\n      <td>8.238029</td>\n      <td>4783</td>\n      <td>0.255325</td>\n      <td>99</td>\n      <td>974</td>\n      <td>2023-04-13 20:00:00</td>\n    </tr>\n    <tr>\n      <th>6</th>\n      <td>ORD</td>\n      <td>2023-04-14 10:00:00</td>\n      <td>Morning</td>\n      <td>4</td>\n      <td>4</td>\n      <td>Spring</td>\n      <td>ORD-SYR</td>\n      <td>8.238029</td>\n      <td>4783</td>\n      <td>0.255325</td>\n      <td>99</td>\n      <td>974</td>\n      <td>2023-04-14 08:00:00</td>\n    </tr>\n    <tr>\n      <th>7</th>\n      <td>ORD</td>\n      <td>2023-04-14 17:00:00</td>\n      <td>Evening</td>\n      <td>4</td>\n      <td>4</td>\n      <td>Spring</td>\n      <td>ORD-SYR</td>\n      <td>8.238029</td>\n      <td>4783</td>\n      <td>0.255325</td>\n      <td>99</td>\n      <td>974</td>\n      <td>2023-04-14 15:00:00</td>\n    </tr>\n    <tr>\n      <th>8</th>\n      <td>ORD</td>\n      <td>2023-04-14 22:00:00</td>\n      <td>Night</td>\n      <td>4</td>\n      <td>4</td>\n      <td>Spring</td>\n      <td>ORD-SYR</td>\n      <td>8.238029</td>\n      <td>4783</td>\n      <td>0.255325</td>\n      <td>99</td>\n      <td>974</td>\n      <td>2023-04-14 20:00:00</td>\n    </tr>\n    <tr>\n      <th>9</th>\n      <td>ORD</td>\n      <td>2023-04-15 10:00:00</td>\n      <td>Morning</td>\n      <td>5</td>\n      <td>4</td>\n      <td>Spring</td>\n      <td>ORD-SYR</td>\n      <td>8.238029</td>\n      <td>4783</td>\n      <td>0.255325</td>\n      <td>99</td>\n      <td>974</td>\n      <td>2023-04-15 08:00:00</td>\n    </tr>\n  </tbody>\n</table>\n</div>"
     },
     "execution_count": 92,
     "metadata": {},
     "output_type": "execute_result"
    }
   ],
   "source": [
    "# Convert the 'Actual Elapsed Time (Minutes)' to a timedelta\n",
    "real_data['Average Elapsed Time'] = pd.to_timedelta(real_data['Average Elapsed Time (Minutes)'], unit='m')\n",
    "\n",
    "# Subtract the 'Actual Elapsed Time' from the 'Arrival Datetime' to create the 'Departure Datetime' column\n",
    "real_data['Departure Datetime'] = real_data['Arrival Datetime'] - real_data['Average Elapsed Time']\n",
    "\n",
    "# Drop more unnecessary date columns\n",
    "real_data.drop(columns=[\n",
    "    'Average Elapsed Time'\n",
    "], inplace=True)\n",
    "\n",
    "# Round to the nearest hour for the weather data\n",
    "real_data['Departure Datetime'] = real_data['Departure Datetime'].dt.round(\"H\")\n",
    "\n",
    "# Show 10 rows of the dataframe\n",
    "real_data.head(10)"
   ],
   "metadata": {
    "collapsed": false
   }
  },
  {
   "cell_type": "markdown",
   "source": [
    "## Origin Weather Data"
   ],
   "metadata": {
    "collapsed": false
   }
  },
  {
   "cell_type": "code",
   "execution_count": 93,
   "outputs": [
    {
     "data": {
      "text/plain": "  Origin Airport    Arrival Datetime Time of Day Day of the Week Month  \\\n0            ORD 2023-04-12 10:00:00     Morning               2     4   \n1            ORD 2023-04-12 17:00:00     Evening               2     4   \n2            ORD 2023-04-12 22:00:00       Night               2     4   \n3            ORD 2023-04-13 10:00:00     Morning               3     4   \n4            ORD 2023-04-13 17:00:00     Evening               3     4   \n5            ORD 2023-04-13 22:00:00       Night               3     4   \n6            ORD 2023-04-14 10:00:00     Morning               4     4   \n7            ORD 2023-04-14 17:00:00     Evening               4     4   \n8            ORD 2023-04-14 22:00:00       Night               4     4   \n9            ORD 2023-04-15 10:00:00     Morning               5     4   \n\n   Season Flight Route  Route Mean Delay  Route Delay Frequency  \\\n0  Spring      ORD-SYR          8.238029                   4783   \n1  Spring      ORD-SYR          8.238029                   4783   \n2  Spring      ORD-SYR          8.238029                   4783   \n3  Spring      ORD-SYR          8.238029                   4783   \n4  Spring      ORD-SYR          8.238029                   4783   \n5  Spring      ORD-SYR          8.238029                   4783   \n6  Spring      ORD-SYR          8.238029                   4783   \n7  Spring      ORD-SYR          8.238029                   4783   \n8  Spring      ORD-SYR          8.238029                   4783   \n9  Spring      ORD-SYR          8.238029                   4783   \n\n   Route Delay Ratio  ...  origin_snowfall (cm)  origin_cloudcover (%)  \\\n0           0.255325  ...                   0.0                     15   \n1           0.255325  ...                   0.0                      0   \n2           0.255325  ...                   0.0                      0   \n3           0.255325  ...                   0.0                      0   \n4           0.255325  ...                   0.0                      8   \n5           0.255325  ...                   0.0                      0   \n6           0.255325  ...                   0.0                      0   \n7           0.255325  ...                   0.0                      4   \n8           0.255325  ...                   0.0                    100   \n9           0.255325  ...                   0.0                    100   \n\n   origin_cloudcover_low (%)  origin_cloudcover_mid (%)  \\\n0                          0                          0   \n1                          0                          0   \n2                          0                          0   \n3                          0                          0   \n4                          0                          0   \n5                          0                          0   \n6                          0                          0   \n7                          2                          4   \n8                          0                        100   \n9                        100                        100   \n\n   origin_cloudcover_high (%)  origin_windspeed_10m (km/h)  \\\n0                          15                         11.9   \n1                           0                         30.0   \n2                           0                         21.2   \n3                           0                          7.9   \n4                           8                         17.6   \n5                           0                         10.8   \n6                           0                          0.8   \n7                           1                         10.1   \n8                          36                         13.8   \n9                           0                          7.4   \n\n   origin_winddirection_10m (°)  origin_windgusts_10m (km/h)  \\\n0                           205                         35.3   \n1                           226                         41.8   \n2                           228                         40.7   \n3                           180                         19.4   \n4                           208                         25.6   \n5                           206                         23.4   \n6                           243                          6.1   \n7                           184                         20.9   \n8                           137                         23.0   \n9                           166                         22.3   \n\n   origin_et0_fao_evapotranspiration (mm)  origin_vapor_pressure_deficit (kPa)  \n0                                    0.05                                 0.77  \n1                                    0.67                                 2.42  \n2                                    0.27                                 2.45  \n3                                    0.04                                 0.84  \n4                                    0.66                                 2.66  \n5                                    0.19                                 2.77  \n6                                    0.00                                 0.86  \n7                                    0.62                                 2.75  \n8                                    0.20                                 2.44  \n9                                    0.03                                 0.95  \n\n[10 rows x 30 columns]",
      "text/html": "<div>\n<style scoped>\n    .dataframe tbody tr th:only-of-type {\n        vertical-align: middle;\n    }\n\n    .dataframe tbody tr th {\n        vertical-align: top;\n    }\n\n    .dataframe thead th {\n        text-align: right;\n    }\n</style>\n<table border=\"1\" class=\"dataframe\">\n  <thead>\n    <tr style=\"text-align: right;\">\n      <th></th>\n      <th>Origin Airport</th>\n      <th>Arrival Datetime</th>\n      <th>Time of Day</th>\n      <th>Day of the Week</th>\n      <th>Month</th>\n      <th>Season</th>\n      <th>Flight Route</th>\n      <th>Route Mean Delay</th>\n      <th>Route Delay Frequency</th>\n      <th>Route Delay Ratio</th>\n      <th>...</th>\n      <th>origin_snowfall (cm)</th>\n      <th>origin_cloudcover (%)</th>\n      <th>origin_cloudcover_low (%)</th>\n      <th>origin_cloudcover_mid (%)</th>\n      <th>origin_cloudcover_high (%)</th>\n      <th>origin_windspeed_10m (km/h)</th>\n      <th>origin_winddirection_10m (°)</th>\n      <th>origin_windgusts_10m (km/h)</th>\n      <th>origin_et0_fao_evapotranspiration (mm)</th>\n      <th>origin_vapor_pressure_deficit (kPa)</th>\n    </tr>\n  </thead>\n  <tbody>\n    <tr>\n      <th>0</th>\n      <td>ORD</td>\n      <td>2023-04-12 10:00:00</td>\n      <td>Morning</td>\n      <td>2</td>\n      <td>4</td>\n      <td>Spring</td>\n      <td>ORD-SYR</td>\n      <td>8.238029</td>\n      <td>4783</td>\n      <td>0.255325</td>\n      <td>...</td>\n      <td>0.0</td>\n      <td>15</td>\n      <td>0</td>\n      <td>0</td>\n      <td>15</td>\n      <td>11.9</td>\n      <td>205</td>\n      <td>35.3</td>\n      <td>0.05</td>\n      <td>0.77</td>\n    </tr>\n    <tr>\n      <th>1</th>\n      <td>ORD</td>\n      <td>2023-04-12 17:00:00</td>\n      <td>Evening</td>\n      <td>2</td>\n      <td>4</td>\n      <td>Spring</td>\n      <td>ORD-SYR</td>\n      <td>8.238029</td>\n      <td>4783</td>\n      <td>0.255325</td>\n      <td>...</td>\n      <td>0.0</td>\n      <td>0</td>\n      <td>0</td>\n      <td>0</td>\n      <td>0</td>\n      <td>30.0</td>\n      <td>226</td>\n      <td>41.8</td>\n      <td>0.67</td>\n      <td>2.42</td>\n    </tr>\n    <tr>\n      <th>2</th>\n      <td>ORD</td>\n      <td>2023-04-12 22:00:00</td>\n      <td>Night</td>\n      <td>2</td>\n      <td>4</td>\n      <td>Spring</td>\n      <td>ORD-SYR</td>\n      <td>8.238029</td>\n      <td>4783</td>\n      <td>0.255325</td>\n      <td>...</td>\n      <td>0.0</td>\n      <td>0</td>\n      <td>0</td>\n      <td>0</td>\n      <td>0</td>\n      <td>21.2</td>\n      <td>228</td>\n      <td>40.7</td>\n      <td>0.27</td>\n      <td>2.45</td>\n    </tr>\n    <tr>\n      <th>3</th>\n      <td>ORD</td>\n      <td>2023-04-13 10:00:00</td>\n      <td>Morning</td>\n      <td>3</td>\n      <td>4</td>\n      <td>Spring</td>\n      <td>ORD-SYR</td>\n      <td>8.238029</td>\n      <td>4783</td>\n      <td>0.255325</td>\n      <td>...</td>\n      <td>0.0</td>\n      <td>0</td>\n      <td>0</td>\n      <td>0</td>\n      <td>0</td>\n      <td>7.9</td>\n      <td>180</td>\n      <td>19.4</td>\n      <td>0.04</td>\n      <td>0.84</td>\n    </tr>\n    <tr>\n      <th>4</th>\n      <td>ORD</td>\n      <td>2023-04-13 17:00:00</td>\n      <td>Evening</td>\n      <td>3</td>\n      <td>4</td>\n      <td>Spring</td>\n      <td>ORD-SYR</td>\n      <td>8.238029</td>\n      <td>4783</td>\n      <td>0.255325</td>\n      <td>...</td>\n      <td>0.0</td>\n      <td>8</td>\n      <td>0</td>\n      <td>0</td>\n      <td>8</td>\n      <td>17.6</td>\n      <td>208</td>\n      <td>25.6</td>\n      <td>0.66</td>\n      <td>2.66</td>\n    </tr>\n    <tr>\n      <th>5</th>\n      <td>ORD</td>\n      <td>2023-04-13 22:00:00</td>\n      <td>Night</td>\n      <td>3</td>\n      <td>4</td>\n      <td>Spring</td>\n      <td>ORD-SYR</td>\n      <td>8.238029</td>\n      <td>4783</td>\n      <td>0.255325</td>\n      <td>...</td>\n      <td>0.0</td>\n      <td>0</td>\n      <td>0</td>\n      <td>0</td>\n      <td>0</td>\n      <td>10.8</td>\n      <td>206</td>\n      <td>23.4</td>\n      <td>0.19</td>\n      <td>2.77</td>\n    </tr>\n    <tr>\n      <th>6</th>\n      <td>ORD</td>\n      <td>2023-04-14 10:00:00</td>\n      <td>Morning</td>\n      <td>4</td>\n      <td>4</td>\n      <td>Spring</td>\n      <td>ORD-SYR</td>\n      <td>8.238029</td>\n      <td>4783</td>\n      <td>0.255325</td>\n      <td>...</td>\n      <td>0.0</td>\n      <td>0</td>\n      <td>0</td>\n      <td>0</td>\n      <td>0</td>\n      <td>0.8</td>\n      <td>243</td>\n      <td>6.1</td>\n      <td>0.00</td>\n      <td>0.86</td>\n    </tr>\n    <tr>\n      <th>7</th>\n      <td>ORD</td>\n      <td>2023-04-14 17:00:00</td>\n      <td>Evening</td>\n      <td>4</td>\n      <td>4</td>\n      <td>Spring</td>\n      <td>ORD-SYR</td>\n      <td>8.238029</td>\n      <td>4783</td>\n      <td>0.255325</td>\n      <td>...</td>\n      <td>0.0</td>\n      <td>4</td>\n      <td>2</td>\n      <td>4</td>\n      <td>1</td>\n      <td>10.1</td>\n      <td>184</td>\n      <td>20.9</td>\n      <td>0.62</td>\n      <td>2.75</td>\n    </tr>\n    <tr>\n      <th>8</th>\n      <td>ORD</td>\n      <td>2023-04-14 22:00:00</td>\n      <td>Night</td>\n      <td>4</td>\n      <td>4</td>\n      <td>Spring</td>\n      <td>ORD-SYR</td>\n      <td>8.238029</td>\n      <td>4783</td>\n      <td>0.255325</td>\n      <td>...</td>\n      <td>0.0</td>\n      <td>100</td>\n      <td>0</td>\n      <td>100</td>\n      <td>36</td>\n      <td>13.8</td>\n      <td>137</td>\n      <td>23.0</td>\n      <td>0.20</td>\n      <td>2.44</td>\n    </tr>\n    <tr>\n      <th>9</th>\n      <td>ORD</td>\n      <td>2023-04-15 10:00:00</td>\n      <td>Morning</td>\n      <td>5</td>\n      <td>4</td>\n      <td>Spring</td>\n      <td>ORD-SYR</td>\n      <td>8.238029</td>\n      <td>4783</td>\n      <td>0.255325</td>\n      <td>...</td>\n      <td>0.0</td>\n      <td>100</td>\n      <td>100</td>\n      <td>100</td>\n      <td>0</td>\n      <td>7.4</td>\n      <td>166</td>\n      <td>22.3</td>\n      <td>0.03</td>\n      <td>0.95</td>\n    </tr>\n  </tbody>\n</table>\n<p>10 rows × 30 columns</p>\n</div>"
     },
     "execution_count": 93,
     "metadata": {},
     "output_type": "execute_result"
    }
   ],
   "source": [
    "# Merge the flight_data and origin_weather_data dataframes on 'Departure Datetime' and 'Origin Airport' columns using a left join\n",
    "real_data = pd.merge(real_data, origin_weather_data,\n",
    "                     left_on=['Departure Datetime', 'Origin Airport'],\n",
    "                     right_on=['origin_time', 'origin_airport'],\n",
    "                     how='left')\n",
    "\n",
    "# Drop more unnecessary date columns\n",
    "real_data.drop(columns=[\n",
    "    'Departure Datetime',\n",
    "    'origin_time',\n",
    "    'origin_airport'\n",
    "], inplace=True)\n",
    "\n",
    "# Show 10 rows of the dataframe\n",
    "real_data.head(10)"
   ],
   "metadata": {
    "collapsed": false
   }
  },
  {
   "cell_type": "markdown",
   "source": [
    "## Destination Weather Data"
   ],
   "metadata": {
    "collapsed": false
   }
  },
  {
   "cell_type": "code",
   "execution_count": 94,
   "outputs": [
    {
     "data": {
      "text/plain": "  Time of Day Day of the Week Month  Season Flight Route  Route Mean Delay  \\\n0     Morning               2     4  Spring      ORD-SYR          8.238029   \n1     Evening               2     4  Spring      ORD-SYR          8.238029   \n2       Night               2     4  Spring      ORD-SYR          8.238029   \n3     Morning               3     4  Spring      ORD-SYR          8.238029   \n4     Evening               3     4  Spring      ORD-SYR          8.238029   \n5       Night               3     4  Spring      ORD-SYR          8.238029   \n6     Morning               4     4  Spring      ORD-SYR          8.238029   \n7     Evening               4     4  Spring      ORD-SYR          8.238029   \n8       Night               4     4  Spring      ORD-SYR          8.238029   \n9     Morning               5     4  Spring      ORD-SYR          8.238029   \n\n   Route Delay Frequency  Route Delay Ratio  Average Elapsed Time (Minutes)  \\\n0                   4783           0.255325                              99   \n1                   4783           0.255325                              99   \n2                   4783           0.255325                              99   \n3                   4783           0.255325                              99   \n4                   4783           0.255325                              99   \n5                   4783           0.255325                              99   \n6                   4783           0.255325                              99   \n7                   4783           0.255325                              99   \n8                   4783           0.255325                              99   \n9                   4783           0.255325                              99   \n\n   Distance (km)  ...  destination_snowfall (cm)  destination_cloudcover (%)  \\\n0            974  ...                        0.0                          91   \n1            974  ...                        0.0                           0   \n2            974  ...                        0.0                           0   \n3            974  ...                        0.0                           2   \n4            974  ...                        0.0                           0   \n5            974  ...                        0.0                          13   \n6            974  ...                        0.0                          51   \n7            974  ...                        0.0                           2   \n8            974  ...                        0.0                          19   \n9            974  ...                        0.0                          22   \n\n   destination_cloudcover_low (%)  destination_cloudcover_mid (%)  \\\n0                              91                               0   \n1                               0                               0   \n2                               0                               0   \n3                               2                               0   \n4                               0                               0   \n5                               0                               0   \n6                               0                               0   \n7                               0                               0   \n8                               0                               0   \n9                              22                               0   \n\n   destination_cloudcover_high (%)  destination_windspeed_10m (km/h)  \\\n0                                0                               4.3   \n1                                0                              27.2   \n2                                0                              17.9   \n3                                0                              19.3   \n4                                0                              20.7   \n5                               13                               9.2   \n6                               51                               1.8   \n7                                2                               6.1   \n8                               19                               5.0   \n9                                0                               5.7   \n\n   destination_winddirection_10m (°)  destination_windgusts_10m (km/h)  \\\n0                                270                              17.3   \n1                                276                              41.8   \n2                                242                              30.6   \n3                                249                              37.1   \n4                                262                              31.3   \n5                                239                              22.7   \n6                                233                               9.4   \n7                                357                               8.6   \n8                                 69                               8.3   \n9                                108                              16.2   \n\n   destination_et0_fao_evapotranspiration (mm)  \\\n0                                         0.32   \n1                                         0.44   \n2                                         0.14   \n3                                         0.44   \n4                                         0.50   \n5                                         0.08   \n6                                         0.36   \n7                                         0.37   \n8                                         0.04   \n9                                         0.38   \n\n   destination_vapor_pressure_deficit (kPa)  \n0                                      1.11  \n1                                      2.17  \n2                                      1.48  \n3                                      1.99  \n4                                      3.24  \n5                                      1.58  \n6                                      1.56  \n7                                      3.29  \n8                                      1.31  \n9                                      1.54  \n\n[10 rows x 46 columns]",
      "text/html": "<div>\n<style scoped>\n    .dataframe tbody tr th:only-of-type {\n        vertical-align: middle;\n    }\n\n    .dataframe tbody tr th {\n        vertical-align: top;\n    }\n\n    .dataframe thead th {\n        text-align: right;\n    }\n</style>\n<table border=\"1\" class=\"dataframe\">\n  <thead>\n    <tr style=\"text-align: right;\">\n      <th></th>\n      <th>Time of Day</th>\n      <th>Day of the Week</th>\n      <th>Month</th>\n      <th>Season</th>\n      <th>Flight Route</th>\n      <th>Route Mean Delay</th>\n      <th>Route Delay Frequency</th>\n      <th>Route Delay Ratio</th>\n      <th>Average Elapsed Time (Minutes)</th>\n      <th>Distance (km)</th>\n      <th>...</th>\n      <th>destination_snowfall (cm)</th>\n      <th>destination_cloudcover (%)</th>\n      <th>destination_cloudcover_low (%)</th>\n      <th>destination_cloudcover_mid (%)</th>\n      <th>destination_cloudcover_high (%)</th>\n      <th>destination_windspeed_10m (km/h)</th>\n      <th>destination_winddirection_10m (°)</th>\n      <th>destination_windgusts_10m (km/h)</th>\n      <th>destination_et0_fao_evapotranspiration (mm)</th>\n      <th>destination_vapor_pressure_deficit (kPa)</th>\n    </tr>\n  </thead>\n  <tbody>\n    <tr>\n      <th>0</th>\n      <td>Morning</td>\n      <td>2</td>\n      <td>4</td>\n      <td>Spring</td>\n      <td>ORD-SYR</td>\n      <td>8.238029</td>\n      <td>4783</td>\n      <td>0.255325</td>\n      <td>99</td>\n      <td>974</td>\n      <td>...</td>\n      <td>0.0</td>\n      <td>91</td>\n      <td>91</td>\n      <td>0</td>\n      <td>0</td>\n      <td>4.3</td>\n      <td>270</td>\n      <td>17.3</td>\n      <td>0.32</td>\n      <td>1.11</td>\n    </tr>\n    <tr>\n      <th>1</th>\n      <td>Evening</td>\n      <td>2</td>\n      <td>4</td>\n      <td>Spring</td>\n      <td>ORD-SYR</td>\n      <td>8.238029</td>\n      <td>4783</td>\n      <td>0.255325</td>\n      <td>99</td>\n      <td>974</td>\n      <td>...</td>\n      <td>0.0</td>\n      <td>0</td>\n      <td>0</td>\n      <td>0</td>\n      <td>0</td>\n      <td>27.2</td>\n      <td>276</td>\n      <td>41.8</td>\n      <td>0.44</td>\n      <td>2.17</td>\n    </tr>\n    <tr>\n      <th>2</th>\n      <td>Night</td>\n      <td>2</td>\n      <td>4</td>\n      <td>Spring</td>\n      <td>ORD-SYR</td>\n      <td>8.238029</td>\n      <td>4783</td>\n      <td>0.255325</td>\n      <td>99</td>\n      <td>974</td>\n      <td>...</td>\n      <td>0.0</td>\n      <td>0</td>\n      <td>0</td>\n      <td>0</td>\n      <td>0</td>\n      <td>17.9</td>\n      <td>242</td>\n      <td>30.6</td>\n      <td>0.14</td>\n      <td>1.48</td>\n    </tr>\n    <tr>\n      <th>3</th>\n      <td>Morning</td>\n      <td>3</td>\n      <td>4</td>\n      <td>Spring</td>\n      <td>ORD-SYR</td>\n      <td>8.238029</td>\n      <td>4783</td>\n      <td>0.255325</td>\n      <td>99</td>\n      <td>974</td>\n      <td>...</td>\n      <td>0.0</td>\n      <td>2</td>\n      <td>2</td>\n      <td>0</td>\n      <td>0</td>\n      <td>19.3</td>\n      <td>249</td>\n      <td>37.1</td>\n      <td>0.44</td>\n      <td>1.99</td>\n    </tr>\n    <tr>\n      <th>4</th>\n      <td>Evening</td>\n      <td>3</td>\n      <td>4</td>\n      <td>Spring</td>\n      <td>ORD-SYR</td>\n      <td>8.238029</td>\n      <td>4783</td>\n      <td>0.255325</td>\n      <td>99</td>\n      <td>974</td>\n      <td>...</td>\n      <td>0.0</td>\n      <td>0</td>\n      <td>0</td>\n      <td>0</td>\n      <td>0</td>\n      <td>20.7</td>\n      <td>262</td>\n      <td>31.3</td>\n      <td>0.50</td>\n      <td>3.24</td>\n    </tr>\n    <tr>\n      <th>5</th>\n      <td>Night</td>\n      <td>3</td>\n      <td>4</td>\n      <td>Spring</td>\n      <td>ORD-SYR</td>\n      <td>8.238029</td>\n      <td>4783</td>\n      <td>0.255325</td>\n      <td>99</td>\n      <td>974</td>\n      <td>...</td>\n      <td>0.0</td>\n      <td>13</td>\n      <td>0</td>\n      <td>0</td>\n      <td>13</td>\n      <td>9.2</td>\n      <td>239</td>\n      <td>22.7</td>\n      <td>0.08</td>\n      <td>1.58</td>\n    </tr>\n    <tr>\n      <th>6</th>\n      <td>Morning</td>\n      <td>4</td>\n      <td>4</td>\n      <td>Spring</td>\n      <td>ORD-SYR</td>\n      <td>8.238029</td>\n      <td>4783</td>\n      <td>0.255325</td>\n      <td>99</td>\n      <td>974</td>\n      <td>...</td>\n      <td>0.0</td>\n      <td>51</td>\n      <td>0</td>\n      <td>0</td>\n      <td>51</td>\n      <td>1.8</td>\n      <td>233</td>\n      <td>9.4</td>\n      <td>0.36</td>\n      <td>1.56</td>\n    </tr>\n    <tr>\n      <th>7</th>\n      <td>Evening</td>\n      <td>4</td>\n      <td>4</td>\n      <td>Spring</td>\n      <td>ORD-SYR</td>\n      <td>8.238029</td>\n      <td>4783</td>\n      <td>0.255325</td>\n      <td>99</td>\n      <td>974</td>\n      <td>...</td>\n      <td>0.0</td>\n      <td>2</td>\n      <td>0</td>\n      <td>0</td>\n      <td>2</td>\n      <td>6.1</td>\n      <td>357</td>\n      <td>8.6</td>\n      <td>0.37</td>\n      <td>3.29</td>\n    </tr>\n    <tr>\n      <th>8</th>\n      <td>Night</td>\n      <td>4</td>\n      <td>4</td>\n      <td>Spring</td>\n      <td>ORD-SYR</td>\n      <td>8.238029</td>\n      <td>4783</td>\n      <td>0.255325</td>\n      <td>99</td>\n      <td>974</td>\n      <td>...</td>\n      <td>0.0</td>\n      <td>19</td>\n      <td>0</td>\n      <td>0</td>\n      <td>19</td>\n      <td>5.0</td>\n      <td>69</td>\n      <td>8.3</td>\n      <td>0.04</td>\n      <td>1.31</td>\n    </tr>\n    <tr>\n      <th>9</th>\n      <td>Morning</td>\n      <td>5</td>\n      <td>4</td>\n      <td>Spring</td>\n      <td>ORD-SYR</td>\n      <td>8.238029</td>\n      <td>4783</td>\n      <td>0.255325</td>\n      <td>99</td>\n      <td>974</td>\n      <td>...</td>\n      <td>0.0</td>\n      <td>22</td>\n      <td>22</td>\n      <td>0</td>\n      <td>0</td>\n      <td>5.7</td>\n      <td>108</td>\n      <td>16.2</td>\n      <td>0.38</td>\n      <td>1.54</td>\n    </tr>\n  </tbody>\n</table>\n<p>10 rows × 46 columns</p>\n</div>"
     },
     "execution_count": 94,
     "metadata": {},
     "output_type": "execute_result"
    }
   ],
   "source": [
    "# Merge the merged_data and destination_weather_data dataframes on 'Arrival Datetime', and 'destination_time' columns using a left join\n",
    "real_data = pd.merge(real_data, destination_weather_data,\n",
    "                     left_on='Arrival Datetime',\n",
    "                     right_on='destination_time',\n",
    "                     how='left')\n",
    "\n",
    "# Drop more unnecessary columns\n",
    "real_data.drop(columns=[\n",
    "    'Origin Airport',\n",
    "    'Arrival Datetime',\n",
    "    'destination_time',\n",
    "], inplace=True)\n",
    "\n",
    "# Show 10 rows of the dataframe\n",
    "real_data.head(10)"
   ],
   "metadata": {
    "collapsed": false
   }
  },
  {
   "cell_type": "markdown",
   "source": [
    "## Check data"
   ],
   "metadata": {
    "collapsed": false
   }
  },
  {
   "cell_type": "code",
   "execution_count": 95,
   "outputs": [
    {
     "name": "stdout",
     "output_type": "stream",
     "text": [
      "Length of data:  32\n",
      "Total NaN values:  0\n"
     ]
    }
   ],
   "source": [
    "print(\"Length of data: \", len(real_data))\n",
    "print(\"Total NaN values: \", real_data.isna().sum().sum())\n",
    "\n",
    "real_data.drop(columns=columns_to_drop, inplace=True)"
   ],
   "metadata": {
    "collapsed": false
   }
  },
  {
   "cell_type": "markdown",
   "source": [
    "## One Hot Encoding"
   ],
   "metadata": {
    "collapsed": false
   }
  },
  {
   "cell_type": "code",
   "execution_count": 96,
   "outputs": [
    {
     "data": {
      "text/plain": "    Route Mean Delay  Route Delay Frequency  Route Delay Ratio  \\\n0           8.238029                   4783           0.255325   \n1           8.238029                   4783           0.255325   \n2           8.238029                   4783           0.255325   \n3           8.238029                   4783           0.255325   \n4           8.238029                   4783           0.255325   \n5           8.238029                   4783           0.255325   \n6           8.238029                   4783           0.255325   \n7           8.238029                   4783           0.255325   \n8           8.238029                   4783           0.255325   \n9           8.238029                   4783           0.255325   \n10          8.238029                   4783           0.255325   \n11          8.238029                   4783           0.255325   \n12          5.858757                     88           0.248588   \n13          5.858757                     88           0.248588   \n14          5.858757                     88           0.248588   \n15          5.858757                     88           0.248588   \n16         18.500000                     23           0.359375   \n17         18.500000                     23           0.359375   \n18         18.500000                     23           0.359375   \n19         18.500000                     23           0.359375   \n20         18.500000                     23           0.359375   \n21         18.500000                     23           0.359375   \n22         18.500000                     23           0.359375   \n23         18.500000                     23           0.359375   \n24          6.451291                    235           0.195670   \n25          6.451291                    235           0.195670   \n26          6.451291                    235           0.195670   \n27          6.451291                    235           0.195670   \n28          6.451291                    235           0.195670   \n29          6.451291                    235           0.195670   \n\n    Average Elapsed Time (Minutes)  origin_temperature_2m (°C)  \\\n0                               99                        14.7   \n1                               99                        26.7   \n2                               99                        25.7   \n3                               99                        14.2   \n4                               99                        27.4   \n5                               99                        26.5   \n6                               99                        14.5   \n7                               99                        28.2   \n8                               99                        25.7   \n9                               99                        19.8   \n10                              99                        27.5   \n11                              99                        26.0   \n12                             192                        24.9   \n13                             192                        19.8   \n14                             192                         3.4   \n15                             192                         5.3   \n16                              64                        21.9   \n17                              64                        21.8   \n18                              64                        26.3   \n19                              64                        24.8   \n20                              64                        27.3   \n21                              64                        23.9   \n22                              64                        18.9   \n23                              64                        15.6   \n24                              65                        27.2   \n25                              65                        28.7   \n26                              65                        28.5   \n27                              65                        30.2   \n28                              65                        26.2   \n29                              65                        24.4   \n\n    origin_relativehumidity_2m (%)  origin_dewpoint_2m (°C)  \\\n0                               54                      5.5   \n1                               31                      8.2   \n2                               26                      4.8   \n3                               48                      3.3   \n4                               27                      6.7   \n5                               20                      1.7   \n6                               48                      3.6   \n7                               28                      7.9   \n8                               26                      4.7   \n9                               59                     11.6   \n10                              39                     12.3   \n11                              34                      8.9   \n12                              12                     -6.5   \n13                              24                     -1.4   \n14                              93                      2.4   \n15                              53                     -3.5   \n16                              33                      4.9   \n17                              30                      3.5   \n18                              32                      8.3   \n19                              32                      7.0   \n20                              31                      8.7   \n21                              35                      7.5   \n22                              91                     17.4   \n23                              95                     14.8   \n24                              26                      6.0   \n25                              22                      4.9   \n26                              26                      7.1   \n27                              20                      4.7   \n28                              35                      9.5   \n29                              60                     16.1   \n\n    origin_apparent_temperature (°C)  origin_pressure_msl (hPa)  \\\n0                               11.8                     1017.0   \n1                               23.1                     1012.4   \n2                               21.4                     1010.4   \n3                               11.5                     1013.3   \n4                               25.5                     1010.2   \n5                               23.1                     1007.9   \n6                               12.9                     1011.3   \n7                               27.8                     1007.5   \n8                               22.4                     1006.7   \n9                               19.2                     1009.2   \n10                              25.8                     1007.2   \n11                              23.9                     1004.5   \n12                              20.5                      999.7   \n13                              14.8                      993.6   \n14                               0.1                     1010.5   \n15                               2.1                     1020.6   \n16                              18.5                     1014.0   \n17                              18.5                     1011.9   \n18                              23.9                     1014.1   \n19                              22.2                     1012.1   \n20                              27.3                     1014.1   \n21                              21.8                     1013.2   \n22                              20.5                     1015.0   \n23                              15.5                     1013.1   \n24                              24.7                     1014.8   \n25                              25.5                     1011.4   \n26                              29.1                     1014.0   \n27                              27.2                     1010.3   \n28                              26.2                     1011.7   \n29                              24.0                     1009.3   \n\n    origin_surface_pressure (hPa)  ...  destination_cloudcover_high (%)  \\\n0                           993.2  ...                                0   \n1                           989.6  ...                                0   \n2                           987.6  ...                                0   \n3                           989.5  ...                                0   \n4                           987.5  ...                                0   \n5                           985.2  ...                               13   \n6                           987.6  ...                               51   \n7                           985.0  ...                                2   \n8                           984.0  ...                               19   \n9                           986.0  ...                                0   \n10                          984.6  ...                               46   \n11                          981.9  ...                                0   \n12                          833.7  ...                                0   \n13                          826.0  ...                                0   \n14                          831.1  ...                                1   \n15                          840.5  ...                               64   \n16                         1011.2  ...                                0   \n17                         1009.1  ...                                0   \n18                         1011.3  ...                                0   \n19                         1009.3  ...                               10   \n20                         1011.3  ...                                0   \n21                         1010.4  ...                              100   \n22                         1012.2  ...                               34   \n23                         1010.2  ...                                0   \n24                         1004.8  ...                                0   \n25                         1001.5  ...                                0   \n26                         1004.1  ...                                0   \n27                         1000.5  ...                                0   \n28                         1001.7  ...                                0   \n29                          999.3  ...                                4   \n\n    destination_windspeed_10m (km/h)  destination_winddirection_10m (°)  \\\n0                                4.3                                270   \n1                               27.2                                276   \n2                               17.9                                242   \n3                               19.3                                249   \n4                               20.7                                262   \n5                                9.2                                239   \n6                                1.8                                233   \n7                                6.1                                357   \n8                                5.0                                 69   \n9                                5.7                                108   \n10                               4.5                                331   \n11                              11.2                                184   \n12                              24.1                                268   \n13                              21.8                                257   \n14                               2.9                                263   \n15                               5.0                                 90   \n16                               8.0                                252   \n17                              18.4                                239   \n18                              19.2                                253   \n19                               6.9                                219   \n20                               4.4                                305   \n21                               2.6                                146   \n22                               4.1                                105   \n23                               2.5                                180   \n24                              19.9                                257   \n25                              20.3                                253   \n26                              20.4                                249   \n27                              14.8                                266   \n28                               5.6                                320   \n29                              10.8                                  2   \n\n    destination_windgusts_10m (km/h)  \\\n0                               17.3   \n1                               41.8   \n2                               30.6   \n3                               37.1   \n4                               31.3   \n5                               22.7   \n6                                9.4   \n7                                8.6   \n8                                8.3   \n9                               16.2   \n10                               7.9   \n11                              31.3   \n12                              40.7   \n13                              31.7   \n14                               5.4   \n15                               7.6   \n16                              21.2   \n17                              31.0   \n18                              30.6   \n19                              19.4   \n20                               6.5   \n21                               4.3   \n22                              12.2   \n23                              16.9   \n24                              39.2   \n25                              39.2   \n26                              29.2   \n27                              32.4   \n28                               7.2   \n29                              16.2   \n\n    destination_et0_fao_evapotranspiration (mm)  \\\n0                                          0.32   \n1                                          0.44   \n2                                          0.14   \n3                                          0.44   \n4                                          0.50   \n5                                          0.08   \n6                                          0.36   \n7                                          0.37   \n8                                          0.04   \n9                                          0.38   \n10                                         0.29   \n11                                         0.06   \n12                                         0.57   \n13                                         0.65   \n14                                         0.55   \n15                                         0.55   \n16                                         0.43   \n17                                         0.14   \n18                                         0.55   \n19                                         0.05   \n20                                         0.50   \n21                                         0.01   \n22                                         0.50   \n23                                         0.00   \n24                                         0.57   \n25                                         0.24   \n26                                         0.67   \n27                                         0.25   \n28                                         0.62   \n29                                         0.19   \n\n    destination_vapor_pressure_deficit (kPa)  Season_Fall  Season_Spring  \\\n0                                       1.11          0.0            1.0   \n1                                       2.17          0.0            1.0   \n2                                       1.48          0.0            1.0   \n3                                       1.99          0.0            1.0   \n4                                       3.24          0.0            1.0   \n5                                       1.58          0.0            1.0   \n6                                       1.56          0.0            1.0   \n7                                       3.29          0.0            1.0   \n8                                       1.31          0.0            1.0   \n9                                       1.54          0.0            1.0   \n10                                      2.58          0.0            1.0   \n11                                      1.08          0.0            1.0   \n12                                      2.10          0.0            1.0   \n13                                      2.90          0.0            1.0   \n14                                      3.17          0.0            1.0   \n15                                      2.72          0.0            1.0   \n16                                      1.35          0.0            1.0   \n17                                      1.34          0.0            1.0   \n18                                      2.21          0.0            1.0   \n19                                      1.31          0.0            1.0   \n20                                      1.90          0.0            1.0   \n21                                      1.10          0.0            1.0   \n22                                      2.00          0.0            1.0   \n23                                      0.95          0.0            1.0   \n24                                      1.81          0.0            1.0   \n25                                      2.08          0.0            1.0   \n26                                      2.74          0.0            1.0   \n27                                      3.00          0.0            1.0   \n28                                      2.93          0.0            1.0   \n29                                      2.55          0.0            1.0   \n\n    Season_Summer  Season_Winter  \n0             0.0            0.0  \n1             0.0            0.0  \n2             0.0            0.0  \n3             0.0            0.0  \n4             0.0            0.0  \n5             0.0            0.0  \n6             0.0            0.0  \n7             0.0            0.0  \n8             0.0            0.0  \n9             0.0            0.0  \n10            0.0            0.0  \n11            0.0            0.0  \n12            0.0            0.0  \n13            0.0            0.0  \n14            0.0            0.0  \n15            0.0            0.0  \n16            0.0            0.0  \n17            0.0            0.0  \n18            0.0            0.0  \n19            0.0            0.0  \n20            0.0            0.0  \n21            0.0            0.0  \n22            0.0            0.0  \n23            0.0            0.0  \n24            0.0            0.0  \n25            0.0            0.0  \n26            0.0            0.0  \n27            0.0            0.0  \n28            0.0            0.0  \n29            0.0            0.0  \n\n[30 rows x 44 columns]",
      "text/html": "<div>\n<style scoped>\n    .dataframe tbody tr th:only-of-type {\n        vertical-align: middle;\n    }\n\n    .dataframe tbody tr th {\n        vertical-align: top;\n    }\n\n    .dataframe thead th {\n        text-align: right;\n    }\n</style>\n<table border=\"1\" class=\"dataframe\">\n  <thead>\n    <tr style=\"text-align: right;\">\n      <th></th>\n      <th>Route Mean Delay</th>\n      <th>Route Delay Frequency</th>\n      <th>Route Delay Ratio</th>\n      <th>Average Elapsed Time (Minutes)</th>\n      <th>origin_temperature_2m (°C)</th>\n      <th>origin_relativehumidity_2m (%)</th>\n      <th>origin_dewpoint_2m (°C)</th>\n      <th>origin_apparent_temperature (°C)</th>\n      <th>origin_pressure_msl (hPa)</th>\n      <th>origin_surface_pressure (hPa)</th>\n      <th>...</th>\n      <th>destination_cloudcover_high (%)</th>\n      <th>destination_windspeed_10m (km/h)</th>\n      <th>destination_winddirection_10m (°)</th>\n      <th>destination_windgusts_10m (km/h)</th>\n      <th>destination_et0_fao_evapotranspiration (mm)</th>\n      <th>destination_vapor_pressure_deficit (kPa)</th>\n      <th>Season_Fall</th>\n      <th>Season_Spring</th>\n      <th>Season_Summer</th>\n      <th>Season_Winter</th>\n    </tr>\n  </thead>\n  <tbody>\n    <tr>\n      <th>0</th>\n      <td>8.238029</td>\n      <td>4783</td>\n      <td>0.255325</td>\n      <td>99</td>\n      <td>14.7</td>\n      <td>54</td>\n      <td>5.5</td>\n      <td>11.8</td>\n      <td>1017.0</td>\n      <td>993.2</td>\n      <td>...</td>\n      <td>0</td>\n      <td>4.3</td>\n      <td>270</td>\n      <td>17.3</td>\n      <td>0.32</td>\n      <td>1.11</td>\n      <td>0.0</td>\n      <td>1.0</td>\n      <td>0.0</td>\n      <td>0.0</td>\n    </tr>\n    <tr>\n      <th>1</th>\n      <td>8.238029</td>\n      <td>4783</td>\n      <td>0.255325</td>\n      <td>99</td>\n      <td>26.7</td>\n      <td>31</td>\n      <td>8.2</td>\n      <td>23.1</td>\n      <td>1012.4</td>\n      <td>989.6</td>\n      <td>...</td>\n      <td>0</td>\n      <td>27.2</td>\n      <td>276</td>\n      <td>41.8</td>\n      <td>0.44</td>\n      <td>2.17</td>\n      <td>0.0</td>\n      <td>1.0</td>\n      <td>0.0</td>\n      <td>0.0</td>\n    </tr>\n    <tr>\n      <th>2</th>\n      <td>8.238029</td>\n      <td>4783</td>\n      <td>0.255325</td>\n      <td>99</td>\n      <td>25.7</td>\n      <td>26</td>\n      <td>4.8</td>\n      <td>21.4</td>\n      <td>1010.4</td>\n      <td>987.6</td>\n      <td>...</td>\n      <td>0</td>\n      <td>17.9</td>\n      <td>242</td>\n      <td>30.6</td>\n      <td>0.14</td>\n      <td>1.48</td>\n      <td>0.0</td>\n      <td>1.0</td>\n      <td>0.0</td>\n      <td>0.0</td>\n    </tr>\n    <tr>\n      <th>3</th>\n      <td>8.238029</td>\n      <td>4783</td>\n      <td>0.255325</td>\n      <td>99</td>\n      <td>14.2</td>\n      <td>48</td>\n      <td>3.3</td>\n      <td>11.5</td>\n      <td>1013.3</td>\n      <td>989.5</td>\n      <td>...</td>\n      <td>0</td>\n      <td>19.3</td>\n      <td>249</td>\n      <td>37.1</td>\n      <td>0.44</td>\n      <td>1.99</td>\n      <td>0.0</td>\n      <td>1.0</td>\n      <td>0.0</td>\n      <td>0.0</td>\n    </tr>\n    <tr>\n      <th>4</th>\n      <td>8.238029</td>\n      <td>4783</td>\n      <td>0.255325</td>\n      <td>99</td>\n      <td>27.4</td>\n      <td>27</td>\n      <td>6.7</td>\n      <td>25.5</td>\n      <td>1010.2</td>\n      <td>987.5</td>\n      <td>...</td>\n      <td>0</td>\n      <td>20.7</td>\n      <td>262</td>\n      <td>31.3</td>\n      <td>0.50</td>\n      <td>3.24</td>\n      <td>0.0</td>\n      <td>1.0</td>\n      <td>0.0</td>\n      <td>0.0</td>\n    </tr>\n    <tr>\n      <th>5</th>\n      <td>8.238029</td>\n      <td>4783</td>\n      <td>0.255325</td>\n      <td>99</td>\n      <td>26.5</td>\n      <td>20</td>\n      <td>1.7</td>\n      <td>23.1</td>\n      <td>1007.9</td>\n      <td>985.2</td>\n      <td>...</td>\n      <td>13</td>\n      <td>9.2</td>\n      <td>239</td>\n      <td>22.7</td>\n      <td>0.08</td>\n      <td>1.58</td>\n      <td>0.0</td>\n      <td>1.0</td>\n      <td>0.0</td>\n      <td>0.0</td>\n    </tr>\n    <tr>\n      <th>6</th>\n      <td>8.238029</td>\n      <td>4783</td>\n      <td>0.255325</td>\n      <td>99</td>\n      <td>14.5</td>\n      <td>48</td>\n      <td>3.6</td>\n      <td>12.9</td>\n      <td>1011.3</td>\n      <td>987.6</td>\n      <td>...</td>\n      <td>51</td>\n      <td>1.8</td>\n      <td>233</td>\n      <td>9.4</td>\n      <td>0.36</td>\n      <td>1.56</td>\n      <td>0.0</td>\n      <td>1.0</td>\n      <td>0.0</td>\n      <td>0.0</td>\n    </tr>\n    <tr>\n      <th>7</th>\n      <td>8.238029</td>\n      <td>4783</td>\n      <td>0.255325</td>\n      <td>99</td>\n      <td>28.2</td>\n      <td>28</td>\n      <td>7.9</td>\n      <td>27.8</td>\n      <td>1007.5</td>\n      <td>985.0</td>\n      <td>...</td>\n      <td>2</td>\n      <td>6.1</td>\n      <td>357</td>\n      <td>8.6</td>\n      <td>0.37</td>\n      <td>3.29</td>\n      <td>0.0</td>\n      <td>1.0</td>\n      <td>0.0</td>\n      <td>0.0</td>\n    </tr>\n    <tr>\n      <th>8</th>\n      <td>8.238029</td>\n      <td>4783</td>\n      <td>0.255325</td>\n      <td>99</td>\n      <td>25.7</td>\n      <td>26</td>\n      <td>4.7</td>\n      <td>22.4</td>\n      <td>1006.7</td>\n      <td>984.0</td>\n      <td>...</td>\n      <td>19</td>\n      <td>5.0</td>\n      <td>69</td>\n      <td>8.3</td>\n      <td>0.04</td>\n      <td>1.31</td>\n      <td>0.0</td>\n      <td>1.0</td>\n      <td>0.0</td>\n      <td>0.0</td>\n    </tr>\n    <tr>\n      <th>9</th>\n      <td>8.238029</td>\n      <td>4783</td>\n      <td>0.255325</td>\n      <td>99</td>\n      <td>19.8</td>\n      <td>59</td>\n      <td>11.6</td>\n      <td>19.2</td>\n      <td>1009.2</td>\n      <td>986.0</td>\n      <td>...</td>\n      <td>0</td>\n      <td>5.7</td>\n      <td>108</td>\n      <td>16.2</td>\n      <td>0.38</td>\n      <td>1.54</td>\n      <td>0.0</td>\n      <td>1.0</td>\n      <td>0.0</td>\n      <td>0.0</td>\n    </tr>\n    <tr>\n      <th>10</th>\n      <td>8.238029</td>\n      <td>4783</td>\n      <td>0.255325</td>\n      <td>99</td>\n      <td>27.5</td>\n      <td>39</td>\n      <td>12.3</td>\n      <td>25.8</td>\n      <td>1007.2</td>\n      <td>984.6</td>\n      <td>...</td>\n      <td>46</td>\n      <td>4.5</td>\n      <td>331</td>\n      <td>7.9</td>\n      <td>0.29</td>\n      <td>2.58</td>\n      <td>0.0</td>\n      <td>1.0</td>\n      <td>0.0</td>\n      <td>0.0</td>\n    </tr>\n    <tr>\n      <th>11</th>\n      <td>8.238029</td>\n      <td>4783</td>\n      <td>0.255325</td>\n      <td>99</td>\n      <td>26.0</td>\n      <td>34</td>\n      <td>8.9</td>\n      <td>23.9</td>\n      <td>1004.5</td>\n      <td>981.9</td>\n      <td>...</td>\n      <td>0</td>\n      <td>11.2</td>\n      <td>184</td>\n      <td>31.3</td>\n      <td>0.06</td>\n      <td>1.08</td>\n      <td>0.0</td>\n      <td>1.0</td>\n      <td>0.0</td>\n      <td>0.0</td>\n    </tr>\n    <tr>\n      <th>12</th>\n      <td>5.858757</td>\n      <td>88</td>\n      <td>0.248588</td>\n      <td>192</td>\n      <td>24.9</td>\n      <td>12</td>\n      <td>-6.5</td>\n      <td>20.5</td>\n      <td>999.7</td>\n      <td>833.7</td>\n      <td>...</td>\n      <td>0</td>\n      <td>24.1</td>\n      <td>268</td>\n      <td>40.7</td>\n      <td>0.57</td>\n      <td>2.10</td>\n      <td>0.0</td>\n      <td>1.0</td>\n      <td>0.0</td>\n      <td>0.0</td>\n    </tr>\n    <tr>\n      <th>13</th>\n      <td>5.858757</td>\n      <td>88</td>\n      <td>0.248588</td>\n      <td>192</td>\n      <td>19.8</td>\n      <td>24</td>\n      <td>-1.4</td>\n      <td>14.8</td>\n      <td>993.6</td>\n      <td>826.0</td>\n      <td>...</td>\n      <td>0</td>\n      <td>21.8</td>\n      <td>257</td>\n      <td>31.7</td>\n      <td>0.65</td>\n      <td>2.90</td>\n      <td>0.0</td>\n      <td>1.0</td>\n      <td>0.0</td>\n      <td>0.0</td>\n    </tr>\n    <tr>\n      <th>14</th>\n      <td>5.858757</td>\n      <td>88</td>\n      <td>0.248588</td>\n      <td>192</td>\n      <td>3.4</td>\n      <td>93</td>\n      <td>2.4</td>\n      <td>0.1</td>\n      <td>1010.5</td>\n      <td>831.1</td>\n      <td>...</td>\n      <td>1</td>\n      <td>2.9</td>\n      <td>263</td>\n      <td>5.4</td>\n      <td>0.55</td>\n      <td>3.17</td>\n      <td>0.0</td>\n      <td>1.0</td>\n      <td>0.0</td>\n      <td>0.0</td>\n    </tr>\n    <tr>\n      <th>15</th>\n      <td>5.858757</td>\n      <td>88</td>\n      <td>0.248588</td>\n      <td>192</td>\n      <td>5.3</td>\n      <td>53</td>\n      <td>-3.5</td>\n      <td>2.1</td>\n      <td>1020.6</td>\n      <td>840.5</td>\n      <td>...</td>\n      <td>64</td>\n      <td>5.0</td>\n      <td>90</td>\n      <td>7.6</td>\n      <td>0.55</td>\n      <td>2.72</td>\n      <td>0.0</td>\n      <td>1.0</td>\n      <td>0.0</td>\n      <td>0.0</td>\n    </tr>\n    <tr>\n      <th>16</th>\n      <td>18.500000</td>\n      <td>23</td>\n      <td>0.359375</td>\n      <td>64</td>\n      <td>21.9</td>\n      <td>33</td>\n      <td>4.9</td>\n      <td>18.5</td>\n      <td>1014.0</td>\n      <td>1011.2</td>\n      <td>...</td>\n      <td>0</td>\n      <td>8.0</td>\n      <td>252</td>\n      <td>21.2</td>\n      <td>0.43</td>\n      <td>1.35</td>\n      <td>0.0</td>\n      <td>1.0</td>\n      <td>0.0</td>\n      <td>0.0</td>\n    </tr>\n    <tr>\n      <th>17</th>\n      <td>18.500000</td>\n      <td>23</td>\n      <td>0.359375</td>\n      <td>64</td>\n      <td>21.8</td>\n      <td>30</td>\n      <td>3.5</td>\n      <td>18.5</td>\n      <td>1011.9</td>\n      <td>1009.1</td>\n      <td>...</td>\n      <td>0</td>\n      <td>18.4</td>\n      <td>239</td>\n      <td>31.0</td>\n      <td>0.14</td>\n      <td>1.34</td>\n      <td>0.0</td>\n      <td>1.0</td>\n      <td>0.0</td>\n      <td>0.0</td>\n    </tr>\n    <tr>\n      <th>18</th>\n      <td>18.500000</td>\n      <td>23</td>\n      <td>0.359375</td>\n      <td>64</td>\n      <td>26.3</td>\n      <td>32</td>\n      <td>8.3</td>\n      <td>23.9</td>\n      <td>1014.1</td>\n      <td>1011.3</td>\n      <td>...</td>\n      <td>0</td>\n      <td>19.2</td>\n      <td>253</td>\n      <td>30.6</td>\n      <td>0.55</td>\n      <td>2.21</td>\n      <td>0.0</td>\n      <td>1.0</td>\n      <td>0.0</td>\n      <td>0.0</td>\n    </tr>\n    <tr>\n      <th>19</th>\n      <td>18.500000</td>\n      <td>23</td>\n      <td>0.359375</td>\n      <td>64</td>\n      <td>24.8</td>\n      <td>32</td>\n      <td>7.0</td>\n      <td>22.2</td>\n      <td>1012.1</td>\n      <td>1009.3</td>\n      <td>...</td>\n      <td>10</td>\n      <td>6.9</td>\n      <td>219</td>\n      <td>19.4</td>\n      <td>0.05</td>\n      <td>1.31</td>\n      <td>0.0</td>\n      <td>1.0</td>\n      <td>0.0</td>\n      <td>0.0</td>\n    </tr>\n    <tr>\n      <th>20</th>\n      <td>18.500000</td>\n      <td>23</td>\n      <td>0.359375</td>\n      <td>64</td>\n      <td>27.3</td>\n      <td>31</td>\n      <td>8.7</td>\n      <td>27.3</td>\n      <td>1014.1</td>\n      <td>1011.3</td>\n      <td>...</td>\n      <td>0</td>\n      <td>4.4</td>\n      <td>305</td>\n      <td>6.5</td>\n      <td>0.50</td>\n      <td>1.90</td>\n      <td>0.0</td>\n      <td>1.0</td>\n      <td>0.0</td>\n      <td>0.0</td>\n    </tr>\n    <tr>\n      <th>21</th>\n      <td>18.500000</td>\n      <td>23</td>\n      <td>0.359375</td>\n      <td>64</td>\n      <td>23.9</td>\n      <td>35</td>\n      <td>7.5</td>\n      <td>21.8</td>\n      <td>1013.2</td>\n      <td>1010.4</td>\n      <td>...</td>\n      <td>100</td>\n      <td>2.6</td>\n      <td>146</td>\n      <td>4.3</td>\n      <td>0.01</td>\n      <td>1.10</td>\n      <td>0.0</td>\n      <td>1.0</td>\n      <td>0.0</td>\n      <td>0.0</td>\n    </tr>\n    <tr>\n      <th>22</th>\n      <td>18.500000</td>\n      <td>23</td>\n      <td>0.359375</td>\n      <td>64</td>\n      <td>18.9</td>\n      <td>91</td>\n      <td>17.4</td>\n      <td>20.5</td>\n      <td>1015.0</td>\n      <td>1012.2</td>\n      <td>...</td>\n      <td>34</td>\n      <td>4.1</td>\n      <td>105</td>\n      <td>12.2</td>\n      <td>0.50</td>\n      <td>2.00</td>\n      <td>0.0</td>\n      <td>1.0</td>\n      <td>0.0</td>\n      <td>0.0</td>\n    </tr>\n    <tr>\n      <th>23</th>\n      <td>18.500000</td>\n      <td>23</td>\n      <td>0.359375</td>\n      <td>64</td>\n      <td>15.6</td>\n      <td>95</td>\n      <td>14.8</td>\n      <td>15.5</td>\n      <td>1013.1</td>\n      <td>1010.2</td>\n      <td>...</td>\n      <td>0</td>\n      <td>2.5</td>\n      <td>180</td>\n      <td>16.9</td>\n      <td>0.00</td>\n      <td>0.95</td>\n      <td>0.0</td>\n      <td>1.0</td>\n      <td>0.0</td>\n      <td>0.0</td>\n    </tr>\n    <tr>\n      <th>24</th>\n      <td>6.451291</td>\n      <td>235</td>\n      <td>0.195670</td>\n      <td>65</td>\n      <td>27.2</td>\n      <td>26</td>\n      <td>6.0</td>\n      <td>24.7</td>\n      <td>1014.8</td>\n      <td>1004.8</td>\n      <td>...</td>\n      <td>0</td>\n      <td>19.9</td>\n      <td>257</td>\n      <td>39.2</td>\n      <td>0.57</td>\n      <td>1.81</td>\n      <td>0.0</td>\n      <td>1.0</td>\n      <td>0.0</td>\n      <td>0.0</td>\n    </tr>\n    <tr>\n      <th>25</th>\n      <td>6.451291</td>\n      <td>235</td>\n      <td>0.195670</td>\n      <td>65</td>\n      <td>28.7</td>\n      <td>22</td>\n      <td>4.9</td>\n      <td>25.5</td>\n      <td>1011.4</td>\n      <td>1001.5</td>\n      <td>...</td>\n      <td>0</td>\n      <td>20.3</td>\n      <td>253</td>\n      <td>39.2</td>\n      <td>0.24</td>\n      <td>2.08</td>\n      <td>0.0</td>\n      <td>1.0</td>\n      <td>0.0</td>\n      <td>0.0</td>\n    </tr>\n    <tr>\n      <th>26</th>\n      <td>6.451291</td>\n      <td>235</td>\n      <td>0.195670</td>\n      <td>65</td>\n      <td>28.5</td>\n      <td>26</td>\n      <td>7.1</td>\n      <td>29.1</td>\n      <td>1014.0</td>\n      <td>1004.1</td>\n      <td>...</td>\n      <td>0</td>\n      <td>20.4</td>\n      <td>249</td>\n      <td>29.2</td>\n      <td>0.67</td>\n      <td>2.74</td>\n      <td>0.0</td>\n      <td>1.0</td>\n      <td>0.0</td>\n      <td>0.0</td>\n    </tr>\n    <tr>\n      <th>27</th>\n      <td>6.451291</td>\n      <td>235</td>\n      <td>0.195670</td>\n      <td>65</td>\n      <td>30.2</td>\n      <td>20</td>\n      <td>4.7</td>\n      <td>27.2</td>\n      <td>1010.3</td>\n      <td>1000.5</td>\n      <td>...</td>\n      <td>0</td>\n      <td>14.8</td>\n      <td>266</td>\n      <td>32.4</td>\n      <td>0.25</td>\n      <td>3.00</td>\n      <td>0.0</td>\n      <td>1.0</td>\n      <td>0.0</td>\n      <td>0.0</td>\n    </tr>\n    <tr>\n      <th>28</th>\n      <td>6.451291</td>\n      <td>235</td>\n      <td>0.195670</td>\n      <td>65</td>\n      <td>26.2</td>\n      <td>35</td>\n      <td>9.5</td>\n      <td>26.2</td>\n      <td>1011.7</td>\n      <td>1001.7</td>\n      <td>...</td>\n      <td>0</td>\n      <td>5.6</td>\n      <td>320</td>\n      <td>7.2</td>\n      <td>0.62</td>\n      <td>2.93</td>\n      <td>0.0</td>\n      <td>1.0</td>\n      <td>0.0</td>\n      <td>0.0</td>\n    </tr>\n    <tr>\n      <th>29</th>\n      <td>6.451291</td>\n      <td>235</td>\n      <td>0.195670</td>\n      <td>65</td>\n      <td>24.4</td>\n      <td>60</td>\n      <td>16.1</td>\n      <td>24.0</td>\n      <td>1009.3</td>\n      <td>999.3</td>\n      <td>...</td>\n      <td>4</td>\n      <td>10.8</td>\n      <td>2</td>\n      <td>16.2</td>\n      <td>0.19</td>\n      <td>2.55</td>\n      <td>0.0</td>\n      <td>1.0</td>\n      <td>0.0</td>\n      <td>0.0</td>\n    </tr>\n  </tbody>\n</table>\n<p>30 rows × 44 columns</p>\n</div>"
     },
     "execution_count": 96,
     "metadata": {},
     "output_type": "execute_result"
    }
   ],
   "source": [
    "# Transform your test data using the same encoder instance\n",
    "real_data_encoded = OHE.transform(real_data[columns_to_encode])\n",
    "\n",
    "# Create a new dataframe with transformed data and column names\n",
    "encoded_test_df = pd.DataFrame(real_data_encoded, columns=OHE.get_feature_names_out(columns_to_encode),\n",
    "                               index=real_data.index)\n",
    "\n",
    "# Reset index on the original test dataframe\n",
    "real_data.reset_index(drop=True, inplace=True)\n",
    "\n",
    "# Merge the new dataframe with the original test dataframe\n",
    "real_data = pd.concat([real_data, encoded_test_df], axis=1)\n",
    "\n",
    "# Drop the original columns\n",
    "real_data.drop(columns=columns_to_encode, inplace=True)\n",
    "\n",
    "# Show the modified test dataframe\n",
    "real_data.head(30)"
   ],
   "metadata": {
    "collapsed": false
   }
  },
  {
   "cell_type": "markdown",
   "source": [
    "## Normalize"
   ],
   "metadata": {
    "collapsed": false
   }
  },
  {
   "cell_type": "code",
   "execution_count": 97,
   "outputs": [
    {
     "data": {
      "text/plain": "   Route Mean Delay  Route Delay Frequency  Route Delay Ratio  \\\n0          0.188215                    1.0           0.364403   \n1          0.188215                    1.0           0.364403   \n2          0.188215                    1.0           0.364403   \n3          0.188215                    1.0           0.364403   \n4          0.188215                    1.0           0.364403   \n5          0.188215                    1.0           0.364403   \n6          0.188215                    1.0           0.364403   \n7          0.188215                    1.0           0.364403   \n8          0.188215                    1.0           0.364403   \n9          0.188215                    1.0           0.364403   \n\n   Average Elapsed Time (Minutes)  origin_temperature_2m (°C)  \\\n0                        0.273438                    0.673669   \n1                        0.273438                    0.841737   \n2                        0.273438                    0.827731   \n3                        0.273438                    0.666667   \n4                        0.273438                    0.851541   \n5                        0.273438                    0.838936   \n6                        0.273438                    0.670868   \n7                        0.273438                    0.862745   \n8                        0.273438                    0.827731   \n9                        0.273438                    0.745098   \n\n   origin_relativehumidity_2m (%)  origin_dewpoint_2m (°C)  \\\n0                        0.488889                 0.674016   \n1                        0.233333                 0.716535   \n2                        0.177778                 0.662992   \n3                        0.422222                 0.639370   \n4                        0.188889                 0.692913   \n5                        0.111111                 0.614173   \n6                        0.422222                 0.644094   \n7                        0.200000                 0.711811   \n8                        0.177778                 0.661417   \n9                        0.544444                 0.770079   \n\n   origin_apparent_temperature (°C)  origin_pressure_msl (hPa)  \\\n0                          0.625459                   0.492868   \n1                          0.763770                   0.419968   \n2                          0.742962                   0.388273   \n3                          0.621787                   0.434231   \n4                          0.793146                   0.385103   \n5                          0.763770                   0.348653   \n6                          0.638923                   0.402536   \n7                          0.821297                   0.342314   \n8                          0.755202                   0.329635   \n9                          0.716034                   0.369255   \n\n   origin_surface_pressure (hPa)  ...  destination_cloudcover_high (%)  \\\n0                       0.816393  ...                             0.00   \n1                       0.799532  ...                             0.00   \n2                       0.790164  ...                             0.00   \n3                       0.799063  ...                             0.00   \n4                       0.789696  ...                             0.00   \n5                       0.778923  ...                             0.13   \n6                       0.790164  ...                             0.51   \n7                       0.777986  ...                             0.02   \n8                       0.773302  ...                             0.19   \n9                       0.782670  ...                             0.00   \n\n   destination_windspeed_10m (km/h)  destination_winddirection_10m (°)  \\\n0                          0.108040                           0.749304   \n1                          0.683417                           0.766017   \n2                          0.449749                           0.671309   \n3                          0.484925                           0.690808   \n4                          0.520101                           0.727019   \n5                          0.231156                           0.662953   \n6                          0.045226                           0.646240   \n7                          0.153266                           0.991643   \n8                          0.125628                           0.189415   \n9                          0.143216                           0.298050   \n\n   destination_windgusts_10m (km/h)  \\\n0                          0.152222   \n1                          0.424444   \n2                          0.300000   \n3                          0.372222   \n4                          0.307778   \n5                          0.212222   \n6                          0.064444   \n7                          0.055556   \n8                          0.052222   \n9                          0.140000   \n\n   destination_et0_fao_evapotranspiration (mm)  \\\n0                                       0.4000   \n1                                       0.5500   \n2                                       0.1750   \n3                                       0.5500   \n4                                       0.6250   \n5                                       0.1000   \n6                                       0.4500   \n7                                       0.4625   \n8                                       0.0500   \n9                                       0.4750   \n\n   destination_vapor_pressure_deficit (kPa)  Season_Fall  Season_Spring  \\\n0                                  0.283887          0.0            1.0   \n1                                  0.554987          0.0            1.0   \n2                                  0.378517          0.0            1.0   \n3                                  0.508951          0.0            1.0   \n4                                  0.828645          0.0            1.0   \n5                                  0.404092          0.0            1.0   \n6                                  0.398977          0.0            1.0   \n7                                  0.841432          0.0            1.0   \n8                                  0.335038          0.0            1.0   \n9                                  0.393862          0.0            1.0   \n\n   Season_Summer  Season_Winter  \n0            0.0            0.0  \n1            0.0            0.0  \n2            0.0            0.0  \n3            0.0            0.0  \n4            0.0            0.0  \n5            0.0            0.0  \n6            0.0            0.0  \n7            0.0            0.0  \n8            0.0            0.0  \n9            0.0            0.0  \n\n[10 rows x 44 columns]",
      "text/html": "<div>\n<style scoped>\n    .dataframe tbody tr th:only-of-type {\n        vertical-align: middle;\n    }\n\n    .dataframe tbody tr th {\n        vertical-align: top;\n    }\n\n    .dataframe thead th {\n        text-align: right;\n    }\n</style>\n<table border=\"1\" class=\"dataframe\">\n  <thead>\n    <tr style=\"text-align: right;\">\n      <th></th>\n      <th>Route Mean Delay</th>\n      <th>Route Delay Frequency</th>\n      <th>Route Delay Ratio</th>\n      <th>Average Elapsed Time (Minutes)</th>\n      <th>origin_temperature_2m (°C)</th>\n      <th>origin_relativehumidity_2m (%)</th>\n      <th>origin_dewpoint_2m (°C)</th>\n      <th>origin_apparent_temperature (°C)</th>\n      <th>origin_pressure_msl (hPa)</th>\n      <th>origin_surface_pressure (hPa)</th>\n      <th>...</th>\n      <th>destination_cloudcover_high (%)</th>\n      <th>destination_windspeed_10m (km/h)</th>\n      <th>destination_winddirection_10m (°)</th>\n      <th>destination_windgusts_10m (km/h)</th>\n      <th>destination_et0_fao_evapotranspiration (mm)</th>\n      <th>destination_vapor_pressure_deficit (kPa)</th>\n      <th>Season_Fall</th>\n      <th>Season_Spring</th>\n      <th>Season_Summer</th>\n      <th>Season_Winter</th>\n    </tr>\n  </thead>\n  <tbody>\n    <tr>\n      <th>0</th>\n      <td>0.188215</td>\n      <td>1.0</td>\n      <td>0.364403</td>\n      <td>0.273438</td>\n      <td>0.673669</td>\n      <td>0.488889</td>\n      <td>0.674016</td>\n      <td>0.625459</td>\n      <td>0.492868</td>\n      <td>0.816393</td>\n      <td>...</td>\n      <td>0.00</td>\n      <td>0.108040</td>\n      <td>0.749304</td>\n      <td>0.152222</td>\n      <td>0.4000</td>\n      <td>0.283887</td>\n      <td>0.0</td>\n      <td>1.0</td>\n      <td>0.0</td>\n      <td>0.0</td>\n    </tr>\n    <tr>\n      <th>1</th>\n      <td>0.188215</td>\n      <td>1.0</td>\n      <td>0.364403</td>\n      <td>0.273438</td>\n      <td>0.841737</td>\n      <td>0.233333</td>\n      <td>0.716535</td>\n      <td>0.763770</td>\n      <td>0.419968</td>\n      <td>0.799532</td>\n      <td>...</td>\n      <td>0.00</td>\n      <td>0.683417</td>\n      <td>0.766017</td>\n      <td>0.424444</td>\n      <td>0.5500</td>\n      <td>0.554987</td>\n      <td>0.0</td>\n      <td>1.0</td>\n      <td>0.0</td>\n      <td>0.0</td>\n    </tr>\n    <tr>\n      <th>2</th>\n      <td>0.188215</td>\n      <td>1.0</td>\n      <td>0.364403</td>\n      <td>0.273438</td>\n      <td>0.827731</td>\n      <td>0.177778</td>\n      <td>0.662992</td>\n      <td>0.742962</td>\n      <td>0.388273</td>\n      <td>0.790164</td>\n      <td>...</td>\n      <td>0.00</td>\n      <td>0.449749</td>\n      <td>0.671309</td>\n      <td>0.300000</td>\n      <td>0.1750</td>\n      <td>0.378517</td>\n      <td>0.0</td>\n      <td>1.0</td>\n      <td>0.0</td>\n      <td>0.0</td>\n    </tr>\n    <tr>\n      <th>3</th>\n      <td>0.188215</td>\n      <td>1.0</td>\n      <td>0.364403</td>\n      <td>0.273438</td>\n      <td>0.666667</td>\n      <td>0.422222</td>\n      <td>0.639370</td>\n      <td>0.621787</td>\n      <td>0.434231</td>\n      <td>0.799063</td>\n      <td>...</td>\n      <td>0.00</td>\n      <td>0.484925</td>\n      <td>0.690808</td>\n      <td>0.372222</td>\n      <td>0.5500</td>\n      <td>0.508951</td>\n      <td>0.0</td>\n      <td>1.0</td>\n      <td>0.0</td>\n      <td>0.0</td>\n    </tr>\n    <tr>\n      <th>4</th>\n      <td>0.188215</td>\n      <td>1.0</td>\n      <td>0.364403</td>\n      <td>0.273438</td>\n      <td>0.851541</td>\n      <td>0.188889</td>\n      <td>0.692913</td>\n      <td>0.793146</td>\n      <td>0.385103</td>\n      <td>0.789696</td>\n      <td>...</td>\n      <td>0.00</td>\n      <td>0.520101</td>\n      <td>0.727019</td>\n      <td>0.307778</td>\n      <td>0.6250</td>\n      <td>0.828645</td>\n      <td>0.0</td>\n      <td>1.0</td>\n      <td>0.0</td>\n      <td>0.0</td>\n    </tr>\n    <tr>\n      <th>5</th>\n      <td>0.188215</td>\n      <td>1.0</td>\n      <td>0.364403</td>\n      <td>0.273438</td>\n      <td>0.838936</td>\n      <td>0.111111</td>\n      <td>0.614173</td>\n      <td>0.763770</td>\n      <td>0.348653</td>\n      <td>0.778923</td>\n      <td>...</td>\n      <td>0.13</td>\n      <td>0.231156</td>\n      <td>0.662953</td>\n      <td>0.212222</td>\n      <td>0.1000</td>\n      <td>0.404092</td>\n      <td>0.0</td>\n      <td>1.0</td>\n      <td>0.0</td>\n      <td>0.0</td>\n    </tr>\n    <tr>\n      <th>6</th>\n      <td>0.188215</td>\n      <td>1.0</td>\n      <td>0.364403</td>\n      <td>0.273438</td>\n      <td>0.670868</td>\n      <td>0.422222</td>\n      <td>0.644094</td>\n      <td>0.638923</td>\n      <td>0.402536</td>\n      <td>0.790164</td>\n      <td>...</td>\n      <td>0.51</td>\n      <td>0.045226</td>\n      <td>0.646240</td>\n      <td>0.064444</td>\n      <td>0.4500</td>\n      <td>0.398977</td>\n      <td>0.0</td>\n      <td>1.0</td>\n      <td>0.0</td>\n      <td>0.0</td>\n    </tr>\n    <tr>\n      <th>7</th>\n      <td>0.188215</td>\n      <td>1.0</td>\n      <td>0.364403</td>\n      <td>0.273438</td>\n      <td>0.862745</td>\n      <td>0.200000</td>\n      <td>0.711811</td>\n      <td>0.821297</td>\n      <td>0.342314</td>\n      <td>0.777986</td>\n      <td>...</td>\n      <td>0.02</td>\n      <td>0.153266</td>\n      <td>0.991643</td>\n      <td>0.055556</td>\n      <td>0.4625</td>\n      <td>0.841432</td>\n      <td>0.0</td>\n      <td>1.0</td>\n      <td>0.0</td>\n      <td>0.0</td>\n    </tr>\n    <tr>\n      <th>8</th>\n      <td>0.188215</td>\n      <td>1.0</td>\n      <td>0.364403</td>\n      <td>0.273438</td>\n      <td>0.827731</td>\n      <td>0.177778</td>\n      <td>0.661417</td>\n      <td>0.755202</td>\n      <td>0.329635</td>\n      <td>0.773302</td>\n      <td>...</td>\n      <td>0.19</td>\n      <td>0.125628</td>\n      <td>0.189415</td>\n      <td>0.052222</td>\n      <td>0.0500</td>\n      <td>0.335038</td>\n      <td>0.0</td>\n      <td>1.0</td>\n      <td>0.0</td>\n      <td>0.0</td>\n    </tr>\n    <tr>\n      <th>9</th>\n      <td>0.188215</td>\n      <td>1.0</td>\n      <td>0.364403</td>\n      <td>0.273438</td>\n      <td>0.745098</td>\n      <td>0.544444</td>\n      <td>0.770079</td>\n      <td>0.716034</td>\n      <td>0.369255</td>\n      <td>0.782670</td>\n      <td>...</td>\n      <td>0.00</td>\n      <td>0.143216</td>\n      <td>0.298050</td>\n      <td>0.140000</td>\n      <td>0.4750</td>\n      <td>0.393862</td>\n      <td>0.0</td>\n      <td>1.0</td>\n      <td>0.0</td>\n      <td>0.0</td>\n    </tr>\n  </tbody>\n</table>\n<p>10 rows × 44 columns</p>\n</div>"
     },
     "execution_count": 97,
     "metadata": {},
     "output_type": "execute_result"
    }
   ],
   "source": [
    "real_data = pd.DataFrame(scaler.transform(real_data), columns=real_data.columns, index=real_data.index)\n",
    "\n",
    "# Show 10 rows of the dataframe\n",
    "real_data.head(10)"
   ],
   "metadata": {
    "collapsed": false
   }
  },
  {
   "cell_type": "markdown",
   "source": [
    "## Predict"
   ],
   "metadata": {
    "collapsed": false
   }
  },
  {
   "cell_type": "code",
   "execution_count": 98,
   "outputs": [],
   "source": [
    "y_pred_encoded = best_model.predict(real_data)"
   ],
   "metadata": {
    "collapsed": false
   }
  },
  {
   "cell_type": "markdown",
   "source": [
    "## Label Decode"
   ],
   "metadata": {
    "collapsed": false
   }
  },
  {
   "cell_type": "code",
   "execution_count": 99,
   "outputs": [
    {
     "data": {
      "text/plain": "array(['On-time', 'On-time', 'On-time', 'On-time', 'On-time', 'On-time',\n       'On-time', 'On-time', 'On-time', 'On-time', 'On-time', 'On-time',\n       'On-time', 'Late', 'On-time', 'On-time', 'On-time', 'Late',\n       'On-time', 'On-time', 'On-time', 'On-time', 'On-time', 'On-time',\n       'On-time', 'On-time', 'On-time', 'On-time', 'On-time', 'On-time',\n       'On-time', 'On-time'], dtype=object)"
     },
     "metadata": {},
     "output_type": "display_data"
    }
   ],
   "source": [
    "y_pred = le.inverse_transform(y_pred_encoded)\n",
    "\n",
    "display(y_pred)"
   ],
   "metadata": {
    "collapsed": false
   }
  }
 ],
 "metadata": {
  "kernelspec": {
   "display_name": "Python 3",
   "language": "python",
   "name": "python3"
  },
  "language_info": {
   "codemirror_mode": {
    "name": "ipython",
    "version": 2
   },
   "file_extension": ".py",
   "mimetype": "text/x-python",
   "name": "python",
   "nbconvert_exporter": "python",
   "pygments_lexer": "ipython2",
   "version": "2.7.6"
  }
 },
 "nbformat": 4,
 "nbformat_minor": 0
}
