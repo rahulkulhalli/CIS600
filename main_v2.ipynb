{
 "cells": [
  {
   "cell_type": "code",
   "execution_count": 1,
   "outputs": [],
   "source": [
    "import numpy as np\n",
    "import pandas as pd\n",
    "import matplotlib.pyplot as plt\n",
    "from sklearn.metrics import classification_report\n",
    "\n",
    "import xgboost as xgb\n",
    "from sklearn.model_selection import train_test_split\n",
    "from sklearn.preprocessing import MinMaxScaler, LabelEncoder\n",
    "from sklearn.utils import compute_sample_weight"
   ],
   "metadata": {
    "collapsed": false
   }
  },
  {
   "cell_type": "markdown",
   "source": [
    "# Get data and pre-process"
   ],
   "metadata": {
    "collapsed": false
   }
  },
  {
   "cell_type": "code",
   "execution_count": 2,
   "outputs": [],
   "source": [
    "def delay_to_status(delay):\n",
    "    if delay < -10:\n",
    "        return \"Early\"\n",
    "    elif -10 <= delay <= 10:\n",
    "        return \"On-time\"\n",
    "    elif 10 < delay <= 30:\n",
    "        return \"Late\"\n",
    "    else:\n",
    "        return \"Severely Late\""
   ],
   "metadata": {
    "collapsed": false
   }
  },
  {
   "cell_type": "code",
   "execution_count": 3,
   "metadata": {
    "collapsed": true
   },
   "outputs": [],
   "source": [
    "# Load the historical data into a pandas dataframe\n",
    "flight_data = pd.read_csv(\"data/flight_data.csv\", parse_dates=['Date (MM/DD/YYYY)'])\n",
    "origin_weather_data = pd.read_csv(\"data/all_origin_weather.csv\", parse_dates=['origin_time'])\n",
    "destination_weather_data = pd.read_csv(\"data/all_destination_weather.csv\", parse_dates=['destination_time'])\n",
    "\n",
    "# Categorize delays\n",
    "flight_data['Status'] = flight_data['Arrival Delay (Minutes)'].apply(delay_to_status)\n",
    "\n",
    "# Drop unnecessary columns\n",
    "flight_data.drop(columns=[\n",
    "    'Flight Number',\n",
    "    'Tail Number',\n",
    "    'Scheduled Arrival Time',\n",
    "    'Scheduled Elapsed Time (Minutes)',\n",
    "    'Arrival Delay (Minutes)',\n",
    "    'Wheels-on Time',\n",
    "    'Taxi-In time (Minutes)',\n",
    "    'Delay Carrier (Minutes)',\n",
    "    'Delay Weather (Minutes)',\n",
    "    'Delay National Aviation System (Minutes)',\n",
    "    'Delay Security (Minutes)',\n",
    "    'Delay Late Aircraft Arrival (Minutes)'\n",
    "], inplace=True)\n",
    "\n",
    "# Handle missing values\n",
    "flight_data.dropna(inplace=True)"
   ]
  },
  {
   "cell_type": "markdown",
   "source": [
    "# Add Arrival Datetime"
   ],
   "metadata": {
    "collapsed": false
   }
  },
  {
   "cell_type": "code",
   "execution_count": 4,
   "outputs": [
    {
     "data": {
      "text/plain": "  Date (MM/DD/YYYY) Origin Airport Actual Arrival Time  \\\n0        1988-01-01            ORD               19:13   \n1        1988-01-01            ORD               22:41   \n2        1989-01-01            ORD               18:27   \n3        1989-01-01            ORD               20:55   \n4        1989-01-01            ORD                9:00   \n5        1989-01-01            ORD               23:37   \n6        1989-01-01            IAD               15:28   \n7        1989-01-01            IAD               23:39   \n8        1990-01-01            ORD               16:48   \n9        1990-01-01            ORD               22:51   \n\n   Actual Elapsed Time (Minutes)         Status    Arrival Datetime  \n0                             79          Early 1988-01-01 19:13:00  \n1                             95        On-time 1988-01-01 22:41:00  \n2                             89  Severely Late 1989-01-01 18:27:00  \n3                            113  Severely Late 1989-01-01 20:55:00  \n4                             96        On-time 1989-01-01 09:00:00  \n5                            110  Severely Late 1989-01-01 23:37:00  \n6                            120  Severely Late 1989-01-01 15:28:00  \n7                             91  Severely Late 1989-01-01 23:39:00  \n8                            120           Late 1990-01-01 16:48:00  \n9                            100        On-time 1990-01-01 22:51:00  ",
      "text/html": "<div>\n<style scoped>\n    .dataframe tbody tr th:only-of-type {\n        vertical-align: middle;\n    }\n\n    .dataframe tbody tr th {\n        vertical-align: top;\n    }\n\n    .dataframe thead th {\n        text-align: right;\n    }\n</style>\n<table border=\"1\" class=\"dataframe\">\n  <thead>\n    <tr style=\"text-align: right;\">\n      <th></th>\n      <th>Date (MM/DD/YYYY)</th>\n      <th>Origin Airport</th>\n      <th>Actual Arrival Time</th>\n      <th>Actual Elapsed Time (Minutes)</th>\n      <th>Status</th>\n      <th>Arrival Datetime</th>\n    </tr>\n  </thead>\n  <tbody>\n    <tr>\n      <th>0</th>\n      <td>1988-01-01</td>\n      <td>ORD</td>\n      <td>19:13</td>\n      <td>79</td>\n      <td>Early</td>\n      <td>1988-01-01 19:13:00</td>\n    </tr>\n    <tr>\n      <th>1</th>\n      <td>1988-01-01</td>\n      <td>ORD</td>\n      <td>22:41</td>\n      <td>95</td>\n      <td>On-time</td>\n      <td>1988-01-01 22:41:00</td>\n    </tr>\n    <tr>\n      <th>2</th>\n      <td>1989-01-01</td>\n      <td>ORD</td>\n      <td>18:27</td>\n      <td>89</td>\n      <td>Severely Late</td>\n      <td>1989-01-01 18:27:00</td>\n    </tr>\n    <tr>\n      <th>3</th>\n      <td>1989-01-01</td>\n      <td>ORD</td>\n      <td>20:55</td>\n      <td>113</td>\n      <td>Severely Late</td>\n      <td>1989-01-01 20:55:00</td>\n    </tr>\n    <tr>\n      <th>4</th>\n      <td>1989-01-01</td>\n      <td>ORD</td>\n      <td>9:00</td>\n      <td>96</td>\n      <td>On-time</td>\n      <td>1989-01-01 09:00:00</td>\n    </tr>\n    <tr>\n      <th>5</th>\n      <td>1989-01-01</td>\n      <td>ORD</td>\n      <td>23:37</td>\n      <td>110</td>\n      <td>Severely Late</td>\n      <td>1989-01-01 23:37:00</td>\n    </tr>\n    <tr>\n      <th>6</th>\n      <td>1989-01-01</td>\n      <td>IAD</td>\n      <td>15:28</td>\n      <td>120</td>\n      <td>Severely Late</td>\n      <td>1989-01-01 15:28:00</td>\n    </tr>\n    <tr>\n      <th>7</th>\n      <td>1989-01-01</td>\n      <td>IAD</td>\n      <td>23:39</td>\n      <td>91</td>\n      <td>Severely Late</td>\n      <td>1989-01-01 23:39:00</td>\n    </tr>\n    <tr>\n      <th>8</th>\n      <td>1990-01-01</td>\n      <td>ORD</td>\n      <td>16:48</td>\n      <td>120</td>\n      <td>Late</td>\n      <td>1990-01-01 16:48:00</td>\n    </tr>\n    <tr>\n      <th>9</th>\n      <td>1990-01-01</td>\n      <td>ORD</td>\n      <td>22:51</td>\n      <td>100</td>\n      <td>On-time</td>\n      <td>1990-01-01 22:51:00</td>\n    </tr>\n  </tbody>\n</table>\n</div>"
     },
     "execution_count": 4,
     "metadata": {},
     "output_type": "execute_result"
    }
   ],
   "source": [
    "# Create a boolean mask to identify rows with '24:00:00'\n",
    "mask_24 = flight_data['Actual Arrival Time'] == '24:00:00'\n",
    "\n",
    "# Replace '24:00:00' with '00:00:00'\n",
    "flight_data['Actual Arrival Time'] = flight_data['Actual Arrival Time'].replace('24:00:00', '00:00:00')\n",
    "\n",
    "# Combine date and time columns\n",
    "flight_data['Arrival Datetime'] = pd.to_datetime(\n",
    "    flight_data['Date (MM/DD/YYYY)'].astype(str) + ' ' + flight_data['Actual Arrival Time'])\n",
    "\n",
    "# Add a day to the date part when the original time value was '24:00:00'\n",
    "flight_data.loc[mask_24, 'Arrival Datetime'] = flight_data.loc[mask_24, 'Arrival Datetime'] + pd.Timedelta(days=1)\n",
    "\n",
    "# Show 10 rows of the dataframe\n",
    "flight_data.head(10)"
   ],
   "metadata": {
    "collapsed": false
   }
  },
  {
   "cell_type": "markdown",
   "source": [
    "# Add Departure Datetime"
   ],
   "metadata": {
    "collapsed": false
   }
  },
  {
   "cell_type": "code",
   "execution_count": 5,
   "outputs": [
    {
     "data": {
      "text/plain": "  Date (MM/DD/YYYY) Origin Airport Actual Arrival Time  \\\n0        1988-01-01            ORD               19:13   \n1        1988-01-01            ORD               22:41   \n2        1989-01-01            ORD               18:27   \n3        1989-01-01            ORD               20:55   \n4        1989-01-01            ORD                9:00   \n5        1989-01-01            ORD               23:37   \n6        1989-01-01            IAD               15:28   \n7        1989-01-01            IAD               23:39   \n8        1990-01-01            ORD               16:48   \n9        1990-01-01            ORD               22:51   \n\n   Actual Elapsed Time (Minutes)         Status    Arrival Datetime  \\\n0                             79          Early 1988-01-01 19:13:00   \n1                             95        On-time 1988-01-01 22:41:00   \n2                             89  Severely Late 1989-01-01 18:27:00   \n3                            113  Severely Late 1989-01-01 20:55:00   \n4                             96        On-time 1989-01-01 09:00:00   \n5                            110  Severely Late 1989-01-01 23:37:00   \n6                            120  Severely Late 1989-01-01 15:28:00   \n7                             91  Severely Late 1989-01-01 23:39:00   \n8                            120           Late 1990-01-01 16:48:00   \n9                            100        On-time 1990-01-01 22:51:00   \n\n  Actual Elapsed Time  Departure Datetime  \n0     0 days 01:19:00 1988-01-01 17:54:00  \n1     0 days 01:35:00 1988-01-01 21:06:00  \n2     0 days 01:29:00 1989-01-01 16:58:00  \n3     0 days 01:53:00 1989-01-01 19:02:00  \n4     0 days 01:36:00 1989-01-01 07:24:00  \n5     0 days 01:50:00 1989-01-01 21:47:00  \n6     0 days 02:00:00 1989-01-01 13:28:00  \n7     0 days 01:31:00 1989-01-01 22:08:00  \n8     0 days 02:00:00 1990-01-01 14:48:00  \n9     0 days 01:40:00 1990-01-01 21:11:00  ",
      "text/html": "<div>\n<style scoped>\n    .dataframe tbody tr th:only-of-type {\n        vertical-align: middle;\n    }\n\n    .dataframe tbody tr th {\n        vertical-align: top;\n    }\n\n    .dataframe thead th {\n        text-align: right;\n    }\n</style>\n<table border=\"1\" class=\"dataframe\">\n  <thead>\n    <tr style=\"text-align: right;\">\n      <th></th>\n      <th>Date (MM/DD/YYYY)</th>\n      <th>Origin Airport</th>\n      <th>Actual Arrival Time</th>\n      <th>Actual Elapsed Time (Minutes)</th>\n      <th>Status</th>\n      <th>Arrival Datetime</th>\n      <th>Actual Elapsed Time</th>\n      <th>Departure Datetime</th>\n    </tr>\n  </thead>\n  <tbody>\n    <tr>\n      <th>0</th>\n      <td>1988-01-01</td>\n      <td>ORD</td>\n      <td>19:13</td>\n      <td>79</td>\n      <td>Early</td>\n      <td>1988-01-01 19:13:00</td>\n      <td>0 days 01:19:00</td>\n      <td>1988-01-01 17:54:00</td>\n    </tr>\n    <tr>\n      <th>1</th>\n      <td>1988-01-01</td>\n      <td>ORD</td>\n      <td>22:41</td>\n      <td>95</td>\n      <td>On-time</td>\n      <td>1988-01-01 22:41:00</td>\n      <td>0 days 01:35:00</td>\n      <td>1988-01-01 21:06:00</td>\n    </tr>\n    <tr>\n      <th>2</th>\n      <td>1989-01-01</td>\n      <td>ORD</td>\n      <td>18:27</td>\n      <td>89</td>\n      <td>Severely Late</td>\n      <td>1989-01-01 18:27:00</td>\n      <td>0 days 01:29:00</td>\n      <td>1989-01-01 16:58:00</td>\n    </tr>\n    <tr>\n      <th>3</th>\n      <td>1989-01-01</td>\n      <td>ORD</td>\n      <td>20:55</td>\n      <td>113</td>\n      <td>Severely Late</td>\n      <td>1989-01-01 20:55:00</td>\n      <td>0 days 01:53:00</td>\n      <td>1989-01-01 19:02:00</td>\n    </tr>\n    <tr>\n      <th>4</th>\n      <td>1989-01-01</td>\n      <td>ORD</td>\n      <td>9:00</td>\n      <td>96</td>\n      <td>On-time</td>\n      <td>1989-01-01 09:00:00</td>\n      <td>0 days 01:36:00</td>\n      <td>1989-01-01 07:24:00</td>\n    </tr>\n    <tr>\n      <th>5</th>\n      <td>1989-01-01</td>\n      <td>ORD</td>\n      <td>23:37</td>\n      <td>110</td>\n      <td>Severely Late</td>\n      <td>1989-01-01 23:37:00</td>\n      <td>0 days 01:50:00</td>\n      <td>1989-01-01 21:47:00</td>\n    </tr>\n    <tr>\n      <th>6</th>\n      <td>1989-01-01</td>\n      <td>IAD</td>\n      <td>15:28</td>\n      <td>120</td>\n      <td>Severely Late</td>\n      <td>1989-01-01 15:28:00</td>\n      <td>0 days 02:00:00</td>\n      <td>1989-01-01 13:28:00</td>\n    </tr>\n    <tr>\n      <th>7</th>\n      <td>1989-01-01</td>\n      <td>IAD</td>\n      <td>23:39</td>\n      <td>91</td>\n      <td>Severely Late</td>\n      <td>1989-01-01 23:39:00</td>\n      <td>0 days 01:31:00</td>\n      <td>1989-01-01 22:08:00</td>\n    </tr>\n    <tr>\n      <th>8</th>\n      <td>1990-01-01</td>\n      <td>ORD</td>\n      <td>16:48</td>\n      <td>120</td>\n      <td>Late</td>\n      <td>1990-01-01 16:48:00</td>\n      <td>0 days 02:00:00</td>\n      <td>1990-01-01 14:48:00</td>\n    </tr>\n    <tr>\n      <th>9</th>\n      <td>1990-01-01</td>\n      <td>ORD</td>\n      <td>22:51</td>\n      <td>100</td>\n      <td>On-time</td>\n      <td>1990-01-01 22:51:00</td>\n      <td>0 days 01:40:00</td>\n      <td>1990-01-01 21:11:00</td>\n    </tr>\n  </tbody>\n</table>\n</div>"
     },
     "execution_count": 5,
     "metadata": {},
     "output_type": "execute_result"
    }
   ],
   "source": [
    "# Convert the 'Actual Elapsed Time (Minutes)' to a timedelta\n",
    "flight_data['Actual Elapsed Time'] = pd.to_timedelta(flight_data['Actual Elapsed Time (Minutes)'], unit='m')\n",
    "\n",
    "# Subtract the 'Actual Elapsed Time' from the 'Arrival Datetime' to create the 'Departure Datetime' column\n",
    "flight_data['Departure Datetime'] = flight_data['Arrival Datetime'] - flight_data['Actual Elapsed Time']\n",
    "\n",
    "# Show 10 rows of the dataframe\n",
    "flight_data.head(10)"
   ],
   "metadata": {
    "collapsed": false
   }
  },
  {
   "cell_type": "markdown",
   "source": [
    "# Cleanup Datetime columns"
   ],
   "metadata": {
    "collapsed": false
   }
  },
  {
   "cell_type": "code",
   "execution_count": 6,
   "outputs": [
    {
     "data": {
      "text/plain": "  Origin Airport         Status    Arrival Datetime  Departure Datetime\n0            ORD          Early 1988-01-01 19:00:00 1988-01-01 18:00:00\n1            ORD        On-time 1988-01-01 23:00:00 1988-01-01 21:00:00\n2            ORD  Severely Late 1989-01-01 18:00:00 1989-01-01 17:00:00\n3            ORD  Severely Late 1989-01-01 21:00:00 1989-01-01 19:00:00\n4            ORD        On-time 1989-01-01 09:00:00 1989-01-01 07:00:00\n5            ORD  Severely Late 1989-01-02 00:00:00 1989-01-01 22:00:00\n6            IAD  Severely Late 1989-01-01 15:00:00 1989-01-01 13:00:00\n7            IAD  Severely Late 1989-01-02 00:00:00 1989-01-01 22:00:00\n8            ORD           Late 1990-01-01 17:00:00 1990-01-01 15:00:00\n9            ORD        On-time 1990-01-01 23:00:00 1990-01-01 21:00:00",
      "text/html": "<div>\n<style scoped>\n    .dataframe tbody tr th:only-of-type {\n        vertical-align: middle;\n    }\n\n    .dataframe tbody tr th {\n        vertical-align: top;\n    }\n\n    .dataframe thead th {\n        text-align: right;\n    }\n</style>\n<table border=\"1\" class=\"dataframe\">\n  <thead>\n    <tr style=\"text-align: right;\">\n      <th></th>\n      <th>Origin Airport</th>\n      <th>Status</th>\n      <th>Arrival Datetime</th>\n      <th>Departure Datetime</th>\n    </tr>\n  </thead>\n  <tbody>\n    <tr>\n      <th>0</th>\n      <td>ORD</td>\n      <td>Early</td>\n      <td>1988-01-01 19:00:00</td>\n      <td>1988-01-01 18:00:00</td>\n    </tr>\n    <tr>\n      <th>1</th>\n      <td>ORD</td>\n      <td>On-time</td>\n      <td>1988-01-01 23:00:00</td>\n      <td>1988-01-01 21:00:00</td>\n    </tr>\n    <tr>\n      <th>2</th>\n      <td>ORD</td>\n      <td>Severely Late</td>\n      <td>1989-01-01 18:00:00</td>\n      <td>1989-01-01 17:00:00</td>\n    </tr>\n    <tr>\n      <th>3</th>\n      <td>ORD</td>\n      <td>Severely Late</td>\n      <td>1989-01-01 21:00:00</td>\n      <td>1989-01-01 19:00:00</td>\n    </tr>\n    <tr>\n      <th>4</th>\n      <td>ORD</td>\n      <td>On-time</td>\n      <td>1989-01-01 09:00:00</td>\n      <td>1989-01-01 07:00:00</td>\n    </tr>\n    <tr>\n      <th>5</th>\n      <td>ORD</td>\n      <td>Severely Late</td>\n      <td>1989-01-02 00:00:00</td>\n      <td>1989-01-01 22:00:00</td>\n    </tr>\n    <tr>\n      <th>6</th>\n      <td>IAD</td>\n      <td>Severely Late</td>\n      <td>1989-01-01 15:00:00</td>\n      <td>1989-01-01 13:00:00</td>\n    </tr>\n    <tr>\n      <th>7</th>\n      <td>IAD</td>\n      <td>Severely Late</td>\n      <td>1989-01-02 00:00:00</td>\n      <td>1989-01-01 22:00:00</td>\n    </tr>\n    <tr>\n      <th>8</th>\n      <td>ORD</td>\n      <td>Late</td>\n      <td>1990-01-01 17:00:00</td>\n      <td>1990-01-01 15:00:00</td>\n    </tr>\n    <tr>\n      <th>9</th>\n      <td>ORD</td>\n      <td>On-time</td>\n      <td>1990-01-01 23:00:00</td>\n      <td>1990-01-01 21:00:00</td>\n    </tr>\n  </tbody>\n</table>\n</div>"
     },
     "execution_count": 6,
     "metadata": {},
     "output_type": "execute_result"
    }
   ],
   "source": [
    "# Drop more unnecessary date columns\n",
    "flight_data.drop(columns=[\n",
    "    'Date (MM/DD/YYYY)',\n",
    "    'Actual Arrival Time',\n",
    "    'Actual Elapsed Time',\n",
    "    'Actual Elapsed Time (Minutes)'\n",
    "], inplace=True)\n",
    "\n",
    "# Round to the nearest hour for the weather data\n",
    "flight_data['Arrival Datetime'] = flight_data['Arrival Datetime'].dt.round(\"H\")\n",
    "flight_data['Departure Datetime'] = flight_data['Departure Datetime'].dt.round(\"H\")\n",
    "\n",
    "# Show 10 rows of the dataframe\n",
    "flight_data.head(10)"
   ],
   "metadata": {
    "collapsed": false
   }
  },
  {
   "cell_type": "markdown",
   "source": [
    "# Get Date Ranges for Weather Data"
   ],
   "metadata": {
    "collapsed": false
   }
  },
  {
   "cell_type": "code",
   "execution_count": 7,
   "outputs": [
    {
     "name": "stdout",
     "output_type": "stream",
     "text": [
      "Origin Airport: DEN\n",
      "Date Range: 2022-02-11 12:00 - 2023-01-31 12:00\n",
      "\n",
      "Origin Airport: EWR\n",
      "Date Range: 2019-11-30 22:00 - 2023-01-31 22:00\n",
      "\n",
      "Origin Airport: IAD\n",
      "Date Range: 1988-06-09 20:00 - 2023-01-02 22:00\n",
      "\n",
      "Origin Airport: ORD\n",
      "Date Range: 1987-10-01 08:00 - 2023-01-31 19:00\n",
      "\n",
      "Overall Date Range: 1987-10-01 08:00 - 2023-01-31 22:00\n"
     ]
    }
   ],
   "source": [
    "# Group flight_data by 'Origin Airport' and aggregate the min and max 'Departure Datetime' for each group\n",
    "date_ranges = flight_data.groupby('Origin Airport')['Departure Datetime'].agg(['min', 'max'])\n",
    "\n",
    "# Print the 'Origin Airport' and the date range for each group\n",
    "for index, row in date_ranges.iterrows():\n",
    "    print(f\"Origin Airport: {index}\")\n",
    "    print(f\"Date Range: {row['min'].strftime('%Y-%m-%d %H:%M')} - {row['max'].strftime('%Y-%m-%d %H:%M')}\\n\")\n",
    "\n",
    "min_departure = flight_data['Departure Datetime'].min()\n",
    "max_departure = flight_data['Departure Datetime'].max()\n",
    "\n",
    "print(\n",
    "    f\"Overall Date Range: {min_departure.strftime('%Y-%m-%d %H:%M')} - {max_departure.strftime('%Y-%m-%d %H:%M')}\")"
   ],
   "metadata": {
    "collapsed": false
   }
  },
  {
   "cell_type": "markdown",
   "source": [
    "# Join Flight Data with Origin Weather Data"
   ],
   "metadata": {
    "collapsed": false
   }
  },
  {
   "cell_type": "code",
   "execution_count": 8,
   "outputs": [
    {
     "data": {
      "text/plain": "  Origin Airport         Status    Arrival Datetime  \\\n0            ORD          Early 1988-01-01 19:00:00   \n1            ORD        On-time 1988-01-01 23:00:00   \n2            ORD  Severely Late 1989-01-01 18:00:00   \n3            ORD  Severely Late 1989-01-01 21:00:00   \n4            ORD        On-time 1989-01-01 09:00:00   \n5            ORD  Severely Late 1989-01-02 00:00:00   \n6            IAD  Severely Late 1989-01-01 15:00:00   \n7            IAD  Severely Late 1989-01-02 00:00:00   \n8            ORD           Late 1990-01-01 17:00:00   \n9            ORD        On-time 1990-01-01 23:00:00   \n\n   origin_temperature_2m (°C)  origin_relativehumidity_2m (%)  \\\n0                       -15.3                              71   \n1                       -16.3                              72   \n2                         0.5                              73   \n3                        -1.7                              82   \n4                        -6.0                              94   \n5                        -2.7                              85   \n6                         1.2                              99   \n7                         1.2                              99   \n8                        -2.0                              68   \n9                        -3.0                              71   \n\n   origin_dewpoint_2m (°C)  origin_apparent_temperature (°C)  \\\n0                    -19.3                             -21.9   \n1                    -20.1                             -22.8   \n2                     -3.8                              -4.4   \n3                     -4.3                              -6.9   \n4                     -6.9                             -10.0   \n5                     -4.8                              -8.1   \n6                      1.1                              -2.1   \n7                      1.0                              -1.2   \n8                     -7.1                              -7.3   \n9                     -7.4                              -8.4   \n\n   origin_pressure_msl (hPa)  origin_surface_pressure (hPa)  \\\n0                     1034.9                         1007.5   \n1                     1035.4                         1007.9   \n2                     1016.2                          990.8   \n3                     1016.2                          990.6   \n4                     1018.9                          992.9   \n5                     1016.0                          990.3   \n6                     1020.8                         1009.2   \n7                     1020.6                         1009.0   \n8                     1024.2                          998.4   \n9                     1024.3                          998.4   \n\n   origin_precipitation (mm)  ...  origin_snowfall (cm)  \\\n0                        0.0  ...                  0.00   \n1                        0.0  ...                  0.00   \n2                        0.0  ...                  0.00   \n3                        0.0  ...                  0.00   \n4                        0.0  ...                  0.00   \n5                        0.0  ...                  0.00   \n6                        1.2  ...                  0.63   \n7                        0.0  ...                  0.00   \n8                        0.0  ...                  0.00   \n9                        0.0  ...                  0.00   \n\n   origin_cloudcover (%)  origin_cloudcover_low (%)  \\\n0                      0                          0   \n1                      0                          0   \n2                      2                          0   \n3                      7                          6   \n4                     12                         13   \n5                     89                         79   \n6                    100                        100   \n7                    100                        100   \n8                     90                        100   \n9                     32                         35   \n\n   origin_cloudcover_mid (%)  origin_cloudcover_high (%)  \\\n0                          0                           0   \n1                          0                           0   \n2                          0                           5   \n3                          0                           5   \n4                          0                           0   \n5                          0                          61   \n6                         88                           0   \n7                         16                           0   \n8                          0                           0   \n9                          0                           0   \n\n   origin_windspeed_10m (km/h)  origin_winddirection_10m (°)  \\\n0                         19.6                           253   \n1                         18.5                           263   \n2                         15.6                           214   \n3                         17.1                           221   \n4                          6.9                           186   \n5                         18.2                           240   \n6                          9.1                            83   \n7                          2.4                           333   \n8                         15.6                           263   \n9                         16.7                           217   \n\n   origin_windgusts_10m (km/h)  origin_et0_fao_evapotranspiration (mm)  \\\n0                         39.2                                    0.02   \n1                         33.5                                    0.01   \n2                         30.2                                    0.07   \n3                         28.8                                    0.02   \n4                         10.8                                    0.00   \n5                         32.8                                    0.01   \n6                         23.0                                    0.03   \n7                          9.0                                    0.00   \n8                         33.1                                    0.07   \n9                         29.5                                    0.02   \n\n   origin_vapor_pressure_deficit (kPa)  \n0                                 0.05  \n1                                 0.05  \n2                                 0.17  \n3                                 0.10  \n4                                 0.02  \n5                                 0.07  \n6                                 0.01  \n7                                 0.01  \n8                                 0.17  \n9                                 0.14  \n\n[10 rows x 21 columns]",
      "text/html": "<div>\n<style scoped>\n    .dataframe tbody tr th:only-of-type {\n        vertical-align: middle;\n    }\n\n    .dataframe tbody tr th {\n        vertical-align: top;\n    }\n\n    .dataframe thead th {\n        text-align: right;\n    }\n</style>\n<table border=\"1\" class=\"dataframe\">\n  <thead>\n    <tr style=\"text-align: right;\">\n      <th></th>\n      <th>Origin Airport</th>\n      <th>Status</th>\n      <th>Arrival Datetime</th>\n      <th>origin_temperature_2m (°C)</th>\n      <th>origin_relativehumidity_2m (%)</th>\n      <th>origin_dewpoint_2m (°C)</th>\n      <th>origin_apparent_temperature (°C)</th>\n      <th>origin_pressure_msl (hPa)</th>\n      <th>origin_surface_pressure (hPa)</th>\n      <th>origin_precipitation (mm)</th>\n      <th>...</th>\n      <th>origin_snowfall (cm)</th>\n      <th>origin_cloudcover (%)</th>\n      <th>origin_cloudcover_low (%)</th>\n      <th>origin_cloudcover_mid (%)</th>\n      <th>origin_cloudcover_high (%)</th>\n      <th>origin_windspeed_10m (km/h)</th>\n      <th>origin_winddirection_10m (°)</th>\n      <th>origin_windgusts_10m (km/h)</th>\n      <th>origin_et0_fao_evapotranspiration (mm)</th>\n      <th>origin_vapor_pressure_deficit (kPa)</th>\n    </tr>\n  </thead>\n  <tbody>\n    <tr>\n      <th>0</th>\n      <td>ORD</td>\n      <td>Early</td>\n      <td>1988-01-01 19:00:00</td>\n      <td>-15.3</td>\n      <td>71</td>\n      <td>-19.3</td>\n      <td>-21.9</td>\n      <td>1034.9</td>\n      <td>1007.5</td>\n      <td>0.0</td>\n      <td>...</td>\n      <td>0.00</td>\n      <td>0</td>\n      <td>0</td>\n      <td>0</td>\n      <td>0</td>\n      <td>19.6</td>\n      <td>253</td>\n      <td>39.2</td>\n      <td>0.02</td>\n      <td>0.05</td>\n    </tr>\n    <tr>\n      <th>1</th>\n      <td>ORD</td>\n      <td>On-time</td>\n      <td>1988-01-01 23:00:00</td>\n      <td>-16.3</td>\n      <td>72</td>\n      <td>-20.1</td>\n      <td>-22.8</td>\n      <td>1035.4</td>\n      <td>1007.9</td>\n      <td>0.0</td>\n      <td>...</td>\n      <td>0.00</td>\n      <td>0</td>\n      <td>0</td>\n      <td>0</td>\n      <td>0</td>\n      <td>18.5</td>\n      <td>263</td>\n      <td>33.5</td>\n      <td>0.01</td>\n      <td>0.05</td>\n    </tr>\n    <tr>\n      <th>2</th>\n      <td>ORD</td>\n      <td>Severely Late</td>\n      <td>1989-01-01 18:00:00</td>\n      <td>0.5</td>\n      <td>73</td>\n      <td>-3.8</td>\n      <td>-4.4</td>\n      <td>1016.2</td>\n      <td>990.8</td>\n      <td>0.0</td>\n      <td>...</td>\n      <td>0.00</td>\n      <td>2</td>\n      <td>0</td>\n      <td>0</td>\n      <td>5</td>\n      <td>15.6</td>\n      <td>214</td>\n      <td>30.2</td>\n      <td>0.07</td>\n      <td>0.17</td>\n    </tr>\n    <tr>\n      <th>3</th>\n      <td>ORD</td>\n      <td>Severely Late</td>\n      <td>1989-01-01 21:00:00</td>\n      <td>-1.7</td>\n      <td>82</td>\n      <td>-4.3</td>\n      <td>-6.9</td>\n      <td>1016.2</td>\n      <td>990.6</td>\n      <td>0.0</td>\n      <td>...</td>\n      <td>0.00</td>\n      <td>7</td>\n      <td>6</td>\n      <td>0</td>\n      <td>5</td>\n      <td>17.1</td>\n      <td>221</td>\n      <td>28.8</td>\n      <td>0.02</td>\n      <td>0.10</td>\n    </tr>\n    <tr>\n      <th>4</th>\n      <td>ORD</td>\n      <td>On-time</td>\n      <td>1989-01-01 09:00:00</td>\n      <td>-6.0</td>\n      <td>94</td>\n      <td>-6.9</td>\n      <td>-10.0</td>\n      <td>1018.9</td>\n      <td>992.9</td>\n      <td>0.0</td>\n      <td>...</td>\n      <td>0.00</td>\n      <td>12</td>\n      <td>13</td>\n      <td>0</td>\n      <td>0</td>\n      <td>6.9</td>\n      <td>186</td>\n      <td>10.8</td>\n      <td>0.00</td>\n      <td>0.02</td>\n    </tr>\n    <tr>\n      <th>5</th>\n      <td>ORD</td>\n      <td>Severely Late</td>\n      <td>1989-01-02 00:00:00</td>\n      <td>-2.7</td>\n      <td>85</td>\n      <td>-4.8</td>\n      <td>-8.1</td>\n      <td>1016.0</td>\n      <td>990.3</td>\n      <td>0.0</td>\n      <td>...</td>\n      <td>0.00</td>\n      <td>89</td>\n      <td>79</td>\n      <td>0</td>\n      <td>61</td>\n      <td>18.2</td>\n      <td>240</td>\n      <td>32.8</td>\n      <td>0.01</td>\n      <td>0.07</td>\n    </tr>\n    <tr>\n      <th>6</th>\n      <td>IAD</td>\n      <td>Severely Late</td>\n      <td>1989-01-01 15:00:00</td>\n      <td>1.2</td>\n      <td>99</td>\n      <td>1.1</td>\n      <td>-2.1</td>\n      <td>1020.8</td>\n      <td>1009.2</td>\n      <td>1.2</td>\n      <td>...</td>\n      <td>0.63</td>\n      <td>100</td>\n      <td>100</td>\n      <td>88</td>\n      <td>0</td>\n      <td>9.1</td>\n      <td>83</td>\n      <td>23.0</td>\n      <td>0.03</td>\n      <td>0.01</td>\n    </tr>\n    <tr>\n      <th>7</th>\n      <td>IAD</td>\n      <td>Severely Late</td>\n      <td>1989-01-02 00:00:00</td>\n      <td>1.2</td>\n      <td>99</td>\n      <td>1.0</td>\n      <td>-1.2</td>\n      <td>1020.6</td>\n      <td>1009.0</td>\n      <td>0.0</td>\n      <td>...</td>\n      <td>0.00</td>\n      <td>100</td>\n      <td>100</td>\n      <td>16</td>\n      <td>0</td>\n      <td>2.4</td>\n      <td>333</td>\n      <td>9.0</td>\n      <td>0.00</td>\n      <td>0.01</td>\n    </tr>\n    <tr>\n      <th>8</th>\n      <td>ORD</td>\n      <td>Late</td>\n      <td>1990-01-01 17:00:00</td>\n      <td>-2.0</td>\n      <td>68</td>\n      <td>-7.1</td>\n      <td>-7.3</td>\n      <td>1024.2</td>\n      <td>998.4</td>\n      <td>0.0</td>\n      <td>...</td>\n      <td>0.00</td>\n      <td>90</td>\n      <td>100</td>\n      <td>0</td>\n      <td>0</td>\n      <td>15.6</td>\n      <td>263</td>\n      <td>33.1</td>\n      <td>0.07</td>\n      <td>0.17</td>\n    </tr>\n    <tr>\n      <th>9</th>\n      <td>ORD</td>\n      <td>On-time</td>\n      <td>1990-01-01 23:00:00</td>\n      <td>-3.0</td>\n      <td>71</td>\n      <td>-7.4</td>\n      <td>-8.4</td>\n      <td>1024.3</td>\n      <td>998.4</td>\n      <td>0.0</td>\n      <td>...</td>\n      <td>0.00</td>\n      <td>32</td>\n      <td>35</td>\n      <td>0</td>\n      <td>0</td>\n      <td>16.7</td>\n      <td>217</td>\n      <td>29.5</td>\n      <td>0.02</td>\n      <td>0.14</td>\n    </tr>\n  </tbody>\n</table>\n<p>10 rows × 21 columns</p>\n</div>"
     },
     "execution_count": 8,
     "metadata": {},
     "output_type": "execute_result"
    }
   ],
   "source": [
    "# Merge the flight_data and origin_weather_data dataframes on 'Departure Datetime' and 'Origin Airport' columns using a left join\n",
    "merged_data = pd.merge(flight_data, origin_weather_data,\n",
    "                       left_on=['Departure Datetime', 'Origin Airport'],\n",
    "                       right_on=['origin_time', 'origin_airport'],\n",
    "                       how='left')\n",
    "\n",
    "# Drop more unnecessary date columns\n",
    "merged_data.drop(columns=[\n",
    "    'Departure Datetime',\n",
    "    'origin_time',\n",
    "    'origin_airport'\n",
    "], inplace=True)\n",
    "\n",
    "# Show 10 rows of the dataframe\n",
    "merged_data.head(10)"
   ],
   "metadata": {
    "collapsed": false
   }
  },
  {
   "cell_type": "markdown",
   "source": [
    "# Join Flight Data with Destination Weather Data"
   ],
   "metadata": {
    "collapsed": false
   }
  },
  {
   "cell_type": "code",
   "execution_count": 9,
   "outputs": [
    {
     "data": {
      "text/plain": "  Origin Airport         Status  origin_temperature_2m (°C)  \\\n0            ORD          Early                       -15.3   \n1            ORD        On-time                       -16.3   \n2            ORD  Severely Late                         0.5   \n3            ORD  Severely Late                        -1.7   \n4            ORD        On-time                        -6.0   \n5            ORD  Severely Late                        -2.7   \n6            IAD  Severely Late                         1.2   \n7            IAD  Severely Late                         1.2   \n8            ORD           Late                        -2.0   \n9            ORD        On-time                        -3.0   \n\n   origin_relativehumidity_2m (%)  origin_dewpoint_2m (°C)  \\\n0                              71                    -19.3   \n1                              72                    -20.1   \n2                              73                     -3.8   \n3                              82                     -4.3   \n4                              94                     -6.9   \n5                              85                     -4.8   \n6                              99                      1.1   \n7                              99                      1.0   \n8                              68                     -7.1   \n9                              71                     -7.4   \n\n   origin_apparent_temperature (°C)  origin_pressure_msl (hPa)  \\\n0                             -21.9                     1034.9   \n1                             -22.8                     1035.4   \n2                              -4.4                     1016.2   \n3                              -6.9                     1016.2   \n4                             -10.0                     1018.9   \n5                              -8.1                     1016.0   \n6                              -2.1                     1020.8   \n7                              -1.2                     1020.6   \n8                              -7.3                     1024.2   \n9                              -8.4                     1024.3   \n\n   origin_surface_pressure (hPa)  origin_precipitation (mm)  origin_rain (mm)  \\\n0                         1007.5                        0.0               0.0   \n1                         1007.9                        0.0               0.0   \n2                          990.8                        0.0               0.0   \n3                          990.6                        0.0               0.0   \n4                          992.9                        0.0               0.0   \n5                          990.3                        0.0               0.0   \n6                         1009.2                        1.2               0.3   \n7                         1009.0                        0.0               0.0   \n8                          998.4                        0.0               0.0   \n9                          998.4                        0.0               0.0   \n\n   ...  destination_snowfall (cm)  destination_cloudcover (%)  \\\n0  ...                       0.00                          77   \n1  ...                       0.00                          90   \n2  ...                       0.00                          52   \n3  ...                       0.00                         100   \n4  ...                       0.00                          38   \n5  ...                       0.00                          95   \n6  ...                       0.00                          17   \n7  ...                       0.00                          95   \n8  ...                       0.07                          87   \n9  ...                       0.07                          79   \n\n   destination_cloudcover_low (%)  destination_cloudcover_mid (%)  \\\n0                              79                               9   \n1                              89                              16   \n2                              42                              24   \n3                              85                              21   \n4                               8                              45   \n5                              71                               4   \n6                              17                               2   \n7                              71                               4   \n8                              83                              20   \n9                              88                               0   \n\n   destination_cloudcover_high (%)  destination_windspeed_10m (km/h)  \\\n0                                0                              15.4   \n1                                0                              17.2   \n2                                0                               9.7   \n3                               63                              14.9   \n4                               11                              10.0   \n5                               94                              15.8   \n6                                0                              10.6   \n7                               94                              15.8   \n8                                0                              21.6   \n9                                0                              16.3   \n\n   destination_winddirection_10m (°)  destination_windgusts_10m (km/h)  \\\n0                                254                              31.7   \n1                                259                              38.9   \n2                                141                              21.2   \n3                                173                              31.3   \n4                                120                              18.4   \n5                                180                              34.2   \n6                                145                              24.1   \n7                                180                              34.2   \n8                                294                              51.5   \n9                                298                              37.8   \n\n   destination_et0_fao_evapotranspiration (mm)  \\\n0                                         0.02   \n1                                         0.02   \n2                                         0.01   \n3                                         0.01   \n4                                         0.00   \n5                                         0.01   \n6                                         0.11   \n7                                         0.01   \n8                                         0.03   \n9                                         0.01   \n\n   destination_vapor_pressure_deficit (kPa)  \n0                                      0.16  \n1                                      0.16  \n2                                      0.12  \n3                                      0.14  \n4                                      0.03  \n5                                      0.12  \n6                                      0.25  \n7                                      0.12  \n8                                      0.12  \n9                                      0.08  \n\n[10 rows x 38 columns]",
      "text/html": "<div>\n<style scoped>\n    .dataframe tbody tr th:only-of-type {\n        vertical-align: middle;\n    }\n\n    .dataframe tbody tr th {\n        vertical-align: top;\n    }\n\n    .dataframe thead th {\n        text-align: right;\n    }\n</style>\n<table border=\"1\" class=\"dataframe\">\n  <thead>\n    <tr style=\"text-align: right;\">\n      <th></th>\n      <th>Origin Airport</th>\n      <th>Status</th>\n      <th>origin_temperature_2m (°C)</th>\n      <th>origin_relativehumidity_2m (%)</th>\n      <th>origin_dewpoint_2m (°C)</th>\n      <th>origin_apparent_temperature (°C)</th>\n      <th>origin_pressure_msl (hPa)</th>\n      <th>origin_surface_pressure (hPa)</th>\n      <th>origin_precipitation (mm)</th>\n      <th>origin_rain (mm)</th>\n      <th>...</th>\n      <th>destination_snowfall (cm)</th>\n      <th>destination_cloudcover (%)</th>\n      <th>destination_cloudcover_low (%)</th>\n      <th>destination_cloudcover_mid (%)</th>\n      <th>destination_cloudcover_high (%)</th>\n      <th>destination_windspeed_10m (km/h)</th>\n      <th>destination_winddirection_10m (°)</th>\n      <th>destination_windgusts_10m (km/h)</th>\n      <th>destination_et0_fao_evapotranspiration (mm)</th>\n      <th>destination_vapor_pressure_deficit (kPa)</th>\n    </tr>\n  </thead>\n  <tbody>\n    <tr>\n      <th>0</th>\n      <td>ORD</td>\n      <td>Early</td>\n      <td>-15.3</td>\n      <td>71</td>\n      <td>-19.3</td>\n      <td>-21.9</td>\n      <td>1034.9</td>\n      <td>1007.5</td>\n      <td>0.0</td>\n      <td>0.0</td>\n      <td>...</td>\n      <td>0.00</td>\n      <td>77</td>\n      <td>79</td>\n      <td>9</td>\n      <td>0</td>\n      <td>15.4</td>\n      <td>254</td>\n      <td>31.7</td>\n      <td>0.02</td>\n      <td>0.16</td>\n    </tr>\n    <tr>\n      <th>1</th>\n      <td>ORD</td>\n      <td>On-time</td>\n      <td>-16.3</td>\n      <td>72</td>\n      <td>-20.1</td>\n      <td>-22.8</td>\n      <td>1035.4</td>\n      <td>1007.9</td>\n      <td>0.0</td>\n      <td>0.0</td>\n      <td>...</td>\n      <td>0.00</td>\n      <td>90</td>\n      <td>89</td>\n      <td>16</td>\n      <td>0</td>\n      <td>17.2</td>\n      <td>259</td>\n      <td>38.9</td>\n      <td>0.02</td>\n      <td>0.16</td>\n    </tr>\n    <tr>\n      <th>2</th>\n      <td>ORD</td>\n      <td>Severely Late</td>\n      <td>0.5</td>\n      <td>73</td>\n      <td>-3.8</td>\n      <td>-4.4</td>\n      <td>1016.2</td>\n      <td>990.8</td>\n      <td>0.0</td>\n      <td>0.0</td>\n      <td>...</td>\n      <td>0.00</td>\n      <td>52</td>\n      <td>42</td>\n      <td>24</td>\n      <td>0</td>\n      <td>9.7</td>\n      <td>141</td>\n      <td>21.2</td>\n      <td>0.01</td>\n      <td>0.12</td>\n    </tr>\n    <tr>\n      <th>3</th>\n      <td>ORD</td>\n      <td>Severely Late</td>\n      <td>-1.7</td>\n      <td>82</td>\n      <td>-4.3</td>\n      <td>-6.9</td>\n      <td>1016.2</td>\n      <td>990.6</td>\n      <td>0.0</td>\n      <td>0.0</td>\n      <td>...</td>\n      <td>0.00</td>\n      <td>100</td>\n      <td>85</td>\n      <td>21</td>\n      <td>63</td>\n      <td>14.9</td>\n      <td>173</td>\n      <td>31.3</td>\n      <td>0.01</td>\n      <td>0.14</td>\n    </tr>\n    <tr>\n      <th>4</th>\n      <td>ORD</td>\n      <td>On-time</td>\n      <td>-6.0</td>\n      <td>94</td>\n      <td>-6.9</td>\n      <td>-10.0</td>\n      <td>1018.9</td>\n      <td>992.9</td>\n      <td>0.0</td>\n      <td>0.0</td>\n      <td>...</td>\n      <td>0.00</td>\n      <td>38</td>\n      <td>8</td>\n      <td>45</td>\n      <td>11</td>\n      <td>10.0</td>\n      <td>120</td>\n      <td>18.4</td>\n      <td>0.00</td>\n      <td>0.03</td>\n    </tr>\n    <tr>\n      <th>5</th>\n      <td>ORD</td>\n      <td>Severely Late</td>\n      <td>-2.7</td>\n      <td>85</td>\n      <td>-4.8</td>\n      <td>-8.1</td>\n      <td>1016.0</td>\n      <td>990.3</td>\n      <td>0.0</td>\n      <td>0.0</td>\n      <td>...</td>\n      <td>0.00</td>\n      <td>95</td>\n      <td>71</td>\n      <td>4</td>\n      <td>94</td>\n      <td>15.8</td>\n      <td>180</td>\n      <td>34.2</td>\n      <td>0.01</td>\n      <td>0.12</td>\n    </tr>\n    <tr>\n      <th>6</th>\n      <td>IAD</td>\n      <td>Severely Late</td>\n      <td>1.2</td>\n      <td>99</td>\n      <td>1.1</td>\n      <td>-2.1</td>\n      <td>1020.8</td>\n      <td>1009.2</td>\n      <td>1.2</td>\n      <td>0.3</td>\n      <td>...</td>\n      <td>0.00</td>\n      <td>17</td>\n      <td>17</td>\n      <td>2</td>\n      <td>0</td>\n      <td>10.6</td>\n      <td>145</td>\n      <td>24.1</td>\n      <td>0.11</td>\n      <td>0.25</td>\n    </tr>\n    <tr>\n      <th>7</th>\n      <td>IAD</td>\n      <td>Severely Late</td>\n      <td>1.2</td>\n      <td>99</td>\n      <td>1.0</td>\n      <td>-1.2</td>\n      <td>1020.6</td>\n      <td>1009.0</td>\n      <td>0.0</td>\n      <td>0.0</td>\n      <td>...</td>\n      <td>0.00</td>\n      <td>95</td>\n      <td>71</td>\n      <td>4</td>\n      <td>94</td>\n      <td>15.8</td>\n      <td>180</td>\n      <td>34.2</td>\n      <td>0.01</td>\n      <td>0.12</td>\n    </tr>\n    <tr>\n      <th>8</th>\n      <td>ORD</td>\n      <td>Late</td>\n      <td>-2.0</td>\n      <td>68</td>\n      <td>-7.1</td>\n      <td>-7.3</td>\n      <td>1024.2</td>\n      <td>998.4</td>\n      <td>0.0</td>\n      <td>0.0</td>\n      <td>...</td>\n      <td>0.07</td>\n      <td>87</td>\n      <td>83</td>\n      <td>20</td>\n      <td>0</td>\n      <td>21.6</td>\n      <td>294</td>\n      <td>51.5</td>\n      <td>0.03</td>\n      <td>0.12</td>\n    </tr>\n    <tr>\n      <th>9</th>\n      <td>ORD</td>\n      <td>On-time</td>\n      <td>-3.0</td>\n      <td>71</td>\n      <td>-7.4</td>\n      <td>-8.4</td>\n      <td>1024.3</td>\n      <td>998.4</td>\n      <td>0.0</td>\n      <td>0.0</td>\n      <td>...</td>\n      <td>0.07</td>\n      <td>79</td>\n      <td>88</td>\n      <td>0</td>\n      <td>0</td>\n      <td>16.3</td>\n      <td>298</td>\n      <td>37.8</td>\n      <td>0.01</td>\n      <td>0.08</td>\n    </tr>\n  </tbody>\n</table>\n<p>10 rows × 38 columns</p>\n</div>"
     },
     "execution_count": 9,
     "metadata": {},
     "output_type": "execute_result"
    }
   ],
   "source": [
    "# Merge the merged_data and destination_weather_data dataframes on 'Arrival Datetime', and 'destination_time' columns using a left join\n",
    "data = pd.merge(merged_data, destination_weather_data,\n",
    "                left_on='Arrival Datetime',\n",
    "                right_on='destination_time',\n",
    "                how='left')\n",
    "\n",
    "# Drop more unnecessary date columns\n",
    "data.drop(columns=[\n",
    "    'Arrival Datetime',\n",
    "    'destination_time',\n",
    "], inplace=True)\n",
    "\n",
    "# Show 10 rows of the dataframe\n",
    "data.head(10)"
   ],
   "metadata": {
    "collapsed": false
   }
  },
  {
   "cell_type": "markdown",
   "source": [
    "# Check Data"
   ],
   "metadata": {
    "collapsed": false
   }
  },
  {
   "cell_type": "code",
   "execution_count": 10,
   "outputs": [
    {
     "data": {
      "text/plain": "<Figure size 800x600 with 1 Axes>",
      "image/png": "[encoded data removed]"
     },
     "metadata": {},
     "output_type": "display_data"
    },
    {
     "name": "stdout",
     "output_type": "stream",
     "text": [
      "Length of flight data:  20352\n",
      "Length of merged data:  20352\n",
      "Total NaN values:  0\n"
     ]
    }
   ],
   "source": [
    "fig, ax = plt.subplots(figsize=(8, 6))\n",
    "data['Status'].hist(ax=ax)\n",
    "plt.show()\n",
    "\n",
    "print(\"Length of flight data: \", len(flight_data))\n",
    "print(\"Length of merged data: \", len(data))\n",
    "print(\"Total NaN values: \", data.isna().sum().sum())"
   ],
   "metadata": {
    "collapsed": false
   }
  },
  {
   "cell_type": "markdown",
   "source": [
    "# One Hot Encoding"
   ],
   "metadata": {
    "collapsed": false
   }
  },
  {
   "cell_type": "code",
   "execution_count": 11,
   "outputs": [],
   "source": [
    "# One-hot encode categorical variables\n",
    "data = pd.get_dummies(data, columns=['Origin Airport'])"
   ],
   "metadata": {
    "collapsed": false
   }
  },
  {
   "cell_type": "markdown",
   "source": [
    "# Split data into testing and training"
   ],
   "metadata": {
    "collapsed": false
   }
  },
  {
   "cell_type": "code",
   "execution_count": 12,
   "outputs": [
    {
     "name": "stdout",
     "output_type": "stream",
     "text": [
      "Length of train dataset:  16281\n",
      "Length of test dataset:  4071\n"
     ]
    }
   ],
   "source": [
    "X = data.drop(columns=['Status'])\n",
    "y = data['Status']\n",
    "\n",
    "# Split data into training and testing sets\n",
    "X_train, X_test, y_train, y_test = train_test_split(X, y, test_size=0.2, random_state=42, stratify=y)\n",
    "\n",
    "# Print the length of the train and test data\n",
    "print(\"Length of train dataset: \", len(X_train))\n",
    "print(\"Length of test dataset: \", len(X_test))"
   ],
   "metadata": {
    "collapsed": false
   }
  },
  {
   "cell_type": "markdown",
   "source": [
    "# Normalize data"
   ],
   "metadata": {
    "collapsed": false
   }
  },
  {
   "cell_type": "code",
   "execution_count": 13,
   "outputs": [
    {
     "data": {
      "text/plain": "       origin_temperature_2m (°C)  origin_relativehumidity_2m (%)  \\\n14100                    0.796089                        0.844444   \n9830                     0.737430                        0.955556   \n16218                    0.593575                        0.633333   \n16870                    0.512570                        0.377778   \n7831                     0.660615                        0.800000   \n4073                     0.361732                        0.411111   \n5084                     0.465084                        0.866667   \n1965                     0.439944                        0.888889   \n18400                    0.520950                        0.688889   \n11829                    0.900838                        0.244444   \n\n       origin_dewpoint_2m (°C)  origin_apparent_temperature (°C)  \\\n14100                 0.918239                          0.803898   \n9830                  0.880503                          0.739342   \n16218                 0.635220                          0.561510   \n16870                 0.462264                          0.451888   \n7831                  0.756289                          0.632156   \n4073                  0.320755                          0.304507   \n5084                  0.555031                          0.436054   \n1965                  0.533019                          0.406821   \n18400                 0.575472                          0.489647   \n11829                 0.779874                          0.857491   \n\n       origin_pressure_msl (hPa)  origin_surface_pressure (hPa)  \\\n14100                   0.396135                       0.851054   \n9830                    0.391304                       0.789227   \n16218                   0.566828                       0.834660   \n16870                   0.438003                       0.795785   \n7831                    0.425121                       0.796721   \n4073                    0.760064                       0.882436   \n5084                    0.574879                       0.833255   \n1965                    0.487923                       0.807963   \n18400                   0.465378                       0.803747   \n11829                   0.465378                       0.814052   \n\n       origin_precipitation (mm)  origin_rain (mm)  origin_snowfall (cm)  \\\n14100                        0.0               0.0                   0.0   \n9830                         0.0               0.0                   0.0   \n16218                        0.0               0.0                   0.0   \n16870                        0.0               0.0                   0.0   \n7831                         0.0               0.0                   0.0   \n4073                         0.0               0.0                   0.0   \n5084                         0.0               0.0                   0.0   \n1965                         0.0               0.0                   0.0   \n18400                        0.0               0.0                   0.0   \n11829                        0.0               0.0                   0.0   \n\n       origin_cloudcover (%)  ...  destination_cloudcover_high (%)  \\\n14100                   0.08  ...                             1.00   \n9830                    0.66  ...                             0.98   \n16218                   0.53  ...                             0.00   \n16870                   1.00  ...                             0.00   \n7831                    0.45  ...                             0.00   \n4073                    0.02  ...                             0.99   \n5084                    0.65  ...                             0.45   \n1965                    1.00  ...                             1.00   \n18400                   0.88  ...                             0.00   \n11829                   0.10  ...                             0.74   \n\n       destination_windspeed_10m (km/h)  destination_winddirection_10m (°)  \\\n14100                          0.273869                           0.983287   \n9830                           0.489950                           0.420613   \n16218                          0.233668                           0.963788   \n16870                          0.281407                           0.754875   \n7831                           0.067839                           0.562674   \n4073                           0.454774                           0.863510   \n5084                           0.113065                           0.167131   \n1965                           0.311558                           0.437326   \n18400                          0.409548                           0.818942   \n11829                          0.130653                           0.654596   \n\n       destination_windgusts_10m (km/h)  \\\n14100                          0.267778   \n9830                           0.424444   \n16218                          0.255556   \n16870                          0.272222   \n7831                           0.112222   \n4073                           0.300000   \n5084                           0.112222   \n1965                           0.264444   \n18400                          0.355556   \n11829                          0.192222   \n\n       destination_et0_fao_evapotranspiration (mm)  \\\n14100                                       0.0000   \n9830                                        0.3750   \n16218                                       0.0250   \n16870                                       0.0250   \n7831                                        0.2750   \n4073                                        0.0375   \n5084                                        0.2250   \n1965                                        0.0250   \n18400                                       0.0125   \n11829                                       0.1000   \n\n       destination_vapor_pressure_deficit (kPa)  Origin Airport_DEN  \\\n14100                                  0.002558                 0.0   \n9830                                   0.294118                 0.0   \n16218                                  0.097187                 0.0   \n16870                                  0.076726                 0.0   \n7831                                   0.125320                 0.0   \n4073                                   0.015345                 0.0   \n5084                                   0.069054                 0.0   \n1965                                   0.023018                 0.0   \n18400                                  0.038363                 0.0   \n11829                                  0.069054                 0.0   \n\n       Origin Airport_EWR  Origin Airport_IAD  Origin Airport_ORD  \n14100                 0.0                 1.0                 0.0  \n9830                  0.0                 0.0                 1.0  \n16218                 0.0                 0.0                 1.0  \n16870                 0.0                 0.0                 1.0  \n7831                  0.0                 0.0                 1.0  \n4073                  0.0                 0.0                 1.0  \n5084                  0.0                 0.0                 1.0  \n1965                  0.0                 0.0                 1.0  \n18400                 0.0                 0.0                 1.0  \n11829                 0.0                 0.0                 1.0  \n\n[10 rows x 40 columns]",
      "text/html": "<div>\n<style scoped>\n    .dataframe tbody tr th:only-of-type {\n        vertical-align: middle;\n    }\n\n    .dataframe tbody tr th {\n        vertical-align: top;\n    }\n\n    .dataframe thead th {\n        text-align: right;\n    }\n</style>\n<table border=\"1\" class=\"dataframe\">\n  <thead>\n    <tr style=\"text-align: right;\">\n      <th></th>\n      <th>origin_temperature_2m (°C)</th>\n      <th>origin_relativehumidity_2m (%)</th>\n      <th>origin_dewpoint_2m (°C)</th>\n      <th>origin_apparent_temperature (°C)</th>\n      <th>origin_pressure_msl (hPa)</th>\n      <th>origin_surface_pressure (hPa)</th>\n      <th>origin_precipitation (mm)</th>\n      <th>origin_rain (mm)</th>\n      <th>origin_snowfall (cm)</th>\n      <th>origin_cloudcover (%)</th>\n      <th>...</th>\n      <th>destination_cloudcover_high (%)</th>\n      <th>destination_windspeed_10m (km/h)</th>\n      <th>destination_winddirection_10m (°)</th>\n      <th>destination_windgusts_10m (km/h)</th>\n      <th>destination_et0_fao_evapotranspiration (mm)</th>\n      <th>destination_vapor_pressure_deficit (kPa)</th>\n      <th>Origin Airport_DEN</th>\n      <th>Origin Airport_EWR</th>\n      <th>Origin Airport_IAD</th>\n      <th>Origin Airport_ORD</th>\n    </tr>\n  </thead>\n  <tbody>\n    <tr>\n      <th>14100</th>\n      <td>0.796089</td>\n      <td>0.844444</td>\n      <td>0.918239</td>\n      <td>0.803898</td>\n      <td>0.396135</td>\n      <td>0.851054</td>\n      <td>0.0</td>\n      <td>0.0</td>\n      <td>0.0</td>\n      <td>0.08</td>\n      <td>...</td>\n      <td>1.00</td>\n      <td>0.273869</td>\n      <td>0.983287</td>\n      <td>0.267778</td>\n      <td>0.0000</td>\n      <td>0.002558</td>\n      <td>0.0</td>\n      <td>0.0</td>\n      <td>1.0</td>\n      <td>0.0</td>\n    </tr>\n    <tr>\n      <th>9830</th>\n      <td>0.737430</td>\n      <td>0.955556</td>\n      <td>0.880503</td>\n      <td>0.739342</td>\n      <td>0.391304</td>\n      <td>0.789227</td>\n      <td>0.0</td>\n      <td>0.0</td>\n      <td>0.0</td>\n      <td>0.66</td>\n      <td>...</td>\n      <td>0.98</td>\n      <td>0.489950</td>\n      <td>0.420613</td>\n      <td>0.424444</td>\n      <td>0.3750</td>\n      <td>0.294118</td>\n      <td>0.0</td>\n      <td>0.0</td>\n      <td>0.0</td>\n      <td>1.0</td>\n    </tr>\n    <tr>\n      <th>16218</th>\n      <td>0.593575</td>\n      <td>0.633333</td>\n      <td>0.635220</td>\n      <td>0.561510</td>\n      <td>0.566828</td>\n      <td>0.834660</td>\n      <td>0.0</td>\n      <td>0.0</td>\n      <td>0.0</td>\n      <td>0.53</td>\n      <td>...</td>\n      <td>0.00</td>\n      <td>0.233668</td>\n      <td>0.963788</td>\n      <td>0.255556</td>\n      <td>0.0250</td>\n      <td>0.097187</td>\n      <td>0.0</td>\n      <td>0.0</td>\n      <td>0.0</td>\n      <td>1.0</td>\n    </tr>\n    <tr>\n      <th>16870</th>\n      <td>0.512570</td>\n      <td>0.377778</td>\n      <td>0.462264</td>\n      <td>0.451888</td>\n      <td>0.438003</td>\n      <td>0.795785</td>\n      <td>0.0</td>\n      <td>0.0</td>\n      <td>0.0</td>\n      <td>1.00</td>\n      <td>...</td>\n      <td>0.00</td>\n      <td>0.281407</td>\n      <td>0.754875</td>\n      <td>0.272222</td>\n      <td>0.0250</td>\n      <td>0.076726</td>\n      <td>0.0</td>\n      <td>0.0</td>\n      <td>0.0</td>\n      <td>1.0</td>\n    </tr>\n    <tr>\n      <th>7831</th>\n      <td>0.660615</td>\n      <td>0.800000</td>\n      <td>0.756289</td>\n      <td>0.632156</td>\n      <td>0.425121</td>\n      <td>0.796721</td>\n      <td>0.0</td>\n      <td>0.0</td>\n      <td>0.0</td>\n      <td>0.45</td>\n      <td>...</td>\n      <td>0.00</td>\n      <td>0.067839</td>\n      <td>0.562674</td>\n      <td>0.112222</td>\n      <td>0.2750</td>\n      <td>0.125320</td>\n      <td>0.0</td>\n      <td>0.0</td>\n      <td>0.0</td>\n      <td>1.0</td>\n    </tr>\n    <tr>\n      <th>4073</th>\n      <td>0.361732</td>\n      <td>0.411111</td>\n      <td>0.320755</td>\n      <td>0.304507</td>\n      <td>0.760064</td>\n      <td>0.882436</td>\n      <td>0.0</td>\n      <td>0.0</td>\n      <td>0.0</td>\n      <td>0.02</td>\n      <td>...</td>\n      <td>0.99</td>\n      <td>0.454774</td>\n      <td>0.863510</td>\n      <td>0.300000</td>\n      <td>0.0375</td>\n      <td>0.015345</td>\n      <td>0.0</td>\n      <td>0.0</td>\n      <td>0.0</td>\n      <td>1.0</td>\n    </tr>\n    <tr>\n      <th>5084</th>\n      <td>0.465084</td>\n      <td>0.866667</td>\n      <td>0.555031</td>\n      <td>0.436054</td>\n      <td>0.574879</td>\n      <td>0.833255</td>\n      <td>0.0</td>\n      <td>0.0</td>\n      <td>0.0</td>\n      <td>0.65</td>\n      <td>...</td>\n      <td>0.45</td>\n      <td>0.113065</td>\n      <td>0.167131</td>\n      <td>0.112222</td>\n      <td>0.2250</td>\n      <td>0.069054</td>\n      <td>0.0</td>\n      <td>0.0</td>\n      <td>0.0</td>\n      <td>1.0</td>\n    </tr>\n    <tr>\n      <th>1965</th>\n      <td>0.439944</td>\n      <td>0.888889</td>\n      <td>0.533019</td>\n      <td>0.406821</td>\n      <td>0.487923</td>\n      <td>0.807963</td>\n      <td>0.0</td>\n      <td>0.0</td>\n      <td>0.0</td>\n      <td>1.00</td>\n      <td>...</td>\n      <td>1.00</td>\n      <td>0.311558</td>\n      <td>0.437326</td>\n      <td>0.264444</td>\n      <td>0.0250</td>\n      <td>0.023018</td>\n      <td>0.0</td>\n      <td>0.0</td>\n      <td>0.0</td>\n      <td>1.0</td>\n    </tr>\n    <tr>\n      <th>18400</th>\n      <td>0.520950</td>\n      <td>0.688889</td>\n      <td>0.575472</td>\n      <td>0.489647</td>\n      <td>0.465378</td>\n      <td>0.803747</td>\n      <td>0.0</td>\n      <td>0.0</td>\n      <td>0.0</td>\n      <td>0.88</td>\n      <td>...</td>\n      <td>0.00</td>\n      <td>0.409548</td>\n      <td>0.818942</td>\n      <td>0.355556</td>\n      <td>0.0125</td>\n      <td>0.038363</td>\n      <td>0.0</td>\n      <td>0.0</td>\n      <td>0.0</td>\n      <td>1.0</td>\n    </tr>\n    <tr>\n      <th>11829</th>\n      <td>0.900838</td>\n      <td>0.244444</td>\n      <td>0.779874</td>\n      <td>0.857491</td>\n      <td>0.465378</td>\n      <td>0.814052</td>\n      <td>0.0</td>\n      <td>0.0</td>\n      <td>0.0</td>\n      <td>0.10</td>\n      <td>...</td>\n      <td>0.74</td>\n      <td>0.130653</td>\n      <td>0.654596</td>\n      <td>0.192222</td>\n      <td>0.1000</td>\n      <td>0.069054</td>\n      <td>0.0</td>\n      <td>0.0</td>\n      <td>0.0</td>\n      <td>1.0</td>\n    </tr>\n  </tbody>\n</table>\n<p>10 rows × 40 columns</p>\n</div>"
     },
     "execution_count": 13,
     "metadata": {},
     "output_type": "execute_result"
    }
   ],
   "source": [
    "scaler = MinMaxScaler()\n",
    "X_train = pd.DataFrame(scaler.fit_transform(X_train), columns=X_train.columns, index=X_train.index)\n",
    "X_test = pd.DataFrame(scaler.transform(X_test), columns=X_test.columns, index=X_test.index)\n",
    "\n",
    "# Show 10 rows of the dataframe\n",
    "X_train.head(10)"
   ],
   "metadata": {
    "collapsed": false
   }
  },
  {
   "cell_type": "markdown",
   "source": [
    "# Training"
   ],
   "metadata": {
    "collapsed": false
   }
  },
  {
   "cell_type": "code",
   "execution_count": 14,
   "outputs": [],
   "source": [
    "# Instantiate the LabelEncoder\n",
    "le = LabelEncoder()\n",
    "\n",
    "# Fit and transform the target variable in the training set\n",
    "y_train_encoded = le.fit_transform(y_train)\n",
    "\n",
    "# Transform the target variable in the testing set\n",
    "y_test_encoded = le.transform(y_test)\n",
    "\n",
    "# Calculate the sample weights\n",
    "sample_weights = compute_sample_weight(class_weight='balanced', y=y_train_encoded)\n",
    "\n",
    "# Create and train the XGBoost model\n",
    "xgbr = xgb.XGBClassifier(objective='multi:softmax', n_estimators=100, seed=42)\n",
    "xgbr.fit(X_train, y_train_encoded, sample_weight=sample_weights)\n",
    "\n",
    "# Make predictions\n",
    "y_train_pred_encoded = xgbr.predict(X_train)\n",
    "y_test_pred_encoded = xgbr.predict(X_test)\n",
    "\n",
    "# Inverse transform the predictions back to the original labels\n",
    "y_train_pred = le.inverse_transform(y_train_pred_encoded)\n",
    "y_test_pred = le.inverse_transform(y_test_pred_encoded)"
   ],
   "metadata": {
    "collapsed": false
   }
  },
  {
   "cell_type": "markdown",
   "source": [
    "# Evaluate the model"
   ],
   "metadata": {
    "collapsed": false
   }
  },
  {
   "cell_type": "code",
   "execution_count": 15,
   "outputs": [
    {
     "name": "stdout",
     "output_type": "stream",
     "text": [
      "Training Classification report:\n",
      "               precision    recall  f1-score   support\n",
      "\n",
      "        Early       0.68      0.96      0.80      2437\n",
      "         Late       0.77      0.92      0.84      2302\n",
      "      On-time       0.98      0.77      0.86      9740\n",
      "Severely Late       0.73      0.98      0.83      1802\n",
      "\n",
      "     accuracy                           0.84     16281\n",
      "    macro avg       0.79      0.91      0.83     16281\n",
      " weighted avg       0.88      0.84      0.85     16281\n",
      "\n",
      "\n",
      "Testing Classification report:\n",
      "               precision    recall  f1-score   support\n",
      "\n",
      "        Early       0.24      0.30      0.27       610\n",
      "         Late       0.21      0.24      0.22       575\n",
      "      On-time       0.66      0.56      0.61      2436\n",
      "Severely Late       0.28      0.36      0.31       450\n",
      "\n",
      "     accuracy                           0.45      4071\n",
      "    macro avg       0.35      0.36      0.35      4071\n",
      " weighted avg       0.49      0.45      0.47      4071\n",
      "\n"
     ]
    }
   ],
   "source": [
    "print('Training Classification report:')\n",
    "print(classification_report(y_train, y_train_pred))\n",
    "\n",
    "print('\\nTesting Classification report:')\n",
    "print(classification_report(y_test, y_test_pred))"
   ],
   "metadata": {
    "collapsed": false
   }
  },
  {
   "cell_type": "code",
   "execution_count": 16,
   "outputs": [
    {
     "data": {
      "text/plain": "              actual      predicted\n13435        On-time        On-time\n7552         On-time        On-time\n6981         On-time          Early\n7257         On-time        On-time\n4813         On-time  Severely Late\n2013         On-time        On-time\n14330        On-time          Early\n7137            Late           Late\n15933        On-time          Early\n10742           Late           Late\n1026         On-time          Early\n3523         On-time  Severely Late\n14800          Early        On-time\n16393        On-time          Early\n16783        On-time        On-time\n16000        On-time           Late\n12594        On-time        On-time\n7407         On-time        On-time\n11495  Severely Late          Early\n3866           Early        On-time\n5154           Early        On-time\n14418        On-time        On-time\n9274         On-time           Late\n14504        On-time  Severely Late\n10677        On-time        On-time\n10788        On-time        On-time\n7272         On-time  Severely Late\n13354        On-time        On-time\n15699        On-time        On-time\n3084            Late           Late",
      "text/html": "<div>\n<style scoped>\n    .dataframe tbody tr th:only-of-type {\n        vertical-align: middle;\n    }\n\n    .dataframe tbody tr th {\n        vertical-align: top;\n    }\n\n    .dataframe thead th {\n        text-align: right;\n    }\n</style>\n<table border=\"1\" class=\"dataframe\">\n  <thead>\n    <tr style=\"text-align: right;\">\n      <th></th>\n      <th>actual</th>\n      <th>predicted</th>\n    </tr>\n  </thead>\n  <tbody>\n    <tr>\n      <th>13435</th>\n      <td>On-time</td>\n      <td>On-time</td>\n    </tr>\n    <tr>\n      <th>7552</th>\n      <td>On-time</td>\n      <td>On-time</td>\n    </tr>\n    <tr>\n      <th>6981</th>\n      <td>On-time</td>\n      <td>Early</td>\n    </tr>\n    <tr>\n      <th>7257</th>\n      <td>On-time</td>\n      <td>On-time</td>\n    </tr>\n    <tr>\n      <th>4813</th>\n      <td>On-time</td>\n      <td>Severely Late</td>\n    </tr>\n    <tr>\n      <th>2013</th>\n      <td>On-time</td>\n      <td>On-time</td>\n    </tr>\n    <tr>\n      <th>14330</th>\n      <td>On-time</td>\n      <td>Early</td>\n    </tr>\n    <tr>\n      <th>7137</th>\n      <td>Late</td>\n      <td>Late</td>\n    </tr>\n    <tr>\n      <th>15933</th>\n      <td>On-time</td>\n      <td>Early</td>\n    </tr>\n    <tr>\n      <th>10742</th>\n      <td>Late</td>\n      <td>Late</td>\n    </tr>\n    <tr>\n      <th>1026</th>\n      <td>On-time</td>\n      <td>Early</td>\n    </tr>\n    <tr>\n      <th>3523</th>\n      <td>On-time</td>\n      <td>Severely Late</td>\n    </tr>\n    <tr>\n      <th>14800</th>\n      <td>Early</td>\n      <td>On-time</td>\n    </tr>\n    <tr>\n      <th>16393</th>\n      <td>On-time</td>\n      <td>Early</td>\n    </tr>\n    <tr>\n      <th>16783</th>\n      <td>On-time</td>\n      <td>On-time</td>\n    </tr>\n    <tr>\n      <th>16000</th>\n      <td>On-time</td>\n      <td>Late</td>\n    </tr>\n    <tr>\n      <th>12594</th>\n      <td>On-time</td>\n      <td>On-time</td>\n    </tr>\n    <tr>\n      <th>7407</th>\n      <td>On-time</td>\n      <td>On-time</td>\n    </tr>\n    <tr>\n      <th>11495</th>\n      <td>Severely Late</td>\n      <td>Early</td>\n    </tr>\n    <tr>\n      <th>3866</th>\n      <td>Early</td>\n      <td>On-time</td>\n    </tr>\n    <tr>\n      <th>5154</th>\n      <td>Early</td>\n      <td>On-time</td>\n    </tr>\n    <tr>\n      <th>14418</th>\n      <td>On-time</td>\n      <td>On-time</td>\n    </tr>\n    <tr>\n      <th>9274</th>\n      <td>On-time</td>\n      <td>Late</td>\n    </tr>\n    <tr>\n      <th>14504</th>\n      <td>On-time</td>\n      <td>Severely Late</td>\n    </tr>\n    <tr>\n      <th>10677</th>\n      <td>On-time</td>\n      <td>On-time</td>\n    </tr>\n    <tr>\n      <th>10788</th>\n      <td>On-time</td>\n      <td>On-time</td>\n    </tr>\n    <tr>\n      <th>7272</th>\n      <td>On-time</td>\n      <td>Severely Late</td>\n    </tr>\n    <tr>\n      <th>13354</th>\n      <td>On-time</td>\n      <td>On-time</td>\n    </tr>\n    <tr>\n      <th>15699</th>\n      <td>On-time</td>\n      <td>On-time</td>\n    </tr>\n    <tr>\n      <th>3084</th>\n      <td>Late</td>\n      <td>Late</td>\n    </tr>\n  </tbody>\n</table>\n</div>"
     },
     "execution_count": 16,
     "metadata": {},
     "output_type": "execute_result"
    }
   ],
   "source": [
    "test_output = pd.DataFrame({'actual': y_test, 'predicted': y_test_pred})\n",
    "\n",
    "test_output.head(30)"
   ],
   "metadata": {
    "collapsed": false
   }
  },
  {
   "cell_type": "code",
   "execution_count": 17,
   "outputs": [
    {
     "data": {
      "text/plain": "<Figure size 1000x500 with 1 Axes>",
      "image/png": "[encoded data removed]"
     },
     "metadata": {},
     "output_type": "display_data"
    }
   ],
   "source": [
    "# Create a single figure with a specified size (width=10, height=5)\n",
    "fig, ax = plt.subplots(figsize=(10, 5))\n",
    "\n",
    "# Set the width of the bars in the histogram\n",
    "bar_width = 0.4\n",
    "\n",
    "# Create an array with the unique categories in the 'actual' and 'predicted' columns\n",
    "categories = test_output.actual.unique()\n",
    "\n",
    "# Generate the x-axis positions for each category\n",
    "x_pos = np.arange(len(categories))\n",
    "\n",
    "# Calculate the counts for each category in the 'actual' column\n",
    "actual_counts = test_output.actual.value_counts()\n",
    "\n",
    "# Calculate the counts for each category in the 'predicted' column\n",
    "predicted_counts = test_output.predicted.value_counts()\n",
    "\n",
    "# Plot the histogram of the ground truth (actual) values\n",
    "ax.bar(x_pos - bar_width / 2, actual_counts, width=bar_width, color='blue', edgecolor='black', label='Ground truth')\n",
    "\n",
    "# Plot the histogram of the predicted values\n",
    "ax.bar(x_pos + bar_width / 2, predicted_counts, width=bar_width, color='green', edgecolor='black', label='Predictions')\n",
    "\n",
    "# Set the x-axis ticks and labels\n",
    "ax.set_xticks(x_pos)\n",
    "ax.set_xticklabels(categories)\n",
    "\n",
    "# Set the title and axis labels for the figure\n",
    "ax.set_title('Actual vs. Predictions', fontsize=14)\n",
    "ax.set_xlabel('Status', fontsize=12)\n",
    "ax.set_ylabel('Frequency', fontsize=12)\n",
    "\n",
    "# Add a legend to distinguish between the two sets of data\n",
    "ax.legend(fontsize=12)\n",
    "\n",
    "# Display the figure\n",
    "plt.show()"
   ],
   "metadata": {
    "collapsed": false
   }
  },
  {
   "cell_type": "markdown",
   "source": [],
   "metadata": {
    "collapsed": false
   }
  },
  {
   "cell_type": "code",
   "execution_count": 18,
   "outputs": [
    {
     "data": {
      "text/plain": "         Date Origin Airport Arrival Time\n0  2023-04-21            ORD     10:00 AM\n1  2023-04-21            ORD      4:50 PM\n2  2023-04-21            ORD      9:34 PM\n3  2023-04-22            ORD     10:00 AM\n4  2023-04-22            ORD      4:50 PM\n5  2023-04-22            ORD      9:34 PM\n6  2023-04-23            ORD     10:00 AM\n7  2023-04-23            ORD      4:55 PM\n8  2023-04-23            ORD      9:34 PM\n9  2023-04-24            ORD     10:00 AM\n10 2023-04-24            ORD      4:50 PM\n11 2023-04-24            ORD      9:34 PM\n12 2023-04-21            DEN      3:12 PM\n13 2023-04-22            DEN      3:12 PM\n14 2023-04-23            DEN      3:12 PM\n15 2023-04-24            DEN      3:12 PM\n16 2023-04-21            EWR     10:46 AM\n17 2023-04-21            EWR     11:42 PM\n18 2023-04-22            EWR     10:46 AM\n19 2023-04-22            EWR     11:17 PM",
      "text/html": "<div>\n<style scoped>\n    .dataframe tbody tr th:only-of-type {\n        vertical-align: middle;\n    }\n\n    .dataframe tbody tr th {\n        vertical-align: top;\n    }\n\n    .dataframe thead th {\n        text-align: right;\n    }\n</style>\n<table border=\"1\" class=\"dataframe\">\n  <thead>\n    <tr style=\"text-align: right;\">\n      <th></th>\n      <th>Date</th>\n      <th>Origin Airport</th>\n      <th>Arrival Time</th>\n    </tr>\n  </thead>\n  <tbody>\n    <tr>\n      <th>0</th>\n      <td>2023-04-21</td>\n      <td>ORD</td>\n      <td>10:00 AM</td>\n    </tr>\n    <tr>\n      <th>1</th>\n      <td>2023-04-21</td>\n      <td>ORD</td>\n      <td>4:50 PM</td>\n    </tr>\n    <tr>\n      <th>2</th>\n      <td>2023-04-21</td>\n      <td>ORD</td>\n      <td>9:34 PM</td>\n    </tr>\n    <tr>\n      <th>3</th>\n      <td>2023-04-22</td>\n      <td>ORD</td>\n      <td>10:00 AM</td>\n    </tr>\n    <tr>\n      <th>4</th>\n      <td>2023-04-22</td>\n      <td>ORD</td>\n      <td>4:50 PM</td>\n    </tr>\n    <tr>\n      <th>5</th>\n      <td>2023-04-22</td>\n      <td>ORD</td>\n      <td>9:34 PM</td>\n    </tr>\n    <tr>\n      <th>6</th>\n      <td>2023-04-23</td>\n      <td>ORD</td>\n      <td>10:00 AM</td>\n    </tr>\n    <tr>\n      <th>7</th>\n      <td>2023-04-23</td>\n      <td>ORD</td>\n      <td>4:55 PM</td>\n    </tr>\n    <tr>\n      <th>8</th>\n      <td>2023-04-23</td>\n      <td>ORD</td>\n      <td>9:34 PM</td>\n    </tr>\n    <tr>\n      <th>9</th>\n      <td>2023-04-24</td>\n      <td>ORD</td>\n      <td>10:00 AM</td>\n    </tr>\n    <tr>\n      <th>10</th>\n      <td>2023-04-24</td>\n      <td>ORD</td>\n      <td>4:50 PM</td>\n    </tr>\n    <tr>\n      <th>11</th>\n      <td>2023-04-24</td>\n      <td>ORD</td>\n      <td>9:34 PM</td>\n    </tr>\n    <tr>\n      <th>12</th>\n      <td>2023-04-21</td>\n      <td>DEN</td>\n      <td>3:12 PM</td>\n    </tr>\n    <tr>\n      <th>13</th>\n      <td>2023-04-22</td>\n      <td>DEN</td>\n      <td>3:12 PM</td>\n    </tr>\n    <tr>\n      <th>14</th>\n      <td>2023-04-23</td>\n      <td>DEN</td>\n      <td>3:12 PM</td>\n    </tr>\n    <tr>\n      <th>15</th>\n      <td>2023-04-24</td>\n      <td>DEN</td>\n      <td>3:12 PM</td>\n    </tr>\n    <tr>\n      <th>16</th>\n      <td>2023-04-21</td>\n      <td>EWR</td>\n      <td>10:46 AM</td>\n    </tr>\n    <tr>\n      <th>17</th>\n      <td>2023-04-21</td>\n      <td>EWR</td>\n      <td>11:42 PM</td>\n    </tr>\n    <tr>\n      <th>18</th>\n      <td>2023-04-22</td>\n      <td>EWR</td>\n      <td>10:46 AM</td>\n    </tr>\n    <tr>\n      <th>19</th>\n      <td>2023-04-22</td>\n      <td>EWR</td>\n      <td>11:17 PM</td>\n    </tr>\n  </tbody>\n</table>\n</div>"
     },
     "execution_count": 18,
     "metadata": {},
     "output_type": "execute_result"
    }
   ],
   "source": [
    "# Load the historical data into a pandas dataframe\n",
    "test_data = pd.read_csv(\"data/test_data.csv\", parse_dates=['Date'])\n",
    "\n",
    "# Drop unnecessary columns\n",
    "test_data.drop(columns=[\n",
    "    'Day',\n",
    "    'Flight Number',\n",
    "    'Status (Early, On-time, Late, Severly Late)',\n",
    "], inplace=True)\n",
    "\n",
    "test_data.head(20)"
   ],
   "metadata": {
    "collapsed": false
   }
  }
 ],
 "metadata": {
  "kernelspec": {
   "display_name": "Python 3",
   "language": "python",
   "name": "python3"
  },
  "language_info": {
   "codemirror_mode": {
    "name": "ipython",
    "version": 2
   },
   "file_extension": ".py",
   "mimetype": "text/x-python",
   "name": "python",
   "nbconvert_exporter": "python",
   "pygments_lexer": "ipython2",
   "version": "2.7.6"
  }
 },
 "nbformat": 4,
 "nbformat_minor": 0
}
