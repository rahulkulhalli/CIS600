{
 "cells": [
  {
   "cell_type": "markdown",
   "source": [
    "# Import necessary libraries"
   ],
   "metadata": {
    "collapsed": false
   }
  },
  {
   "cell_type": "code",
   "execution_count": 4,
   "outputs": [],
   "source": [
    "import os\n",
    "import pandas as pd\n",
    "\n",
    "# Path to directory containing csv files\n",
    "data_dir = \"data/weather\""
   ],
   "metadata": {
    "collapsed": false
   }
  },
  {
   "cell_type": "markdown",
   "source": [
    "# Get a list of all the files except the destination"
   ],
   "metadata": {
    "collapsed": false
   }
  },
  {
   "cell_type": "code",
   "execution_count": 5,
   "outputs": [],
   "source": [
    "# Get a list of all csv files in the directory except for SYR_history.csv and SYR_forecast.csv\n",
    "csv_files = [f for f in os.listdir(data_dir) if f.endswith('.csv') and f not in ['SYR_history.csv', 'SYR_forecast.csv']]\n",
    "\n",
    "# Initialize an empty list to store the dataframes\n",
    "dfs = []"
   ],
   "metadata": {
    "collapsed": false
   }
  },
  {
   "cell_type": "markdown",
   "source": [
    "# Merge all origin files into a dataframe"
   ],
   "metadata": {
    "collapsed": false
   }
  },
  {
   "cell_type": "code",
   "execution_count": 6,
   "metadata": {
    "collapsed": true
   },
   "outputs": [],
   "source": [
    "# Loop through each csv file, load it into a dataframe, and append it to the list\n",
    "for file in csv_files:\n",
    "    # Load the csv file into a dataframe\n",
    "    df = pd.read_csv(os.path.join(data_dir, file))\n",
    "\n",
    "    # Add a new column called \"Origin Airport\" and set the value to the filename without the extension\n",
    "    df['airport'] = os.path.splitext(file)[0][:3]\n",
    "\n",
    "    # Append the dataframe to the list\n",
    "    dfs.append(df)\n",
    "\n",
    "# Concatenate all the dataframes into one\n",
    "all_origin_weather = pd.concat(dfs, ignore_index=True)\n",
    "\n",
    "# Add the 'origin_' prefix to all column names dataframe\n",
    "all_origin_weather = all_origin_weather.add_prefix('origin_')"
   ]
  },
  {
   "cell_type": "markdown",
   "source": [
    "# Get all the destination weather data"
   ],
   "metadata": {
    "collapsed": false
   }
  },
  {
   "cell_type": "code",
   "execution_count": 7,
   "outputs": [],
   "source": [
    "# Load the SYR_history and SYR_forecast csv files into separate dataframes\n",
    "syr_history = pd.read_csv(os.path.join(data_dir, 'SYR_history.csv'))\n",
    "syr_forecast = pd.read_csv(os.path.join(data_dir, 'SYR_forecast.csv'))\n",
    "\n",
    "# Add the 'destination_' prefix to all column names dataframe\n",
    "syr_history = syr_history.add_prefix('destination_')\n",
    "\n",
    "# Add the 'destination_' prefix to all column names dataframe\n",
    "syr_forecast = syr_forecast.add_prefix('destination_')\n",
    "\n",
    "# Concatenate the syr_history and syr_forecast dataframes into one\n",
    "all_destination_weather = pd.concat([syr_history, syr_forecast], ignore_index=True)"
   ],
   "metadata": {
    "collapsed": false
   }
  },
  {
   "cell_type": "markdown",
   "source": [
    "# Save both origin and destination files"
   ],
   "metadata": {
    "collapsed": false
   }
  },
  {
   "cell_type": "code",
   "execution_count": 8,
   "outputs": [],
   "source": [
    "all_origin_weather.to_csv(os.path.join('data', 'all_origin_weather.csv'), index=False)\n",
    "all_destination_weather.to_csv(os.path.join('data', 'all_destination_weather.csv'), index=False)"
   ],
   "metadata": {
    "collapsed": false
   }
  }
 ],
 "metadata": {
  "kernelspec": {
   "display_name": "Python 3",
   "language": "python",
   "name": "python3"
  },
  "language_info": {
   "codemirror_mode": {
    "name": "ipython",
    "version": 2
   },
   "file_extension": ".py",
   "mimetype": "text/x-python",
   "name": "python",
   "nbconvert_exporter": "python",
   "pygments_lexer": "ipython2",
   "version": "2.7.6"
  }
 },
 "nbformat": 4,
 "nbformat_minor": 0
}
