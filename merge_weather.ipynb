{
 "cells": [
  {
   "cell_type": "code",
   "execution_count": 7,
   "outputs": [],
   "source": [
    "import os\n",
    "import pandas as pd\n",
    "\n",
    "# Path to directory containing csv files\n",
    "data_dir = \"data/weather\""
   ],
   "metadata": {
    "collapsed": false
   }
  },
  {
   "cell_type": "code",
   "execution_count": 8,
   "outputs": [],
   "source": [
    "# Get a list of all csv files in the directory except for SYR.csv\n",
    "csv_files = [f for f in os.listdir(data_dir) if f.endswith('.csv') and f != 'SYR.csv']\n",
    "\n",
    "# Initialize an empty list to store the dataframes\n",
    "dfs = []"
   ],
   "metadata": {
    "collapsed": false
   }
  },
  {
   "cell_type": "code",
   "execution_count": 9,
   "metadata": {
    "collapsed": true
   },
   "outputs": [],
   "source": [
    "# Loop through each csv file, load it into a dataframe, and append it to the list\n",
    "for file in csv_files:\n",
    "    # Load the csv file into a dataframe\n",
    "    df = pd.read_csv(os.path.join(data_dir, file))\n",
    "\n",
    "    # Add a new column called \"Origin Airport\" and set the value to the filename without the extension\n",
    "    df['airport'] = os.path.splitext(file)[0]\n",
    "\n",
    "    # Append the dataframe to the list\n",
    "    dfs.append(df)\n",
    "\n",
    "# Concatenate all the dataframes into one\n",
    "merged_df = pd.concat(dfs, ignore_index=True)\n",
    "\n",
    "# Add the 'origin_' prefix to all column names dataframe\n",
    "merged_df = merged_df.add_prefix('origin_')\n",
    "\n",
    "# Save the merged dataframe to a csv file\n",
    "merged_df.to_csv(os.path.join('data', 'origin_weather.csv'), index=False)"
   ]
  },
  {
   "cell_type": "markdown",
   "source": [],
   "metadata": {
    "collapsed": false
   }
  },
  {
   "cell_type": "code",
   "execution_count": null,
   "outputs": [],
   "source": [],
   "metadata": {
    "collapsed": false
   }
  }
 ],
 "metadata": {
  "kernelspec": {
   "display_name": "Python 3",
   "language": "python",
   "name": "python3"
  },
  "language_info": {
   "codemirror_mode": {
    "name": "ipython",
    "version": 2
   },
   "file_extension": ".py",
   "mimetype": "text/x-python",
   "name": "python",
   "nbconvert_exporter": "python",
   "pygments_lexer": "ipython2",
   "version": "2.7.6"
  }
 },
 "nbformat": 4,
 "nbformat_minor": 0
}
