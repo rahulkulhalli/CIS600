{
 "cells": [
  {
   "cell_type": "code",
   "execution_count": 19,
   "outputs": [],
   "source": [
    "import pandas as pd\n",
    "import numpy as np\n",
    "import matplotlib.pyplot as plt\n",
    "\n",
    "from sklearn.model_selection import train_test_split, GridSearchCV\n",
    "from sklearn.preprocessing import MinMaxScaler\n",
    "from sklearn.ensemble import RandomForestClassifier\n",
    "from sklearn.utils import resample\n",
    "\n",
    "from IPython.core.interactiveshell import InteractiveShell\n",
    "\n",
    "pd.options.display.float_format = '{:,.2f}'.format\n",
    "InteractiveShell.ast_node_interactivity = \"all\""
   ],
   "metadata": {
    "collapsed": false
   }
  },
  {
   "cell_type": "markdown",
   "source": [
    "# Get data and pre-process"
   ],
   "metadata": {
    "collapsed": false
   }
  },
  {
   "cell_type": "code",
   "execution_count": 20,
   "metadata": {
    "collapsed": true
   },
   "outputs": [],
   "source": [
    "# Load the historical data into a pandas dataframe\n",
    "flight_data = pd.read_csv(\"data/flight_data.csv\", parse_dates=['Date (MM/DD/YYYY)'])\n",
    "origin_weather_data = pd.read_csv(\"data/origin_weather.csv\", parse_dates=['origin_time'])\n",
    "destination_weather_data = pd.read_csv(\"data/weather/SYR.csv\", parse_dates=['time'])\n",
    "\n",
    "# Categorize delays\n",
    "flight_data['Status'] = pd.cut(flight_data['Arrival Delay (Minutes)'],\n",
    "                               bins=[-np.inf, -10, 10, 30, np.inf],\n",
    "                               labels=['Early', 'On-time', 'Late', 'Severely Late']\n",
    "                               )\n",
    "\n",
    "# Drop unnecessary columns\n",
    "flight_data.drop(columns=[\n",
    "    'Flight Number',\n",
    "    'Tail Number',\n",
    "    'Scheduled Arrival Time',\n",
    "    'Scheduled Elapsed Time (Minutes)',\n",
    "    'Arrival Delay (Minutes)',\n",
    "    'Wheels-on Time',\n",
    "    'Taxi-In time (Minutes)',\n",
    "    'Delay Carrier (Minutes)',\n",
    "    'Delay Weather (Minutes)',\n",
    "    'Delay National Aviation System (Minutes)',\n",
    "    'Delay Security (Minutes)',\n",
    "    'Delay Late Aircraft Arrival (Minutes)'\n",
    "], inplace=True)\n",
    "\n",
    "# Handle missing values\n",
    "flight_data.dropna(inplace=True)"
   ]
  },
  {
   "cell_type": "markdown",
   "source": [
    "# Add Arrival Datetime"
   ],
   "metadata": {
    "collapsed": false
   }
  },
  {
   "cell_type": "code",
   "execution_count": 21,
   "outputs": [
    {
     "data": {
      "text/plain": "  Date (MM/DD/YYYY) Origin Airport Actual Arrival Time  \\\n0        1988-01-01            ORD               19:13   \n1        1988-01-01            ORD               22:41   \n2        1989-01-01            ORD               18:27   \n3        1989-01-01            ORD               20:55   \n4        1989-01-01            ORD                9:00   \n5        1989-01-01            ORD               23:37   \n6        1989-01-01            IAD               15:28   \n7        1989-01-01            IAD               23:39   \n8        1990-01-01            ORD               16:48   \n9        1990-01-01            ORD               22:51   \n\n   Actual Elapsed Time (Minutes)         Status    Arrival Datetime  \n0                             79          Early 1988-01-01 19:13:00  \n1                             95        On-time 1988-01-01 22:41:00  \n2                             89  Severely Late 1989-01-01 18:27:00  \n3                            113  Severely Late 1989-01-01 20:55:00  \n4                             96        On-time 1989-01-01 09:00:00  \n5                            110  Severely Late 1989-01-01 23:37:00  \n6                            120  Severely Late 1989-01-01 15:28:00  \n7                             91  Severely Late 1989-01-01 23:39:00  \n8                            120           Late 1990-01-01 16:48:00  \n9                            100        On-time 1990-01-01 22:51:00  ",
      "text/html": "<div>\n<style scoped>\n    .dataframe tbody tr th:only-of-type {\n        vertical-align: middle;\n    }\n\n    .dataframe tbody tr th {\n        vertical-align: top;\n    }\n\n    .dataframe thead th {\n        text-align: right;\n    }\n</style>\n<table border=\"1\" class=\"dataframe\">\n  <thead>\n    <tr style=\"text-align: right;\">\n      <th></th>\n      <th>Date (MM/DD/YYYY)</th>\n      <th>Origin Airport</th>\n      <th>Actual Arrival Time</th>\n      <th>Actual Elapsed Time (Minutes)</th>\n      <th>Status</th>\n      <th>Arrival Datetime</th>\n    </tr>\n  </thead>\n  <tbody>\n    <tr>\n      <th>0</th>\n      <td>1988-01-01</td>\n      <td>ORD</td>\n      <td>19:13</td>\n      <td>79</td>\n      <td>Early</td>\n      <td>1988-01-01 19:13:00</td>\n    </tr>\n    <tr>\n      <th>1</th>\n      <td>1988-01-01</td>\n      <td>ORD</td>\n      <td>22:41</td>\n      <td>95</td>\n      <td>On-time</td>\n      <td>1988-01-01 22:41:00</td>\n    </tr>\n    <tr>\n      <th>2</th>\n      <td>1989-01-01</td>\n      <td>ORD</td>\n      <td>18:27</td>\n      <td>89</td>\n      <td>Severely Late</td>\n      <td>1989-01-01 18:27:00</td>\n    </tr>\n    <tr>\n      <th>3</th>\n      <td>1989-01-01</td>\n      <td>ORD</td>\n      <td>20:55</td>\n      <td>113</td>\n      <td>Severely Late</td>\n      <td>1989-01-01 20:55:00</td>\n    </tr>\n    <tr>\n      <th>4</th>\n      <td>1989-01-01</td>\n      <td>ORD</td>\n      <td>9:00</td>\n      <td>96</td>\n      <td>On-time</td>\n      <td>1989-01-01 09:00:00</td>\n    </tr>\n    <tr>\n      <th>5</th>\n      <td>1989-01-01</td>\n      <td>ORD</td>\n      <td>23:37</td>\n      <td>110</td>\n      <td>Severely Late</td>\n      <td>1989-01-01 23:37:00</td>\n    </tr>\n    <tr>\n      <th>6</th>\n      <td>1989-01-01</td>\n      <td>IAD</td>\n      <td>15:28</td>\n      <td>120</td>\n      <td>Severely Late</td>\n      <td>1989-01-01 15:28:00</td>\n    </tr>\n    <tr>\n      <th>7</th>\n      <td>1989-01-01</td>\n      <td>IAD</td>\n      <td>23:39</td>\n      <td>91</td>\n      <td>Severely Late</td>\n      <td>1989-01-01 23:39:00</td>\n    </tr>\n    <tr>\n      <th>8</th>\n      <td>1990-01-01</td>\n      <td>ORD</td>\n      <td>16:48</td>\n      <td>120</td>\n      <td>Late</td>\n      <td>1990-01-01 16:48:00</td>\n    </tr>\n    <tr>\n      <th>9</th>\n      <td>1990-01-01</td>\n      <td>ORD</td>\n      <td>22:51</td>\n      <td>100</td>\n      <td>On-time</td>\n      <td>1990-01-01 22:51:00</td>\n    </tr>\n  </tbody>\n</table>\n</div>"
     },
     "execution_count": 21,
     "metadata": {},
     "output_type": "execute_result"
    }
   ],
   "source": [
    "# Create a boolean mask to identify rows with '24:00:00'\n",
    "mask_24 = flight_data['Actual Arrival Time'] == '24:00:00'\n",
    "\n",
    "# Replace '24:00:00' with '00:00:00'\n",
    "flight_data['Actual Arrival Time'] = flight_data['Actual Arrival Time'].replace('24:00:00', '00:00:00')\n",
    "\n",
    "# Combine date and time columns\n",
    "flight_data['Arrival Datetime'] = pd.to_datetime(\n",
    "    flight_data['Date (MM/DD/YYYY)'].astype(str) + ' ' + flight_data['Actual Arrival Time'])\n",
    "\n",
    "# Add a day to the date part when the original time value was '24:00:00'\n",
    "flight_data.loc[mask_24, 'Arrival Datetime'] = flight_data.loc[mask_24, 'Arrival Datetime'] + pd.Timedelta(days=1)\n",
    "\n",
    "# Show 10 rows of the dataframe\n",
    "flight_data.head(10)"
   ],
   "metadata": {
    "collapsed": false
   }
  },
  {
   "cell_type": "markdown",
   "source": [
    "# Add Departure Datetime"
   ],
   "metadata": {
    "collapsed": false
   }
  },
  {
   "cell_type": "code",
   "execution_count": 22,
   "outputs": [
    {
     "data": {
      "text/plain": "  Date (MM/DD/YYYY) Origin Airport Actual Arrival Time  \\\n0        1988-01-01            ORD               19:13   \n1        1988-01-01            ORD               22:41   \n2        1989-01-01            ORD               18:27   \n3        1989-01-01            ORD               20:55   \n4        1989-01-01            ORD                9:00   \n5        1989-01-01            ORD               23:37   \n6        1989-01-01            IAD               15:28   \n7        1989-01-01            IAD               23:39   \n8        1990-01-01            ORD               16:48   \n9        1990-01-01            ORD               22:51   \n\n   Actual Elapsed Time (Minutes)         Status    Arrival Datetime  \\\n0                             79          Early 1988-01-01 19:13:00   \n1                             95        On-time 1988-01-01 22:41:00   \n2                             89  Severely Late 1989-01-01 18:27:00   \n3                            113  Severely Late 1989-01-01 20:55:00   \n4                             96        On-time 1989-01-01 09:00:00   \n5                            110  Severely Late 1989-01-01 23:37:00   \n6                            120  Severely Late 1989-01-01 15:28:00   \n7                             91  Severely Late 1989-01-01 23:39:00   \n8                            120           Late 1990-01-01 16:48:00   \n9                            100        On-time 1990-01-01 22:51:00   \n\n  Actual Elapsed Time  Departure Datetime  \n0     0 days 01:19:00 1988-01-01 17:54:00  \n1     0 days 01:35:00 1988-01-01 21:06:00  \n2     0 days 01:29:00 1989-01-01 16:58:00  \n3     0 days 01:53:00 1989-01-01 19:02:00  \n4     0 days 01:36:00 1989-01-01 07:24:00  \n5     0 days 01:50:00 1989-01-01 21:47:00  \n6     0 days 02:00:00 1989-01-01 13:28:00  \n7     0 days 01:31:00 1989-01-01 22:08:00  \n8     0 days 02:00:00 1990-01-01 14:48:00  \n9     0 days 01:40:00 1990-01-01 21:11:00  ",
      "text/html": "<div>\n<style scoped>\n    .dataframe tbody tr th:only-of-type {\n        vertical-align: middle;\n    }\n\n    .dataframe tbody tr th {\n        vertical-align: top;\n    }\n\n    .dataframe thead th {\n        text-align: right;\n    }\n</style>\n<table border=\"1\" class=\"dataframe\">\n  <thead>\n    <tr style=\"text-align: right;\">\n      <th></th>\n      <th>Date (MM/DD/YYYY)</th>\n      <th>Origin Airport</th>\n      <th>Actual Arrival Time</th>\n      <th>Actual Elapsed Time (Minutes)</th>\n      <th>Status</th>\n      <th>Arrival Datetime</th>\n      <th>Actual Elapsed Time</th>\n      <th>Departure Datetime</th>\n    </tr>\n  </thead>\n  <tbody>\n    <tr>\n      <th>0</th>\n      <td>1988-01-01</td>\n      <td>ORD</td>\n      <td>19:13</td>\n      <td>79</td>\n      <td>Early</td>\n      <td>1988-01-01 19:13:00</td>\n      <td>0 days 01:19:00</td>\n      <td>1988-01-01 17:54:00</td>\n    </tr>\n    <tr>\n      <th>1</th>\n      <td>1988-01-01</td>\n      <td>ORD</td>\n      <td>22:41</td>\n      <td>95</td>\n      <td>On-time</td>\n      <td>1988-01-01 22:41:00</td>\n      <td>0 days 01:35:00</td>\n      <td>1988-01-01 21:06:00</td>\n    </tr>\n    <tr>\n      <th>2</th>\n      <td>1989-01-01</td>\n      <td>ORD</td>\n      <td>18:27</td>\n      <td>89</td>\n      <td>Severely Late</td>\n      <td>1989-01-01 18:27:00</td>\n      <td>0 days 01:29:00</td>\n      <td>1989-01-01 16:58:00</td>\n    </tr>\n    <tr>\n      <th>3</th>\n      <td>1989-01-01</td>\n      <td>ORD</td>\n      <td>20:55</td>\n      <td>113</td>\n      <td>Severely Late</td>\n      <td>1989-01-01 20:55:00</td>\n      <td>0 days 01:53:00</td>\n      <td>1989-01-01 19:02:00</td>\n    </tr>\n    <tr>\n      <th>4</th>\n      <td>1989-01-01</td>\n      <td>ORD</td>\n      <td>9:00</td>\n      <td>96</td>\n      <td>On-time</td>\n      <td>1989-01-01 09:00:00</td>\n      <td>0 days 01:36:00</td>\n      <td>1989-01-01 07:24:00</td>\n    </tr>\n    <tr>\n      <th>5</th>\n      <td>1989-01-01</td>\n      <td>ORD</td>\n      <td>23:37</td>\n      <td>110</td>\n      <td>Severely Late</td>\n      <td>1989-01-01 23:37:00</td>\n      <td>0 days 01:50:00</td>\n      <td>1989-01-01 21:47:00</td>\n    </tr>\n    <tr>\n      <th>6</th>\n      <td>1989-01-01</td>\n      <td>IAD</td>\n      <td>15:28</td>\n      <td>120</td>\n      <td>Severely Late</td>\n      <td>1989-01-01 15:28:00</td>\n      <td>0 days 02:00:00</td>\n      <td>1989-01-01 13:28:00</td>\n    </tr>\n    <tr>\n      <th>7</th>\n      <td>1989-01-01</td>\n      <td>IAD</td>\n      <td>23:39</td>\n      <td>91</td>\n      <td>Severely Late</td>\n      <td>1989-01-01 23:39:00</td>\n      <td>0 days 01:31:00</td>\n      <td>1989-01-01 22:08:00</td>\n    </tr>\n    <tr>\n      <th>8</th>\n      <td>1990-01-01</td>\n      <td>ORD</td>\n      <td>16:48</td>\n      <td>120</td>\n      <td>Late</td>\n      <td>1990-01-01 16:48:00</td>\n      <td>0 days 02:00:00</td>\n      <td>1990-01-01 14:48:00</td>\n    </tr>\n    <tr>\n      <th>9</th>\n      <td>1990-01-01</td>\n      <td>ORD</td>\n      <td>22:51</td>\n      <td>100</td>\n      <td>On-time</td>\n      <td>1990-01-01 22:51:00</td>\n      <td>0 days 01:40:00</td>\n      <td>1990-01-01 21:11:00</td>\n    </tr>\n  </tbody>\n</table>\n</div>"
     },
     "execution_count": 22,
     "metadata": {},
     "output_type": "execute_result"
    }
   ],
   "source": [
    "# Convert the 'Actual Elapsed Time (Minutes)' to a timedelta\n",
    "flight_data['Actual Elapsed Time'] = pd.to_timedelta(flight_data['Actual Elapsed Time (Minutes)'], unit='m')\n",
    "\n",
    "# Subtract the 'Actual Elapsed Time' from the 'Arrival Datetime' to create the 'Departure Datetime' column\n",
    "flight_data['Departure Datetime'] = flight_data['Arrival Datetime'] - flight_data['Actual Elapsed Time']\n",
    "\n",
    "# Show 10 rows of the dataframe\n",
    "flight_data.head(10)"
   ],
   "metadata": {
    "collapsed": false
   }
  },
  {
   "cell_type": "markdown",
   "source": [
    "# Cleanup Datetime columns"
   ],
   "metadata": {
    "collapsed": false
   }
  },
  {
   "cell_type": "code",
   "execution_count": 23,
   "outputs": [
    {
     "data": {
      "text/plain": "  Origin Airport  Actual Elapsed Time (Minutes)         Status  \\\n0            ORD                             79          Early   \n1            ORD                             95        On-time   \n2            ORD                             89  Severely Late   \n3            ORD                            113  Severely Late   \n4            ORD                             96        On-time   \n5            ORD                            110  Severely Late   \n6            IAD                            120  Severely Late   \n7            IAD                             91  Severely Late   \n8            ORD                            120           Late   \n9            ORD                            100        On-time   \n\n     Arrival Datetime  Departure Datetime  \n0 1988-01-01 19:00:00 1988-01-01 18:00:00  \n1 1988-01-01 23:00:00 1988-01-01 21:00:00  \n2 1989-01-01 18:00:00 1989-01-01 17:00:00  \n3 1989-01-01 21:00:00 1989-01-01 19:00:00  \n4 1989-01-01 09:00:00 1989-01-01 07:00:00  \n5 1989-01-02 00:00:00 1989-01-01 22:00:00  \n6 1989-01-01 15:00:00 1989-01-01 13:00:00  \n7 1989-01-02 00:00:00 1989-01-01 22:00:00  \n8 1990-01-01 17:00:00 1990-01-01 15:00:00  \n9 1990-01-01 23:00:00 1990-01-01 21:00:00  ",
      "text/html": "<div>\n<style scoped>\n    .dataframe tbody tr th:only-of-type {\n        vertical-align: middle;\n    }\n\n    .dataframe tbody tr th {\n        vertical-align: top;\n    }\n\n    .dataframe thead th {\n        text-align: right;\n    }\n</style>\n<table border=\"1\" class=\"dataframe\">\n  <thead>\n    <tr style=\"text-align: right;\">\n      <th></th>\n      <th>Origin Airport</th>\n      <th>Actual Elapsed Time (Minutes)</th>\n      <th>Status</th>\n      <th>Arrival Datetime</th>\n      <th>Departure Datetime</th>\n    </tr>\n  </thead>\n  <tbody>\n    <tr>\n      <th>0</th>\n      <td>ORD</td>\n      <td>79</td>\n      <td>Early</td>\n      <td>1988-01-01 19:00:00</td>\n      <td>1988-01-01 18:00:00</td>\n    </tr>\n    <tr>\n      <th>1</th>\n      <td>ORD</td>\n      <td>95</td>\n      <td>On-time</td>\n      <td>1988-01-01 23:00:00</td>\n      <td>1988-01-01 21:00:00</td>\n    </tr>\n    <tr>\n      <th>2</th>\n      <td>ORD</td>\n      <td>89</td>\n      <td>Severely Late</td>\n      <td>1989-01-01 18:00:00</td>\n      <td>1989-01-01 17:00:00</td>\n    </tr>\n    <tr>\n      <th>3</th>\n      <td>ORD</td>\n      <td>113</td>\n      <td>Severely Late</td>\n      <td>1989-01-01 21:00:00</td>\n      <td>1989-01-01 19:00:00</td>\n    </tr>\n    <tr>\n      <th>4</th>\n      <td>ORD</td>\n      <td>96</td>\n      <td>On-time</td>\n      <td>1989-01-01 09:00:00</td>\n      <td>1989-01-01 07:00:00</td>\n    </tr>\n    <tr>\n      <th>5</th>\n      <td>ORD</td>\n      <td>110</td>\n      <td>Severely Late</td>\n      <td>1989-01-02 00:00:00</td>\n      <td>1989-01-01 22:00:00</td>\n    </tr>\n    <tr>\n      <th>6</th>\n      <td>IAD</td>\n      <td>120</td>\n      <td>Severely Late</td>\n      <td>1989-01-01 15:00:00</td>\n      <td>1989-01-01 13:00:00</td>\n    </tr>\n    <tr>\n      <th>7</th>\n      <td>IAD</td>\n      <td>91</td>\n      <td>Severely Late</td>\n      <td>1989-01-02 00:00:00</td>\n      <td>1989-01-01 22:00:00</td>\n    </tr>\n    <tr>\n      <th>8</th>\n      <td>ORD</td>\n      <td>120</td>\n      <td>Late</td>\n      <td>1990-01-01 17:00:00</td>\n      <td>1990-01-01 15:00:00</td>\n    </tr>\n    <tr>\n      <th>9</th>\n      <td>ORD</td>\n      <td>100</td>\n      <td>On-time</td>\n      <td>1990-01-01 23:00:00</td>\n      <td>1990-01-01 21:00:00</td>\n    </tr>\n  </tbody>\n</table>\n</div>"
     },
     "execution_count": 23,
     "metadata": {},
     "output_type": "execute_result"
    }
   ],
   "source": [
    "# Drop more unnecessary date columns\n",
    "flight_data.drop(columns=[\n",
    "    'Date (MM/DD/YYYY)',\n",
    "    'Actual Arrival Time',\n",
    "    'Actual Elapsed Time'\n",
    "], inplace=True)\n",
    "\n",
    "# Round to the nearest hour for the weather data\n",
    "flight_data['Arrival Datetime'] = flight_data['Arrival Datetime'].dt.round(\"H\")\n",
    "flight_data['Departure Datetime'] = flight_data['Departure Datetime'].dt.round(\"H\")\n",
    "\n",
    "# Show 10 rows of the dataframe\n",
    "flight_data.head(10)"
   ],
   "metadata": {
    "collapsed": false
   }
  },
  {
   "cell_type": "markdown",
   "source": [
    "# Get Date Ranges for Weather Data"
   ],
   "metadata": {
    "collapsed": false
   }
  },
  {
   "cell_type": "code",
   "execution_count": 24,
   "outputs": [
    {
     "name": "stdout",
     "output_type": "stream",
     "text": [
      "Origin Airport: DEN\n",
      "Date Range: 2022-02-11 12:00 - 2023-01-31 12:00\n",
      "\n",
      "Origin Airport: EWR\n",
      "Date Range: 2019-11-30 22:00 - 2023-01-31 22:00\n",
      "\n",
      "Origin Airport: IAD\n",
      "Date Range: 1988-06-09 20:00 - 2023-01-02 22:00\n",
      "\n",
      "Origin Airport: ORD\n",
      "Date Range: 1987-10-01 08:00 - 2023-01-31 19:00\n",
      "\n",
      "Overall Date Range: 1987-10-01 08:00 - 2023-01-31 22:00\n"
     ]
    }
   ],
   "source": [
    "# Group flight_data by 'Origin Airport' and aggregate the min and max 'Departure Datetime' for each group\n",
    "date_ranges = flight_data.groupby('Origin Airport')['Departure Datetime'].agg(['min', 'max'])\n",
    "\n",
    "# Print the 'Origin Airport' and the date range for each group\n",
    "for index, row in date_ranges.iterrows():\n",
    "    print(f\"Origin Airport: {index}\")\n",
    "    print(f\"Date Range: {row['min'].strftime('%Y-%m-%d %H:%M')} - {row['max'].strftime('%Y-%m-%d %H:%M')}\\n\")\n",
    "\n",
    "min_departure = flight_data['Departure Datetime'].min()\n",
    "max_departure = flight_data['Departure Datetime'].max()\n",
    "\n",
    "print(\n",
    "    f\"Overall Date Range: {min_departure.strftime('%Y-%m-%d %H:%M')} - {max_departure.strftime('%Y-%m-%d %H:%M')}\")"
   ],
   "metadata": {
    "collapsed": false
   }
  },
  {
   "cell_type": "markdown",
   "source": [
    "# Join Flight Data with Origin Weather Data"
   ],
   "metadata": {
    "collapsed": false
   }
  },
  {
   "cell_type": "code",
   "execution_count": 25,
   "outputs": [
    {
     "data": {
      "text/plain": "  Origin Airport  Actual Elapsed Time (Minutes)         Status  \\\n0            ORD                             79          Early   \n1            ORD                             95        On-time   \n2            ORD                             89  Severely Late   \n3            ORD                            113  Severely Late   \n4            ORD                             96        On-time   \n5            ORD                            110  Severely Late   \n6            IAD                            120  Severely Late   \n7            IAD                             91  Severely Late   \n8            ORD                            120           Late   \n9            ORD                            100        On-time   \n\n     Arrival Datetime  origin_temperature_2m (°C)  \\\n0 1988-01-01 19:00:00                      -15.30   \n1 1988-01-01 23:00:00                      -16.30   \n2 1989-01-01 18:00:00                        0.50   \n3 1989-01-01 21:00:00                       -1.70   \n4 1989-01-01 09:00:00                       -6.00   \n5 1989-01-02 00:00:00                       -2.70   \n6 1989-01-01 15:00:00                        1.20   \n7 1989-01-02 00:00:00                        1.20   \n8 1990-01-01 17:00:00                       -2.00   \n9 1990-01-01 23:00:00                       -3.00   \n\n   origin_relativehumidity_2m (%)  origin_dewpoint_2m (°C)  \\\n0                              71                   -19.30   \n1                              72                   -20.10   \n2                              73                    -3.80   \n3                              82                    -4.30   \n4                              94                    -6.90   \n5                              85                    -4.80   \n6                              99                     1.10   \n7                              99                     1.00   \n8                              68                    -7.10   \n9                              71                    -7.40   \n\n   origin_apparent_temperature (°C)  origin_pressure_msl (hPa)  \\\n0                            -21.90                   1,034.90   \n1                            -22.80                   1,035.40   \n2                             -4.40                   1,016.20   \n3                             -6.90                   1,016.20   \n4                            -10.00                   1,018.90   \n5                             -8.10                   1,016.00   \n6                             -2.10                   1,020.80   \n7                             -1.20                   1,020.60   \n8                             -7.30                   1,024.20   \n9                             -8.40                   1,024.30   \n\n   origin_surface_pressure (hPa)  ...  origin_cloudcover_low (%)  \\\n0                       1,007.50  ...                          0   \n1                       1,007.90  ...                          0   \n2                         990.80  ...                          0   \n3                         990.60  ...                          6   \n4                         992.90  ...                         13   \n5                         990.30  ...                         79   \n6                       1,009.20  ...                        100   \n7                       1,009.00  ...                        100   \n8                         998.40  ...                        100   \n9                         998.40  ...                         35   \n\n   origin_cloudcover_mid (%)  origin_cloudcover_high (%)  \\\n0                          0                           0   \n1                          0                           0   \n2                          0                           5   \n3                          0                           5   \n4                          0                           0   \n5                          0                          61   \n6                         88                           0   \n7                         16                           0   \n8                          0                           0   \n9                          0                           0   \n\n   origin_windspeed_10m (km/h)  origin_windspeed_100m (km/h)  \\\n0                        19.60                         32.00   \n1                        18.50                         33.50   \n2                        15.60                         23.10   \n3                        17.10                         32.10   \n4                         6.90                         11.60   \n5                        18.20                         32.50   \n6                         9.10                         14.80   \n7                         2.40                          4.80   \n8                        15.60                         21.40   \n9                        16.70                         28.40   \n\n   origin_winddirection_10m (°)  origin_winddirection_100m (°)  \\\n0                           253                            255   \n1                           263                            266   \n2                           214                            214   \n3                           221                            224   \n4                           186                            175   \n5                           240                            244   \n6                            83                             86   \n7                           333                             13   \n8                           263                            263   \n9                           217                            219   \n\n   origin_windgusts_10m (km/h)  origin_et0_fao_evapotranspiration (mm)  \\\n0                        39.20                                    0.02   \n1                        33.50                                    0.01   \n2                        30.20                                    0.07   \n3                        28.80                                    0.02   \n4                        10.80                                    0.00   \n5                        32.80                                    0.01   \n6                        23.00                                    0.03   \n7                         9.00                                    0.00   \n8                        33.10                                    0.07   \n9                        29.50                                    0.02   \n\n   origin_vapor_pressure_deficit (kPa)  \n0                                 0.05  \n1                                 0.05  \n2                                 0.17  \n3                                 0.10  \n4                                 0.02  \n5                                 0.07  \n6                                 0.01  \n7                                 0.01  \n8                                 0.17  \n9                                 0.14  \n\n[10 rows x 24 columns]",
      "text/html": "<div>\n<style scoped>\n    .dataframe tbody tr th:only-of-type {\n        vertical-align: middle;\n    }\n\n    .dataframe tbody tr th {\n        vertical-align: top;\n    }\n\n    .dataframe thead th {\n        text-align: right;\n    }\n</style>\n<table border=\"1\" class=\"dataframe\">\n  <thead>\n    <tr style=\"text-align: right;\">\n      <th></th>\n      <th>Origin Airport</th>\n      <th>Actual Elapsed Time (Minutes)</th>\n      <th>Status</th>\n      <th>Arrival Datetime</th>\n      <th>origin_temperature_2m (°C)</th>\n      <th>origin_relativehumidity_2m (%)</th>\n      <th>origin_dewpoint_2m (°C)</th>\n      <th>origin_apparent_temperature (°C)</th>\n      <th>origin_pressure_msl (hPa)</th>\n      <th>origin_surface_pressure (hPa)</th>\n      <th>...</th>\n      <th>origin_cloudcover_low (%)</th>\n      <th>origin_cloudcover_mid (%)</th>\n      <th>origin_cloudcover_high (%)</th>\n      <th>origin_windspeed_10m (km/h)</th>\n      <th>origin_windspeed_100m (km/h)</th>\n      <th>origin_winddirection_10m (°)</th>\n      <th>origin_winddirection_100m (°)</th>\n      <th>origin_windgusts_10m (km/h)</th>\n      <th>origin_et0_fao_evapotranspiration (mm)</th>\n      <th>origin_vapor_pressure_deficit (kPa)</th>\n    </tr>\n  </thead>\n  <tbody>\n    <tr>\n      <th>0</th>\n      <td>ORD</td>\n      <td>79</td>\n      <td>Early</td>\n      <td>1988-01-01 19:00:00</td>\n      <td>-15.30</td>\n      <td>71</td>\n      <td>-19.30</td>\n      <td>-21.90</td>\n      <td>1,034.90</td>\n      <td>1,007.50</td>\n      <td>...</td>\n      <td>0</td>\n      <td>0</td>\n      <td>0</td>\n      <td>19.60</td>\n      <td>32.00</td>\n      <td>253</td>\n      <td>255</td>\n      <td>39.20</td>\n      <td>0.02</td>\n      <td>0.05</td>\n    </tr>\n    <tr>\n      <th>1</th>\n      <td>ORD</td>\n      <td>95</td>\n      <td>On-time</td>\n      <td>1988-01-01 23:00:00</td>\n      <td>-16.30</td>\n      <td>72</td>\n      <td>-20.10</td>\n      <td>-22.80</td>\n      <td>1,035.40</td>\n      <td>1,007.90</td>\n      <td>...</td>\n      <td>0</td>\n      <td>0</td>\n      <td>0</td>\n      <td>18.50</td>\n      <td>33.50</td>\n      <td>263</td>\n      <td>266</td>\n      <td>33.50</td>\n      <td>0.01</td>\n      <td>0.05</td>\n    </tr>\n    <tr>\n      <th>2</th>\n      <td>ORD</td>\n      <td>89</td>\n      <td>Severely Late</td>\n      <td>1989-01-01 18:00:00</td>\n      <td>0.50</td>\n      <td>73</td>\n      <td>-3.80</td>\n      <td>-4.40</td>\n      <td>1,016.20</td>\n      <td>990.80</td>\n      <td>...</td>\n      <td>0</td>\n      <td>0</td>\n      <td>5</td>\n      <td>15.60</td>\n      <td>23.10</td>\n      <td>214</td>\n      <td>214</td>\n      <td>30.20</td>\n      <td>0.07</td>\n      <td>0.17</td>\n    </tr>\n    <tr>\n      <th>3</th>\n      <td>ORD</td>\n      <td>113</td>\n      <td>Severely Late</td>\n      <td>1989-01-01 21:00:00</td>\n      <td>-1.70</td>\n      <td>82</td>\n      <td>-4.30</td>\n      <td>-6.90</td>\n      <td>1,016.20</td>\n      <td>990.60</td>\n      <td>...</td>\n      <td>6</td>\n      <td>0</td>\n      <td>5</td>\n      <td>17.10</td>\n      <td>32.10</td>\n      <td>221</td>\n      <td>224</td>\n      <td>28.80</td>\n      <td>0.02</td>\n      <td>0.10</td>\n    </tr>\n    <tr>\n      <th>4</th>\n      <td>ORD</td>\n      <td>96</td>\n      <td>On-time</td>\n      <td>1989-01-01 09:00:00</td>\n      <td>-6.00</td>\n      <td>94</td>\n      <td>-6.90</td>\n      <td>-10.00</td>\n      <td>1,018.90</td>\n      <td>992.90</td>\n      <td>...</td>\n      <td>13</td>\n      <td>0</td>\n      <td>0</td>\n      <td>6.90</td>\n      <td>11.60</td>\n      <td>186</td>\n      <td>175</td>\n      <td>10.80</td>\n      <td>0.00</td>\n      <td>0.02</td>\n    </tr>\n    <tr>\n      <th>5</th>\n      <td>ORD</td>\n      <td>110</td>\n      <td>Severely Late</td>\n      <td>1989-01-02 00:00:00</td>\n      <td>-2.70</td>\n      <td>85</td>\n      <td>-4.80</td>\n      <td>-8.10</td>\n      <td>1,016.00</td>\n      <td>990.30</td>\n      <td>...</td>\n      <td>79</td>\n      <td>0</td>\n      <td>61</td>\n      <td>18.20</td>\n      <td>32.50</td>\n      <td>240</td>\n      <td>244</td>\n      <td>32.80</td>\n      <td>0.01</td>\n      <td>0.07</td>\n    </tr>\n    <tr>\n      <th>6</th>\n      <td>IAD</td>\n      <td>120</td>\n      <td>Severely Late</td>\n      <td>1989-01-01 15:00:00</td>\n      <td>1.20</td>\n      <td>99</td>\n      <td>1.10</td>\n      <td>-2.10</td>\n      <td>1,020.80</td>\n      <td>1,009.20</td>\n      <td>...</td>\n      <td>100</td>\n      <td>88</td>\n      <td>0</td>\n      <td>9.10</td>\n      <td>14.80</td>\n      <td>83</td>\n      <td>86</td>\n      <td>23.00</td>\n      <td>0.03</td>\n      <td>0.01</td>\n    </tr>\n    <tr>\n      <th>7</th>\n      <td>IAD</td>\n      <td>91</td>\n      <td>Severely Late</td>\n      <td>1989-01-02 00:00:00</td>\n      <td>1.20</td>\n      <td>99</td>\n      <td>1.00</td>\n      <td>-1.20</td>\n      <td>1,020.60</td>\n      <td>1,009.00</td>\n      <td>...</td>\n      <td>100</td>\n      <td>16</td>\n      <td>0</td>\n      <td>2.40</td>\n      <td>4.80</td>\n      <td>333</td>\n      <td>13</td>\n      <td>9.00</td>\n      <td>0.00</td>\n      <td>0.01</td>\n    </tr>\n    <tr>\n      <th>8</th>\n      <td>ORD</td>\n      <td>120</td>\n      <td>Late</td>\n      <td>1990-01-01 17:00:00</td>\n      <td>-2.00</td>\n      <td>68</td>\n      <td>-7.10</td>\n      <td>-7.30</td>\n      <td>1,024.20</td>\n      <td>998.40</td>\n      <td>...</td>\n      <td>100</td>\n      <td>0</td>\n      <td>0</td>\n      <td>15.60</td>\n      <td>21.40</td>\n      <td>263</td>\n      <td>263</td>\n      <td>33.10</td>\n      <td>0.07</td>\n      <td>0.17</td>\n    </tr>\n    <tr>\n      <th>9</th>\n      <td>ORD</td>\n      <td>100</td>\n      <td>On-time</td>\n      <td>1990-01-01 23:00:00</td>\n      <td>-3.00</td>\n      <td>71</td>\n      <td>-7.40</td>\n      <td>-8.40</td>\n      <td>1,024.30</td>\n      <td>998.40</td>\n      <td>...</td>\n      <td>35</td>\n      <td>0</td>\n      <td>0</td>\n      <td>16.70</td>\n      <td>28.40</td>\n      <td>217</td>\n      <td>219</td>\n      <td>29.50</td>\n      <td>0.02</td>\n      <td>0.14</td>\n    </tr>\n  </tbody>\n</table>\n<p>10 rows × 24 columns</p>\n</div>"
     },
     "execution_count": 25,
     "metadata": {},
     "output_type": "execute_result"
    }
   ],
   "source": [
    "# Merge the flight_data and origin_weather_data dataframes on 'Departure Datetime' and 'Origin Airport' columns using a left join\n",
    "merged_data = pd.merge(flight_data, origin_weather_data, left_on=['Departure Datetime', 'Origin Airport'],\n",
    "                       right_on=['origin_time', 'origin_airport'], how='left')\n",
    "\n",
    "# Drop more unnecessary date columns\n",
    "merged_data.drop(columns=[\n",
    "    'Departure Datetime',\n",
    "    'origin_time',\n",
    "    'origin_airport'\n",
    "], inplace=True)\n",
    "\n",
    "# Show 10 rows of the dataframe\n",
    "merged_data.head(10)"
   ],
   "metadata": {
    "collapsed": false
   }
  },
  {
   "cell_type": "markdown",
   "source": [
    "# Join Flight Data with Destination Weather Data"
   ],
   "metadata": {
    "collapsed": false
   }
  },
  {
   "cell_type": "code",
   "execution_count": 26,
   "outputs": [
    {
     "data": {
      "text/plain": "  Origin Airport  Actual Elapsed Time (Minutes)         Status  \\\n0            ORD                             79          Early   \n1            ORD                             95        On-time   \n2            ORD                             89  Severely Late   \n3            ORD                            113  Severely Late   \n4            ORD                             96        On-time   \n5            ORD                            110  Severely Late   \n6            IAD                            120  Severely Late   \n7            IAD                             91  Severely Late   \n8            ORD                            120           Late   \n9            ORD                            100        On-time   \n\n   origin_temperature_2m (°C)  origin_relativehumidity_2m (%)  \\\n0                      -15.30                              71   \n1                      -16.30                              72   \n2                        0.50                              73   \n3                       -1.70                              82   \n4                       -6.00                              94   \n5                       -2.70                              85   \n6                        1.20                              99   \n7                        1.20                              99   \n8                       -2.00                              68   \n9                       -3.00                              71   \n\n   origin_dewpoint_2m (°C)  origin_apparent_temperature (°C)  \\\n0                   -19.30                            -21.90   \n1                   -20.10                            -22.80   \n2                    -3.80                             -4.40   \n3                    -4.30                             -6.90   \n4                    -6.90                            -10.00   \n5                    -4.80                             -8.10   \n6                     1.10                             -2.10   \n7                     1.00                             -1.20   \n8                    -7.10                             -7.30   \n9                    -7.40                             -8.40   \n\n   origin_pressure_msl (hPa)  origin_surface_pressure (hPa)  \\\n0                   1,034.90                       1,007.50   \n1                   1,035.40                       1,007.90   \n2                   1,016.20                         990.80   \n3                   1,016.20                         990.60   \n4                   1,018.90                         992.90   \n5                   1,016.00                         990.30   \n6                   1,020.80                       1,009.20   \n7                   1,020.60                       1,009.00   \n8                   1,024.20                         998.40   \n9                   1,024.30                         998.40   \n\n   origin_precipitation (mm)  ...  destination_cloudcover_low (%)  \\\n0                       0.00  ...                              79   \n1                       0.00  ...                              89   \n2                       0.00  ...                              42   \n3                       0.00  ...                              85   \n4                       0.00  ...                               8   \n5                       0.00  ...                              71   \n6                       1.20  ...                              17   \n7                       0.00  ...                              71   \n8                       0.00  ...                              83   \n9                       0.00  ...                              88   \n\n   destination_cloudcover_mid (%)  destination_cloudcover_high (%)  \\\n0                               9                                0   \n1                              16                                0   \n2                              24                                0   \n3                              21                               63   \n4                              45                               11   \n5                               4                               94   \n6                               2                                0   \n7                               4                               94   \n8                              20                                0   \n9                               0                                0   \n\n   destination_windspeed_10m (km/h)  destination_windspeed_100m (km/h)  \\\n0                             15.40                              25.90   \n1                             17.20                              29.10   \n2                              9.70                              20.10   \n3                             14.90                              27.40   \n4                             10.00                              21.90   \n5                             15.80                              28.90   \n6                             10.60                              16.50   \n7                             15.80                              28.90   \n8                             21.60                              36.10   \n9                             16.30                              28.20   \n\n   destination_winddirection_10m (°)  destination_winddirection_100m (°)  \\\n0                                254                                 256   \n1                                259                                 262   \n2                                141                                 153   \n3                                173                                 178   \n4                                120                                 131   \n5                                180                                 184   \n6                                145                                 148   \n7                                180                                 184   \n8                                294                                 295   \n9                                298                                 300   \n\n   destination_windgusts_10m (km/h)  \\\n0                             31.70   \n1                             38.90   \n2                             21.20   \n3                             31.30   \n4                             18.40   \n5                             34.20   \n6                             24.10   \n7                             34.20   \n8                             51.50   \n9                             37.80   \n\n   destination_et0_fao_evapotranspiration (mm)  \\\n0                                         0.02   \n1                                         0.02   \n2                                         0.01   \n3                                         0.01   \n4                                         0.00   \n5                                         0.01   \n6                                         0.11   \n7                                         0.01   \n8                                         0.03   \n9                                         0.01   \n\n   destination_vapor_pressure_deficit (kPa)  \n0                                      0.16  \n1                                      0.16  \n2                                      0.12  \n3                                      0.14  \n4                                      0.03  \n5                                      0.12  \n6                                      0.25  \n7                                      0.12  \n8                                      0.12  \n9                                      0.08  \n\n[10 rows x 43 columns]",
      "text/html": "<div>\n<style scoped>\n    .dataframe tbody tr th:only-of-type {\n        vertical-align: middle;\n    }\n\n    .dataframe tbody tr th {\n        vertical-align: top;\n    }\n\n    .dataframe thead th {\n        text-align: right;\n    }\n</style>\n<table border=\"1\" class=\"dataframe\">\n  <thead>\n    <tr style=\"text-align: right;\">\n      <th></th>\n      <th>Origin Airport</th>\n      <th>Actual Elapsed Time (Minutes)</th>\n      <th>Status</th>\n      <th>origin_temperature_2m (°C)</th>\n      <th>origin_relativehumidity_2m (%)</th>\n      <th>origin_dewpoint_2m (°C)</th>\n      <th>origin_apparent_temperature (°C)</th>\n      <th>origin_pressure_msl (hPa)</th>\n      <th>origin_surface_pressure (hPa)</th>\n      <th>origin_precipitation (mm)</th>\n      <th>...</th>\n      <th>destination_cloudcover_low (%)</th>\n      <th>destination_cloudcover_mid (%)</th>\n      <th>destination_cloudcover_high (%)</th>\n      <th>destination_windspeed_10m (km/h)</th>\n      <th>destination_windspeed_100m (km/h)</th>\n      <th>destination_winddirection_10m (°)</th>\n      <th>destination_winddirection_100m (°)</th>\n      <th>destination_windgusts_10m (km/h)</th>\n      <th>destination_et0_fao_evapotranspiration (mm)</th>\n      <th>destination_vapor_pressure_deficit (kPa)</th>\n    </tr>\n  </thead>\n  <tbody>\n    <tr>\n      <th>0</th>\n      <td>ORD</td>\n      <td>79</td>\n      <td>Early</td>\n      <td>-15.30</td>\n      <td>71</td>\n      <td>-19.30</td>\n      <td>-21.90</td>\n      <td>1,034.90</td>\n      <td>1,007.50</td>\n      <td>0.00</td>\n      <td>...</td>\n      <td>79</td>\n      <td>9</td>\n      <td>0</td>\n      <td>15.40</td>\n      <td>25.90</td>\n      <td>254</td>\n      <td>256</td>\n      <td>31.70</td>\n      <td>0.02</td>\n      <td>0.16</td>\n    </tr>\n    <tr>\n      <th>1</th>\n      <td>ORD</td>\n      <td>95</td>\n      <td>On-time</td>\n      <td>-16.30</td>\n      <td>72</td>\n      <td>-20.10</td>\n      <td>-22.80</td>\n      <td>1,035.40</td>\n      <td>1,007.90</td>\n      <td>0.00</td>\n      <td>...</td>\n      <td>89</td>\n      <td>16</td>\n      <td>0</td>\n      <td>17.20</td>\n      <td>29.10</td>\n      <td>259</td>\n      <td>262</td>\n      <td>38.90</td>\n      <td>0.02</td>\n      <td>0.16</td>\n    </tr>\n    <tr>\n      <th>2</th>\n      <td>ORD</td>\n      <td>89</td>\n      <td>Severely Late</td>\n      <td>0.50</td>\n      <td>73</td>\n      <td>-3.80</td>\n      <td>-4.40</td>\n      <td>1,016.20</td>\n      <td>990.80</td>\n      <td>0.00</td>\n      <td>...</td>\n      <td>42</td>\n      <td>24</td>\n      <td>0</td>\n      <td>9.70</td>\n      <td>20.10</td>\n      <td>141</td>\n      <td>153</td>\n      <td>21.20</td>\n      <td>0.01</td>\n      <td>0.12</td>\n    </tr>\n    <tr>\n      <th>3</th>\n      <td>ORD</td>\n      <td>113</td>\n      <td>Severely Late</td>\n      <td>-1.70</td>\n      <td>82</td>\n      <td>-4.30</td>\n      <td>-6.90</td>\n      <td>1,016.20</td>\n      <td>990.60</td>\n      <td>0.00</td>\n      <td>...</td>\n      <td>85</td>\n      <td>21</td>\n      <td>63</td>\n      <td>14.90</td>\n      <td>27.40</td>\n      <td>173</td>\n      <td>178</td>\n      <td>31.30</td>\n      <td>0.01</td>\n      <td>0.14</td>\n    </tr>\n    <tr>\n      <th>4</th>\n      <td>ORD</td>\n      <td>96</td>\n      <td>On-time</td>\n      <td>-6.00</td>\n      <td>94</td>\n      <td>-6.90</td>\n      <td>-10.00</td>\n      <td>1,018.90</td>\n      <td>992.90</td>\n      <td>0.00</td>\n      <td>...</td>\n      <td>8</td>\n      <td>45</td>\n      <td>11</td>\n      <td>10.00</td>\n      <td>21.90</td>\n      <td>120</td>\n      <td>131</td>\n      <td>18.40</td>\n      <td>0.00</td>\n      <td>0.03</td>\n    </tr>\n    <tr>\n      <th>5</th>\n      <td>ORD</td>\n      <td>110</td>\n      <td>Severely Late</td>\n      <td>-2.70</td>\n      <td>85</td>\n      <td>-4.80</td>\n      <td>-8.10</td>\n      <td>1,016.00</td>\n      <td>990.30</td>\n      <td>0.00</td>\n      <td>...</td>\n      <td>71</td>\n      <td>4</td>\n      <td>94</td>\n      <td>15.80</td>\n      <td>28.90</td>\n      <td>180</td>\n      <td>184</td>\n      <td>34.20</td>\n      <td>0.01</td>\n      <td>0.12</td>\n    </tr>\n    <tr>\n      <th>6</th>\n      <td>IAD</td>\n      <td>120</td>\n      <td>Severely Late</td>\n      <td>1.20</td>\n      <td>99</td>\n      <td>1.10</td>\n      <td>-2.10</td>\n      <td>1,020.80</td>\n      <td>1,009.20</td>\n      <td>1.20</td>\n      <td>...</td>\n      <td>17</td>\n      <td>2</td>\n      <td>0</td>\n      <td>10.60</td>\n      <td>16.50</td>\n      <td>145</td>\n      <td>148</td>\n      <td>24.10</td>\n      <td>0.11</td>\n      <td>0.25</td>\n    </tr>\n    <tr>\n      <th>7</th>\n      <td>IAD</td>\n      <td>91</td>\n      <td>Severely Late</td>\n      <td>1.20</td>\n      <td>99</td>\n      <td>1.00</td>\n      <td>-1.20</td>\n      <td>1,020.60</td>\n      <td>1,009.00</td>\n      <td>0.00</td>\n      <td>...</td>\n      <td>71</td>\n      <td>4</td>\n      <td>94</td>\n      <td>15.80</td>\n      <td>28.90</td>\n      <td>180</td>\n      <td>184</td>\n      <td>34.20</td>\n      <td>0.01</td>\n      <td>0.12</td>\n    </tr>\n    <tr>\n      <th>8</th>\n      <td>ORD</td>\n      <td>120</td>\n      <td>Late</td>\n      <td>-2.00</td>\n      <td>68</td>\n      <td>-7.10</td>\n      <td>-7.30</td>\n      <td>1,024.20</td>\n      <td>998.40</td>\n      <td>0.00</td>\n      <td>...</td>\n      <td>83</td>\n      <td>20</td>\n      <td>0</td>\n      <td>21.60</td>\n      <td>36.10</td>\n      <td>294</td>\n      <td>295</td>\n      <td>51.50</td>\n      <td>0.03</td>\n      <td>0.12</td>\n    </tr>\n    <tr>\n      <th>9</th>\n      <td>ORD</td>\n      <td>100</td>\n      <td>On-time</td>\n      <td>-3.00</td>\n      <td>71</td>\n      <td>-7.40</td>\n      <td>-8.40</td>\n      <td>1,024.30</td>\n      <td>998.40</td>\n      <td>0.00</td>\n      <td>...</td>\n      <td>88</td>\n      <td>0</td>\n      <td>0</td>\n      <td>16.30</td>\n      <td>28.20</td>\n      <td>298</td>\n      <td>300</td>\n      <td>37.80</td>\n      <td>0.01</td>\n      <td>0.08</td>\n    </tr>\n  </tbody>\n</table>\n<p>10 rows × 43 columns</p>\n</div>"
     },
     "execution_count": 26,
     "metadata": {},
     "output_type": "execute_result"
    }
   ],
   "source": [
    "# First, add the 'destination_' prefix to all column names in the destination_weather_data dataframe\n",
    "destination_weather_data = destination_weather_data.add_prefix('destination_')\n",
    "\n",
    "# Merge the merged_data and destination_weather_data dataframes on 'Arrival Datetime', 'time' and 'Origin Airport' columns using a left join\n",
    "data = pd.merge(merged_data, destination_weather_data, left_on='Arrival Datetime', right_on='destination_time',\n",
    "                how='left')\n",
    "\n",
    "# Drop more unnecessary date columns\n",
    "data.drop(columns=[\n",
    "    'Arrival Datetime',\n",
    "    'destination_time',\n",
    "], inplace=True)\n",
    "\n",
    "# Show 10 rows of the dataframe\n",
    "data.head(10)"
   ],
   "metadata": {
    "collapsed": false
   }
  },
  {
   "cell_type": "markdown",
   "source": [
    "# Undersample data"
   ],
   "metadata": {
    "collapsed": false
   }
  },
  {
   "cell_type": "code",
   "execution_count": 27,
   "outputs": [],
   "source": [
    "on_time = data[data['Status'] == 'On-time']\n",
    "early = data[data['Status'] == 'Early']\n",
    "late = data[data['Status'] == 'Late']\n",
    "severely_late = data[data['Status'] == 'Severely Late']\n",
    "\n",
    "on_time_downsampled = resample(on_time, replace=False, n_samples=len(early), random_state=42)\n",
    "\n",
    "data = pd.concat([on_time_downsampled, early, late, severely_late])"
   ],
   "metadata": {
    "collapsed": false
   }
  },
  {
   "cell_type": "markdown",
   "source": [
    "# Check Data"
   ],
   "metadata": {
    "collapsed": false
   }
  },
  {
   "cell_type": "code",
   "execution_count": 28,
   "outputs": [
    {
     "data": {
      "text/plain": "<AxesSubplot:>"
     },
     "execution_count": 28,
     "metadata": {},
     "output_type": "execute_result"
    },
    {
     "data": {
      "text/plain": "<Figure size 800x600 with 1 Axes>",
      "image/png": "[encoded data removed]"
     },
     "metadata": {},
     "output_type": "display_data"
    },
    {
     "name": "stdout",
     "output_type": "stream",
     "text": [
      "Length of flight data:  20352\n",
      "Length of merged data:  12275\n",
      "Total NaN values:  0\n"
     ]
    }
   ],
   "source": [
    "fig, ax = plt.subplots(figsize=(8, 6))\n",
    "data['Status'].hist(ax=ax)\n",
    "plt.show()\n",
    "\n",
    "print(\"Length of flight data: \", len(flight_data))\n",
    "print(\"Length of merged data: \", len(data))\n",
    "print(\"Total NaN values: \", data.isna().sum().sum())"
   ],
   "metadata": {
    "collapsed": false
   }
  },
  {
   "cell_type": "markdown",
   "source": [
    "# One Hot Encoding"
   ],
   "metadata": {
    "collapsed": false
   }
  },
  {
   "cell_type": "code",
   "execution_count": 29,
   "outputs": [],
   "source": [
    "# One-hot encode categorical variables\n",
    "data = pd.get_dummies(data, columns=['Origin Airport'])"
   ],
   "metadata": {
    "collapsed": false
   }
  },
  {
   "cell_type": "markdown",
   "source": [
    "# Split data into testing and training"
   ],
   "metadata": {
    "collapsed": false
   }
  },
  {
   "cell_type": "code",
   "execution_count": 30,
   "outputs": [
    {
     "name": "stdout",
     "output_type": "stream",
     "text": [
      "Length of train dataset:  9820\n",
      "Length of test dataset:  2455\n"
     ]
    }
   ],
   "source": [
    "X = data.drop(columns=['Status'])\n",
    "y = data['Status']\n",
    "\n",
    "# Split data into training and testing sets\n",
    "X_train, X_test, y_train, y_test = train_test_split(X, y, test_size=0.2, random_state=42, stratify=y)\n",
    "\n",
    "# Print the length of the train and test data\n",
    "print(\"Length of train dataset: \", len(X_train))\n",
    "print(\"Length of test dataset: \", len(X_test))"
   ],
   "metadata": {
    "collapsed": false
   }
  },
  {
   "cell_type": "markdown",
   "source": [
    "# Normalize data"
   ],
   "metadata": {
    "collapsed": false
   }
  },
  {
   "cell_type": "code",
   "execution_count": 31,
   "outputs": [
    {
     "data": {
      "text/plain": "       Actual Elapsed Time (Minutes)  origin_temperature_2m (°C)  \\\n5913                            0.27                        0.52   \n17018                           0.22                        0.72   \n16881                           0.23                        0.59   \n9461                            0.28                        0.75   \n16504                           0.27                        0.70   \n2984                            0.22                        0.45   \n3290                            0.21                        0.42   \n6219                            0.21                        0.57   \n55                              0.23                        0.35   \n9442                            0.25                        0.82   \n\n       origin_relativehumidity_2m (%)  origin_dewpoint_2m (°C)  \\\n5913                             0.52                     0.53   \n17018                            0.75                     0.82   \n16881                            0.60                     0.63   \n9461                             0.40                     0.72   \n16504                            0.48                     0.71   \n2984                             0.82                     0.54   \n3290                             0.62                     0.46   \n6219                             0.74                     0.64   \n55                               0.56                     0.37   \n9442                             0.72                     0.92   \n\n       origin_apparent_temperature (°C)  origin_pressure_msl (hPa)  \\\n5913                               0.47                       0.55   \n17018                              0.71                       0.60   \n16881                              0.55                       0.41   \n9461                               0.69                       0.55   \n16504                              0.65                       0.55   \n2984                               0.43                       0.40   \n3290                               0.38                       0.48   \n6219                               0.54                       0.43   \n55                                 0.32                       0.52   \n9442                               0.81                       0.40   \n\n       origin_surface_pressure (hPa)  origin_precipitation (mm)  \\\n5913                            0.83                       0.00   \n17018                           0.85                       0.00   \n16881                           0.79                       0.00   \n9461                            0.83                       0.00   \n16504                           0.83                       0.00   \n2984                            0.78                       0.00   \n3290                            0.80                       0.00   \n6219                            0.79                       0.01   \n55                              0.81                       0.00   \n9442                            0.79                       0.00   \n\n       origin_rain (mm)  origin_snowfall (cm)  ...  \\\n5913               0.00                  0.00  ...   \n17018              0.00                  0.00  ...   \n16881              0.00                  0.00  ...   \n9461               0.00                  0.00  ...   \n16504              0.00                  0.00  ...   \n2984               0.00                  0.00  ...   \n3290               0.00                  0.00  ...   \n6219               0.01                  0.00  ...   \n55                 0.00                  0.00  ...   \n9442               0.00                  0.00  ...   \n\n       destination_windspeed_100m (km/h)  destination_winddirection_10m (°)  \\\n5913                                0.31                               0.83   \n17018                               0.10                               0.99   \n16881                               0.23                               0.37   \n9461                                0.39                               0.87   \n16504                               0.15                               0.36   \n2984                                0.07                               0.36   \n3290                                0.40                               0.73   \n6219                                0.39                               0.78   \n55                                  0.39                               0.70   \n9442                                0.31                               0.62   \n\n       destination_winddirection_100m (°)  destination_windgusts_10m (km/h)  \\\n5913                                 0.83                              0.19   \n17018                                0.99                              0.14   \n16881                                0.37                              0.29   \n9461                                 0.87                              0.46   \n16504                                0.39                              0.08   \n2984                                 0.28                              0.07   \n3290                                 0.74                              0.31   \n6219                                 0.77                              0.43   \n55                                   0.70                              0.34   \n9442                                 0.62                              0.33   \n\n       destination_et0_fao_evapotranspiration (mm)  \\\n5913                                          0.04   \n17018                                         0.22   \n16881                                         0.22   \n9461                                          0.27   \n16504                                         0.00   \n2984                                          0.00   \n3290                                          0.01   \n6219                                          0.16   \n55                                            0.01   \n9442                                          0.49   \n\n       destination_vapor_pressure_deficit (kPa)  Origin Airport_DEN  \\\n5913                                       0.11                0.00   \n17018                                      0.17                0.00   \n16881                                      0.13                0.00   \n9461                                       0.19                0.00   \n16504                                      0.06                0.00   \n2984                                       0.03                0.00   \n3290                                       0.00                0.00   \n6219                                       0.07                0.00   \n55                                         0.03                0.00   \n9442                                       0.28                0.00   \n\n       Origin Airport_EWR  Origin Airport_IAD  Origin Airport_ORD  \n5913                 0.00                0.00                1.00  \n17018                0.00                0.00                1.00  \n16881                0.00                0.00                1.00  \n9461                 0.00                0.00                1.00  \n16504                0.00                0.00                1.00  \n2984                 0.00                0.00                1.00  \n3290                 0.00                0.00                1.00  \n6219                 0.00                0.00                1.00  \n55                   0.00                0.00                1.00  \n9442                 0.00                0.00                1.00  \n\n[10 rows x 45 columns]",
      "text/html": "<div>\n<style scoped>\n    .dataframe tbody tr th:only-of-type {\n        vertical-align: middle;\n    }\n\n    .dataframe tbody tr th {\n        vertical-align: top;\n    }\n\n    .dataframe thead th {\n        text-align: right;\n    }\n</style>\n<table border=\"1\" class=\"dataframe\">\n  <thead>\n    <tr style=\"text-align: right;\">\n      <th></th>\n      <th>Actual Elapsed Time (Minutes)</th>\n      <th>origin_temperature_2m (°C)</th>\n      <th>origin_relativehumidity_2m (%)</th>\n      <th>origin_dewpoint_2m (°C)</th>\n      <th>origin_apparent_temperature (°C)</th>\n      <th>origin_pressure_msl (hPa)</th>\n      <th>origin_surface_pressure (hPa)</th>\n      <th>origin_precipitation (mm)</th>\n      <th>origin_rain (mm)</th>\n      <th>origin_snowfall (cm)</th>\n      <th>...</th>\n      <th>destination_windspeed_100m (km/h)</th>\n      <th>destination_winddirection_10m (°)</th>\n      <th>destination_winddirection_100m (°)</th>\n      <th>destination_windgusts_10m (km/h)</th>\n      <th>destination_et0_fao_evapotranspiration (mm)</th>\n      <th>destination_vapor_pressure_deficit (kPa)</th>\n      <th>Origin Airport_DEN</th>\n      <th>Origin Airport_EWR</th>\n      <th>Origin Airport_IAD</th>\n      <th>Origin Airport_ORD</th>\n    </tr>\n  </thead>\n  <tbody>\n    <tr>\n      <th>5913</th>\n      <td>0.27</td>\n      <td>0.52</td>\n      <td>0.52</td>\n      <td>0.53</td>\n      <td>0.47</td>\n      <td>0.55</td>\n      <td>0.83</td>\n      <td>0.00</td>\n      <td>0.00</td>\n      <td>0.00</td>\n      <td>...</td>\n      <td>0.31</td>\n      <td>0.83</td>\n      <td>0.83</td>\n      <td>0.19</td>\n      <td>0.04</td>\n      <td>0.11</td>\n      <td>0.00</td>\n      <td>0.00</td>\n      <td>0.00</td>\n      <td>1.00</td>\n    </tr>\n    <tr>\n      <th>17018</th>\n      <td>0.22</td>\n      <td>0.72</td>\n      <td>0.75</td>\n      <td>0.82</td>\n      <td>0.71</td>\n      <td>0.60</td>\n      <td>0.85</td>\n      <td>0.00</td>\n      <td>0.00</td>\n      <td>0.00</td>\n      <td>...</td>\n      <td>0.10</td>\n      <td>0.99</td>\n      <td>0.99</td>\n      <td>0.14</td>\n      <td>0.22</td>\n      <td>0.17</td>\n      <td>0.00</td>\n      <td>0.00</td>\n      <td>0.00</td>\n      <td>1.00</td>\n    </tr>\n    <tr>\n      <th>16881</th>\n      <td>0.23</td>\n      <td>0.59</td>\n      <td>0.60</td>\n      <td>0.63</td>\n      <td>0.55</td>\n      <td>0.41</td>\n      <td>0.79</td>\n      <td>0.00</td>\n      <td>0.00</td>\n      <td>0.00</td>\n      <td>...</td>\n      <td>0.23</td>\n      <td>0.37</td>\n      <td>0.37</td>\n      <td>0.29</td>\n      <td>0.22</td>\n      <td>0.13</td>\n      <td>0.00</td>\n      <td>0.00</td>\n      <td>0.00</td>\n      <td>1.00</td>\n    </tr>\n    <tr>\n      <th>9461</th>\n      <td>0.28</td>\n      <td>0.75</td>\n      <td>0.40</td>\n      <td>0.72</td>\n      <td>0.69</td>\n      <td>0.55</td>\n      <td>0.83</td>\n      <td>0.00</td>\n      <td>0.00</td>\n      <td>0.00</td>\n      <td>...</td>\n      <td>0.39</td>\n      <td>0.87</td>\n      <td>0.87</td>\n      <td>0.46</td>\n      <td>0.27</td>\n      <td>0.19</td>\n      <td>0.00</td>\n      <td>0.00</td>\n      <td>0.00</td>\n      <td>1.00</td>\n    </tr>\n    <tr>\n      <th>16504</th>\n      <td>0.27</td>\n      <td>0.70</td>\n      <td>0.48</td>\n      <td>0.71</td>\n      <td>0.65</td>\n      <td>0.55</td>\n      <td>0.83</td>\n      <td>0.00</td>\n      <td>0.00</td>\n      <td>0.00</td>\n      <td>...</td>\n      <td>0.15</td>\n      <td>0.36</td>\n      <td>0.39</td>\n      <td>0.08</td>\n      <td>0.00</td>\n      <td>0.06</td>\n      <td>0.00</td>\n      <td>0.00</td>\n      <td>0.00</td>\n      <td>1.00</td>\n    </tr>\n    <tr>\n      <th>2984</th>\n      <td>0.22</td>\n      <td>0.45</td>\n      <td>0.82</td>\n      <td>0.54</td>\n      <td>0.43</td>\n      <td>0.40</td>\n      <td>0.78</td>\n      <td>0.00</td>\n      <td>0.00</td>\n      <td>0.00</td>\n      <td>...</td>\n      <td>0.07</td>\n      <td>0.36</td>\n      <td>0.28</td>\n      <td>0.07</td>\n      <td>0.00</td>\n      <td>0.03</td>\n      <td>0.00</td>\n      <td>0.00</td>\n      <td>0.00</td>\n      <td>1.00</td>\n    </tr>\n    <tr>\n      <th>3290</th>\n      <td>0.21</td>\n      <td>0.42</td>\n      <td>0.62</td>\n      <td>0.46</td>\n      <td>0.38</td>\n      <td>0.48</td>\n      <td>0.80</td>\n      <td>0.00</td>\n      <td>0.00</td>\n      <td>0.00</td>\n      <td>...</td>\n      <td>0.40</td>\n      <td>0.73</td>\n      <td>0.74</td>\n      <td>0.31</td>\n      <td>0.01</td>\n      <td>0.00</td>\n      <td>0.00</td>\n      <td>0.00</td>\n      <td>0.00</td>\n      <td>1.00</td>\n    </tr>\n    <tr>\n      <th>6219</th>\n      <td>0.21</td>\n      <td>0.57</td>\n      <td>0.74</td>\n      <td>0.64</td>\n      <td>0.54</td>\n      <td>0.43</td>\n      <td>0.79</td>\n      <td>0.01</td>\n      <td>0.01</td>\n      <td>0.00</td>\n      <td>...</td>\n      <td>0.39</td>\n      <td>0.78</td>\n      <td>0.77</td>\n      <td>0.43</td>\n      <td>0.16</td>\n      <td>0.07</td>\n      <td>0.00</td>\n      <td>0.00</td>\n      <td>0.00</td>\n      <td>1.00</td>\n    </tr>\n    <tr>\n      <th>55</th>\n      <td>0.23</td>\n      <td>0.35</td>\n      <td>0.56</td>\n      <td>0.37</td>\n      <td>0.32</td>\n      <td>0.52</td>\n      <td>0.81</td>\n      <td>0.00</td>\n      <td>0.00</td>\n      <td>0.00</td>\n      <td>...</td>\n      <td>0.39</td>\n      <td>0.70</td>\n      <td>0.70</td>\n      <td>0.34</td>\n      <td>0.01</td>\n      <td>0.03</td>\n      <td>0.00</td>\n      <td>0.00</td>\n      <td>0.00</td>\n      <td>1.00</td>\n    </tr>\n    <tr>\n      <th>9442</th>\n      <td>0.25</td>\n      <td>0.82</td>\n      <td>0.72</td>\n      <td>0.92</td>\n      <td>0.81</td>\n      <td>0.40</td>\n      <td>0.79</td>\n      <td>0.00</td>\n      <td>0.00</td>\n      <td>0.00</td>\n      <td>...</td>\n      <td>0.31</td>\n      <td>0.62</td>\n      <td>0.62</td>\n      <td>0.33</td>\n      <td>0.49</td>\n      <td>0.28</td>\n      <td>0.00</td>\n      <td>0.00</td>\n      <td>0.00</td>\n      <td>1.00</td>\n    </tr>\n  </tbody>\n</table>\n<p>10 rows × 45 columns</p>\n</div>"
     },
     "execution_count": 31,
     "metadata": {},
     "output_type": "execute_result"
    }
   ],
   "source": [
    "scaler = MinMaxScaler()\n",
    "X_train = pd.DataFrame(scaler.fit_transform(X_train), columns=X_train.columns, index=X_train.index)\n",
    "X_test = pd.DataFrame(scaler.transform(X_test), columns=X_test.columns, index=X_test.index)\n",
    "\n",
    "# Show 10 rows of the dataframe\n",
    "X_train.head(10)"
   ],
   "metadata": {
    "collapsed": false
   }
  },
  {
   "cell_type": "markdown",
   "source": [
    "# Training"
   ],
   "metadata": {
    "collapsed": false
   }
  },
  {
   "cell_type": "code",
   "execution_count": 32,
   "outputs": [
    {
     "data": {
      "text/plain": "RandomForestClassifier(max_depth=6, max_features='sqrt', min_samples_leaf=4,\n                       random_state=50, warm_start=True)"
     },
     "execution_count": 32,
     "metadata": {},
     "output_type": "execute_result"
    },
    {
     "name": "stdout",
     "output_type": "stream",
     "text": [
      "Train R^2 score:  0.58\n",
      "Test R^2 score:  0.53\n"
     ]
    }
   ],
   "source": [
    "model = RandomForestClassifier(class_weight=None, max_depth=6, max_features='sqrt', min_samples_leaf=4,\n",
    "                               n_estimators=100, random_state=50, warm_start=True)\n",
    "model.fit(X_train, y_train)\n",
    "\n",
    "# Evaluate model on training and testing sets\n",
    "y_train_pred = model.predict(X_train)\n",
    "\n",
    "# Calculate the accuracy score (R-square)\n",
    "print(\"Train R^2 score: \", round(model.score(X_train, y_train), 2))\n",
    "print(\"Test R^2 score: \", round(model.score(X_test, y_test), 2))"
   ],
   "metadata": {
    "collapsed": false
   }
  },
  {
   "cell_type": "markdown",
   "source": [
    "# Testing"
   ],
   "metadata": {
    "collapsed": false
   }
  },
  {
   "cell_type": "code",
   "execution_count": 33,
   "outputs": [],
   "source": [
    "# # Define the parameter grid for the grid search\n",
    "# param_grid = {\n",
    "#     'n_estimators': [100, 200, 300],\n",
    "#     'max_depth': [2, 3, 4, 5, 6],\n",
    "#     'min_samples_leaf': [1, 2, 3, 4],\n",
    "#     'max_features': ['sqrt', 'log2'],\n",
    "#     'class_weight': ['balanced', 'balanced_subsample', None],\n",
    "#     'warm_start': [True, False],\n",
    "#     'random_state': [50]\n",
    "# }\n",
    "#\n",
    "# # Initialize the RandomForestRegressor model with a random state for reproducibility\n",
    "# model = RandomForestClassifier()\n",
    "#\n",
    "# # Set up the GridSearchCV object with the model, parameter grid, scoring function,\n",
    "# # number of cross-validation folds (cv=3), and use all available CPU cores (n_jobs=-1)\n",
    "# grid_search = GridSearchCV(model, param_grid, cv=3, n_jobs=-1)\n",
    "#\n",
    "# # Fit the grid search object to the training data\n",
    "# grid_search.fit(X_train, y_train)\n",
    "#\n",
    "# # Print the best combination of parameters found by the grid search\n",
    "# print(\"Best parameters found: \", grid_search.best_params_)\n",
    "#\n",
    "# print(\"Best score found: \", grid_search.best_score_)"
   ],
   "metadata": {
    "collapsed": false
   }
  },
  {
   "cell_type": "markdown",
   "source": [
    "#"
   ],
   "metadata": {
    "collapsed": false
   }
  },
  {
   "cell_type": "code",
   "execution_count": 34,
   "outputs": [
    {
     "data": {
      "text/plain": "              actual      predicted\n9120   Severely Late        On-time\n15157          Early           Late\n4057            Late        On-time\n4055            Late          Early\n16903          Early  Severely Late\n9210         On-time  Severely Late\n15649  Severely Late        On-time\n12591           Late          Early\n9271   Severely Late           Late\n6695         On-time          Early",
      "text/html": "<div>\n<style scoped>\n    .dataframe tbody tr th:only-of-type {\n        vertical-align: middle;\n    }\n\n    .dataframe tbody tr th {\n        vertical-align: top;\n    }\n\n    .dataframe thead th {\n        text-align: right;\n    }\n</style>\n<table border=\"1\" class=\"dataframe\">\n  <thead>\n    <tr style=\"text-align: right;\">\n      <th></th>\n      <th>actual</th>\n      <th>predicted</th>\n    </tr>\n  </thead>\n  <tbody>\n    <tr>\n      <th>9120</th>\n      <td>Severely Late</td>\n      <td>On-time</td>\n    </tr>\n    <tr>\n      <th>15157</th>\n      <td>Early</td>\n      <td>Late</td>\n    </tr>\n    <tr>\n      <th>4057</th>\n      <td>Late</td>\n      <td>On-time</td>\n    </tr>\n    <tr>\n      <th>4055</th>\n      <td>Late</td>\n      <td>Early</td>\n    </tr>\n    <tr>\n      <th>16903</th>\n      <td>Early</td>\n      <td>Severely Late</td>\n    </tr>\n    <tr>\n      <th>9210</th>\n      <td>On-time</td>\n      <td>Severely Late</td>\n    </tr>\n    <tr>\n      <th>15649</th>\n      <td>Severely Late</td>\n      <td>On-time</td>\n    </tr>\n    <tr>\n      <th>12591</th>\n      <td>Late</td>\n      <td>Early</td>\n    </tr>\n    <tr>\n      <th>9271</th>\n      <td>Severely Late</td>\n      <td>Late</td>\n    </tr>\n    <tr>\n      <th>6695</th>\n      <td>On-time</td>\n      <td>Early</td>\n    </tr>\n  </tbody>\n</table>\n</div>"
     },
     "execution_count": 34,
     "metadata": {},
     "output_type": "execute_result"
    }
   ],
   "source": [
    "# Create a dataframe to store the results\n",
    "test_output = pd.DataFrame({'actual': y_test, 'predicted': model.predict(X_test)})\n",
    "\n",
    "# Display the first 10 rows\n",
    "test_output.head(10)"
   ],
   "metadata": {
    "collapsed": false
   }
  },
  {
   "cell_type": "code",
   "execution_count": 35,
   "outputs": [
    {
     "data": {
      "text/plain": "<AxesSubplot:>"
     },
     "execution_count": 35,
     "metadata": {},
     "output_type": "execute_result"
    },
    {
     "data": {
      "text/plain": "<AxesSubplot:>"
     },
     "execution_count": 35,
     "metadata": {},
     "output_type": "execute_result"
    },
    {
     "data": {
      "text/plain": "Text(0.5, 1.0, 'Ground truth')"
     },
     "execution_count": 35,
     "metadata": {},
     "output_type": "execute_result"
    },
    {
     "data": {
      "text/plain": "Text(0.5, 1.0, 'Predictions')"
     },
     "execution_count": 35,
     "metadata": {},
     "output_type": "execute_result"
    },
    {
     "data": {
      "text/plain": "<Figure size 1000x500 with 2 Axes>",
      "image/png": "[encoded data removed]"
     },
     "metadata": {},
     "output_type": "display_data"
    }
   ],
   "source": [
    "fig, ax = plt.subplots(nrows=1, ncols=2, figsize=(10, 5))\n",
    "test_output.actual.hist(ax=ax[0])\n",
    "test_output.predicted.hist(ax=ax[1])\n",
    "ax[0].set_title('Ground truth')\n",
    "ax[1].set_title('Predictions')\n",
    "plt.show()"
   ],
   "metadata": {
    "collapsed": false
   }
  },
  {
   "cell_type": "markdown",
   "source": [],
   "metadata": {
    "collapsed": false
   }
  }
 ],
 "metadata": {
  "kernelspec": {
   "display_name": "Python 3",
   "language": "python",
   "name": "python3"
  },
  "language_info": {
   "codemirror_mode": {
    "name": "ipython",
    "version": 2
   },
   "file_extension": ".py",
   "mimetype": "text/x-python",
   "name": "python",
   "nbconvert_exporter": "python",
   "pygments_lexer": "ipython2",
   "version": "2.7.6"
  }
 },
 "nbformat": 4,
 "nbformat_minor": 0
}
